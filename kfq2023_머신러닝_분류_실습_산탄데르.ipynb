{
  "nbformat": 4,
  "nbformat_minor": 0,
  "metadata": {
    "colab": {
      "provenance": [],
      "mount_file_id": "1h6K7bT_onOmikFsI5b_lpwyyxjQ24MNo",
      "authorship_tag": "ABX9TyOD3eI/JpeEoe4+DRywMpBu",
      "include_colab_link": true
    },
    "kernelspec": {
      "name": "python3",
      "display_name": "Python 3"
    },
    "language_info": {
      "name": "python"
    }
  },
  "cells": [
    {
      "cell_type": "markdown",
      "metadata": {
        "id": "view-in-github",
        "colab_type": "text"
      },
      "source": [
        "<a href=\"https://colab.research.google.com/github/ehpub/kfq_ML_2023/blob/main/kfq2023_%EB%A8%B8%EC%8B%A0%EB%9F%AC%EB%8B%9D_%EB%B6%84%EB%A5%98_%EC%8B%A4%EC%8A%B5_%EC%82%B0%ED%83%84%EB%8D%B0%EB%A5%B4.ipynb\" target=\"_parent\"><img src=\"https://colab.research.google.com/assets/colab-badge.svg\" alt=\"Open In Colab\"/></a>"
      ]
    },
    {
      "cell_type": "markdown",
      "source": [
        "강의 교재 : https://wikibook.co.kr/pymlrev2/\n",
        "\n"
      ],
      "metadata": {
        "id": "vltdLrlgF0u2"
      }
    },
    {
      "cell_type": "code",
      "source": [
        "path = '/content/drive/MyDrive/mldata/train_santander.csv'"
      ],
      "metadata": {
        "id": "1i264DdeF8gK"
      },
      "execution_count": 1,
      "outputs": []
    },
    {
      "cell_type": "code",
      "source": [
        "import pandas as pd"
      ],
      "metadata": {
        "id": "4HmMPXLjb9JZ"
      },
      "execution_count": 2,
      "outputs": []
    },
    {
      "cell_type": "code",
      "source": [
        "df = pd.read_csv(path)\n",
        "df.info()"
      ],
      "metadata": {
        "colab": {
          "base_uri": "https://localhost:8080/"
        },
        "id": "EQ2wwfsycAw3",
        "outputId": "c2b67ef0-90df-46bb-f945-dfcc6fc210e1"
      },
      "execution_count": 4,
      "outputs": [
        {
          "output_type": "stream",
          "name": "stdout",
          "text": [
            "<class 'pandas.core.frame.DataFrame'>\n",
            "RangeIndex: 76020 entries, 0 to 76019\n",
            "Columns: 371 entries, ID to TARGET\n",
            "dtypes: float64(111), int64(260)\n",
            "memory usage: 215.2 MB\n"
          ]
        }
      ]
    },
    {
      "cell_type": "code",
      "source": [
        "df.describe()"
      ],
      "metadata": {
        "colab": {
          "base_uri": "https://localhost:8080/",
          "height": 393
        },
        "id": "t90MgLAscD0V",
        "outputId": "41966c7c-a2fc-4558-dd8e-158f5984be2e"
      },
      "execution_count": 5,
      "outputs": [
        {
          "output_type": "execute_result",
          "data": {
            "text/plain": [
              "                  ID           var3         var15  imp_ent_var16_ult1  \\\n",
              "count   76020.000000   76020.000000  76020.000000        76020.000000   \n",
              "mean    75964.050723   -1523.199277     33.212865           86.208265   \n",
              "std     43781.947379   39033.462364     12.956486         1614.757313   \n",
              "min         1.000000 -999999.000000      5.000000            0.000000   \n",
              "25%     38104.750000       2.000000     23.000000            0.000000   \n",
              "50%     76043.000000       2.000000     28.000000            0.000000   \n",
              "75%    113748.750000       2.000000     40.000000            0.000000   \n",
              "max    151838.000000     238.000000    105.000000       210000.000000   \n",
              "\n",
              "       imp_op_var39_comer_ult1  imp_op_var39_comer_ult3  \\\n",
              "count             76020.000000             76020.000000   \n",
              "mean                 72.363067               119.529632   \n",
              "std                 339.315831               546.266294   \n",
              "min                   0.000000                 0.000000   \n",
              "25%                   0.000000                 0.000000   \n",
              "50%                   0.000000                 0.000000   \n",
              "75%                   0.000000                 0.000000   \n",
              "max               12888.030000             21024.810000   \n",
              "\n",
              "       imp_op_var40_comer_ult1  imp_op_var40_comer_ult3  \\\n",
              "count             76020.000000             76020.000000   \n",
              "mean                  3.559130                 6.472698   \n",
              "std                  93.155749               153.737066   \n",
              "min                   0.000000                 0.000000   \n",
              "25%                   0.000000                 0.000000   \n",
              "50%                   0.000000                 0.000000   \n",
              "75%                   0.000000                 0.000000   \n",
              "max                8237.820000             11073.570000   \n",
              "\n",
              "       imp_op_var40_efect_ult1  imp_op_var40_efect_ult3  ...  \\\n",
              "count             76020.000000             76020.000000  ...   \n",
              "mean                  0.412946                 0.567352  ...   \n",
              "std                  30.604864                36.513513  ...   \n",
              "min                   0.000000                 0.000000  ...   \n",
              "25%                   0.000000                 0.000000  ...   \n",
              "50%                   0.000000                 0.000000  ...   \n",
              "75%                   0.000000                 0.000000  ...   \n",
              "max                6600.000000              6600.000000  ...   \n",
              "\n",
              "       saldo_medio_var33_hace2  saldo_medio_var33_hace3  \\\n",
              "count             76020.000000             76020.000000   \n",
              "mean                  7.935824                 1.365146   \n",
              "std                 455.887218               113.959637   \n",
              "min                   0.000000                 0.000000   \n",
              "25%                   0.000000                 0.000000   \n",
              "50%                   0.000000                 0.000000   \n",
              "75%                   0.000000                 0.000000   \n",
              "max               50003.880000             20385.720000   \n",
              "\n",
              "       saldo_medio_var33_ult1  saldo_medio_var33_ult3  \\\n",
              "count            76020.000000            76020.000000   \n",
              "mean                12.215580                8.784074   \n",
              "std                783.207399              538.439211   \n",
              "min                  0.000000                0.000000   \n",
              "25%                  0.000000                0.000000   \n",
              "50%                  0.000000                0.000000   \n",
              "75%                  0.000000                0.000000   \n",
              "max             138831.630000            91778.730000   \n",
              "\n",
              "       saldo_medio_var44_hace2  saldo_medio_var44_hace3  \\\n",
              "count             76020.000000             76020.000000   \n",
              "mean                 31.505324                 1.858575   \n",
              "std                2013.125393               147.786584   \n",
              "min                   0.000000                 0.000000   \n",
              "25%                   0.000000                 0.000000   \n",
              "50%                   0.000000                 0.000000   \n",
              "75%                   0.000000                 0.000000   \n",
              "max              438329.220000             24650.010000   \n",
              "\n",
              "       saldo_medio_var44_ult1  saldo_medio_var44_ult3         var38  \\\n",
              "count            76020.000000            76020.000000  7.602000e+04   \n",
              "mean                76.026165               56.614351  1.172358e+05   \n",
              "std               4040.337842             2852.579397  1.826646e+05   \n",
              "min                  0.000000                0.000000  5.163750e+03   \n",
              "25%                  0.000000                0.000000  6.787061e+04   \n",
              "50%                  0.000000                0.000000  1.064092e+05   \n",
              "75%                  0.000000                0.000000  1.187563e+05   \n",
              "max             681462.900000           397884.300000  2.203474e+07   \n",
              "\n",
              "             TARGET  \n",
              "count  76020.000000  \n",
              "mean       0.039569  \n",
              "std        0.194945  \n",
              "min        0.000000  \n",
              "25%        0.000000  \n",
              "50%        0.000000  \n",
              "75%        0.000000  \n",
              "max        1.000000  \n",
              "\n",
              "[8 rows x 371 columns]"
            ],
            "text/html": [
              "\n",
              "  <div id=\"df-55c76b1f-b956-4fd8-b659-9f375e5b69b0\">\n",
              "    <div class=\"colab-df-container\">\n",
              "      <div>\n",
              "<style scoped>\n",
              "    .dataframe tbody tr th:only-of-type {\n",
              "        vertical-align: middle;\n",
              "    }\n",
              "\n",
              "    .dataframe tbody tr th {\n",
              "        vertical-align: top;\n",
              "    }\n",
              "\n",
              "    .dataframe thead th {\n",
              "        text-align: right;\n",
              "    }\n",
              "</style>\n",
              "<table border=\"1\" class=\"dataframe\">\n",
              "  <thead>\n",
              "    <tr style=\"text-align: right;\">\n",
              "      <th></th>\n",
              "      <th>ID</th>\n",
              "      <th>var3</th>\n",
              "      <th>var15</th>\n",
              "      <th>imp_ent_var16_ult1</th>\n",
              "      <th>imp_op_var39_comer_ult1</th>\n",
              "      <th>imp_op_var39_comer_ult3</th>\n",
              "      <th>imp_op_var40_comer_ult1</th>\n",
              "      <th>imp_op_var40_comer_ult3</th>\n",
              "      <th>imp_op_var40_efect_ult1</th>\n",
              "      <th>imp_op_var40_efect_ult3</th>\n",
              "      <th>...</th>\n",
              "      <th>saldo_medio_var33_hace2</th>\n",
              "      <th>saldo_medio_var33_hace3</th>\n",
              "      <th>saldo_medio_var33_ult1</th>\n",
              "      <th>saldo_medio_var33_ult3</th>\n",
              "      <th>saldo_medio_var44_hace2</th>\n",
              "      <th>saldo_medio_var44_hace3</th>\n",
              "      <th>saldo_medio_var44_ult1</th>\n",
              "      <th>saldo_medio_var44_ult3</th>\n",
              "      <th>var38</th>\n",
              "      <th>TARGET</th>\n",
              "    </tr>\n",
              "  </thead>\n",
              "  <tbody>\n",
              "    <tr>\n",
              "      <th>count</th>\n",
              "      <td>76020.000000</td>\n",
              "      <td>76020.000000</td>\n",
              "      <td>76020.000000</td>\n",
              "      <td>76020.000000</td>\n",
              "      <td>76020.000000</td>\n",
              "      <td>76020.000000</td>\n",
              "      <td>76020.000000</td>\n",
              "      <td>76020.000000</td>\n",
              "      <td>76020.000000</td>\n",
              "      <td>76020.000000</td>\n",
              "      <td>...</td>\n",
              "      <td>76020.000000</td>\n",
              "      <td>76020.000000</td>\n",
              "      <td>76020.000000</td>\n",
              "      <td>76020.000000</td>\n",
              "      <td>76020.000000</td>\n",
              "      <td>76020.000000</td>\n",
              "      <td>76020.000000</td>\n",
              "      <td>76020.000000</td>\n",
              "      <td>7.602000e+04</td>\n",
              "      <td>76020.000000</td>\n",
              "    </tr>\n",
              "    <tr>\n",
              "      <th>mean</th>\n",
              "      <td>75964.050723</td>\n",
              "      <td>-1523.199277</td>\n",
              "      <td>33.212865</td>\n",
              "      <td>86.208265</td>\n",
              "      <td>72.363067</td>\n",
              "      <td>119.529632</td>\n",
              "      <td>3.559130</td>\n",
              "      <td>6.472698</td>\n",
              "      <td>0.412946</td>\n",
              "      <td>0.567352</td>\n",
              "      <td>...</td>\n",
              "      <td>7.935824</td>\n",
              "      <td>1.365146</td>\n",
              "      <td>12.215580</td>\n",
              "      <td>8.784074</td>\n",
              "      <td>31.505324</td>\n",
              "      <td>1.858575</td>\n",
              "      <td>76.026165</td>\n",
              "      <td>56.614351</td>\n",
              "      <td>1.172358e+05</td>\n",
              "      <td>0.039569</td>\n",
              "    </tr>\n",
              "    <tr>\n",
              "      <th>std</th>\n",
              "      <td>43781.947379</td>\n",
              "      <td>39033.462364</td>\n",
              "      <td>12.956486</td>\n",
              "      <td>1614.757313</td>\n",
              "      <td>339.315831</td>\n",
              "      <td>546.266294</td>\n",
              "      <td>93.155749</td>\n",
              "      <td>153.737066</td>\n",
              "      <td>30.604864</td>\n",
              "      <td>36.513513</td>\n",
              "      <td>...</td>\n",
              "      <td>455.887218</td>\n",
              "      <td>113.959637</td>\n",
              "      <td>783.207399</td>\n",
              "      <td>538.439211</td>\n",
              "      <td>2013.125393</td>\n",
              "      <td>147.786584</td>\n",
              "      <td>4040.337842</td>\n",
              "      <td>2852.579397</td>\n",
              "      <td>1.826646e+05</td>\n",
              "      <td>0.194945</td>\n",
              "    </tr>\n",
              "    <tr>\n",
              "      <th>min</th>\n",
              "      <td>1.000000</td>\n",
              "      <td>-999999.000000</td>\n",
              "      <td>5.000000</td>\n",
              "      <td>0.000000</td>\n",
              "      <td>0.000000</td>\n",
              "      <td>0.000000</td>\n",
              "      <td>0.000000</td>\n",
              "      <td>0.000000</td>\n",
              "      <td>0.000000</td>\n",
              "      <td>0.000000</td>\n",
              "      <td>...</td>\n",
              "      <td>0.000000</td>\n",
              "      <td>0.000000</td>\n",
              "      <td>0.000000</td>\n",
              "      <td>0.000000</td>\n",
              "      <td>0.000000</td>\n",
              "      <td>0.000000</td>\n",
              "      <td>0.000000</td>\n",
              "      <td>0.000000</td>\n",
              "      <td>5.163750e+03</td>\n",
              "      <td>0.000000</td>\n",
              "    </tr>\n",
              "    <tr>\n",
              "      <th>25%</th>\n",
              "      <td>38104.750000</td>\n",
              "      <td>2.000000</td>\n",
              "      <td>23.000000</td>\n",
              "      <td>0.000000</td>\n",
              "      <td>0.000000</td>\n",
              "      <td>0.000000</td>\n",
              "      <td>0.000000</td>\n",
              "      <td>0.000000</td>\n",
              "      <td>0.000000</td>\n",
              "      <td>0.000000</td>\n",
              "      <td>...</td>\n",
              "      <td>0.000000</td>\n",
              "      <td>0.000000</td>\n",
              "      <td>0.000000</td>\n",
              "      <td>0.000000</td>\n",
              "      <td>0.000000</td>\n",
              "      <td>0.000000</td>\n",
              "      <td>0.000000</td>\n",
              "      <td>0.000000</td>\n",
              "      <td>6.787061e+04</td>\n",
              "      <td>0.000000</td>\n",
              "    </tr>\n",
              "    <tr>\n",
              "      <th>50%</th>\n",
              "      <td>76043.000000</td>\n",
              "      <td>2.000000</td>\n",
              "      <td>28.000000</td>\n",
              "      <td>0.000000</td>\n",
              "      <td>0.000000</td>\n",
              "      <td>0.000000</td>\n",
              "      <td>0.000000</td>\n",
              "      <td>0.000000</td>\n",
              "      <td>0.000000</td>\n",
              "      <td>0.000000</td>\n",
              "      <td>...</td>\n",
              "      <td>0.000000</td>\n",
              "      <td>0.000000</td>\n",
              "      <td>0.000000</td>\n",
              "      <td>0.000000</td>\n",
              "      <td>0.000000</td>\n",
              "      <td>0.000000</td>\n",
              "      <td>0.000000</td>\n",
              "      <td>0.000000</td>\n",
              "      <td>1.064092e+05</td>\n",
              "      <td>0.000000</td>\n",
              "    </tr>\n",
              "    <tr>\n",
              "      <th>75%</th>\n",
              "      <td>113748.750000</td>\n",
              "      <td>2.000000</td>\n",
              "      <td>40.000000</td>\n",
              "      <td>0.000000</td>\n",
              "      <td>0.000000</td>\n",
              "      <td>0.000000</td>\n",
              "      <td>0.000000</td>\n",
              "      <td>0.000000</td>\n",
              "      <td>0.000000</td>\n",
              "      <td>0.000000</td>\n",
              "      <td>...</td>\n",
              "      <td>0.000000</td>\n",
              "      <td>0.000000</td>\n",
              "      <td>0.000000</td>\n",
              "      <td>0.000000</td>\n",
              "      <td>0.000000</td>\n",
              "      <td>0.000000</td>\n",
              "      <td>0.000000</td>\n",
              "      <td>0.000000</td>\n",
              "      <td>1.187563e+05</td>\n",
              "      <td>0.000000</td>\n",
              "    </tr>\n",
              "    <tr>\n",
              "      <th>max</th>\n",
              "      <td>151838.000000</td>\n",
              "      <td>238.000000</td>\n",
              "      <td>105.000000</td>\n",
              "      <td>210000.000000</td>\n",
              "      <td>12888.030000</td>\n",
              "      <td>21024.810000</td>\n",
              "      <td>8237.820000</td>\n",
              "      <td>11073.570000</td>\n",
              "      <td>6600.000000</td>\n",
              "      <td>6600.000000</td>\n",
              "      <td>...</td>\n",
              "      <td>50003.880000</td>\n",
              "      <td>20385.720000</td>\n",
              "      <td>138831.630000</td>\n",
              "      <td>91778.730000</td>\n",
              "      <td>438329.220000</td>\n",
              "      <td>24650.010000</td>\n",
              "      <td>681462.900000</td>\n",
              "      <td>397884.300000</td>\n",
              "      <td>2.203474e+07</td>\n",
              "      <td>1.000000</td>\n",
              "    </tr>\n",
              "  </tbody>\n",
              "</table>\n",
              "<p>8 rows × 371 columns</p>\n",
              "</div>\n",
              "      <button class=\"colab-df-convert\" onclick=\"convertToInteractive('df-55c76b1f-b956-4fd8-b659-9f375e5b69b0')\"\n",
              "              title=\"Convert this dataframe to an interactive table.\"\n",
              "              style=\"display:none;\">\n",
              "        \n",
              "  <svg xmlns=\"http://www.w3.org/2000/svg\" height=\"24px\"viewBox=\"0 0 24 24\"\n",
              "       width=\"24px\">\n",
              "    <path d=\"M0 0h24v24H0V0z\" fill=\"none\"/>\n",
              "    <path d=\"M18.56 5.44l.94 2.06.94-2.06 2.06-.94-2.06-.94-.94-2.06-.94 2.06-2.06.94zm-11 1L8.5 8.5l.94-2.06 2.06-.94-2.06-.94L8.5 2.5l-.94 2.06-2.06.94zm10 10l.94 2.06.94-2.06 2.06-.94-2.06-.94-.94-2.06-.94 2.06-2.06.94z\"/><path d=\"M17.41 7.96l-1.37-1.37c-.4-.4-.92-.59-1.43-.59-.52 0-1.04.2-1.43.59L10.3 9.45l-7.72 7.72c-.78.78-.78 2.05 0 2.83L4 21.41c.39.39.9.59 1.41.59.51 0 1.02-.2 1.41-.59l7.78-7.78 2.81-2.81c.8-.78.8-2.07 0-2.86zM5.41 20L4 18.59l7.72-7.72 1.47 1.35L5.41 20z\"/>\n",
              "  </svg>\n",
              "      </button>\n",
              "      \n",
              "  <style>\n",
              "    .colab-df-container {\n",
              "      display:flex;\n",
              "      flex-wrap:wrap;\n",
              "      gap: 12px;\n",
              "    }\n",
              "\n",
              "    .colab-df-convert {\n",
              "      background-color: #E8F0FE;\n",
              "      border: none;\n",
              "      border-radius: 50%;\n",
              "      cursor: pointer;\n",
              "      display: none;\n",
              "      fill: #1967D2;\n",
              "      height: 32px;\n",
              "      padding: 0 0 0 0;\n",
              "      width: 32px;\n",
              "    }\n",
              "\n",
              "    .colab-df-convert:hover {\n",
              "      background-color: #E2EBFA;\n",
              "      box-shadow: 0px 1px 2px rgba(60, 64, 67, 0.3), 0px 1px 3px 1px rgba(60, 64, 67, 0.15);\n",
              "      fill: #174EA6;\n",
              "    }\n",
              "\n",
              "    [theme=dark] .colab-df-convert {\n",
              "      background-color: #3B4455;\n",
              "      fill: #D2E3FC;\n",
              "    }\n",
              "\n",
              "    [theme=dark] .colab-df-convert:hover {\n",
              "      background-color: #434B5C;\n",
              "      box-shadow: 0px 1px 3px 1px rgba(0, 0, 0, 0.15);\n",
              "      filter: drop-shadow(0px 1px 2px rgba(0, 0, 0, 0.3));\n",
              "      fill: #FFFFFF;\n",
              "    }\n",
              "  </style>\n",
              "\n",
              "      <script>\n",
              "        const buttonEl =\n",
              "          document.querySelector('#df-55c76b1f-b956-4fd8-b659-9f375e5b69b0 button.colab-df-convert');\n",
              "        buttonEl.style.display =\n",
              "          google.colab.kernel.accessAllowed ? 'block' : 'none';\n",
              "\n",
              "        async function convertToInteractive(key) {\n",
              "          const element = document.querySelector('#df-55c76b1f-b956-4fd8-b659-9f375e5b69b0');\n",
              "          const dataTable =\n",
              "            await google.colab.kernel.invokeFunction('convertToInteractive',\n",
              "                                                     [key], {});\n",
              "          if (!dataTable) return;\n",
              "\n",
              "          const docLinkHtml = 'Like what you see? Visit the ' +\n",
              "            '<a target=\"_blank\" href=https://colab.research.google.com/notebooks/data_table.ipynb>data table notebook</a>'\n",
              "            + ' to learn more about interactive tables.';\n",
              "          element.innerHTML = '';\n",
              "          dataTable['output_type'] = 'display_data';\n",
              "          await google.colab.output.renderOutput(dataTable, element);\n",
              "          const docLink = document.createElement('div');\n",
              "          docLink.innerHTML = docLinkHtml;\n",
              "          element.appendChild(docLink);\n",
              "        }\n",
              "      </script>\n",
              "    </div>\n",
              "  </div>\n",
              "  "
            ]
          },
          "metadata": {},
          "execution_count": 5
        }
      ]
    },
    {
      "cell_type": "code",
      "source": [
        "label = df['TARGET']\n",
        "label.value_counts()"
      ],
      "metadata": {
        "colab": {
          "base_uri": "https://localhost:8080/"
        },
        "id": "uQ8cfMj0cYhr",
        "outputId": "4381bc3f-ef29-47d7-bd5e-0526fcf16d15"
      },
      "execution_count": 6,
      "outputs": [
        {
          "output_type": "execute_result",
          "data": {
            "text/plain": [
              "0    73012\n",
              "1     3008\n",
              "Name: TARGET, dtype: int64"
            ]
          },
          "metadata": {},
          "execution_count": 6
        }
      ]
    },
    {
      "cell_type": "code",
      "source": [
        "data = df.drop(['TARGET','ID'],axis=1)\n",
        "data.head(5)"
      ],
      "metadata": {
        "colab": {
          "base_uri": "https://localhost:8080/",
          "height": 299
        },
        "id": "5zASAk32c11x",
        "outputId": "9119fc92-86f4-4f8d-9432-474f9054ee4b"
      },
      "execution_count": 9,
      "outputs": [
        {
          "output_type": "execute_result",
          "data": {
            "text/plain": [
              "   var3  var15  imp_ent_var16_ult1  imp_op_var39_comer_ult1  \\\n",
              "0     2     23                 0.0                      0.0   \n",
              "1     2     34                 0.0                      0.0   \n",
              "2     2     23                 0.0                      0.0   \n",
              "3     2     37                 0.0                    195.0   \n",
              "4     2     39                 0.0                      0.0   \n",
              "\n",
              "   imp_op_var39_comer_ult3  imp_op_var40_comer_ult1  imp_op_var40_comer_ult3  \\\n",
              "0                      0.0                      0.0                      0.0   \n",
              "1                      0.0                      0.0                      0.0   \n",
              "2                      0.0                      0.0                      0.0   \n",
              "3                    195.0                      0.0                      0.0   \n",
              "4                      0.0                      0.0                      0.0   \n",
              "\n",
              "   imp_op_var40_efect_ult1  imp_op_var40_efect_ult3  imp_op_var40_ult1  ...  \\\n",
              "0                      0.0                      0.0                0.0  ...   \n",
              "1                      0.0                      0.0                0.0  ...   \n",
              "2                      0.0                      0.0                0.0  ...   \n",
              "3                      0.0                      0.0                0.0  ...   \n",
              "4                      0.0                      0.0                0.0  ...   \n",
              "\n",
              "   saldo_medio_var29_ult3  saldo_medio_var33_hace2  saldo_medio_var33_hace3  \\\n",
              "0                     0.0                      0.0                      0.0   \n",
              "1                     0.0                      0.0                      0.0   \n",
              "2                     0.0                      0.0                      0.0   \n",
              "3                     0.0                      0.0                      0.0   \n",
              "4                     0.0                      0.0                      0.0   \n",
              "\n",
              "   saldo_medio_var33_ult1  saldo_medio_var33_ult3  saldo_medio_var44_hace2  \\\n",
              "0                     0.0                     0.0                      0.0   \n",
              "1                     0.0                     0.0                      0.0   \n",
              "2                     0.0                     0.0                      0.0   \n",
              "3                     0.0                     0.0                      0.0   \n",
              "4                     0.0                     0.0                      0.0   \n",
              "\n",
              "   saldo_medio_var44_hace3  saldo_medio_var44_ult1  saldo_medio_var44_ult3  \\\n",
              "0                      0.0                     0.0                     0.0   \n",
              "1                      0.0                     0.0                     0.0   \n",
              "2                      0.0                     0.0                     0.0   \n",
              "3                      0.0                     0.0                     0.0   \n",
              "4                      0.0                     0.0                     0.0   \n",
              "\n",
              "           var38  \n",
              "0   39205.170000  \n",
              "1   49278.030000  \n",
              "2   67333.770000  \n",
              "3   64007.970000  \n",
              "4  117310.979016  \n",
              "\n",
              "[5 rows x 369 columns]"
            ],
            "text/html": [
              "\n",
              "  <div id=\"df-376c2d97-086b-43aa-843f-0a7680b73b2d\">\n",
              "    <div class=\"colab-df-container\">\n",
              "      <div>\n",
              "<style scoped>\n",
              "    .dataframe tbody tr th:only-of-type {\n",
              "        vertical-align: middle;\n",
              "    }\n",
              "\n",
              "    .dataframe tbody tr th {\n",
              "        vertical-align: top;\n",
              "    }\n",
              "\n",
              "    .dataframe thead th {\n",
              "        text-align: right;\n",
              "    }\n",
              "</style>\n",
              "<table border=\"1\" class=\"dataframe\">\n",
              "  <thead>\n",
              "    <tr style=\"text-align: right;\">\n",
              "      <th></th>\n",
              "      <th>var3</th>\n",
              "      <th>var15</th>\n",
              "      <th>imp_ent_var16_ult1</th>\n",
              "      <th>imp_op_var39_comer_ult1</th>\n",
              "      <th>imp_op_var39_comer_ult3</th>\n",
              "      <th>imp_op_var40_comer_ult1</th>\n",
              "      <th>imp_op_var40_comer_ult3</th>\n",
              "      <th>imp_op_var40_efect_ult1</th>\n",
              "      <th>imp_op_var40_efect_ult3</th>\n",
              "      <th>imp_op_var40_ult1</th>\n",
              "      <th>...</th>\n",
              "      <th>saldo_medio_var29_ult3</th>\n",
              "      <th>saldo_medio_var33_hace2</th>\n",
              "      <th>saldo_medio_var33_hace3</th>\n",
              "      <th>saldo_medio_var33_ult1</th>\n",
              "      <th>saldo_medio_var33_ult3</th>\n",
              "      <th>saldo_medio_var44_hace2</th>\n",
              "      <th>saldo_medio_var44_hace3</th>\n",
              "      <th>saldo_medio_var44_ult1</th>\n",
              "      <th>saldo_medio_var44_ult3</th>\n",
              "      <th>var38</th>\n",
              "    </tr>\n",
              "  </thead>\n",
              "  <tbody>\n",
              "    <tr>\n",
              "      <th>0</th>\n",
              "      <td>2</td>\n",
              "      <td>23</td>\n",
              "      <td>0.0</td>\n",
              "      <td>0.0</td>\n",
              "      <td>0.0</td>\n",
              "      <td>0.0</td>\n",
              "      <td>0.0</td>\n",
              "      <td>0.0</td>\n",
              "      <td>0.0</td>\n",
              "      <td>0.0</td>\n",
              "      <td>...</td>\n",
              "      <td>0.0</td>\n",
              "      <td>0.0</td>\n",
              "      <td>0.0</td>\n",
              "      <td>0.0</td>\n",
              "      <td>0.0</td>\n",
              "      <td>0.0</td>\n",
              "      <td>0.0</td>\n",
              "      <td>0.0</td>\n",
              "      <td>0.0</td>\n",
              "      <td>39205.170000</td>\n",
              "    </tr>\n",
              "    <tr>\n",
              "      <th>1</th>\n",
              "      <td>2</td>\n",
              "      <td>34</td>\n",
              "      <td>0.0</td>\n",
              "      <td>0.0</td>\n",
              "      <td>0.0</td>\n",
              "      <td>0.0</td>\n",
              "      <td>0.0</td>\n",
              "      <td>0.0</td>\n",
              "      <td>0.0</td>\n",
              "      <td>0.0</td>\n",
              "      <td>...</td>\n",
              "      <td>0.0</td>\n",
              "      <td>0.0</td>\n",
              "      <td>0.0</td>\n",
              "      <td>0.0</td>\n",
              "      <td>0.0</td>\n",
              "      <td>0.0</td>\n",
              "      <td>0.0</td>\n",
              "      <td>0.0</td>\n",
              "      <td>0.0</td>\n",
              "      <td>49278.030000</td>\n",
              "    </tr>\n",
              "    <tr>\n",
              "      <th>2</th>\n",
              "      <td>2</td>\n",
              "      <td>23</td>\n",
              "      <td>0.0</td>\n",
              "      <td>0.0</td>\n",
              "      <td>0.0</td>\n",
              "      <td>0.0</td>\n",
              "      <td>0.0</td>\n",
              "      <td>0.0</td>\n",
              "      <td>0.0</td>\n",
              "      <td>0.0</td>\n",
              "      <td>...</td>\n",
              "      <td>0.0</td>\n",
              "      <td>0.0</td>\n",
              "      <td>0.0</td>\n",
              "      <td>0.0</td>\n",
              "      <td>0.0</td>\n",
              "      <td>0.0</td>\n",
              "      <td>0.0</td>\n",
              "      <td>0.0</td>\n",
              "      <td>0.0</td>\n",
              "      <td>67333.770000</td>\n",
              "    </tr>\n",
              "    <tr>\n",
              "      <th>3</th>\n",
              "      <td>2</td>\n",
              "      <td>37</td>\n",
              "      <td>0.0</td>\n",
              "      <td>195.0</td>\n",
              "      <td>195.0</td>\n",
              "      <td>0.0</td>\n",
              "      <td>0.0</td>\n",
              "      <td>0.0</td>\n",
              "      <td>0.0</td>\n",
              "      <td>0.0</td>\n",
              "      <td>...</td>\n",
              "      <td>0.0</td>\n",
              "      <td>0.0</td>\n",
              "      <td>0.0</td>\n",
              "      <td>0.0</td>\n",
              "      <td>0.0</td>\n",
              "      <td>0.0</td>\n",
              "      <td>0.0</td>\n",
              "      <td>0.0</td>\n",
              "      <td>0.0</td>\n",
              "      <td>64007.970000</td>\n",
              "    </tr>\n",
              "    <tr>\n",
              "      <th>4</th>\n",
              "      <td>2</td>\n",
              "      <td>39</td>\n",
              "      <td>0.0</td>\n",
              "      <td>0.0</td>\n",
              "      <td>0.0</td>\n",
              "      <td>0.0</td>\n",
              "      <td>0.0</td>\n",
              "      <td>0.0</td>\n",
              "      <td>0.0</td>\n",
              "      <td>0.0</td>\n",
              "      <td>...</td>\n",
              "      <td>0.0</td>\n",
              "      <td>0.0</td>\n",
              "      <td>0.0</td>\n",
              "      <td>0.0</td>\n",
              "      <td>0.0</td>\n",
              "      <td>0.0</td>\n",
              "      <td>0.0</td>\n",
              "      <td>0.0</td>\n",
              "      <td>0.0</td>\n",
              "      <td>117310.979016</td>\n",
              "    </tr>\n",
              "  </tbody>\n",
              "</table>\n",
              "<p>5 rows × 369 columns</p>\n",
              "</div>\n",
              "      <button class=\"colab-df-convert\" onclick=\"convertToInteractive('df-376c2d97-086b-43aa-843f-0a7680b73b2d')\"\n",
              "              title=\"Convert this dataframe to an interactive table.\"\n",
              "              style=\"display:none;\">\n",
              "        \n",
              "  <svg xmlns=\"http://www.w3.org/2000/svg\" height=\"24px\"viewBox=\"0 0 24 24\"\n",
              "       width=\"24px\">\n",
              "    <path d=\"M0 0h24v24H0V0z\" fill=\"none\"/>\n",
              "    <path d=\"M18.56 5.44l.94 2.06.94-2.06 2.06-.94-2.06-.94-.94-2.06-.94 2.06-2.06.94zm-11 1L8.5 8.5l.94-2.06 2.06-.94-2.06-.94L8.5 2.5l-.94 2.06-2.06.94zm10 10l.94 2.06.94-2.06 2.06-.94-2.06-.94-.94-2.06-.94 2.06-2.06.94z\"/><path d=\"M17.41 7.96l-1.37-1.37c-.4-.4-.92-.59-1.43-.59-.52 0-1.04.2-1.43.59L10.3 9.45l-7.72 7.72c-.78.78-.78 2.05 0 2.83L4 21.41c.39.39.9.59 1.41.59.51 0 1.02-.2 1.41-.59l7.78-7.78 2.81-2.81c.8-.78.8-2.07 0-2.86zM5.41 20L4 18.59l7.72-7.72 1.47 1.35L5.41 20z\"/>\n",
              "  </svg>\n",
              "      </button>\n",
              "      \n",
              "  <style>\n",
              "    .colab-df-container {\n",
              "      display:flex;\n",
              "      flex-wrap:wrap;\n",
              "      gap: 12px;\n",
              "    }\n",
              "\n",
              "    .colab-df-convert {\n",
              "      background-color: #E8F0FE;\n",
              "      border: none;\n",
              "      border-radius: 50%;\n",
              "      cursor: pointer;\n",
              "      display: none;\n",
              "      fill: #1967D2;\n",
              "      height: 32px;\n",
              "      padding: 0 0 0 0;\n",
              "      width: 32px;\n",
              "    }\n",
              "\n",
              "    .colab-df-convert:hover {\n",
              "      background-color: #E2EBFA;\n",
              "      box-shadow: 0px 1px 2px rgba(60, 64, 67, 0.3), 0px 1px 3px 1px rgba(60, 64, 67, 0.15);\n",
              "      fill: #174EA6;\n",
              "    }\n",
              "\n",
              "    [theme=dark] .colab-df-convert {\n",
              "      background-color: #3B4455;\n",
              "      fill: #D2E3FC;\n",
              "    }\n",
              "\n",
              "    [theme=dark] .colab-df-convert:hover {\n",
              "      background-color: #434B5C;\n",
              "      box-shadow: 0px 1px 3px 1px rgba(0, 0, 0, 0.15);\n",
              "      filter: drop-shadow(0px 1px 2px rgba(0, 0, 0, 0.3));\n",
              "      fill: #FFFFFF;\n",
              "    }\n",
              "  </style>\n",
              "\n",
              "      <script>\n",
              "        const buttonEl =\n",
              "          document.querySelector('#df-376c2d97-086b-43aa-843f-0a7680b73b2d button.colab-df-convert');\n",
              "        buttonEl.style.display =\n",
              "          google.colab.kernel.accessAllowed ? 'block' : 'none';\n",
              "\n",
              "        async function convertToInteractive(key) {\n",
              "          const element = document.querySelector('#df-376c2d97-086b-43aa-843f-0a7680b73b2d');\n",
              "          const dataTable =\n",
              "            await google.colab.kernel.invokeFunction('convertToInteractive',\n",
              "                                                     [key], {});\n",
              "          if (!dataTable) return;\n",
              "\n",
              "          const docLinkHtml = 'Like what you see? Visit the ' +\n",
              "            '<a target=\"_blank\" href=https://colab.research.google.com/notebooks/data_table.ipynb>data table notebook</a>'\n",
              "            + ' to learn more about interactive tables.';\n",
              "          element.innerHTML = '';\n",
              "          dataTable['output_type'] = 'display_data';\n",
              "          await google.colab.output.renderOutput(dataTable, element);\n",
              "          const docLink = document.createElement('div');\n",
              "          docLink.innerHTML = docLinkHtml;\n",
              "          element.appendChild(docLink);\n",
              "        }\n",
              "      </script>\n",
              "    </div>\n",
              "  </div>\n",
              "  "
            ]
          },
          "metadata": {},
          "execution_count": 9
        }
      ]
    },
    {
      "cell_type": "code",
      "source": [
        "data.describe()"
      ],
      "metadata": {
        "colab": {
          "base_uri": "https://localhost:8080/",
          "height": 393
        },
        "id": "8VI3jkeIdOwY",
        "outputId": "68968a91-665b-4139-d645-7dd0ae5617a9"
      },
      "execution_count": 10,
      "outputs": [
        {
          "output_type": "execute_result",
          "data": {
            "text/plain": [
              "                var3         var15  imp_ent_var16_ult1  \\\n",
              "count   76020.000000  76020.000000        76020.000000   \n",
              "mean    -1523.199277     33.212865           86.208265   \n",
              "std     39033.462364     12.956486         1614.757313   \n",
              "min   -999999.000000      5.000000            0.000000   \n",
              "25%         2.000000     23.000000            0.000000   \n",
              "50%         2.000000     28.000000            0.000000   \n",
              "75%         2.000000     40.000000            0.000000   \n",
              "max       238.000000    105.000000       210000.000000   \n",
              "\n",
              "       imp_op_var39_comer_ult1  imp_op_var39_comer_ult3  \\\n",
              "count             76020.000000             76020.000000   \n",
              "mean                 72.363067               119.529632   \n",
              "std                 339.315831               546.266294   \n",
              "min                   0.000000                 0.000000   \n",
              "25%                   0.000000                 0.000000   \n",
              "50%                   0.000000                 0.000000   \n",
              "75%                   0.000000                 0.000000   \n",
              "max               12888.030000             21024.810000   \n",
              "\n",
              "       imp_op_var40_comer_ult1  imp_op_var40_comer_ult3  \\\n",
              "count             76020.000000             76020.000000   \n",
              "mean                  3.559130                 6.472698   \n",
              "std                  93.155749               153.737066   \n",
              "min                   0.000000                 0.000000   \n",
              "25%                   0.000000                 0.000000   \n",
              "50%                   0.000000                 0.000000   \n",
              "75%                   0.000000                 0.000000   \n",
              "max                8237.820000             11073.570000   \n",
              "\n",
              "       imp_op_var40_efect_ult1  imp_op_var40_efect_ult3  imp_op_var40_ult1  \\\n",
              "count             76020.000000             76020.000000       76020.000000   \n",
              "mean                  0.412946                 0.567352           3.160715   \n",
              "std                  30.604864                36.513513          95.268204   \n",
              "min                   0.000000                 0.000000           0.000000   \n",
              "25%                   0.000000                 0.000000           0.000000   \n",
              "50%                   0.000000                 0.000000           0.000000   \n",
              "75%                   0.000000                 0.000000           0.000000   \n",
              "max                6600.000000              6600.000000        8237.820000   \n",
              "\n",
              "       ...  saldo_medio_var29_ult3  saldo_medio_var33_hace2  \\\n",
              "count  ...            76020.000000             76020.000000   \n",
              "mean   ...                0.186630                 7.935824   \n",
              "std    ...               31.879418               455.887218   \n",
              "min    ...                0.000000                 0.000000   \n",
              "25%    ...                0.000000                 0.000000   \n",
              "50%    ...                0.000000                 0.000000   \n",
              "75%    ...                0.000000                 0.000000   \n",
              "max    ...             7331.340000             50003.880000   \n",
              "\n",
              "       saldo_medio_var33_hace3  saldo_medio_var33_ult1  \\\n",
              "count             76020.000000            76020.000000   \n",
              "mean                  1.365146               12.215580   \n",
              "std                 113.959637              783.207399   \n",
              "min                   0.000000                0.000000   \n",
              "25%                   0.000000                0.000000   \n",
              "50%                   0.000000                0.000000   \n",
              "75%                   0.000000                0.000000   \n",
              "max               20385.720000           138831.630000   \n",
              "\n",
              "       saldo_medio_var33_ult3  saldo_medio_var44_hace2  \\\n",
              "count            76020.000000             76020.000000   \n",
              "mean                 8.784074                31.505324   \n",
              "std                538.439211              2013.125393   \n",
              "min                  0.000000                 0.000000   \n",
              "25%                  0.000000                 0.000000   \n",
              "50%                  0.000000                 0.000000   \n",
              "75%                  0.000000                 0.000000   \n",
              "max              91778.730000            438329.220000   \n",
              "\n",
              "       saldo_medio_var44_hace3  saldo_medio_var44_ult1  \\\n",
              "count             76020.000000            76020.000000   \n",
              "mean                  1.858575               76.026165   \n",
              "std                 147.786584             4040.337842   \n",
              "min                   0.000000                0.000000   \n",
              "25%                   0.000000                0.000000   \n",
              "50%                   0.000000                0.000000   \n",
              "75%                   0.000000                0.000000   \n",
              "max               24650.010000           681462.900000   \n",
              "\n",
              "       saldo_medio_var44_ult3         var38  \n",
              "count            76020.000000  7.602000e+04  \n",
              "mean                56.614351  1.172358e+05  \n",
              "std               2852.579397  1.826646e+05  \n",
              "min                  0.000000  5.163750e+03  \n",
              "25%                  0.000000  6.787061e+04  \n",
              "50%                  0.000000  1.064092e+05  \n",
              "75%                  0.000000  1.187563e+05  \n",
              "max             397884.300000  2.203474e+07  \n",
              "\n",
              "[8 rows x 369 columns]"
            ],
            "text/html": [
              "\n",
              "  <div id=\"df-f2e569f6-8fd9-42ce-9d1c-6e13fead7996\">\n",
              "    <div class=\"colab-df-container\">\n",
              "      <div>\n",
              "<style scoped>\n",
              "    .dataframe tbody tr th:only-of-type {\n",
              "        vertical-align: middle;\n",
              "    }\n",
              "\n",
              "    .dataframe tbody tr th {\n",
              "        vertical-align: top;\n",
              "    }\n",
              "\n",
              "    .dataframe thead th {\n",
              "        text-align: right;\n",
              "    }\n",
              "</style>\n",
              "<table border=\"1\" class=\"dataframe\">\n",
              "  <thead>\n",
              "    <tr style=\"text-align: right;\">\n",
              "      <th></th>\n",
              "      <th>var3</th>\n",
              "      <th>var15</th>\n",
              "      <th>imp_ent_var16_ult1</th>\n",
              "      <th>imp_op_var39_comer_ult1</th>\n",
              "      <th>imp_op_var39_comer_ult3</th>\n",
              "      <th>imp_op_var40_comer_ult1</th>\n",
              "      <th>imp_op_var40_comer_ult3</th>\n",
              "      <th>imp_op_var40_efect_ult1</th>\n",
              "      <th>imp_op_var40_efect_ult3</th>\n",
              "      <th>imp_op_var40_ult1</th>\n",
              "      <th>...</th>\n",
              "      <th>saldo_medio_var29_ult3</th>\n",
              "      <th>saldo_medio_var33_hace2</th>\n",
              "      <th>saldo_medio_var33_hace3</th>\n",
              "      <th>saldo_medio_var33_ult1</th>\n",
              "      <th>saldo_medio_var33_ult3</th>\n",
              "      <th>saldo_medio_var44_hace2</th>\n",
              "      <th>saldo_medio_var44_hace3</th>\n",
              "      <th>saldo_medio_var44_ult1</th>\n",
              "      <th>saldo_medio_var44_ult3</th>\n",
              "      <th>var38</th>\n",
              "    </tr>\n",
              "  </thead>\n",
              "  <tbody>\n",
              "    <tr>\n",
              "      <th>count</th>\n",
              "      <td>76020.000000</td>\n",
              "      <td>76020.000000</td>\n",
              "      <td>76020.000000</td>\n",
              "      <td>76020.000000</td>\n",
              "      <td>76020.000000</td>\n",
              "      <td>76020.000000</td>\n",
              "      <td>76020.000000</td>\n",
              "      <td>76020.000000</td>\n",
              "      <td>76020.000000</td>\n",
              "      <td>76020.000000</td>\n",
              "      <td>...</td>\n",
              "      <td>76020.000000</td>\n",
              "      <td>76020.000000</td>\n",
              "      <td>76020.000000</td>\n",
              "      <td>76020.000000</td>\n",
              "      <td>76020.000000</td>\n",
              "      <td>76020.000000</td>\n",
              "      <td>76020.000000</td>\n",
              "      <td>76020.000000</td>\n",
              "      <td>76020.000000</td>\n",
              "      <td>7.602000e+04</td>\n",
              "    </tr>\n",
              "    <tr>\n",
              "      <th>mean</th>\n",
              "      <td>-1523.199277</td>\n",
              "      <td>33.212865</td>\n",
              "      <td>86.208265</td>\n",
              "      <td>72.363067</td>\n",
              "      <td>119.529632</td>\n",
              "      <td>3.559130</td>\n",
              "      <td>6.472698</td>\n",
              "      <td>0.412946</td>\n",
              "      <td>0.567352</td>\n",
              "      <td>3.160715</td>\n",
              "      <td>...</td>\n",
              "      <td>0.186630</td>\n",
              "      <td>7.935824</td>\n",
              "      <td>1.365146</td>\n",
              "      <td>12.215580</td>\n",
              "      <td>8.784074</td>\n",
              "      <td>31.505324</td>\n",
              "      <td>1.858575</td>\n",
              "      <td>76.026165</td>\n",
              "      <td>56.614351</td>\n",
              "      <td>1.172358e+05</td>\n",
              "    </tr>\n",
              "    <tr>\n",
              "      <th>std</th>\n",
              "      <td>39033.462364</td>\n",
              "      <td>12.956486</td>\n",
              "      <td>1614.757313</td>\n",
              "      <td>339.315831</td>\n",
              "      <td>546.266294</td>\n",
              "      <td>93.155749</td>\n",
              "      <td>153.737066</td>\n",
              "      <td>30.604864</td>\n",
              "      <td>36.513513</td>\n",
              "      <td>95.268204</td>\n",
              "      <td>...</td>\n",
              "      <td>31.879418</td>\n",
              "      <td>455.887218</td>\n",
              "      <td>113.959637</td>\n",
              "      <td>783.207399</td>\n",
              "      <td>538.439211</td>\n",
              "      <td>2013.125393</td>\n",
              "      <td>147.786584</td>\n",
              "      <td>4040.337842</td>\n",
              "      <td>2852.579397</td>\n",
              "      <td>1.826646e+05</td>\n",
              "    </tr>\n",
              "    <tr>\n",
              "      <th>min</th>\n",
              "      <td>-999999.000000</td>\n",
              "      <td>5.000000</td>\n",
              "      <td>0.000000</td>\n",
              "      <td>0.000000</td>\n",
              "      <td>0.000000</td>\n",
              "      <td>0.000000</td>\n",
              "      <td>0.000000</td>\n",
              "      <td>0.000000</td>\n",
              "      <td>0.000000</td>\n",
              "      <td>0.000000</td>\n",
              "      <td>...</td>\n",
              "      <td>0.000000</td>\n",
              "      <td>0.000000</td>\n",
              "      <td>0.000000</td>\n",
              "      <td>0.000000</td>\n",
              "      <td>0.000000</td>\n",
              "      <td>0.000000</td>\n",
              "      <td>0.000000</td>\n",
              "      <td>0.000000</td>\n",
              "      <td>0.000000</td>\n",
              "      <td>5.163750e+03</td>\n",
              "    </tr>\n",
              "    <tr>\n",
              "      <th>25%</th>\n",
              "      <td>2.000000</td>\n",
              "      <td>23.000000</td>\n",
              "      <td>0.000000</td>\n",
              "      <td>0.000000</td>\n",
              "      <td>0.000000</td>\n",
              "      <td>0.000000</td>\n",
              "      <td>0.000000</td>\n",
              "      <td>0.000000</td>\n",
              "      <td>0.000000</td>\n",
              "      <td>0.000000</td>\n",
              "      <td>...</td>\n",
              "      <td>0.000000</td>\n",
              "      <td>0.000000</td>\n",
              "      <td>0.000000</td>\n",
              "      <td>0.000000</td>\n",
              "      <td>0.000000</td>\n",
              "      <td>0.000000</td>\n",
              "      <td>0.000000</td>\n",
              "      <td>0.000000</td>\n",
              "      <td>0.000000</td>\n",
              "      <td>6.787061e+04</td>\n",
              "    </tr>\n",
              "    <tr>\n",
              "      <th>50%</th>\n",
              "      <td>2.000000</td>\n",
              "      <td>28.000000</td>\n",
              "      <td>0.000000</td>\n",
              "      <td>0.000000</td>\n",
              "      <td>0.000000</td>\n",
              "      <td>0.000000</td>\n",
              "      <td>0.000000</td>\n",
              "      <td>0.000000</td>\n",
              "      <td>0.000000</td>\n",
              "      <td>0.000000</td>\n",
              "      <td>...</td>\n",
              "      <td>0.000000</td>\n",
              "      <td>0.000000</td>\n",
              "      <td>0.000000</td>\n",
              "      <td>0.000000</td>\n",
              "      <td>0.000000</td>\n",
              "      <td>0.000000</td>\n",
              "      <td>0.000000</td>\n",
              "      <td>0.000000</td>\n",
              "      <td>0.000000</td>\n",
              "      <td>1.064092e+05</td>\n",
              "    </tr>\n",
              "    <tr>\n",
              "      <th>75%</th>\n",
              "      <td>2.000000</td>\n",
              "      <td>40.000000</td>\n",
              "      <td>0.000000</td>\n",
              "      <td>0.000000</td>\n",
              "      <td>0.000000</td>\n",
              "      <td>0.000000</td>\n",
              "      <td>0.000000</td>\n",
              "      <td>0.000000</td>\n",
              "      <td>0.000000</td>\n",
              "      <td>0.000000</td>\n",
              "      <td>...</td>\n",
              "      <td>0.000000</td>\n",
              "      <td>0.000000</td>\n",
              "      <td>0.000000</td>\n",
              "      <td>0.000000</td>\n",
              "      <td>0.000000</td>\n",
              "      <td>0.000000</td>\n",
              "      <td>0.000000</td>\n",
              "      <td>0.000000</td>\n",
              "      <td>0.000000</td>\n",
              "      <td>1.187563e+05</td>\n",
              "    </tr>\n",
              "    <tr>\n",
              "      <th>max</th>\n",
              "      <td>238.000000</td>\n",
              "      <td>105.000000</td>\n",
              "      <td>210000.000000</td>\n",
              "      <td>12888.030000</td>\n",
              "      <td>21024.810000</td>\n",
              "      <td>8237.820000</td>\n",
              "      <td>11073.570000</td>\n",
              "      <td>6600.000000</td>\n",
              "      <td>6600.000000</td>\n",
              "      <td>8237.820000</td>\n",
              "      <td>...</td>\n",
              "      <td>7331.340000</td>\n",
              "      <td>50003.880000</td>\n",
              "      <td>20385.720000</td>\n",
              "      <td>138831.630000</td>\n",
              "      <td>91778.730000</td>\n",
              "      <td>438329.220000</td>\n",
              "      <td>24650.010000</td>\n",
              "      <td>681462.900000</td>\n",
              "      <td>397884.300000</td>\n",
              "      <td>2.203474e+07</td>\n",
              "    </tr>\n",
              "  </tbody>\n",
              "</table>\n",
              "<p>8 rows × 369 columns</p>\n",
              "</div>\n",
              "      <button class=\"colab-df-convert\" onclick=\"convertToInteractive('df-f2e569f6-8fd9-42ce-9d1c-6e13fead7996')\"\n",
              "              title=\"Convert this dataframe to an interactive table.\"\n",
              "              style=\"display:none;\">\n",
              "        \n",
              "  <svg xmlns=\"http://www.w3.org/2000/svg\" height=\"24px\"viewBox=\"0 0 24 24\"\n",
              "       width=\"24px\">\n",
              "    <path d=\"M0 0h24v24H0V0z\" fill=\"none\"/>\n",
              "    <path d=\"M18.56 5.44l.94 2.06.94-2.06 2.06-.94-2.06-.94-.94-2.06-.94 2.06-2.06.94zm-11 1L8.5 8.5l.94-2.06 2.06-.94-2.06-.94L8.5 2.5l-.94 2.06-2.06.94zm10 10l.94 2.06.94-2.06 2.06-.94-2.06-.94-.94-2.06-.94 2.06-2.06.94z\"/><path d=\"M17.41 7.96l-1.37-1.37c-.4-.4-.92-.59-1.43-.59-.52 0-1.04.2-1.43.59L10.3 9.45l-7.72 7.72c-.78.78-.78 2.05 0 2.83L4 21.41c.39.39.9.59 1.41.59.51 0 1.02-.2 1.41-.59l7.78-7.78 2.81-2.81c.8-.78.8-2.07 0-2.86zM5.41 20L4 18.59l7.72-7.72 1.47 1.35L5.41 20z\"/>\n",
              "  </svg>\n",
              "      </button>\n",
              "      \n",
              "  <style>\n",
              "    .colab-df-container {\n",
              "      display:flex;\n",
              "      flex-wrap:wrap;\n",
              "      gap: 12px;\n",
              "    }\n",
              "\n",
              "    .colab-df-convert {\n",
              "      background-color: #E8F0FE;\n",
              "      border: none;\n",
              "      border-radius: 50%;\n",
              "      cursor: pointer;\n",
              "      display: none;\n",
              "      fill: #1967D2;\n",
              "      height: 32px;\n",
              "      padding: 0 0 0 0;\n",
              "      width: 32px;\n",
              "    }\n",
              "\n",
              "    .colab-df-convert:hover {\n",
              "      background-color: #E2EBFA;\n",
              "      box-shadow: 0px 1px 2px rgba(60, 64, 67, 0.3), 0px 1px 3px 1px rgba(60, 64, 67, 0.15);\n",
              "      fill: #174EA6;\n",
              "    }\n",
              "\n",
              "    [theme=dark] .colab-df-convert {\n",
              "      background-color: #3B4455;\n",
              "      fill: #D2E3FC;\n",
              "    }\n",
              "\n",
              "    [theme=dark] .colab-df-convert:hover {\n",
              "      background-color: #434B5C;\n",
              "      box-shadow: 0px 1px 3px 1px rgba(0, 0, 0, 0.15);\n",
              "      filter: drop-shadow(0px 1px 2px rgba(0, 0, 0, 0.3));\n",
              "      fill: #FFFFFF;\n",
              "    }\n",
              "  </style>\n",
              "\n",
              "      <script>\n",
              "        const buttonEl =\n",
              "          document.querySelector('#df-f2e569f6-8fd9-42ce-9d1c-6e13fead7996 button.colab-df-convert');\n",
              "        buttonEl.style.display =\n",
              "          google.colab.kernel.accessAllowed ? 'block' : 'none';\n",
              "\n",
              "        async function convertToInteractive(key) {\n",
              "          const element = document.querySelector('#df-f2e569f6-8fd9-42ce-9d1c-6e13fead7996');\n",
              "          const dataTable =\n",
              "            await google.colab.kernel.invokeFunction('convertToInteractive',\n",
              "                                                     [key], {});\n",
              "          if (!dataTable) return;\n",
              "\n",
              "          const docLinkHtml = 'Like what you see? Visit the ' +\n",
              "            '<a target=\"_blank\" href=https://colab.research.google.com/notebooks/data_table.ipynb>data table notebook</a>'\n",
              "            + ' to learn more about interactive tables.';\n",
              "          element.innerHTML = '';\n",
              "          dataTable['output_type'] = 'display_data';\n",
              "          await google.colab.output.renderOutput(dataTable, element);\n",
              "          const docLink = document.createElement('div');\n",
              "          docLink.innerHTML = docLinkHtml;\n",
              "          element.appendChild(docLink);\n",
              "        }\n",
              "      </script>\n",
              "    </div>\n",
              "  </div>\n",
              "  "
            ]
          },
          "metadata": {},
          "execution_count": 10
        }
      ]
    },
    {
      "cell_type": "code",
      "source": [
        "data['var3'].replace(-999999,2,inplace=True)"
      ],
      "metadata": {
        "id": "4UQU8LugdhkA"
      },
      "execution_count": 12,
      "outputs": []
    },
    {
      "cell_type": "code",
      "source": [
        "data['var3'].value_counts()"
      ],
      "metadata": {
        "colab": {
          "base_uri": "https://localhost:8080/"
        },
        "id": "tVtzVj-8eEDp",
        "outputId": "31b1f211-0128-40ce-8edb-daed4cc1833b"
      },
      "execution_count": 11,
      "outputs": [
        {
          "output_type": "execute_result",
          "data": {
            "text/plain": [
              " 2         74165\n",
              " 8           138\n",
              "-999999      116\n",
              " 9           110\n",
              " 3           108\n",
              "           ...  \n",
              " 231           1\n",
              " 188           1\n",
              " 168           1\n",
              " 135           1\n",
              " 87            1\n",
              "Name: var3, Length: 208, dtype: int64"
            ]
          },
          "metadata": {},
          "execution_count": 11
        }
      ]
    },
    {
      "cell_type": "code",
      "source": [
        "from sklearn.preprocessing import StandardScaler"
      ],
      "metadata": {
        "id": "jJJMrqFneFUx"
      },
      "execution_count": 13,
      "outputs": []
    },
    {
      "cell_type": "code",
      "source": [
        "ss = StandardScaler()\n",
        "ss.fit(data)\n",
        "scaled_data = ss.transform(data)"
      ],
      "metadata": {
        "id": "fgFeAe7TezyG"
      },
      "execution_count": 14,
      "outputs": []
    },
    {
      "cell_type": "code",
      "source": [
        "from sklearn.model_selection import train_test_split"
      ],
      "metadata": {
        "id": "AFQWuyLNe5HJ"
      },
      "execution_count": 15,
      "outputs": []
    },
    {
      "cell_type": "code",
      "source": [
        "x_train,x_test,y_train,y_test = train_test_split(data,\n",
        "                                                 label,\n",
        "                                                 test_size=0.2)"
      ],
      "metadata": {
        "id": "WvaoXcR1foT5"
      },
      "execution_count": 18,
      "outputs": []
    },
    {
      "cell_type": "code",
      "source": [
        "x_tr,x_val,y_tr,y_val = train_test_split(x_train,\n",
        "                                         y_train,\n",
        "                                         test_size=0.2)"
      ],
      "metadata": {
        "id": "DCo0Kc9WftkW"
      },
      "execution_count": 20,
      "outputs": []
    },
    {
      "cell_type": "code",
      "source": [
        "from sklearn.ensemble import RandomForestClassifier"
      ],
      "metadata": {
        "id": "aHPkaDOkf6yR"
      },
      "execution_count": 21,
      "outputs": []
    },
    {
      "cell_type": "code",
      "source": [
        "from sklearn.metrics import accuracy_score"
      ],
      "metadata": {
        "id": "rX9orlZ_g4Dw"
      },
      "execution_count": 22,
      "outputs": []
    },
    {
      "cell_type": "code",
      "source": [
        "model = RandomForestClassifier()\n",
        "model.fit(x_tr,y_tr)\n",
        "pred_val = model.predict(x_val)\n",
        "print(\"검증:\",accuracy_score(pred_val,y_val))\n",
        "\n",
        "pred = model.predict(x_test)\n",
        "pred_proba = model.predict_proba(x_test)[:,1]\n",
        "print(\"평가:\",accuracy_score(pred,y_test))\n",
        "print(\"AUC:\",roc_auc_score(y_test,pred_proba))"
      ],
      "metadata": {
        "colab": {
          "base_uri": "https://localhost:8080/"
        },
        "id": "jxutIP17ghwU",
        "outputId": "9217cdd3-cf9d-4c8e-f294-a6e4ba2cef7c"
      },
      "execution_count": 38,
      "outputs": [
        {
          "output_type": "stream",
          "name": "stdout",
          "text": [
            "검증: 0.954044722130878\n",
            "평가: 0.953893712181005\n",
            "AUC: 0.7508466932886191\n"
          ]
        }
      ]
    },
    {
      "cell_type": "code",
      "source": [
        "from xgboost import XGBClassifier\n",
        "from sklearn.metrics import roc_auc_score"
      ],
      "metadata": {
        "id": "UKfDacyvhLuw"
      },
      "execution_count": 25,
      "outputs": []
    },
    {
      "cell_type": "code",
      "source": [
        "model = XGBClassifier(n_estimators = 500,\n",
        "                      learning_rate = 0.05)\n",
        "model.fit(x_tr,y_tr,\n",
        "          early_stopping_rounds=100,\n",
        "          eval_metric='auc',\n",
        "          eval_set=[(x_tr,y_tr),(x_val,y_val)]\n",
        "          )"
      ],
      "metadata": {
        "colab": {
          "base_uri": "https://localhost:8080/",
          "height": 1000
        },
        "id": "F-sJG9fQh588",
        "outputId": "324ae008-63ad-4774-a16a-288017ca2c8f"
      },
      "execution_count": 29,
      "outputs": [
        {
          "output_type": "stream",
          "name": "stderr",
          "text": [
            "/usr/local/lib/python3.10/dist-packages/xgboost/sklearn.py:835: UserWarning: `eval_metric` in `fit` method is deprecated for better compatibility with scikit-learn, use `eval_metric` in constructor or`set_params` instead.\n",
            "  warnings.warn(\n",
            "/usr/local/lib/python3.10/dist-packages/xgboost/sklearn.py:835: UserWarning: `early_stopping_rounds` in `fit` method is deprecated for better compatibility with scikit-learn, use `early_stopping_rounds` in constructor or`set_params` instead.\n",
            "  warnings.warn(\n"
          ]
        },
        {
          "output_type": "stream",
          "name": "stdout",
          "text": [
            "[0]\tvalidation_0-auc:0.81962\tvalidation_1-auc:0.81358\n",
            "[1]\tvalidation_0-auc:0.82057\tvalidation_1-auc:0.81411\n",
            "[2]\tvalidation_0-auc:0.83204\tvalidation_1-auc:0.82171\n",
            "[3]\tvalidation_0-auc:0.83135\tvalidation_1-auc:0.82233\n",
            "[4]\tvalidation_0-auc:0.83480\tvalidation_1-auc:0.82177\n",
            "[5]\tvalidation_0-auc:0.83584\tvalidation_1-auc:0.82135\n",
            "[6]\tvalidation_0-auc:0.83661\tvalidation_1-auc:0.82169\n",
            "[7]\tvalidation_0-auc:0.83907\tvalidation_1-auc:0.82499\n",
            "[8]\tvalidation_0-auc:0.84029\tvalidation_1-auc:0.82418\n",
            "[9]\tvalidation_0-auc:0.84199\tvalidation_1-auc:0.82398\n",
            "[10]\tvalidation_0-auc:0.84225\tvalidation_1-auc:0.82609\n",
            "[11]\tvalidation_0-auc:0.84338\tvalidation_1-auc:0.82576\n",
            "[12]\tvalidation_0-auc:0.84410\tvalidation_1-auc:0.82745\n",
            "[13]\tvalidation_0-auc:0.84515\tvalidation_1-auc:0.82751\n",
            "[14]\tvalidation_0-auc:0.84546\tvalidation_1-auc:0.82812\n",
            "[15]\tvalidation_0-auc:0.84681\tvalidation_1-auc:0.82920\n",
            "[16]\tvalidation_0-auc:0.84739\tvalidation_1-auc:0.83014\n",
            "[17]\tvalidation_0-auc:0.84766\tvalidation_1-auc:0.83061\n",
            "[18]\tvalidation_0-auc:0.84860\tvalidation_1-auc:0.83167\n",
            "[19]\tvalidation_0-auc:0.84937\tvalidation_1-auc:0.83204\n",
            "[20]\tvalidation_0-auc:0.84926\tvalidation_1-auc:0.83216\n",
            "[21]\tvalidation_0-auc:0.85002\tvalidation_1-auc:0.83201\n",
            "[22]\tvalidation_0-auc:0.85252\tvalidation_1-auc:0.83434\n",
            "[23]\tvalidation_0-auc:0.85281\tvalidation_1-auc:0.83412\n",
            "[24]\tvalidation_0-auc:0.85344\tvalidation_1-auc:0.83360\n",
            "[25]\tvalidation_0-auc:0.85412\tvalidation_1-auc:0.83388\n",
            "[26]\tvalidation_0-auc:0.85456\tvalidation_1-auc:0.83437\n",
            "[27]\tvalidation_0-auc:0.85474\tvalidation_1-auc:0.83468\n",
            "[28]\tvalidation_0-auc:0.85538\tvalidation_1-auc:0.83424\n",
            "[29]\tvalidation_0-auc:0.85576\tvalidation_1-auc:0.83474\n",
            "[30]\tvalidation_0-auc:0.85629\tvalidation_1-auc:0.83488\n",
            "[31]\tvalidation_0-auc:0.85666\tvalidation_1-auc:0.83560\n",
            "[32]\tvalidation_0-auc:0.85743\tvalidation_1-auc:0.83639\n",
            "[33]\tvalidation_0-auc:0.85828\tvalidation_1-auc:0.83649\n",
            "[34]\tvalidation_0-auc:0.85908\tvalidation_1-auc:0.83679\n",
            "[35]\tvalidation_0-auc:0.85998\tvalidation_1-auc:0.83684\n",
            "[36]\tvalidation_0-auc:0.86072\tvalidation_1-auc:0.83740\n",
            "[37]\tvalidation_0-auc:0.86118\tvalidation_1-auc:0.83732\n",
            "[38]\tvalidation_0-auc:0.86210\tvalidation_1-auc:0.83763\n",
            "[39]\tvalidation_0-auc:0.86241\tvalidation_1-auc:0.83779\n",
            "[40]\tvalidation_0-auc:0.86263\tvalidation_1-auc:0.83759\n",
            "[41]\tvalidation_0-auc:0.86317\tvalidation_1-auc:0.83751\n",
            "[42]\tvalidation_0-auc:0.86360\tvalidation_1-auc:0.83797\n",
            "[43]\tvalidation_0-auc:0.86389\tvalidation_1-auc:0.83817\n",
            "[44]\tvalidation_0-auc:0.86517\tvalidation_1-auc:0.83851\n",
            "[45]\tvalidation_0-auc:0.86547\tvalidation_1-auc:0.83890\n",
            "[46]\tvalidation_0-auc:0.86575\tvalidation_1-auc:0.83898\n",
            "[47]\tvalidation_0-auc:0.86647\tvalidation_1-auc:0.83916\n",
            "[48]\tvalidation_0-auc:0.86678\tvalidation_1-auc:0.83929\n",
            "[49]\tvalidation_0-auc:0.86766\tvalidation_1-auc:0.83931\n",
            "[50]\tvalidation_0-auc:0.86801\tvalidation_1-auc:0.83904\n",
            "[51]\tvalidation_0-auc:0.86850\tvalidation_1-auc:0.83933\n",
            "[52]\tvalidation_0-auc:0.86901\tvalidation_1-auc:0.83954\n",
            "[53]\tvalidation_0-auc:0.86938\tvalidation_1-auc:0.83929\n",
            "[54]\tvalidation_0-auc:0.87003\tvalidation_1-auc:0.83973\n",
            "[55]\tvalidation_0-auc:0.87051\tvalidation_1-auc:0.83976\n",
            "[56]\tvalidation_0-auc:0.87107\tvalidation_1-auc:0.83989\n",
            "[57]\tvalidation_0-auc:0.87146\tvalidation_1-auc:0.84021\n",
            "[58]\tvalidation_0-auc:0.87181\tvalidation_1-auc:0.84039\n",
            "[59]\tvalidation_0-auc:0.87239\tvalidation_1-auc:0.84090\n",
            "[60]\tvalidation_0-auc:0.87279\tvalidation_1-auc:0.84084\n",
            "[61]\tvalidation_0-auc:0.87345\tvalidation_1-auc:0.84046\n",
            "[62]\tvalidation_0-auc:0.87400\tvalidation_1-auc:0.84052\n",
            "[63]\tvalidation_0-auc:0.87455\tvalidation_1-auc:0.84027\n",
            "[64]\tvalidation_0-auc:0.87495\tvalidation_1-auc:0.84021\n",
            "[65]\tvalidation_0-auc:0.87529\tvalidation_1-auc:0.84036\n",
            "[66]\tvalidation_0-auc:0.87569\tvalidation_1-auc:0.84037\n",
            "[67]\tvalidation_0-auc:0.87633\tvalidation_1-auc:0.84041\n",
            "[68]\tvalidation_0-auc:0.87688\tvalidation_1-auc:0.84047\n",
            "[69]\tvalidation_0-auc:0.87742\tvalidation_1-auc:0.84061\n",
            "[70]\tvalidation_0-auc:0.87784\tvalidation_1-auc:0.84065\n",
            "[71]\tvalidation_0-auc:0.87814\tvalidation_1-auc:0.84051\n",
            "[72]\tvalidation_0-auc:0.87862\tvalidation_1-auc:0.84076\n",
            "[73]\tvalidation_0-auc:0.87913\tvalidation_1-auc:0.84074\n",
            "[74]\tvalidation_0-auc:0.87947\tvalidation_1-auc:0.84074\n",
            "[75]\tvalidation_0-auc:0.87991\tvalidation_1-auc:0.84084\n",
            "[76]\tvalidation_0-auc:0.88013\tvalidation_1-auc:0.84087\n",
            "[77]\tvalidation_0-auc:0.88063\tvalidation_1-auc:0.84118\n",
            "[78]\tvalidation_0-auc:0.88117\tvalidation_1-auc:0.84097\n",
            "[79]\tvalidation_0-auc:0.88155\tvalidation_1-auc:0.84091\n",
            "[80]\tvalidation_0-auc:0.88211\tvalidation_1-auc:0.84117\n",
            "[81]\tvalidation_0-auc:0.88256\tvalidation_1-auc:0.84132\n",
            "[82]\tvalidation_0-auc:0.88298\tvalidation_1-auc:0.84121\n",
            "[83]\tvalidation_0-auc:0.88329\tvalidation_1-auc:0.84124\n",
            "[84]\tvalidation_0-auc:0.88363\tvalidation_1-auc:0.84158\n",
            "[85]\tvalidation_0-auc:0.88419\tvalidation_1-auc:0.84132\n",
            "[86]\tvalidation_0-auc:0.88464\tvalidation_1-auc:0.84136\n",
            "[87]\tvalidation_0-auc:0.88503\tvalidation_1-auc:0.84134\n",
            "[88]\tvalidation_0-auc:0.88533\tvalidation_1-auc:0.84131\n",
            "[89]\tvalidation_0-auc:0.88552\tvalidation_1-auc:0.84137\n",
            "[90]\tvalidation_0-auc:0.88605\tvalidation_1-auc:0.84122\n",
            "[91]\tvalidation_0-auc:0.88641\tvalidation_1-auc:0.84129\n",
            "[92]\tvalidation_0-auc:0.88663\tvalidation_1-auc:0.84148\n",
            "[93]\tvalidation_0-auc:0.88678\tvalidation_1-auc:0.84153\n",
            "[94]\tvalidation_0-auc:0.88712\tvalidation_1-auc:0.84160\n",
            "[95]\tvalidation_0-auc:0.88729\tvalidation_1-auc:0.84184\n",
            "[96]\tvalidation_0-auc:0.88774\tvalidation_1-auc:0.84182\n",
            "[97]\tvalidation_0-auc:0.88795\tvalidation_1-auc:0.84190\n",
            "[98]\tvalidation_0-auc:0.88844\tvalidation_1-auc:0.84201\n",
            "[99]\tvalidation_0-auc:0.88880\tvalidation_1-auc:0.84202\n",
            "[100]\tvalidation_0-auc:0.88928\tvalidation_1-auc:0.84196\n",
            "[101]\tvalidation_0-auc:0.88956\tvalidation_1-auc:0.84205\n",
            "[102]\tvalidation_0-auc:0.89006\tvalidation_1-auc:0.84241\n",
            "[103]\tvalidation_0-auc:0.89028\tvalidation_1-auc:0.84248\n",
            "[104]\tvalidation_0-auc:0.89065\tvalidation_1-auc:0.84250\n",
            "[105]\tvalidation_0-auc:0.89095\tvalidation_1-auc:0.84230\n",
            "[106]\tvalidation_0-auc:0.89121\tvalidation_1-auc:0.84242\n",
            "[107]\tvalidation_0-auc:0.89151\tvalidation_1-auc:0.84228\n",
            "[108]\tvalidation_0-auc:0.89189\tvalidation_1-auc:0.84206\n",
            "[109]\tvalidation_0-auc:0.89211\tvalidation_1-auc:0.84200\n",
            "[110]\tvalidation_0-auc:0.89236\tvalidation_1-auc:0.84203\n",
            "[111]\tvalidation_0-auc:0.89261\tvalidation_1-auc:0.84180\n",
            "[112]\tvalidation_0-auc:0.89286\tvalidation_1-auc:0.84182\n",
            "[113]\tvalidation_0-auc:0.89315\tvalidation_1-auc:0.84184\n",
            "[114]\tvalidation_0-auc:0.89366\tvalidation_1-auc:0.84183\n",
            "[115]\tvalidation_0-auc:0.89392\tvalidation_1-auc:0.84176\n",
            "[116]\tvalidation_0-auc:0.89426\tvalidation_1-auc:0.84179\n",
            "[117]\tvalidation_0-auc:0.89450\tvalidation_1-auc:0.84175\n",
            "[118]\tvalidation_0-auc:0.89470\tvalidation_1-auc:0.84188\n",
            "[119]\tvalidation_0-auc:0.89486\tvalidation_1-auc:0.84182\n",
            "[120]\tvalidation_0-auc:0.89497\tvalidation_1-auc:0.84194\n",
            "[121]\tvalidation_0-auc:0.89541\tvalidation_1-auc:0.84197\n",
            "[122]\tvalidation_0-auc:0.89552\tvalidation_1-auc:0.84204\n",
            "[123]\tvalidation_0-auc:0.89599\tvalidation_1-auc:0.84195\n",
            "[124]\tvalidation_0-auc:0.89610\tvalidation_1-auc:0.84195\n",
            "[125]\tvalidation_0-auc:0.89665\tvalidation_1-auc:0.84190\n",
            "[126]\tvalidation_0-auc:0.89706\tvalidation_1-auc:0.84182\n",
            "[127]\tvalidation_0-auc:0.89720\tvalidation_1-auc:0.84192\n",
            "[128]\tvalidation_0-auc:0.89743\tvalidation_1-auc:0.84191\n",
            "[129]\tvalidation_0-auc:0.89787\tvalidation_1-auc:0.84183\n",
            "[130]\tvalidation_0-auc:0.89809\tvalidation_1-auc:0.84184\n",
            "[131]\tvalidation_0-auc:0.89823\tvalidation_1-auc:0.84178\n",
            "[132]\tvalidation_0-auc:0.89848\tvalidation_1-auc:0.84151\n",
            "[133]\tvalidation_0-auc:0.89862\tvalidation_1-auc:0.84142\n",
            "[134]\tvalidation_0-auc:0.89871\tvalidation_1-auc:0.84153\n",
            "[135]\tvalidation_0-auc:0.89883\tvalidation_1-auc:0.84138\n",
            "[136]\tvalidation_0-auc:0.89902\tvalidation_1-auc:0.84136\n",
            "[137]\tvalidation_0-auc:0.89911\tvalidation_1-auc:0.84141\n",
            "[138]\tvalidation_0-auc:0.89949\tvalidation_1-auc:0.84139\n",
            "[139]\tvalidation_0-auc:0.89966\tvalidation_1-auc:0.84143\n",
            "[140]\tvalidation_0-auc:0.89975\tvalidation_1-auc:0.84125\n",
            "[141]\tvalidation_0-auc:0.89984\tvalidation_1-auc:0.84121\n",
            "[142]\tvalidation_0-auc:0.90001\tvalidation_1-auc:0.84117\n",
            "[143]\tvalidation_0-auc:0.90008\tvalidation_1-auc:0.84103\n",
            "[144]\tvalidation_0-auc:0.90017\tvalidation_1-auc:0.84104\n",
            "[145]\tvalidation_0-auc:0.90027\tvalidation_1-auc:0.84098\n",
            "[146]\tvalidation_0-auc:0.90044\tvalidation_1-auc:0.84087\n",
            "[147]\tvalidation_0-auc:0.90051\tvalidation_1-auc:0.84082\n",
            "[148]\tvalidation_0-auc:0.90071\tvalidation_1-auc:0.84089\n",
            "[149]\tvalidation_0-auc:0.90082\tvalidation_1-auc:0.84082\n",
            "[150]\tvalidation_0-auc:0.90120\tvalidation_1-auc:0.84057\n",
            "[151]\tvalidation_0-auc:0.90123\tvalidation_1-auc:0.84064\n",
            "[152]\tvalidation_0-auc:0.90127\tvalidation_1-auc:0.84064\n",
            "[153]\tvalidation_0-auc:0.90134\tvalidation_1-auc:0.84066\n",
            "[154]\tvalidation_0-auc:0.90144\tvalidation_1-auc:0.84058\n",
            "[155]\tvalidation_0-auc:0.90158\tvalidation_1-auc:0.84045\n",
            "[156]\tvalidation_0-auc:0.90172\tvalidation_1-auc:0.84055\n",
            "[157]\tvalidation_0-auc:0.90184\tvalidation_1-auc:0.84042\n",
            "[158]\tvalidation_0-auc:0.90192\tvalidation_1-auc:0.84039\n",
            "[159]\tvalidation_0-auc:0.90199\tvalidation_1-auc:0.84024\n",
            "[160]\tvalidation_0-auc:0.90207\tvalidation_1-auc:0.84006\n",
            "[161]\tvalidation_0-auc:0.90217\tvalidation_1-auc:0.83992\n",
            "[162]\tvalidation_0-auc:0.90227\tvalidation_1-auc:0.83993\n",
            "[163]\tvalidation_0-auc:0.90240\tvalidation_1-auc:0.83986\n",
            "[164]\tvalidation_0-auc:0.90252\tvalidation_1-auc:0.83976\n",
            "[165]\tvalidation_0-auc:0.90266\tvalidation_1-auc:0.83969\n",
            "[166]\tvalidation_0-auc:0.90269\tvalidation_1-auc:0.83972\n",
            "[167]\tvalidation_0-auc:0.90277\tvalidation_1-auc:0.83969\n",
            "[168]\tvalidation_0-auc:0.90284\tvalidation_1-auc:0.83962\n",
            "[169]\tvalidation_0-auc:0.90311\tvalidation_1-auc:0.83942\n",
            "[170]\tvalidation_0-auc:0.90316\tvalidation_1-auc:0.83945\n",
            "[171]\tvalidation_0-auc:0.90322\tvalidation_1-auc:0.83940\n",
            "[172]\tvalidation_0-auc:0.90346\tvalidation_1-auc:0.83929\n",
            "[173]\tvalidation_0-auc:0.90356\tvalidation_1-auc:0.83929\n",
            "[174]\tvalidation_0-auc:0.90363\tvalidation_1-auc:0.83908\n",
            "[175]\tvalidation_0-auc:0.90367\tvalidation_1-auc:0.83913\n",
            "[176]\tvalidation_0-auc:0.90377\tvalidation_1-auc:0.83917\n",
            "[177]\tvalidation_0-auc:0.90380\tvalidation_1-auc:0.83923\n",
            "[178]\tvalidation_0-auc:0.90396\tvalidation_1-auc:0.83918\n",
            "[179]\tvalidation_0-auc:0.90401\tvalidation_1-auc:0.83905\n",
            "[180]\tvalidation_0-auc:0.90408\tvalidation_1-auc:0.83904\n",
            "[181]\tvalidation_0-auc:0.90422\tvalidation_1-auc:0.83908\n",
            "[182]\tvalidation_0-auc:0.90433\tvalidation_1-auc:0.83913\n",
            "[183]\tvalidation_0-auc:0.90437\tvalidation_1-auc:0.83915\n",
            "[184]\tvalidation_0-auc:0.90460\tvalidation_1-auc:0.83900\n",
            "[185]\tvalidation_0-auc:0.90472\tvalidation_1-auc:0.83881\n",
            "[186]\tvalidation_0-auc:0.90482\tvalidation_1-auc:0.83888\n",
            "[187]\tvalidation_0-auc:0.90487\tvalidation_1-auc:0.83879\n",
            "[188]\tvalidation_0-auc:0.90491\tvalidation_1-auc:0.83878\n",
            "[189]\tvalidation_0-auc:0.90504\tvalidation_1-auc:0.83864\n",
            "[190]\tvalidation_0-auc:0.90509\tvalidation_1-auc:0.83863\n",
            "[191]\tvalidation_0-auc:0.90514\tvalidation_1-auc:0.83861\n",
            "[192]\tvalidation_0-auc:0.90515\tvalidation_1-auc:0.83861\n",
            "[193]\tvalidation_0-auc:0.90519\tvalidation_1-auc:0.83857\n",
            "[194]\tvalidation_0-auc:0.90532\tvalidation_1-auc:0.83859\n",
            "[195]\tvalidation_0-auc:0.90535\tvalidation_1-auc:0.83854\n",
            "[196]\tvalidation_0-auc:0.90556\tvalidation_1-auc:0.83842\n",
            "[197]\tvalidation_0-auc:0.90560\tvalidation_1-auc:0.83845\n",
            "[198]\tvalidation_0-auc:0.90563\tvalidation_1-auc:0.83843\n",
            "[199]\tvalidation_0-auc:0.90567\tvalidation_1-auc:0.83837\n",
            "[200]\tvalidation_0-auc:0.90569\tvalidation_1-auc:0.83843\n",
            "[201]\tvalidation_0-auc:0.90575\tvalidation_1-auc:0.83842\n",
            "[202]\tvalidation_0-auc:0.90597\tvalidation_1-auc:0.83831\n",
            "[203]\tvalidation_0-auc:0.90601\tvalidation_1-auc:0.83824\n"
          ]
        },
        {
          "output_type": "execute_result",
          "data": {
            "text/plain": [
              "XGBClassifier(base_score=None, booster=None, callbacks=None,\n",
              "              colsample_bylevel=None, colsample_bynode=None,\n",
              "              colsample_bytree=None, early_stopping_rounds=None,\n",
              "              enable_categorical=False, eval_metric=None, feature_types=None,\n",
              "              gamma=None, gpu_id=None, grow_policy=None, importance_type=None,\n",
              "              interaction_constraints=None, learning_rate=0.05, max_bin=None,\n",
              "              max_cat_threshold=None, max_cat_to_onehot=None,\n",
              "              max_delta_step=None, max_depth=None, max_leaves=None,\n",
              "              min_child_weight=None, missing=nan, monotone_constraints=None,\n",
              "              n_estimators=500, n_jobs=None, num_parallel_tree=None,\n",
              "              predictor=None, random_state=None, ...)"
            ],
            "text/html": [
              "<style>#sk-container-id-2 {color: black;background-color: white;}#sk-container-id-2 pre{padding: 0;}#sk-container-id-2 div.sk-toggleable {background-color: white;}#sk-container-id-2 label.sk-toggleable__label {cursor: pointer;display: block;width: 100%;margin-bottom: 0;padding: 0.3em;box-sizing: border-box;text-align: center;}#sk-container-id-2 label.sk-toggleable__label-arrow:before {content: \"▸\";float: left;margin-right: 0.25em;color: #696969;}#sk-container-id-2 label.sk-toggleable__label-arrow:hover:before {color: black;}#sk-container-id-2 div.sk-estimator:hover label.sk-toggleable__label-arrow:before {color: black;}#sk-container-id-2 div.sk-toggleable__content {max-height: 0;max-width: 0;overflow: hidden;text-align: left;background-color: #f0f8ff;}#sk-container-id-2 div.sk-toggleable__content pre {margin: 0.2em;color: black;border-radius: 0.25em;background-color: #f0f8ff;}#sk-container-id-2 input.sk-toggleable__control:checked~div.sk-toggleable__content {max-height: 200px;max-width: 100%;overflow: auto;}#sk-container-id-2 input.sk-toggleable__control:checked~label.sk-toggleable__label-arrow:before {content: \"▾\";}#sk-container-id-2 div.sk-estimator input.sk-toggleable__control:checked~label.sk-toggleable__label {background-color: #d4ebff;}#sk-container-id-2 div.sk-label input.sk-toggleable__control:checked~label.sk-toggleable__label {background-color: #d4ebff;}#sk-container-id-2 input.sk-hidden--visually {border: 0;clip: rect(1px 1px 1px 1px);clip: rect(1px, 1px, 1px, 1px);height: 1px;margin: -1px;overflow: hidden;padding: 0;position: absolute;width: 1px;}#sk-container-id-2 div.sk-estimator {font-family: monospace;background-color: #f0f8ff;border: 1px dotted black;border-radius: 0.25em;box-sizing: border-box;margin-bottom: 0.5em;}#sk-container-id-2 div.sk-estimator:hover {background-color: #d4ebff;}#sk-container-id-2 div.sk-parallel-item::after {content: \"\";width: 100%;border-bottom: 1px solid gray;flex-grow: 1;}#sk-container-id-2 div.sk-label:hover label.sk-toggleable__label {background-color: #d4ebff;}#sk-container-id-2 div.sk-serial::before {content: \"\";position: absolute;border-left: 1px solid gray;box-sizing: border-box;top: 0;bottom: 0;left: 50%;z-index: 0;}#sk-container-id-2 div.sk-serial {display: flex;flex-direction: column;align-items: center;background-color: white;padding-right: 0.2em;padding-left: 0.2em;position: relative;}#sk-container-id-2 div.sk-item {position: relative;z-index: 1;}#sk-container-id-2 div.sk-parallel {display: flex;align-items: stretch;justify-content: center;background-color: white;position: relative;}#sk-container-id-2 div.sk-item::before, #sk-container-id-2 div.sk-parallel-item::before {content: \"\";position: absolute;border-left: 1px solid gray;box-sizing: border-box;top: 0;bottom: 0;left: 50%;z-index: -1;}#sk-container-id-2 div.sk-parallel-item {display: flex;flex-direction: column;z-index: 1;position: relative;background-color: white;}#sk-container-id-2 div.sk-parallel-item:first-child::after {align-self: flex-end;width: 50%;}#sk-container-id-2 div.sk-parallel-item:last-child::after {align-self: flex-start;width: 50%;}#sk-container-id-2 div.sk-parallel-item:only-child::after {width: 0;}#sk-container-id-2 div.sk-dashed-wrapped {border: 1px dashed gray;margin: 0 0.4em 0.5em 0.4em;box-sizing: border-box;padding-bottom: 0.4em;background-color: white;}#sk-container-id-2 div.sk-label label {font-family: monospace;font-weight: bold;display: inline-block;line-height: 1.2em;}#sk-container-id-2 div.sk-label-container {text-align: center;}#sk-container-id-2 div.sk-container {/* jupyter's `normalize.less` sets `[hidden] { display: none; }` but bootstrap.min.css set `[hidden] { display: none !important; }` so we also need the `!important` here to be able to override the default hidden behavior on the sphinx rendered scikit-learn.org. See: https://github.com/scikit-learn/scikit-learn/issues/21755 */display: inline-block !important;position: relative;}#sk-container-id-2 div.sk-text-repr-fallback {display: none;}</style><div id=\"sk-container-id-2\" class=\"sk-top-container\"><div class=\"sk-text-repr-fallback\"><pre>XGBClassifier(base_score=None, booster=None, callbacks=None,\n",
              "              colsample_bylevel=None, colsample_bynode=None,\n",
              "              colsample_bytree=None, early_stopping_rounds=None,\n",
              "              enable_categorical=False, eval_metric=None, feature_types=None,\n",
              "              gamma=None, gpu_id=None, grow_policy=None, importance_type=None,\n",
              "              interaction_constraints=None, learning_rate=0.05, max_bin=None,\n",
              "              max_cat_threshold=None, max_cat_to_onehot=None,\n",
              "              max_delta_step=None, max_depth=None, max_leaves=None,\n",
              "              min_child_weight=None, missing=nan, monotone_constraints=None,\n",
              "              n_estimators=500, n_jobs=None, num_parallel_tree=None,\n",
              "              predictor=None, random_state=None, ...)</pre><b>In a Jupyter environment, please rerun this cell to show the HTML representation or trust the notebook. <br />On GitHub, the HTML representation is unable to render, please try loading this page with nbviewer.org.</b></div><div class=\"sk-container\" hidden><div class=\"sk-item\"><div class=\"sk-estimator sk-toggleable\"><input class=\"sk-toggleable__control sk-hidden--visually\" id=\"sk-estimator-id-2\" type=\"checkbox\" checked><label for=\"sk-estimator-id-2\" class=\"sk-toggleable__label sk-toggleable__label-arrow\">XGBClassifier</label><div class=\"sk-toggleable__content\"><pre>XGBClassifier(base_score=None, booster=None, callbacks=None,\n",
              "              colsample_bylevel=None, colsample_bynode=None,\n",
              "              colsample_bytree=None, early_stopping_rounds=None,\n",
              "              enable_categorical=False, eval_metric=None, feature_types=None,\n",
              "              gamma=None, gpu_id=None, grow_policy=None, importance_type=None,\n",
              "              interaction_constraints=None, learning_rate=0.05, max_bin=None,\n",
              "              max_cat_threshold=None, max_cat_to_onehot=None,\n",
              "              max_delta_step=None, max_depth=None, max_leaves=None,\n",
              "              min_child_weight=None, missing=nan, monotone_constraints=None,\n",
              "              n_estimators=500, n_jobs=None, num_parallel_tree=None,\n",
              "              predictor=None, random_state=None, ...)</pre></div></div></div></div></div>"
            ]
          },
          "metadata": {},
          "execution_count": 29
        }
      ]
    },
    {
      "cell_type": "code",
      "source": [
        "pred = model.predict(x_test)\n",
        "pred_proba = model.predict_proba(x_test)[:,1]\n",
        "print(\"평가:\",accuracy_score(pred,y_test))\n",
        "print(\"AUC:\",roc_auc_score(y_test,pred_proba))"
      ],
      "metadata": {
        "colab": {
          "base_uri": "https://localhost:8080/"
        },
        "id": "tvEty6zdmAs6",
        "outputId": "2ad9d594-b2cc-4d47-fbc4-5039c34a91af"
      },
      "execution_count": 36,
      "outputs": [
        {
          "output_type": "stream",
          "name": "stdout",
          "text": [
            "평가: 0.9615890555117075\n",
            "AUC: 0.8354401192016512\n"
          ]
        }
      ]
    },
    {
      "cell_type": "code",
      "source": [
        "from hyperopt import hp"
      ],
      "metadata": {
        "id": "7Viw278hpr2S"
      },
      "execution_count": 41,
      "outputs": []
    },
    {
      "cell_type": "code",
      "source": [
        "space = {\n",
        "    'max_depth':hp.quniform('max_depth',5,15,1),\n",
        "    'min_child_weight':hp.quniform('min_child_weight',1,6,1),\n",
        "    'colsample_bytree':hp.uniform('colsample_bytree',0.5,0.95),\n",
        "    'learning_rate':hp.uniform('learning_rate',0.01,0.2)\n",
        "}"
      ],
      "metadata": {
        "id": "mg86pWL1jxEY"
      },
      "execution_count": 49,
      "outputs": []
    },
    {
      "cell_type": "code",
      "source": [
        "from sklearn.model_selection import KFold\n",
        "import numpy as np"
      ],
      "metadata": {
        "id": "kKlHuXOzqboJ"
      },
      "execution_count": 45,
      "outputs": []
    },
    {
      "cell_type": "code",
      "source": [
        "def objective_fun(space):\n",
        "  model = XGBClassifier(n_estimators = 10,\n",
        "                        max_depth = int(space['max_depth']),\n",
        "                        min_child_weight = int(space['min_child_weight']),\n",
        "                        colsample_bytree = space['colsample_bytree'],\n",
        "                        learning_rate = space['learning_rate'])\n",
        "  roc_auc_list=[]\n",
        "  kf = KFold(n_splits=3)\n",
        "  for tr_ind, val_ind in kf.split(x_train):\n",
        "    x_tr = x_train.iloc[tr_ind]\n",
        "    y_tr = y_train.iloc[tr_ind]\n",
        "    x_val = x_train.iloc[val_ind]\n",
        "    y_val = y_train.iloc[val_ind]\n",
        "\n",
        "    model.fit(x_tr,y_tr,\n",
        "          early_stopping_rounds=10,\n",
        "          eval_metric='auc',\n",
        "          eval_set=[(x_tr,y_tr),(x_val,y_val)]\n",
        "          )\n",
        "    pp = model.predict_proba(x_val)[:,1]\n",
        "    score = roc_auc_score(y_val,pp)\n",
        "    roc_auc_list.append(score)\n",
        "  return -1*np.mean(roc_auc_list)"
      ],
      "metadata": {
        "id": "bPdvs8oJpn-b"
      },
      "execution_count": 52,
      "outputs": []
    },
    {
      "cell_type": "code",
      "source": [
        "from hyperopt import fmin,tpe,Trials"
      ],
      "metadata": {
        "id": "EUk3X8bordQI"
      },
      "execution_count": 46,
      "outputs": []
    },
    {
      "cell_type": "code",
      "source": [
        "trials = Trials()\n",
        "best = fmin(fn = objective_fun,\n",
        "            space = space,\n",
        "            algo = tpe.suggest,\n",
        "            max_evals=50,\n",
        "            trials = trials)\n",
        "print(best)"
      ],
      "metadata": {
        "colab": {
          "base_uri": "https://localhost:8080/"
        },
        "id": "rhR-1LeQr0YF",
        "outputId": "2a69557b-ef81-4c70-95db-38490cbe6a3a"
      },
      "execution_count": 54,
      "outputs": [
        {
          "output_type": "stream",
          "name": "stdout",
          "text": [
            "[0]\tvalidation_0-auc:0.83063\tvalidation_1-auc:0.81062\n",
            "[1]\tvalidation_0-auc:0.82138\tvalidation_1-auc:0.79602\n",
            "[2]\tvalidation_0-auc:0.83617\tvalidation_1-auc:0.81111\n",
            "[3]\tvalidation_0-auc:0.83914\tvalidation_1-auc:0.81184\n",
            "[4]\tvalidation_0-auc:0.84138\tvalidation_1-auc:0.81377\n",
            "[5]\tvalidation_0-auc:0.84290\tvalidation_1-auc:0.81663\n",
            "[6]\tvalidation_0-auc:0.84497\tvalidation_1-auc:0.81756\n",
            "[7]\tvalidation_0-auc:0.84768\tvalidation_1-auc:0.81831\n",
            "[8]\tvalidation_0-auc:0.84904\tvalidation_1-auc:0.81974\n",
            "[9]\tvalidation_0-auc:0.85175\tvalidation_1-auc:0.81970\n",
            "  0%|          | 0/50 [00:06<?, ?trial/s, best loss=?]"
          ]
        },
        {
          "output_type": "stream",
          "name": "stderr",
          "text": [
            "/usr/local/lib/python3.10/dist-packages/xgboost/sklearn.py:835: UserWarning: `eval_metric` in `fit` method is deprecated for better compatibility with scikit-learn, use `eval_metric` in constructor or`set_params` instead.\n",
            "  warnings.warn(\n",
            "\n",
            "/usr/local/lib/python3.10/dist-packages/xgboost/sklearn.py:835: UserWarning: `early_stopping_rounds` in `fit` method is deprecated for better compatibility with scikit-learn, use `early_stopping_rounds` in constructor or`set_params` instead.\n",
            "  warnings.warn(\n",
            "\n"
          ]
        },
        {
          "output_type": "stream",
          "name": "stdout",
          "text": [
            "[0]\tvalidation_0-auc:0.82782\tvalidation_1-auc:0.81167\n",
            "[1]\tvalidation_0-auc:0.81827\tvalidation_1-auc:0.80164\n",
            "[2]\tvalidation_0-auc:0.82901\tvalidation_1-auc:0.81432\n",
            "[3]\tvalidation_0-auc:0.83478\tvalidation_1-auc:0.81984\n",
            "[4]\tvalidation_0-auc:0.83884\tvalidation_1-auc:0.82290\n",
            "[5]\tvalidation_0-auc:0.84080\tvalidation_1-auc:0.82362\n",
            "[6]\tvalidation_0-auc:0.84309\tvalidation_1-auc:0.82547\n",
            "[7]\tvalidation_0-auc:0.84388\tvalidation_1-auc:0.82589\n",
            "[8]\tvalidation_0-auc:0.84462\tvalidation_1-auc:0.82599\n",
            "[9]\tvalidation_0-auc:0.84679\tvalidation_1-auc:0.82803\n",
            "  0%|          | 0/50 [00:15<?, ?trial/s, best loss=?]"
          ]
        },
        {
          "output_type": "stream",
          "name": "stderr",
          "text": [
            "/usr/local/lib/python3.10/dist-packages/xgboost/sklearn.py:835: UserWarning: `eval_metric` in `fit` method is deprecated for better compatibility with scikit-learn, use `eval_metric` in constructor or`set_params` instead.\n",
            "  warnings.warn(\n",
            "\n",
            "/usr/local/lib/python3.10/dist-packages/xgboost/sklearn.py:835: UserWarning: `early_stopping_rounds` in `fit` method is deprecated for better compatibility with scikit-learn, use `early_stopping_rounds` in constructor or`set_params` instead.\n",
            "  warnings.warn(\n",
            "\n"
          ]
        },
        {
          "output_type": "stream",
          "name": "stdout",
          "text": [
            "[0]\tvalidation_0-auc:0.82687\tvalidation_1-auc:0.80891\n",
            "[1]\tvalidation_0-auc:0.82028\tvalidation_1-auc:0.80087\n",
            "[2]\tvalidation_0-auc:0.83528\tvalidation_1-auc:0.81442\n",
            "[3]\tvalidation_0-auc:0.84120\tvalidation_1-auc:0.81710\n",
            "[4]\tvalidation_0-auc:0.84368\tvalidation_1-auc:0.81784\n",
            "[5]\tvalidation_0-auc:0.84625\tvalidation_1-auc:0.81774\n",
            "[6]\tvalidation_0-auc:0.84727\tvalidation_1-auc:0.81910\n",
            "[7]\tvalidation_0-auc:0.84766\tvalidation_1-auc:0.81931\n",
            "[8]\tvalidation_0-auc:0.84962\tvalidation_1-auc:0.82106\n",
            "[9]\tvalidation_0-auc:0.85156\tvalidation_1-auc:0.82267\n",
            "  2%|▏         | 1/50 [00:24<20:02, 24.55s/trial, best loss: -0.8234807460285926]"
          ]
        },
        {
          "output_type": "stream",
          "name": "stderr",
          "text": [
            "/usr/local/lib/python3.10/dist-packages/xgboost/sklearn.py:835: UserWarning: `eval_metric` in `fit` method is deprecated for better compatibility with scikit-learn, use `eval_metric` in constructor or`set_params` instead.\n",
            "  warnings.warn(\n",
            "\n",
            "/usr/local/lib/python3.10/dist-packages/xgboost/sklearn.py:835: UserWarning: `early_stopping_rounds` in `fit` method is deprecated for better compatibility with scikit-learn, use `early_stopping_rounds` in constructor or`set_params` instead.\n",
            "  warnings.warn(\n",
            "\n"
          ]
        },
        {
          "output_type": "stream",
          "name": "stdout",
          "text": [
            "[0]\tvalidation_0-auc:0.83171\tvalidation_1-auc:0.81096\n",
            "[1]\tvalidation_0-auc:0.82578\tvalidation_1-auc:0.80032\n",
            "[2]\tvalidation_0-auc:0.83517\tvalidation_1-auc:0.81042\n",
            "[3]\tvalidation_0-auc:0.83821\tvalidation_1-auc:0.81106\n",
            "[4]\tvalidation_0-auc:0.84049\tvalidation_1-auc:0.81404\n",
            "[5]\tvalidation_0-auc:0.84222\tvalidation_1-auc:0.81679\n",
            "[6]\tvalidation_0-auc:0.84346\tvalidation_1-auc:0.81746\n",
            "[7]\tvalidation_0-auc:0.84355\tvalidation_1-auc:0.81729\n",
            "[8]\tvalidation_0-auc:0.84459\tvalidation_1-auc:0.81808\n",
            "[9]\tvalidation_0-auc:0.84462\tvalidation_1-auc:0.81781\n",
            "  2%|▏         | 1/50 [00:33<20:02, 24.55s/trial, best loss: -0.8234807460285926]"
          ]
        },
        {
          "output_type": "stream",
          "name": "stderr",
          "text": [
            "/usr/local/lib/python3.10/dist-packages/xgboost/sklearn.py:835: UserWarning: `eval_metric` in `fit` method is deprecated for better compatibility with scikit-learn, use `eval_metric` in constructor or`set_params` instead.\n",
            "  warnings.warn(\n",
            "\n",
            "/usr/local/lib/python3.10/dist-packages/xgboost/sklearn.py:835: UserWarning: `early_stopping_rounds` in `fit` method is deprecated for better compatibility with scikit-learn, use `early_stopping_rounds` in constructor or`set_params` instead.\n",
            "  warnings.warn(\n",
            "\n"
          ]
        },
        {
          "output_type": "stream",
          "name": "stdout",
          "text": [
            "[0]\tvalidation_0-auc:0.82787\tvalidation_1-auc:0.81061\n",
            "[1]\tvalidation_0-auc:0.82028\tvalidation_1-auc:0.80251\n",
            "[2]\tvalidation_0-auc:0.82682\tvalidation_1-auc:0.80906\n",
            "[3]\tvalidation_0-auc:0.82997\tvalidation_1-auc:0.81375\n",
            "[4]\tvalidation_0-auc:0.83297\tvalidation_1-auc:0.81762\n",
            "[5]\tvalidation_0-auc:0.83381\tvalidation_1-auc:0.81834\n",
            "[6]\tvalidation_0-auc:0.83458\tvalidation_1-auc:0.81871\n",
            "[7]\tvalidation_0-auc:0.83772\tvalidation_1-auc:0.82143\n",
            "[8]\tvalidation_0-auc:0.83801\tvalidation_1-auc:0.82174\n",
            "[9]\tvalidation_0-auc:0.83857\tvalidation_1-auc:0.82251\n",
            "  2%|▏         | 1/50 [00:44<20:02, 24.55s/trial, best loss: -0.8234807460285926]"
          ]
        },
        {
          "output_type": "stream",
          "name": "stderr",
          "text": [
            "/usr/local/lib/python3.10/dist-packages/xgboost/sklearn.py:835: UserWarning: `eval_metric` in `fit` method is deprecated for better compatibility with scikit-learn, use `eval_metric` in constructor or`set_params` instead.\n",
            "  warnings.warn(\n",
            "\n",
            "/usr/local/lib/python3.10/dist-packages/xgboost/sklearn.py:835: UserWarning: `early_stopping_rounds` in `fit` method is deprecated for better compatibility with scikit-learn, use `early_stopping_rounds` in constructor or`set_params` instead.\n",
            "  warnings.warn(\n",
            "\n"
          ]
        },
        {
          "output_type": "stream",
          "name": "stdout",
          "text": [
            "[0]\tvalidation_0-auc:0.82271\tvalidation_1-auc:0.80289\n",
            "[1]\tvalidation_0-auc:0.82455\tvalidation_1-auc:0.80407\n",
            "[2]\tvalidation_0-auc:0.83222\tvalidation_1-auc:0.80974\n",
            "[3]\tvalidation_0-auc:0.83714\tvalidation_1-auc:0.81538\n",
            "[4]\tvalidation_0-auc:0.83891\tvalidation_1-auc:0.81642\n",
            "[5]\tvalidation_0-auc:0.83951\tvalidation_1-auc:0.81846\n",
            "[6]\tvalidation_0-auc:0.84052\tvalidation_1-auc:0.81865\n",
            "[7]\tvalidation_0-auc:0.84004\tvalidation_1-auc:0.81879\n",
            "[8]\tvalidation_0-auc:0.84176\tvalidation_1-auc:0.81999\n",
            "[9]\tvalidation_0-auc:0.84202\tvalidation_1-auc:0.81979\n",
            "  4%|▍         | 2/50 [00:54<22:24, 28.02s/trial, best loss: -0.8234807460285926]"
          ]
        },
        {
          "output_type": "stream",
          "name": "stderr",
          "text": [
            "/usr/local/lib/python3.10/dist-packages/xgboost/sklearn.py:835: UserWarning: `eval_metric` in `fit` method is deprecated for better compatibility with scikit-learn, use `eval_metric` in constructor or`set_params` instead.\n",
            "  warnings.warn(\n",
            "\n",
            "/usr/local/lib/python3.10/dist-packages/xgboost/sklearn.py:835: UserWarning: `early_stopping_rounds` in `fit` method is deprecated for better compatibility with scikit-learn, use `early_stopping_rounds` in constructor or`set_params` instead.\n",
            "  warnings.warn(\n",
            "\n"
          ]
        },
        {
          "output_type": "stream",
          "name": "stdout",
          "text": [
            "[0]\tvalidation_0-auc:0.83593\tvalidation_1-auc:0.81021\n",
            "[1]\tvalidation_0-auc:0.83510\tvalidation_1-auc:0.79959\n",
            "[2]\tvalidation_0-auc:0.85346\tvalidation_1-auc:0.81006\n",
            "[3]\tvalidation_0-auc:0.86194\tvalidation_1-auc:0.81579\n",
            "[4]\tvalidation_0-auc:0.87501\tvalidation_1-auc:0.82070\n",
            "[5]\tvalidation_0-auc:0.88051\tvalidation_1-auc:0.82154\n",
            "[6]\tvalidation_0-auc:0.88775\tvalidation_1-auc:0.82510\n",
            "[7]\tvalidation_0-auc:0.89542\tvalidation_1-auc:0.82513\n",
            "[8]\tvalidation_0-auc:0.90152\tvalidation_1-auc:0.82633\n",
            "[9]\tvalidation_0-auc:0.90699\tvalidation_1-auc:0.82699\n",
            "  4%|▍         | 2/50 [01:09<22:24, 28.02s/trial, best loss: -0.8234807460285926]"
          ]
        },
        {
          "output_type": "stream",
          "name": "stderr",
          "text": [
            "/usr/local/lib/python3.10/dist-packages/xgboost/sklearn.py:835: UserWarning: `eval_metric` in `fit` method is deprecated for better compatibility with scikit-learn, use `eval_metric` in constructor or`set_params` instead.\n",
            "  warnings.warn(\n",
            "\n",
            "/usr/local/lib/python3.10/dist-packages/xgboost/sklearn.py:835: UserWarning: `early_stopping_rounds` in `fit` method is deprecated for better compatibility with scikit-learn, use `early_stopping_rounds` in constructor or`set_params` instead.\n",
            "  warnings.warn(\n",
            "\n"
          ]
        },
        {
          "output_type": "stream",
          "name": "stdout",
          "text": [
            "[0]\tvalidation_0-auc:0.83433\tvalidation_1-auc:0.81065\n",
            "[1]\tvalidation_0-auc:0.82877\tvalidation_1-auc:0.80466\n",
            "[2]\tvalidation_0-auc:0.84827\tvalidation_1-auc:0.81822\n",
            "[3]\tvalidation_0-auc:0.85859\tvalidation_1-auc:0.82395\n",
            "[4]\tvalidation_0-auc:0.86659\tvalidation_1-auc:0.82826\n",
            "[5]\tvalidation_0-auc:0.87379\tvalidation_1-auc:0.82901\n",
            "[6]\tvalidation_0-auc:0.87734\tvalidation_1-auc:0.82964\n",
            "[7]\tvalidation_0-auc:0.88317\tvalidation_1-auc:0.82935\n",
            "[8]\tvalidation_0-auc:0.89356\tvalidation_1-auc:0.82821\n",
            "[9]\tvalidation_0-auc:0.89832\tvalidation_1-auc:0.82805\n",
            "  4%|▍         | 2/50 [01:23<22:24, 28.02s/trial, best loss: -0.8234807460285926]"
          ]
        },
        {
          "output_type": "stream",
          "name": "stderr",
          "text": [
            "/usr/local/lib/python3.10/dist-packages/xgboost/sklearn.py:835: UserWarning: `eval_metric` in `fit` method is deprecated for better compatibility with scikit-learn, use `eval_metric` in constructor or`set_params` instead.\n",
            "  warnings.warn(\n",
            "\n",
            "/usr/local/lib/python3.10/dist-packages/xgboost/sklearn.py:835: UserWarning: `early_stopping_rounds` in `fit` method is deprecated for better compatibility with scikit-learn, use `early_stopping_rounds` in constructor or`set_params` instead.\n",
            "  warnings.warn(\n",
            "\n"
          ]
        },
        {
          "output_type": "stream",
          "name": "stdout",
          "text": [
            "[0]\tvalidation_0-auc:0.83143\tvalidation_1-auc:0.80281\n",
            "[1]\tvalidation_0-auc:0.83788\tvalidation_1-auc:0.80026\n",
            "[2]\tvalidation_0-auc:0.85744\tvalidation_1-auc:0.81283\n",
            "[3]\tvalidation_0-auc:0.87039\tvalidation_1-auc:0.82018\n",
            "[4]\tvalidation_0-auc:0.87878\tvalidation_1-auc:0.82124\n",
            "[5]\tvalidation_0-auc:0.88389\tvalidation_1-auc:0.82260\n",
            "[6]\tvalidation_0-auc:0.88646\tvalidation_1-auc:0.82417\n",
            "[7]\tvalidation_0-auc:0.89240\tvalidation_1-auc:0.82454\n",
            "[8]\tvalidation_0-auc:0.89674\tvalidation_1-auc:0.82487\n",
            "[9]\tvalidation_0-auc:0.90150\tvalidation_1-auc:0.82642\n",
            "  6%|▌         | 3/50 [01:38<27:26, 35.04s/trial, best loss: -0.8276838002683364]"
          ]
        },
        {
          "output_type": "stream",
          "name": "stderr",
          "text": [
            "/usr/local/lib/python3.10/dist-packages/xgboost/sklearn.py:835: UserWarning: `eval_metric` in `fit` method is deprecated for better compatibility with scikit-learn, use `eval_metric` in constructor or`set_params` instead.\n",
            "  warnings.warn(\n",
            "\n",
            "/usr/local/lib/python3.10/dist-packages/xgboost/sklearn.py:835: UserWarning: `early_stopping_rounds` in `fit` method is deprecated for better compatibility with scikit-learn, use `early_stopping_rounds` in constructor or`set_params` instead.\n",
            "  warnings.warn(\n",
            "\n"
          ]
        },
        {
          "output_type": "stream",
          "name": "stdout",
          "text": [
            "[0]\tvalidation_0-auc:0.83234\tvalidation_1-auc:0.81065\n",
            "[1]\tvalidation_0-auc:0.82301\tvalidation_1-auc:0.79706\n",
            "[2]\tvalidation_0-auc:0.83521\tvalidation_1-auc:0.80802\n",
            "[3]\tvalidation_0-auc:0.84044\tvalidation_1-auc:0.81058\n",
            "[4]\tvalidation_0-auc:0.84497\tvalidation_1-auc:0.81394\n",
            "[5]\tvalidation_0-auc:0.84576\tvalidation_1-auc:0.81559\n",
            "[6]\tvalidation_0-auc:0.84649\tvalidation_1-auc:0.81646\n",
            "[7]\tvalidation_0-auc:0.84645\tvalidation_1-auc:0.81636\n",
            "[8]\tvalidation_0-auc:0.84880\tvalidation_1-auc:0.81697\n",
            "[9]\tvalidation_0-auc:0.84912\tvalidation_1-auc:0.81708\n",
            "  6%|▌         | 3/50 [01:49<27:26, 35.04s/trial, best loss: -0.8276838002683364]"
          ]
        },
        {
          "output_type": "stream",
          "name": "stderr",
          "text": [
            "/usr/local/lib/python3.10/dist-packages/xgboost/sklearn.py:835: UserWarning: `eval_metric` in `fit` method is deprecated for better compatibility with scikit-learn, use `eval_metric` in constructor or`set_params` instead.\n",
            "  warnings.warn(\n",
            "\n",
            "/usr/local/lib/python3.10/dist-packages/xgboost/sklearn.py:835: UserWarning: `early_stopping_rounds` in `fit` method is deprecated for better compatibility with scikit-learn, use `early_stopping_rounds` in constructor or`set_params` instead.\n",
            "  warnings.warn(\n",
            "\n"
          ]
        },
        {
          "output_type": "stream",
          "name": "stdout",
          "text": [
            "[0]\tvalidation_0-auc:0.82925\tvalidation_1-auc:0.81324\n",
            "[1]\tvalidation_0-auc:0.82101\tvalidation_1-auc:0.80387\n",
            "[2]\tvalidation_0-auc:0.82883\tvalidation_1-auc:0.81156\n",
            "[3]\tvalidation_0-auc:0.83295\tvalidation_1-auc:0.81576\n",
            "[4]\tvalidation_0-auc:0.83824\tvalidation_1-auc:0.82079\n",
            "[5]\tvalidation_0-auc:0.84020\tvalidation_1-auc:0.82171\n",
            "[6]\tvalidation_0-auc:0.84342\tvalidation_1-auc:0.82552\n",
            "[7]\tvalidation_0-auc:0.84334\tvalidation_1-auc:0.82434\n",
            "[8]\tvalidation_0-auc:0.84307\tvalidation_1-auc:0.82396\n",
            "[9]\tvalidation_0-auc:0.84364\tvalidation_1-auc:0.82461\n",
            "  6%|▌         | 3/50 [01:58<27:26, 35.04s/trial, best loss: -0.8276838002683364]"
          ]
        },
        {
          "output_type": "stream",
          "name": "stderr",
          "text": [
            "/usr/local/lib/python3.10/dist-packages/xgboost/sklearn.py:835: UserWarning: `eval_metric` in `fit` method is deprecated for better compatibility with scikit-learn, use `eval_metric` in constructor or`set_params` instead.\n",
            "  warnings.warn(\n",
            "\n",
            "/usr/local/lib/python3.10/dist-packages/xgboost/sklearn.py:835: UserWarning: `early_stopping_rounds` in `fit` method is deprecated for better compatibility with scikit-learn, use `early_stopping_rounds` in constructor or`set_params` instead.\n",
            "  warnings.warn(\n",
            "\n"
          ]
        },
        {
          "output_type": "stream",
          "name": "stdout",
          "text": [
            "[0]\tvalidation_0-auc:0.82507\tvalidation_1-auc:0.80210\n",
            "[1]\tvalidation_0-auc:0.82568\tvalidation_1-auc:0.79860\n",
            "[2]\tvalidation_0-auc:0.83561\tvalidation_1-auc:0.80688\n",
            "[3]\tvalidation_0-auc:0.83926\tvalidation_1-auc:0.81155\n",
            "[4]\tvalidation_0-auc:0.84019\tvalidation_1-auc:0.81360\n",
            "[5]\tvalidation_0-auc:0.84216\tvalidation_1-auc:0.81568\n",
            "[6]\tvalidation_0-auc:0.84446\tvalidation_1-auc:0.81769\n",
            "[7]\tvalidation_0-auc:0.84478\tvalidation_1-auc:0.81755\n",
            "[8]\tvalidation_0-auc:0.84681\tvalidation_1-auc:0.81930\n",
            "[9]\tvalidation_0-auc:0.84687\tvalidation_1-auc:0.81934\n",
            "  8%|▊         | 4/50 [02:10<25:51, 33.73s/trial, best loss: -0.8276838002683364]"
          ]
        },
        {
          "output_type": "stream",
          "name": "stderr",
          "text": [
            "/usr/local/lib/python3.10/dist-packages/xgboost/sklearn.py:835: UserWarning: `eval_metric` in `fit` method is deprecated for better compatibility with scikit-learn, use `eval_metric` in constructor or`set_params` instead.\n",
            "  warnings.warn(\n",
            "\n",
            "/usr/local/lib/python3.10/dist-packages/xgboost/sklearn.py:835: UserWarning: `early_stopping_rounds` in `fit` method is deprecated for better compatibility with scikit-learn, use `early_stopping_rounds` in constructor or`set_params` instead.\n",
            "  warnings.warn(\n",
            "\n"
          ]
        },
        {
          "output_type": "stream",
          "name": "stdout",
          "text": [
            "[0]\tvalidation_0-auc:0.83316\tvalidation_1-auc:0.81097\n",
            "[1]\tvalidation_0-auc:0.83208\tvalidation_1-auc:0.79963\n",
            "[2]\tvalidation_0-auc:0.84442\tvalidation_1-auc:0.80703\n",
            "[3]\tvalidation_0-auc:0.85448\tvalidation_1-auc:0.81327\n",
            "[4]\tvalidation_0-auc:0.85898\tvalidation_1-auc:0.81640\n",
            "[5]\tvalidation_0-auc:0.86480\tvalidation_1-auc:0.81812\n",
            "[6]\tvalidation_0-auc:0.87040\tvalidation_1-auc:0.81980\n",
            "[7]\tvalidation_0-auc:0.87814\tvalidation_1-auc:0.82143\n",
            "[8]\tvalidation_0-auc:0.88298\tvalidation_1-auc:0.82334\n",
            "[9]\tvalidation_0-auc:0.88694\tvalidation_1-auc:0.82358\n",
            "  8%|▊         | 4/50 [02:25<25:51, 33.73s/trial, best loss: -0.8276838002683364]"
          ]
        },
        {
          "output_type": "stream",
          "name": "stderr",
          "text": [
            "/usr/local/lib/python3.10/dist-packages/xgboost/sklearn.py:835: UserWarning: `eval_metric` in `fit` method is deprecated for better compatibility with scikit-learn, use `eval_metric` in constructor or`set_params` instead.\n",
            "  warnings.warn(\n",
            "\n",
            "/usr/local/lib/python3.10/dist-packages/xgboost/sklearn.py:835: UserWarning: `early_stopping_rounds` in `fit` method is deprecated for better compatibility with scikit-learn, use `early_stopping_rounds` in constructor or`set_params` instead.\n",
            "  warnings.warn(\n",
            "\n"
          ]
        },
        {
          "output_type": "stream",
          "name": "stdout",
          "text": [
            "[0]\tvalidation_0-auc:0.83008\tvalidation_1-auc:0.81198\n",
            "[1]\tvalidation_0-auc:0.82543\tvalidation_1-auc:0.80316\n",
            "[2]\tvalidation_0-auc:0.84320\tvalidation_1-auc:0.81861\n",
            "[3]\tvalidation_0-auc:0.84862\tvalidation_1-auc:0.82177\n",
            "[4]\tvalidation_0-auc:0.85754\tvalidation_1-auc:0.82467\n",
            "[5]\tvalidation_0-auc:0.86080\tvalidation_1-auc:0.82762\n",
            "[6]\tvalidation_0-auc:0.86598\tvalidation_1-auc:0.82925\n",
            "[7]\tvalidation_0-auc:0.87080\tvalidation_1-auc:0.82898\n",
            "[8]\tvalidation_0-auc:0.87279\tvalidation_1-auc:0.82948\n",
            "[9]\tvalidation_0-auc:0.87566\tvalidation_1-auc:0.82890\n",
            "  8%|▊         | 4/50 [02:41<25:51, 33.73s/trial, best loss: -0.8276838002683364]"
          ]
        },
        {
          "output_type": "stream",
          "name": "stderr",
          "text": [
            "/usr/local/lib/python3.10/dist-packages/xgboost/sklearn.py:835: UserWarning: `eval_metric` in `fit` method is deprecated for better compatibility with scikit-learn, use `eval_metric` in constructor or`set_params` instead.\n",
            "  warnings.warn(\n",
            "\n",
            "/usr/local/lib/python3.10/dist-packages/xgboost/sklearn.py:835: UserWarning: `early_stopping_rounds` in `fit` method is deprecated for better compatibility with scikit-learn, use `early_stopping_rounds` in constructor or`set_params` instead.\n",
            "  warnings.warn(\n",
            "\n"
          ]
        },
        {
          "output_type": "stream",
          "name": "stdout",
          "text": [
            "[0]\tvalidation_0-auc:0.82645\tvalidation_1-auc:0.80172\n",
            "[1]\tvalidation_0-auc:0.82800\tvalidation_1-auc:0.80301\n",
            "[2]\tvalidation_0-auc:0.84445\tvalidation_1-auc:0.81307\n",
            "[3]\tvalidation_0-auc:0.85136\tvalidation_1-auc:0.81698\n",
            "[4]\tvalidation_0-auc:0.86418\tvalidation_1-auc:0.82341\n",
            "[5]\tvalidation_0-auc:0.86881\tvalidation_1-auc:0.82331\n",
            "[6]\tvalidation_0-auc:0.87221\tvalidation_1-auc:0.82424\n",
            "[7]\tvalidation_0-auc:0.87685\tvalidation_1-auc:0.82468\n",
            "[8]\tvalidation_0-auc:0.87941\tvalidation_1-auc:0.82719\n",
            "[9]\tvalidation_0-auc:0.88278\tvalidation_1-auc:0.82826\n",
            " 10%|█         | 5/50 [02:58<29:15, 39.00s/trial, best loss: -0.8276838002683364]"
          ]
        },
        {
          "output_type": "stream",
          "name": "stderr",
          "text": [
            "/usr/local/lib/python3.10/dist-packages/xgboost/sklearn.py:835: UserWarning: `eval_metric` in `fit` method is deprecated for better compatibility with scikit-learn, use `eval_metric` in constructor or`set_params` instead.\n",
            "  warnings.warn(\n",
            "\n",
            "/usr/local/lib/python3.10/dist-packages/xgboost/sklearn.py:835: UserWarning: `early_stopping_rounds` in `fit` method is deprecated for better compatibility with scikit-learn, use `early_stopping_rounds` in constructor or`set_params` instead.\n",
            "  warnings.warn(\n",
            "\n"
          ]
        },
        {
          "output_type": "stream",
          "name": "stdout",
          "text": [
            "[0]\tvalidation_0-auc:0.83288\tvalidation_1-auc:0.81057\n",
            "[1]\tvalidation_0-auc:0.82813\tvalidation_1-auc:0.79920\n",
            "[2]\tvalidation_0-auc:0.83962\tvalidation_1-auc:0.80751\n",
            "[3]\tvalidation_0-auc:0.84723\tvalidation_1-auc:0.81274\n",
            "[4]\tvalidation_0-auc:0.85506\tvalidation_1-auc:0.81438\n",
            "[5]\tvalidation_0-auc:0.85712\tvalidation_1-auc:0.81496\n",
            "[6]\tvalidation_0-auc:0.85954\tvalidation_1-auc:0.81565\n",
            "[7]\tvalidation_0-auc:0.86534\tvalidation_1-auc:0.81572\n",
            "[8]\tvalidation_0-auc:0.87019\tvalidation_1-auc:0.82061\n",
            "[9]\tvalidation_0-auc:0.87241\tvalidation_1-auc:0.82049\n",
            " 10%|█         | 5/50 [03:08<29:15, 39.00s/trial, best loss: -0.8276838002683364]"
          ]
        },
        {
          "output_type": "stream",
          "name": "stderr",
          "text": [
            "/usr/local/lib/python3.10/dist-packages/xgboost/sklearn.py:835: UserWarning: `eval_metric` in `fit` method is deprecated for better compatibility with scikit-learn, use `eval_metric` in constructor or`set_params` instead.\n",
            "  warnings.warn(\n",
            "\n",
            "/usr/local/lib/python3.10/dist-packages/xgboost/sklearn.py:835: UserWarning: `early_stopping_rounds` in `fit` method is deprecated for better compatibility with scikit-learn, use `early_stopping_rounds` in constructor or`set_params` instead.\n",
            "  warnings.warn(\n",
            "\n"
          ]
        },
        {
          "output_type": "stream",
          "name": "stdout",
          "text": [
            "[0]\tvalidation_0-auc:0.83025\tvalidation_1-auc:0.81392\n",
            "[1]\tvalidation_0-auc:0.82609\tvalidation_1-auc:0.80698\n",
            "[2]\tvalidation_0-auc:0.84022\tvalidation_1-auc:0.81960\n",
            "[3]\tvalidation_0-auc:0.84353\tvalidation_1-auc:0.82171\n",
            "[4]\tvalidation_0-auc:0.84777\tvalidation_1-auc:0.82326\n",
            "[5]\tvalidation_0-auc:0.85300\tvalidation_1-auc:0.82513\n",
            "[6]\tvalidation_0-auc:0.85562\tvalidation_1-auc:0.82769\n",
            "[7]\tvalidation_0-auc:0.86018\tvalidation_1-auc:0.83065\n",
            "[8]\tvalidation_0-auc:0.86352\tvalidation_1-auc:0.83126\n",
            "[9]\tvalidation_0-auc:0.86526\tvalidation_1-auc:0.83122\n",
            " 10%|█         | 5/50 [03:20<29:15, 39.00s/trial, best loss: -0.8276838002683364]"
          ]
        },
        {
          "output_type": "stream",
          "name": "stderr",
          "text": [
            "/usr/local/lib/python3.10/dist-packages/xgboost/sklearn.py:835: UserWarning: `eval_metric` in `fit` method is deprecated for better compatibility with scikit-learn, use `eval_metric` in constructor or`set_params` instead.\n",
            "  warnings.warn(\n",
            "\n",
            "/usr/local/lib/python3.10/dist-packages/xgboost/sklearn.py:835: UserWarning: `early_stopping_rounds` in `fit` method is deprecated for better compatibility with scikit-learn, use `early_stopping_rounds` in constructor or`set_params` instead.\n",
            "  warnings.warn(\n",
            "\n"
          ]
        },
        {
          "output_type": "stream",
          "name": "stdout",
          "text": [
            "[0]\tvalidation_0-auc:0.82679\tvalidation_1-auc:0.80164\n",
            "[1]\tvalidation_0-auc:0.83345\tvalidation_1-auc:0.80107\n",
            "[2]\tvalidation_0-auc:0.84580\tvalidation_1-auc:0.81213\n",
            "[3]\tvalidation_0-auc:0.85204\tvalidation_1-auc:0.81618\n",
            "[4]\tvalidation_0-auc:0.85549\tvalidation_1-auc:0.81882\n",
            "[5]\tvalidation_0-auc:0.86206\tvalidation_1-auc:0.82366\n",
            "[6]\tvalidation_0-auc:0.86485\tvalidation_1-auc:0.82532\n",
            "[7]\tvalidation_0-auc:0.86712\tvalidation_1-auc:0.82487\n",
            "[8]\tvalidation_0-auc:0.86969\tvalidation_1-auc:0.82613\n",
            "[9]\tvalidation_0-auc:0.87311\tvalidation_1-auc:0.82672\n",
            " 12%|█▏        | 6/50 [03:33<27:36, 37.65s/trial, best loss: -0.8276838002683364]"
          ]
        },
        {
          "output_type": "stream",
          "name": "stderr",
          "text": [
            "/usr/local/lib/python3.10/dist-packages/xgboost/sklearn.py:835: UserWarning: `eval_metric` in `fit` method is deprecated for better compatibility with scikit-learn, use `eval_metric` in constructor or`set_params` instead.\n",
            "  warnings.warn(\n",
            "\n",
            "/usr/local/lib/python3.10/dist-packages/xgboost/sklearn.py:835: UserWarning: `early_stopping_rounds` in `fit` method is deprecated for better compatibility with scikit-learn, use `early_stopping_rounds` in constructor or`set_params` instead.\n",
            "  warnings.warn(\n",
            "\n"
          ]
        },
        {
          "output_type": "stream",
          "name": "stdout",
          "text": [
            "[0]\tvalidation_0-auc:0.81536\tvalidation_1-auc:0.79638\n",
            "[1]\tvalidation_0-auc:0.81135\tvalidation_1-auc:0.79217\n",
            "[2]\tvalidation_0-auc:0.82016\tvalidation_1-auc:0.80104\n",
            "[3]\tvalidation_0-auc:0.82304\tvalidation_1-auc:0.80189\n",
            "[4]\tvalidation_0-auc:0.83028\tvalidation_1-auc:0.81092\n",
            "[5]\tvalidation_0-auc:0.82731\tvalidation_1-auc:0.80764\n",
            "[6]\tvalidation_0-auc:0.82892\tvalidation_1-auc:0.80901\n",
            "[7]\tvalidation_0-auc:0.83181\tvalidation_1-auc:0.81232\n",
            "[8]\tvalidation_0-auc:0.83470\tvalidation_1-auc:0.81427\n",
            "[9]\tvalidation_0-auc:0.83236\tvalidation_1-auc:0.81176\n",
            " 12%|█▏        | 6/50 [03:40<27:36, 37.65s/trial, best loss: -0.8276838002683364]"
          ]
        },
        {
          "output_type": "stream",
          "name": "stderr",
          "text": [
            "/usr/local/lib/python3.10/dist-packages/xgboost/sklearn.py:835: UserWarning: `eval_metric` in `fit` method is deprecated for better compatibility with scikit-learn, use `eval_metric` in constructor or`set_params` instead.\n",
            "  warnings.warn(\n",
            "\n",
            "/usr/local/lib/python3.10/dist-packages/xgboost/sklearn.py:835: UserWarning: `early_stopping_rounds` in `fit` method is deprecated for better compatibility with scikit-learn, use `early_stopping_rounds` in constructor or`set_params` instead.\n",
            "  warnings.warn(\n",
            "\n"
          ]
        },
        {
          "output_type": "stream",
          "name": "stdout",
          "text": [
            "[0]\tvalidation_0-auc:0.82134\tvalidation_1-auc:0.81187\n",
            "[1]\tvalidation_0-auc:0.80883\tvalidation_1-auc:0.80008\n",
            "[2]\tvalidation_0-auc:0.82164\tvalidation_1-auc:0.81098\n",
            "[3]\tvalidation_0-auc:0.82245\tvalidation_1-auc:0.81095\n",
            "[4]\tvalidation_0-auc:0.82810\tvalidation_1-auc:0.81788\n",
            "[5]\tvalidation_0-auc:0.82654\tvalidation_1-auc:0.81528\n",
            "[6]\tvalidation_0-auc:0.82910\tvalidation_1-auc:0.81641\n",
            "[7]\tvalidation_0-auc:0.83064\tvalidation_1-auc:0.81771\n",
            "[8]\tvalidation_0-auc:0.83355\tvalidation_1-auc:0.82120\n",
            "[9]\tvalidation_0-auc:0.83076\tvalidation_1-auc:0.81785\n",
            " 12%|█▏        | 6/50 [03:45<27:36, 37.65s/trial, best loss: -0.8276838002683364]"
          ]
        },
        {
          "output_type": "stream",
          "name": "stderr",
          "text": [
            "/usr/local/lib/python3.10/dist-packages/xgboost/sklearn.py:835: UserWarning: `eval_metric` in `fit` method is deprecated for better compatibility with scikit-learn, use `eval_metric` in constructor or`set_params` instead.\n",
            "  warnings.warn(\n",
            "\n",
            "/usr/local/lib/python3.10/dist-packages/xgboost/sklearn.py:835: UserWarning: `early_stopping_rounds` in `fit` method is deprecated for better compatibility with scikit-learn, use `early_stopping_rounds` in constructor or`set_params` instead.\n",
            "  warnings.warn(\n",
            "\n"
          ]
        },
        {
          "output_type": "stream",
          "name": "stdout",
          "text": [
            "[0]\tvalidation_0-auc:0.82092\tvalidation_1-auc:0.80690\n",
            "[1]\tvalidation_0-auc:0.81266\tvalidation_1-auc:0.79986\n",
            "[2]\tvalidation_0-auc:0.82365\tvalidation_1-auc:0.80817\n",
            "[3]\tvalidation_0-auc:0.82572\tvalidation_1-auc:0.81078\n",
            "[4]\tvalidation_0-auc:0.82767\tvalidation_1-auc:0.81254\n",
            "[5]\tvalidation_0-auc:0.82859\tvalidation_1-auc:0.81149\n",
            "[6]\tvalidation_0-auc:0.82935\tvalidation_1-auc:0.81206\n",
            "[7]\tvalidation_0-auc:0.83369\tvalidation_1-auc:0.81571\n",
            "[8]\tvalidation_0-auc:0.83564\tvalidation_1-auc:0.81841\n",
            "[9]\tvalidation_0-auc:0.83560\tvalidation_1-auc:0.81838\n",
            " 14%|█▍        | 7/50 [03:51<22:20, 31.18s/trial, best loss: -0.8276838002683364]"
          ]
        },
        {
          "output_type": "stream",
          "name": "stderr",
          "text": [
            "/usr/local/lib/python3.10/dist-packages/xgboost/sklearn.py:835: UserWarning: `eval_metric` in `fit` method is deprecated for better compatibility with scikit-learn, use `eval_metric` in constructor or`set_params` instead.\n",
            "  warnings.warn(\n",
            "\n",
            "/usr/local/lib/python3.10/dist-packages/xgboost/sklearn.py:835: UserWarning: `early_stopping_rounds` in `fit` method is deprecated for better compatibility with scikit-learn, use `early_stopping_rounds` in constructor or`set_params` instead.\n",
            "  warnings.warn(\n",
            "\n"
          ]
        },
        {
          "output_type": "stream",
          "name": "stdout",
          "text": [
            "[0]\tvalidation_0-auc:0.83338\tvalidation_1-auc:0.81081\n",
            "[1]\tvalidation_0-auc:0.82594\tvalidation_1-auc:0.79670\n",
            "[2]\tvalidation_0-auc:0.84138\tvalidation_1-auc:0.81089\n",
            "[3]\tvalidation_0-auc:0.85167\tvalidation_1-auc:0.81421\n",
            "[4]\tvalidation_0-auc:0.85884\tvalidation_1-auc:0.81725\n",
            "[5]\tvalidation_0-auc:0.86521\tvalidation_1-auc:0.82279\n",
            "[6]\tvalidation_0-auc:0.86998\tvalidation_1-auc:0.82639\n",
            "[7]\tvalidation_0-auc:0.87564\tvalidation_1-auc:0.82791\n",
            "[8]\tvalidation_0-auc:0.87991\tvalidation_1-auc:0.82946\n",
            "[9]\tvalidation_0-auc:0.88351\tvalidation_1-auc:0.83056\n",
            " 14%|█▍        | 7/50 [04:01<22:20, 31.18s/trial, best loss: -0.8276838002683364]"
          ]
        },
        {
          "output_type": "stream",
          "name": "stderr",
          "text": [
            "/usr/local/lib/python3.10/dist-packages/xgboost/sklearn.py:835: UserWarning: `eval_metric` in `fit` method is deprecated for better compatibility with scikit-learn, use `eval_metric` in constructor or`set_params` instead.\n",
            "  warnings.warn(\n",
            "\n",
            "/usr/local/lib/python3.10/dist-packages/xgboost/sklearn.py:835: UserWarning: `early_stopping_rounds` in `fit` method is deprecated for better compatibility with scikit-learn, use `early_stopping_rounds` in constructor or`set_params` instead.\n",
            "  warnings.warn(\n",
            "\n"
          ]
        },
        {
          "output_type": "stream",
          "name": "stdout",
          "text": [
            "[0]\tvalidation_0-auc:0.83025\tvalidation_1-auc:0.81227\n",
            "[1]\tvalidation_0-auc:0.82198\tvalidation_1-auc:0.80156\n",
            "[2]\tvalidation_0-auc:0.84019\tvalidation_1-auc:0.82005\n",
            "[3]\tvalidation_0-auc:0.84878\tvalidation_1-auc:0.82342\n",
            "[4]\tvalidation_0-auc:0.85509\tvalidation_1-auc:0.82762\n",
            "[5]\tvalidation_0-auc:0.85973\tvalidation_1-auc:0.82992\n",
            "[6]\tvalidation_0-auc:0.86188\tvalidation_1-auc:0.83128\n",
            "[7]\tvalidation_0-auc:0.86593\tvalidation_1-auc:0.83160\n",
            "[8]\tvalidation_0-auc:0.87194\tvalidation_1-auc:0.83143\n",
            "[9]\tvalidation_0-auc:0.87573\tvalidation_1-auc:0.83166\n",
            " 14%|█▍        | 7/50 [04:13<22:20, 31.18s/trial, best loss: -0.8276838002683364]"
          ]
        },
        {
          "output_type": "stream",
          "name": "stderr",
          "text": [
            "/usr/local/lib/python3.10/dist-packages/xgboost/sklearn.py:835: UserWarning: `eval_metric` in `fit` method is deprecated for better compatibility with scikit-learn, use `eval_metric` in constructor or`set_params` instead.\n",
            "  warnings.warn(\n",
            "\n",
            "/usr/local/lib/python3.10/dist-packages/xgboost/sklearn.py:835: UserWarning: `early_stopping_rounds` in `fit` method is deprecated for better compatibility with scikit-learn, use `early_stopping_rounds` in constructor or`set_params` instead.\n",
            "  warnings.warn(\n",
            "\n"
          ]
        },
        {
          "output_type": "stream",
          "name": "stdout",
          "text": [
            "[0]\tvalidation_0-auc:0.82514\tvalidation_1-auc:0.80301\n",
            "[1]\tvalidation_0-auc:0.83286\tvalidation_1-auc:0.80384\n",
            "[2]\tvalidation_0-auc:0.84730\tvalidation_1-auc:0.81682\n",
            "[3]\tvalidation_0-auc:0.85894\tvalidation_1-auc:0.82210\n",
            "[4]\tvalidation_0-auc:0.86324\tvalidation_1-auc:0.82364\n",
            "[5]\tvalidation_0-auc:0.86792\tvalidation_1-auc:0.82501\n",
            "[6]\tvalidation_0-auc:0.87074\tvalidation_1-auc:0.82479\n",
            "[7]\tvalidation_0-auc:0.87374\tvalidation_1-auc:0.82694\n",
            "[8]\tvalidation_0-auc:0.87707\tvalidation_1-auc:0.82861\n",
            "[9]\tvalidation_0-auc:0.88239\tvalidation_1-auc:0.82802\n",
            " 16%|█▌        | 8/50 [04:24<22:15, 31.79s/trial, best loss: -0.8302763303781195]"
          ]
        },
        {
          "output_type": "stream",
          "name": "stderr",
          "text": [
            "/usr/local/lib/python3.10/dist-packages/xgboost/sklearn.py:835: UserWarning: `eval_metric` in `fit` method is deprecated for better compatibility with scikit-learn, use `eval_metric` in constructor or`set_params` instead.\n",
            "  warnings.warn(\n",
            "\n",
            "/usr/local/lib/python3.10/dist-packages/xgboost/sklearn.py:835: UserWarning: `early_stopping_rounds` in `fit` method is deprecated for better compatibility with scikit-learn, use `early_stopping_rounds` in constructor or`set_params` instead.\n",
            "  warnings.warn(\n",
            "\n"
          ]
        },
        {
          "output_type": "stream",
          "name": "stdout",
          "text": [
            "[0]\tvalidation_0-auc:0.83117\tvalidation_1-auc:0.81020\n",
            "[1]\tvalidation_0-auc:0.82743\tvalidation_1-auc:0.79895\n",
            "[2]\tvalidation_0-auc:0.83937\tvalidation_1-auc:0.81370\n",
            "[3]\tvalidation_0-auc:0.84638\tvalidation_1-auc:0.81506\n",
            "[4]\tvalidation_0-auc:0.85065\tvalidation_1-auc:0.81772\n",
            "[5]\tvalidation_0-auc:0.85597\tvalidation_1-auc:0.81909\n",
            "[6]\tvalidation_0-auc:0.86017\tvalidation_1-auc:0.82241\n",
            "[7]\tvalidation_0-auc:0.86670\tvalidation_1-auc:0.82408\n",
            "[8]\tvalidation_0-auc:0.86863\tvalidation_1-auc:0.82473\n",
            "[9]\tvalidation_0-auc:0.87257\tvalidation_1-auc:0.82628\n",
            " 16%|█▌        | 8/50 [04:32<22:15, 31.79s/trial, best loss: -0.8302763303781195]"
          ]
        },
        {
          "output_type": "stream",
          "name": "stderr",
          "text": [
            "/usr/local/lib/python3.10/dist-packages/xgboost/sklearn.py:835: UserWarning: `eval_metric` in `fit` method is deprecated for better compatibility with scikit-learn, use `eval_metric` in constructor or`set_params` instead.\n",
            "  warnings.warn(\n",
            "\n",
            "/usr/local/lib/python3.10/dist-packages/xgboost/sklearn.py:835: UserWarning: `early_stopping_rounds` in `fit` method is deprecated for better compatibility with scikit-learn, use `early_stopping_rounds` in constructor or`set_params` instead.\n",
            "  warnings.warn(\n",
            "\n"
          ]
        },
        {
          "output_type": "stream",
          "name": "stdout",
          "text": [
            "[0]\tvalidation_0-auc:0.82783\tvalidation_1-auc:0.81272\n",
            "[1]\tvalidation_0-auc:0.81946\tvalidation_1-auc:0.80326\n",
            "[2]\tvalidation_0-auc:0.83496\tvalidation_1-auc:0.82006\n",
            "[3]\tvalidation_0-auc:0.84284\tvalidation_1-auc:0.82403\n",
            "[4]\tvalidation_0-auc:0.84872\tvalidation_1-auc:0.82856\n",
            "[5]\tvalidation_0-auc:0.85297\tvalidation_1-auc:0.83019\n",
            "[6]\tvalidation_0-auc:0.85395\tvalidation_1-auc:0.83117\n",
            "[7]\tvalidation_0-auc:0.85627\tvalidation_1-auc:0.83167\n",
            "[8]\tvalidation_0-auc:0.85976\tvalidation_1-auc:0.83201\n",
            "[9]\tvalidation_0-auc:0.86156\tvalidation_1-auc:0.83352\n",
            " 16%|█▌        | 8/50 [04:42<22:15, 31.79s/trial, best loss: -0.8302763303781195]"
          ]
        },
        {
          "output_type": "stream",
          "name": "stderr",
          "text": [
            "/usr/local/lib/python3.10/dist-packages/xgboost/sklearn.py:835: UserWarning: `eval_metric` in `fit` method is deprecated for better compatibility with scikit-learn, use `eval_metric` in constructor or`set_params` instead.\n",
            "  warnings.warn(\n",
            "\n",
            "/usr/local/lib/python3.10/dist-packages/xgboost/sklearn.py:835: UserWarning: `early_stopping_rounds` in `fit` method is deprecated for better compatibility with scikit-learn, use `early_stopping_rounds` in constructor or`set_params` instead.\n",
            "  warnings.warn(\n",
            "\n"
          ]
        },
        {
          "output_type": "stream",
          "name": "stdout",
          "text": [
            "[0]\tvalidation_0-auc:0.82592\tvalidation_1-auc:0.80812\n",
            "[1]\tvalidation_0-auc:0.82348\tvalidation_1-auc:0.80325\n",
            "[2]\tvalidation_0-auc:0.83645\tvalidation_1-auc:0.81360\n",
            "[3]\tvalidation_0-auc:0.84756\tvalidation_1-auc:0.82324\n",
            "[4]\tvalidation_0-auc:0.85153\tvalidation_1-auc:0.82531\n",
            "[5]\tvalidation_0-auc:0.85493\tvalidation_1-auc:0.82686\n",
            "[6]\tvalidation_0-auc:0.85848\tvalidation_1-auc:0.82590\n",
            "[7]\tvalidation_0-auc:0.86110\tvalidation_1-auc:0.82687\n",
            "[8]\tvalidation_0-auc:0.86413\tvalidation_1-auc:0.82840\n",
            "[9]\tvalidation_0-auc:0.86915\tvalidation_1-auc:0.82950\n",
            " 18%|█▊        | 9/50 [04:53<21:06, 30.89s/trial, best loss: -0.8302763303781195]"
          ]
        },
        {
          "output_type": "stream",
          "name": "stderr",
          "text": [
            "/usr/local/lib/python3.10/dist-packages/xgboost/sklearn.py:835: UserWarning: `eval_metric` in `fit` method is deprecated for better compatibility with scikit-learn, use `eval_metric` in constructor or`set_params` instead.\n",
            "  warnings.warn(\n",
            "\n",
            "/usr/local/lib/python3.10/dist-packages/xgboost/sklearn.py:835: UserWarning: `early_stopping_rounds` in `fit` method is deprecated for better compatibility with scikit-learn, use `early_stopping_rounds` in constructor or`set_params` instead.\n",
            "  warnings.warn(\n",
            "\n"
          ]
        },
        {
          "output_type": "stream",
          "name": "stdout",
          "text": [
            "[0]\tvalidation_0-auc:0.83395\tvalidation_1-auc:0.81127\n",
            "[1]\tvalidation_0-auc:0.82868\tvalidation_1-auc:0.79882\n",
            "[2]\tvalidation_0-auc:0.84003\tvalidation_1-auc:0.80915\n",
            "[3]\tvalidation_0-auc:0.84341\tvalidation_1-auc:0.81237\n",
            "[4]\tvalidation_0-auc:0.84775\tvalidation_1-auc:0.81455\n",
            "[5]\tvalidation_0-auc:0.84917\tvalidation_1-auc:0.81453\n",
            "[6]\tvalidation_0-auc:0.85126\tvalidation_1-auc:0.81576\n",
            "[7]\tvalidation_0-auc:0.85222\tvalidation_1-auc:0.81609\n",
            "[8]\tvalidation_0-auc:0.85475\tvalidation_1-auc:0.81677\n",
            "[9]\tvalidation_0-auc:0.85722\tvalidation_1-auc:0.81733\n",
            " 18%|█▊        | 9/50 [05:05<21:06, 30.89s/trial, best loss: -0.8302763303781195]"
          ]
        },
        {
          "output_type": "stream",
          "name": "stderr",
          "text": [
            "/usr/local/lib/python3.10/dist-packages/xgboost/sklearn.py:835: UserWarning: `eval_metric` in `fit` method is deprecated for better compatibility with scikit-learn, use `eval_metric` in constructor or`set_params` instead.\n",
            "  warnings.warn(\n",
            "\n",
            "/usr/local/lib/python3.10/dist-packages/xgboost/sklearn.py:835: UserWarning: `early_stopping_rounds` in `fit` method is deprecated for better compatibility with scikit-learn, use `early_stopping_rounds` in constructor or`set_params` instead.\n",
            "  warnings.warn(\n",
            "\n"
          ]
        },
        {
          "output_type": "stream",
          "name": "stdout",
          "text": [
            "[0]\tvalidation_0-auc:0.83037\tvalidation_1-auc:0.81158\n",
            "[1]\tvalidation_0-auc:0.82279\tvalidation_1-auc:0.80210\n",
            "[2]\tvalidation_0-auc:0.83436\tvalidation_1-auc:0.81698\n",
            "[3]\tvalidation_0-auc:0.83810\tvalidation_1-auc:0.82089\n",
            "[4]\tvalidation_0-auc:0.83991\tvalidation_1-auc:0.82093\n",
            "[5]\tvalidation_0-auc:0.84248\tvalidation_1-auc:0.82155\n",
            "[6]\tvalidation_0-auc:0.84353\tvalidation_1-auc:0.82152\n",
            "[7]\tvalidation_0-auc:0.84537\tvalidation_1-auc:0.82276\n",
            "[8]\tvalidation_0-auc:0.84676\tvalidation_1-auc:0.82402\n",
            "[9]\tvalidation_0-auc:0.84811\tvalidation_1-auc:0.82476\n",
            " 18%|█▊        | 9/50 [05:17<21:06, 30.89s/trial, best loss: -0.8302763303781195]"
          ]
        },
        {
          "output_type": "stream",
          "name": "stderr",
          "text": [
            "/usr/local/lib/python3.10/dist-packages/xgboost/sklearn.py:835: UserWarning: `eval_metric` in `fit` method is deprecated for better compatibility with scikit-learn, use `eval_metric` in constructor or`set_params` instead.\n",
            "  warnings.warn(\n",
            "\n",
            "/usr/local/lib/python3.10/dist-packages/xgboost/sklearn.py:835: UserWarning: `early_stopping_rounds` in `fit` method is deprecated for better compatibility with scikit-learn, use `early_stopping_rounds` in constructor or`set_params` instead.\n",
            "  warnings.warn(\n",
            "\n"
          ]
        },
        {
          "output_type": "stream",
          "name": "stdout",
          "text": [
            "[0]\tvalidation_0-auc:0.82521\tvalidation_1-auc:0.80323\n",
            "[1]\tvalidation_0-auc:0.82592\tvalidation_1-auc:0.80088\n",
            "[2]\tvalidation_0-auc:0.83686\tvalidation_1-auc:0.80997\n",
            "[3]\tvalidation_0-auc:0.84020\tvalidation_1-auc:0.81150\n",
            "[4]\tvalidation_0-auc:0.84562\tvalidation_1-auc:0.81493\n",
            "[5]\tvalidation_0-auc:0.84766\tvalidation_1-auc:0.81597\n",
            "[6]\tvalidation_0-auc:0.84826\tvalidation_1-auc:0.81556\n",
            "[7]\tvalidation_0-auc:0.84960\tvalidation_1-auc:0.81680\n",
            "[8]\tvalidation_0-auc:0.85254\tvalidation_1-auc:0.81874\n",
            "[9]\tvalidation_0-auc:0.85712\tvalidation_1-auc:0.82326\n",
            " 20%|██        | 10/50 [05:28<21:23, 32.09s/trial, best loss: -0.8302763303781195]"
          ]
        },
        {
          "output_type": "stream",
          "name": "stderr",
          "text": [
            "/usr/local/lib/python3.10/dist-packages/xgboost/sklearn.py:835: UserWarning: `eval_metric` in `fit` method is deprecated for better compatibility with scikit-learn, use `eval_metric` in constructor or`set_params` instead.\n",
            "  warnings.warn(\n",
            "\n",
            "/usr/local/lib/python3.10/dist-packages/xgboost/sklearn.py:835: UserWarning: `early_stopping_rounds` in `fit` method is deprecated for better compatibility with scikit-learn, use `early_stopping_rounds` in constructor or`set_params` instead.\n",
            "  warnings.warn(\n",
            "\n"
          ]
        },
        {
          "output_type": "stream",
          "name": "stdout",
          "text": [
            "[0]\tvalidation_0-auc:0.83339\tvalidation_1-auc:0.81082\n",
            "[1]\tvalidation_0-auc:0.83048\tvalidation_1-auc:0.80042\n",
            "[2]\tvalidation_0-auc:0.84430\tvalidation_1-auc:0.80781\n",
            "[3]\tvalidation_0-auc:0.85089\tvalidation_1-auc:0.81326\n",
            "[4]\tvalidation_0-auc:0.85702\tvalidation_1-auc:0.81377\n",
            "[5]\tvalidation_0-auc:0.86200\tvalidation_1-auc:0.81603\n",
            "[6]\tvalidation_0-auc:0.86591\tvalidation_1-auc:0.82134\n",
            "[7]\tvalidation_0-auc:0.87158\tvalidation_1-auc:0.82363\n",
            "[8]\tvalidation_0-auc:0.87521\tvalidation_1-auc:0.82638\n",
            "[9]\tvalidation_0-auc:0.87915\tvalidation_1-auc:0.82779\n",
            " 20%|██        | 10/50 [05:40<21:23, 32.09s/trial, best loss: -0.8302763303781195]"
          ]
        },
        {
          "output_type": "stream",
          "name": "stderr",
          "text": [
            "/usr/local/lib/python3.10/dist-packages/xgboost/sklearn.py:835: UserWarning: `eval_metric` in `fit` method is deprecated for better compatibility with scikit-learn, use `eval_metric` in constructor or`set_params` instead.\n",
            "  warnings.warn(\n",
            "\n",
            "/usr/local/lib/python3.10/dist-packages/xgboost/sklearn.py:835: UserWarning: `early_stopping_rounds` in `fit` method is deprecated for better compatibility with scikit-learn, use `early_stopping_rounds` in constructor or`set_params` instead.\n",
            "  warnings.warn(\n",
            "\n"
          ]
        },
        {
          "output_type": "stream",
          "name": "stdout",
          "text": [
            "[0]\tvalidation_0-auc:0.83037\tvalidation_1-auc:0.81158\n",
            "[1]\tvalidation_0-auc:0.82272\tvalidation_1-auc:0.80177\n",
            "[2]\tvalidation_0-auc:0.83860\tvalidation_1-auc:0.81947\n",
            "[3]\tvalidation_0-auc:0.84713\tvalidation_1-auc:0.82363\n",
            "[4]\tvalidation_0-auc:0.85086\tvalidation_1-auc:0.82503\n",
            "[5]\tvalidation_0-auc:0.85623\tvalidation_1-auc:0.82775\n",
            "[6]\tvalidation_0-auc:0.85864\tvalidation_1-auc:0.82901\n",
            "[7]\tvalidation_0-auc:0.86085\tvalidation_1-auc:0.82967\n",
            "[8]\tvalidation_0-auc:0.86695\tvalidation_1-auc:0.82982\n",
            "[9]\tvalidation_0-auc:0.86893\tvalidation_1-auc:0.83149\n",
            " 20%|██        | 10/50 [05:52<21:23, 32.09s/trial, best loss: -0.8302763303781195]"
          ]
        },
        {
          "output_type": "stream",
          "name": "stderr",
          "text": [
            "/usr/local/lib/python3.10/dist-packages/xgboost/sklearn.py:835: UserWarning: `eval_metric` in `fit` method is deprecated for better compatibility with scikit-learn, use `eval_metric` in constructor or`set_params` instead.\n",
            "  warnings.warn(\n",
            "\n",
            "/usr/local/lib/python3.10/dist-packages/xgboost/sklearn.py:835: UserWarning: `early_stopping_rounds` in `fit` method is deprecated for better compatibility with scikit-learn, use `early_stopping_rounds` in constructor or`set_params` instead.\n",
            "  warnings.warn(\n",
            "\n"
          ]
        },
        {
          "output_type": "stream",
          "name": "stdout",
          "text": [
            "[0]\tvalidation_0-auc:0.82521\tvalidation_1-auc:0.80323\n",
            "[1]\tvalidation_0-auc:0.82864\tvalidation_1-auc:0.80336\n",
            "[2]\tvalidation_0-auc:0.84139\tvalidation_1-auc:0.81163\n",
            "[3]\tvalidation_0-auc:0.85404\tvalidation_1-auc:0.82225\n",
            "[4]\tvalidation_0-auc:0.85785\tvalidation_1-auc:0.82352\n",
            "[5]\tvalidation_0-auc:0.86274\tvalidation_1-auc:0.82342\n",
            "[6]\tvalidation_0-auc:0.86681\tvalidation_1-auc:0.82752\n",
            "[7]\tvalidation_0-auc:0.86933\tvalidation_1-auc:0.82799\n",
            "[8]\tvalidation_0-auc:0.87349\tvalidation_1-auc:0.82844\n",
            "[9]\tvalidation_0-auc:0.87544\tvalidation_1-auc:0.82904\n",
            " 22%|██▏       | 11/50 [06:05<21:54, 33.70s/trial, best loss: -0.8302763303781195]"
          ]
        },
        {
          "output_type": "stream",
          "name": "stderr",
          "text": [
            "/usr/local/lib/python3.10/dist-packages/xgboost/sklearn.py:835: UserWarning: `eval_metric` in `fit` method is deprecated for better compatibility with scikit-learn, use `eval_metric` in constructor or`set_params` instead.\n",
            "  warnings.warn(\n",
            "\n",
            "/usr/local/lib/python3.10/dist-packages/xgboost/sklearn.py:835: UserWarning: `early_stopping_rounds` in `fit` method is deprecated for better compatibility with scikit-learn, use `early_stopping_rounds` in constructor or`set_params` instead.\n",
            "  warnings.warn(\n",
            "\n"
          ]
        },
        {
          "output_type": "stream",
          "name": "stdout",
          "text": [
            "[0]\tvalidation_0-auc:0.83426\tvalidation_1-auc:0.81084\n",
            "[1]\tvalidation_0-auc:0.82870\tvalidation_1-auc:0.79853\n",
            "[2]\tvalidation_0-auc:0.84438\tvalidation_1-auc:0.80563\n",
            "[3]\tvalidation_0-auc:0.85302\tvalidation_1-auc:0.81128\n",
            "[4]\tvalidation_0-auc:0.86104\tvalidation_1-auc:0.81300\n",
            "[5]\tvalidation_0-auc:0.86662\tvalidation_1-auc:0.81454\n",
            "[6]\tvalidation_0-auc:0.86871\tvalidation_1-auc:0.81524\n",
            "[7]\tvalidation_0-auc:0.87682\tvalidation_1-auc:0.82135\n",
            "[8]\tvalidation_0-auc:0.88203\tvalidation_1-auc:0.82369\n",
            "[9]\tvalidation_0-auc:0.88675\tvalidation_1-auc:0.82580\n",
            " 22%|██▏       | 11/50 [06:19<21:54, 33.70s/trial, best loss: -0.8302763303781195]"
          ]
        },
        {
          "output_type": "stream",
          "name": "stderr",
          "text": [
            "/usr/local/lib/python3.10/dist-packages/xgboost/sklearn.py:835: UserWarning: `eval_metric` in `fit` method is deprecated for better compatibility with scikit-learn, use `eval_metric` in constructor or`set_params` instead.\n",
            "  warnings.warn(\n",
            "\n",
            "/usr/local/lib/python3.10/dist-packages/xgboost/sklearn.py:835: UserWarning: `early_stopping_rounds` in `fit` method is deprecated for better compatibility with scikit-learn, use `early_stopping_rounds` in constructor or`set_params` instead.\n",
            "  warnings.warn(\n",
            "\n"
          ]
        },
        {
          "output_type": "stream",
          "name": "stdout",
          "text": [
            "[0]\tvalidation_0-auc:0.83196\tvalidation_1-auc:0.81172\n",
            "[1]\tvalidation_0-auc:0.82522\tvalidation_1-auc:0.80126\n",
            "[2]\tvalidation_0-auc:0.84212\tvalidation_1-auc:0.81737\n",
            "[3]\tvalidation_0-auc:0.84835\tvalidation_1-auc:0.82284\n",
            "[4]\tvalidation_0-auc:0.85413\tvalidation_1-auc:0.82522\n",
            "[5]\tvalidation_0-auc:0.86198\tvalidation_1-auc:0.82643\n",
            "[6]\tvalidation_0-auc:0.86557\tvalidation_1-auc:0.82814\n",
            "[7]\tvalidation_0-auc:0.86855\tvalidation_1-auc:0.82830\n",
            "[8]\tvalidation_0-auc:0.87439\tvalidation_1-auc:0.82956\n",
            "[9]\tvalidation_0-auc:0.87822\tvalidation_1-auc:0.82994\n",
            " 22%|██▏       | 11/50 [06:32<21:54, 33.70s/trial, best loss: -0.8302763303781195]"
          ]
        },
        {
          "output_type": "stream",
          "name": "stderr",
          "text": [
            "/usr/local/lib/python3.10/dist-packages/xgboost/sklearn.py:835: UserWarning: `eval_metric` in `fit` method is deprecated for better compatibility with scikit-learn, use `eval_metric` in constructor or`set_params` instead.\n",
            "  warnings.warn(\n",
            "\n",
            "/usr/local/lib/python3.10/dist-packages/xgboost/sklearn.py:835: UserWarning: `early_stopping_rounds` in `fit` method is deprecated for better compatibility with scikit-learn, use `early_stopping_rounds` in constructor or`set_params` instead.\n",
            "  warnings.warn(\n",
            "\n"
          ]
        },
        {
          "output_type": "stream",
          "name": "stdout",
          "text": [
            "[0]\tvalidation_0-auc:0.82758\tvalidation_1-auc:0.80234\n",
            "[1]\tvalidation_0-auc:0.82998\tvalidation_1-auc:0.80084\n",
            "[2]\tvalidation_0-auc:0.84452\tvalidation_1-auc:0.81004\n",
            "[3]\tvalidation_0-auc:0.85789\tvalidation_1-auc:0.81719\n",
            "[4]\tvalidation_0-auc:0.86185\tvalidation_1-auc:0.82001\n",
            "[5]\tvalidation_0-auc:0.86606\tvalidation_1-auc:0.81981\n",
            "[6]\tvalidation_0-auc:0.87150\tvalidation_1-auc:0.82455\n",
            "[7]\tvalidation_0-auc:0.87381\tvalidation_1-auc:0.82625\n",
            "[8]\tvalidation_0-auc:0.87719\tvalidation_1-auc:0.82765\n",
            "[9]\tvalidation_0-auc:0.88059\tvalidation_1-auc:0.82830\n",
            " 24%|██▍       | 12/50 [06:46<22:48, 36.02s/trial, best loss: -0.8302763303781195]"
          ]
        },
        {
          "output_type": "stream",
          "name": "stderr",
          "text": [
            "/usr/local/lib/python3.10/dist-packages/xgboost/sklearn.py:835: UserWarning: `eval_metric` in `fit` method is deprecated for better compatibility with scikit-learn, use `eval_metric` in constructor or`set_params` instead.\n",
            "  warnings.warn(\n",
            "\n",
            "/usr/local/lib/python3.10/dist-packages/xgboost/sklearn.py:835: UserWarning: `early_stopping_rounds` in `fit` method is deprecated for better compatibility with scikit-learn, use `early_stopping_rounds` in constructor or`set_params` instead.\n",
            "  warnings.warn(\n",
            "\n"
          ]
        },
        {
          "output_type": "stream",
          "name": "stdout",
          "text": [
            "[0]\tvalidation_0-auc:0.82837\tvalidation_1-auc:0.81177\n",
            "[1]\tvalidation_0-auc:0.82359\tvalidation_1-auc:0.80039\n",
            "[2]\tvalidation_0-auc:0.83497\tvalidation_1-auc:0.81274\n",
            "[3]\tvalidation_0-auc:0.84129\tvalidation_1-auc:0.81718\n",
            "[4]\tvalidation_0-auc:0.84757\tvalidation_1-auc:0.82296\n",
            "[5]\tvalidation_0-auc:0.85102\tvalidation_1-auc:0.82553\n",
            "[6]\tvalidation_0-auc:0.85561\tvalidation_1-auc:0.82822\n",
            "[7]\tvalidation_0-auc:0.85817\tvalidation_1-auc:0.82868\n",
            "[8]\tvalidation_0-auc:0.85987\tvalidation_1-auc:0.83057\n",
            "[9]\tvalidation_0-auc:0.86138\tvalidation_1-auc:0.83123\n",
            " 24%|██▍       | 12/50 [06:56<22:48, 36.02s/trial, best loss: -0.8302763303781195]"
          ]
        },
        {
          "output_type": "stream",
          "name": "stderr",
          "text": [
            "/usr/local/lib/python3.10/dist-packages/xgboost/sklearn.py:835: UserWarning: `eval_metric` in `fit` method is deprecated for better compatibility with scikit-learn, use `eval_metric` in constructor or`set_params` instead.\n",
            "  warnings.warn(\n",
            "\n",
            "/usr/local/lib/python3.10/dist-packages/xgboost/sklearn.py:835: UserWarning: `early_stopping_rounds` in `fit` method is deprecated for better compatibility with scikit-learn, use `early_stopping_rounds` in constructor or`set_params` instead.\n",
            "  warnings.warn(\n",
            "\n"
          ]
        },
        {
          "output_type": "stream",
          "name": "stdout",
          "text": [
            "[0]\tvalidation_0-auc:0.82375\tvalidation_1-auc:0.81254\n",
            "[1]\tvalidation_0-auc:0.82064\tvalidation_1-auc:0.80845\n",
            "[2]\tvalidation_0-auc:0.83483\tvalidation_1-auc:0.82127\n",
            "[3]\tvalidation_0-auc:0.83872\tvalidation_1-auc:0.82400\n",
            "[4]\tvalidation_0-auc:0.84336\tvalidation_1-auc:0.82586\n",
            "[5]\tvalidation_0-auc:0.84633\tvalidation_1-auc:0.82916\n",
            "[6]\tvalidation_0-auc:0.84801\tvalidation_1-auc:0.82917\n",
            "[7]\tvalidation_0-auc:0.84858\tvalidation_1-auc:0.82891\n",
            "[8]\tvalidation_0-auc:0.85148\tvalidation_1-auc:0.82970\n",
            "[9]\tvalidation_0-auc:0.85385\tvalidation_1-auc:0.83104\n",
            " 24%|██▍       | 12/50 [07:04<22:48, 36.02s/trial, best loss: -0.8302763303781195]"
          ]
        },
        {
          "output_type": "stream",
          "name": "stderr",
          "text": [
            "/usr/local/lib/python3.10/dist-packages/xgboost/sklearn.py:835: UserWarning: `eval_metric` in `fit` method is deprecated for better compatibility with scikit-learn, use `eval_metric` in constructor or`set_params` instead.\n",
            "  warnings.warn(\n",
            "\n",
            "/usr/local/lib/python3.10/dist-packages/xgboost/sklearn.py:835: UserWarning: `early_stopping_rounds` in `fit` method is deprecated for better compatibility with scikit-learn, use `early_stopping_rounds` in constructor or`set_params` instead.\n",
            "  warnings.warn(\n",
            "\n"
          ]
        },
        {
          "output_type": "stream",
          "name": "stdout",
          "text": [
            "[0]\tvalidation_0-auc:0.82010\tvalidation_1-auc:0.80284\n",
            "[1]\tvalidation_0-auc:0.82407\tvalidation_1-auc:0.80820\n",
            "[2]\tvalidation_0-auc:0.84132\tvalidation_1-auc:0.82297\n",
            "[3]\tvalidation_0-auc:0.84670\tvalidation_1-auc:0.82569\n",
            "[4]\tvalidation_0-auc:0.84930\tvalidation_1-auc:0.82747\n",
            "[5]\tvalidation_0-auc:0.85117\tvalidation_1-auc:0.82777\n",
            "[6]\tvalidation_0-auc:0.85242\tvalidation_1-auc:0.82793\n",
            "[7]\tvalidation_0-auc:0.85635\tvalidation_1-auc:0.82919\n",
            "[8]\tvalidation_0-auc:0.85883\tvalidation_1-auc:0.82989\n",
            "[9]\tvalidation_0-auc:0.86191\tvalidation_1-auc:0.83104\n",
            " 26%|██▌       | 13/50 [07:14<20:41, 33.56s/trial, best loss: -0.8311015420747595]"
          ]
        },
        {
          "output_type": "stream",
          "name": "stderr",
          "text": [
            "/usr/local/lib/python3.10/dist-packages/xgboost/sklearn.py:835: UserWarning: `eval_metric` in `fit` method is deprecated for better compatibility with scikit-learn, use `eval_metric` in constructor or`set_params` instead.\n",
            "  warnings.warn(\n",
            "\n",
            "/usr/local/lib/python3.10/dist-packages/xgboost/sklearn.py:835: UserWarning: `early_stopping_rounds` in `fit` method is deprecated for better compatibility with scikit-learn, use `early_stopping_rounds` in constructor or`set_params` instead.\n",
            "  warnings.warn(\n",
            "\n"
          ]
        },
        {
          "output_type": "stream",
          "name": "stdout",
          "text": [
            "[0]\tvalidation_0-auc:0.83047\tvalidation_1-auc:0.81113\n",
            "[1]\tvalidation_0-auc:0.82713\tvalidation_1-auc:0.80198\n",
            "[2]\tvalidation_0-auc:0.83996\tvalidation_1-auc:0.81296\n",
            "[3]\tvalidation_0-auc:0.84568\tvalidation_1-auc:0.81664\n",
            "[4]\tvalidation_0-auc:0.84920\tvalidation_1-auc:0.81872\n",
            "[5]\tvalidation_0-auc:0.85381\tvalidation_1-auc:0.82082\n",
            "[6]\tvalidation_0-auc:0.85884\tvalidation_1-auc:0.82500\n",
            "[7]\tvalidation_0-auc:0.86157\tvalidation_1-auc:0.82732\n",
            "[8]\tvalidation_0-auc:0.86583\tvalidation_1-auc:0.82935\n",
            "[9]\tvalidation_0-auc:0.86854\tvalidation_1-auc:0.83002\n",
            " 26%|██▌       | 13/50 [07:25<20:41, 33.56s/trial, best loss: -0.8311015420747595]"
          ]
        },
        {
          "output_type": "stream",
          "name": "stderr",
          "text": [
            "/usr/local/lib/python3.10/dist-packages/xgboost/sklearn.py:835: UserWarning: `eval_metric` in `fit` method is deprecated for better compatibility with scikit-learn, use `eval_metric` in constructor or`set_params` instead.\n",
            "  warnings.warn(\n",
            "\n",
            "/usr/local/lib/python3.10/dist-packages/xgboost/sklearn.py:835: UserWarning: `early_stopping_rounds` in `fit` method is deprecated for better compatibility with scikit-learn, use `early_stopping_rounds` in constructor or`set_params` instead.\n",
            "  warnings.warn(\n",
            "\n"
          ]
        },
        {
          "output_type": "stream",
          "name": "stdout",
          "text": [
            "[0]\tvalidation_0-auc:0.82631\tvalidation_1-auc:0.81172\n",
            "[1]\tvalidation_0-auc:0.82017\tvalidation_1-auc:0.80247\n",
            "[2]\tvalidation_0-auc:0.83348\tvalidation_1-auc:0.81660\n",
            "[3]\tvalidation_0-auc:0.83846\tvalidation_1-auc:0.82025\n",
            "[4]\tvalidation_0-auc:0.84392\tvalidation_1-auc:0.82262\n",
            "[5]\tvalidation_0-auc:0.84796\tvalidation_1-auc:0.82553\n",
            "[6]\tvalidation_0-auc:0.84992\tvalidation_1-auc:0.82713\n",
            "[7]\tvalidation_0-auc:0.85272\tvalidation_1-auc:0.82734\n",
            "[8]\tvalidation_0-auc:0.85727\tvalidation_1-auc:0.83121\n",
            "[9]\tvalidation_0-auc:0.85947\tvalidation_1-auc:0.83195\n",
            " 26%|██▌       | 13/50 [07:33<20:41, 33.56s/trial, best loss: -0.8311015420747595]"
          ]
        },
        {
          "output_type": "stream",
          "name": "stderr",
          "text": [
            "/usr/local/lib/python3.10/dist-packages/xgboost/sklearn.py:835: UserWarning: `eval_metric` in `fit` method is deprecated for better compatibility with scikit-learn, use `eval_metric` in constructor or`set_params` instead.\n",
            "  warnings.warn(\n",
            "\n",
            "/usr/local/lib/python3.10/dist-packages/xgboost/sklearn.py:835: UserWarning: `early_stopping_rounds` in `fit` method is deprecated for better compatibility with scikit-learn, use `early_stopping_rounds` in constructor or`set_params` instead.\n",
            "  warnings.warn(\n",
            "\n"
          ]
        },
        {
          "output_type": "stream",
          "name": "stdout",
          "text": [
            "[0]\tvalidation_0-auc:0.82252\tvalidation_1-auc:0.80186\n",
            "[1]\tvalidation_0-auc:0.82504\tvalidation_1-auc:0.80519\n",
            "[2]\tvalidation_0-auc:0.84085\tvalidation_1-auc:0.81764\n",
            "[3]\tvalidation_0-auc:0.84824\tvalidation_1-auc:0.82111\n",
            "[4]\tvalidation_0-auc:0.85304\tvalidation_1-auc:0.82438\n",
            "[5]\tvalidation_0-auc:0.85575\tvalidation_1-auc:0.82625\n",
            "[6]\tvalidation_0-auc:0.85731\tvalidation_1-auc:0.82652\n",
            "[7]\tvalidation_0-auc:0.85932\tvalidation_1-auc:0.82659\n",
            "[8]\tvalidation_0-auc:0.86184\tvalidation_1-auc:0.82831\n",
            "[9]\tvalidation_0-auc:0.86551\tvalidation_1-auc:0.82848\n",
            " 28%|██▊       | 14/50 [07:43<19:19, 32.21s/trial, best loss: -0.8311015420747595]"
          ]
        },
        {
          "output_type": "stream",
          "name": "stderr",
          "text": [
            "/usr/local/lib/python3.10/dist-packages/xgboost/sklearn.py:835: UserWarning: `eval_metric` in `fit` method is deprecated for better compatibility with scikit-learn, use `eval_metric` in constructor or`set_params` instead.\n",
            "  warnings.warn(\n",
            "\n",
            "/usr/local/lib/python3.10/dist-packages/xgboost/sklearn.py:835: UserWarning: `early_stopping_rounds` in `fit` method is deprecated for better compatibility with scikit-learn, use `early_stopping_rounds` in constructor or`set_params` instead.\n",
            "  warnings.warn(\n",
            "\n"
          ]
        },
        {
          "output_type": "stream",
          "name": "stdout",
          "text": [
            "[0]\tvalidation_0-auc:0.83102\tvalidation_1-auc:0.80994\n",
            "[1]\tvalidation_0-auc:0.82158\tvalidation_1-auc:0.79497\n",
            "[2]\tvalidation_0-auc:0.83863\tvalidation_1-auc:0.80885\n",
            "[3]\tvalidation_0-auc:0.84185\tvalidation_1-auc:0.80966\n",
            "[4]\tvalidation_0-auc:0.84646\tvalidation_1-auc:0.81544\n",
            "[5]\tvalidation_0-auc:0.84845\tvalidation_1-auc:0.81775\n",
            "[6]\tvalidation_0-auc:0.85065\tvalidation_1-auc:0.81866\n",
            "[7]\tvalidation_0-auc:0.85235\tvalidation_1-auc:0.82071\n",
            "[8]\tvalidation_0-auc:0.85426\tvalidation_1-auc:0.82126\n",
            "[9]\tvalidation_0-auc:0.85519\tvalidation_1-auc:0.82033\n",
            " 28%|██▊       | 14/50 [07:53<19:19, 32.21s/trial, best loss: -0.8311015420747595]"
          ]
        },
        {
          "output_type": "stream",
          "name": "stderr",
          "text": [
            "/usr/local/lib/python3.10/dist-packages/xgboost/sklearn.py:835: UserWarning: `eval_metric` in `fit` method is deprecated for better compatibility with scikit-learn, use `eval_metric` in constructor or`set_params` instead.\n",
            "  warnings.warn(\n",
            "\n",
            "/usr/local/lib/python3.10/dist-packages/xgboost/sklearn.py:835: UserWarning: `early_stopping_rounds` in `fit` method is deprecated for better compatibility with scikit-learn, use `early_stopping_rounds` in constructor or`set_params` instead.\n",
            "  warnings.warn(\n",
            "\n"
          ]
        },
        {
          "output_type": "stream",
          "name": "stdout",
          "text": [
            "[0]\tvalidation_0-auc:0.82813\tvalidation_1-auc:0.81272\n",
            "[1]\tvalidation_0-auc:0.81977\tvalidation_1-auc:0.80192\n",
            "[2]\tvalidation_0-auc:0.83284\tvalidation_1-auc:0.81681\n",
            "[3]\tvalidation_0-auc:0.83583\tvalidation_1-auc:0.81856\n",
            "[4]\tvalidation_0-auc:0.83862\tvalidation_1-auc:0.82139\n",
            "[5]\tvalidation_0-auc:0.84217\tvalidation_1-auc:0.82402\n",
            "[6]\tvalidation_0-auc:0.84431\tvalidation_1-auc:0.82559\n",
            "[7]\tvalidation_0-auc:0.84522\tvalidation_1-auc:0.82608\n",
            "[8]\tvalidation_0-auc:0.84649\tvalidation_1-auc:0.82666\n",
            "[9]\tvalidation_0-auc:0.84909\tvalidation_1-auc:0.82759\n",
            " 28%|██▊       | 14/50 [08:00<19:19, 32.21s/trial, best loss: -0.8311015420747595]"
          ]
        },
        {
          "output_type": "stream",
          "name": "stderr",
          "text": [
            "/usr/local/lib/python3.10/dist-packages/xgboost/sklearn.py:835: UserWarning: `eval_metric` in `fit` method is deprecated for better compatibility with scikit-learn, use `eval_metric` in constructor or`set_params` instead.\n",
            "  warnings.warn(\n",
            "\n",
            "/usr/local/lib/python3.10/dist-packages/xgboost/sklearn.py:835: UserWarning: `early_stopping_rounds` in `fit` method is deprecated for better compatibility with scikit-learn, use `early_stopping_rounds` in constructor or`set_params` instead.\n",
            "  warnings.warn(\n",
            "\n"
          ]
        },
        {
          "output_type": "stream",
          "name": "stdout",
          "text": [
            "[0]\tvalidation_0-auc:0.82739\tvalidation_1-auc:0.80923\n",
            "[1]\tvalidation_0-auc:0.82220\tvalidation_1-auc:0.80197\n",
            "[2]\tvalidation_0-auc:0.83560\tvalidation_1-auc:0.81332\n",
            "[3]\tvalidation_0-auc:0.83945\tvalidation_1-auc:0.81659\n",
            "[4]\tvalidation_0-auc:0.84202\tvalidation_1-auc:0.81764\n",
            "[5]\tvalidation_0-auc:0.84536\tvalidation_1-auc:0.81856\n",
            "[6]\tvalidation_0-auc:0.84706\tvalidation_1-auc:0.81936\n",
            "[7]\tvalidation_0-auc:0.84813\tvalidation_1-auc:0.81966\n",
            "[8]\tvalidation_0-auc:0.85086\tvalidation_1-auc:0.82178\n",
            "[9]\tvalidation_0-auc:0.85324\tvalidation_1-auc:0.82250\n",
            " 30%|███       | 15/50 [08:10<17:46, 30.47s/trial, best loss: -0.8311015420747595]"
          ]
        },
        {
          "output_type": "stream",
          "name": "stderr",
          "text": [
            "/usr/local/lib/python3.10/dist-packages/xgboost/sklearn.py:835: UserWarning: `eval_metric` in `fit` method is deprecated for better compatibility with scikit-learn, use `eval_metric` in constructor or`set_params` instead.\n",
            "  warnings.warn(\n",
            "\n",
            "/usr/local/lib/python3.10/dist-packages/xgboost/sklearn.py:835: UserWarning: `early_stopping_rounds` in `fit` method is deprecated for better compatibility with scikit-learn, use `early_stopping_rounds` in constructor or`set_params` instead.\n",
            "  warnings.warn(\n",
            "\n"
          ]
        },
        {
          "output_type": "stream",
          "name": "stdout",
          "text": [
            "[0]\tvalidation_0-auc:0.82526\tvalidation_1-auc:0.80750\n",
            "[1]\tvalidation_0-auc:0.83517\tvalidation_1-auc:0.80595\n",
            "[2]\tvalidation_0-auc:0.84788\tvalidation_1-auc:0.81552\n",
            "[3]\tvalidation_0-auc:0.85585\tvalidation_1-auc:0.82013\n",
            "[4]\tvalidation_0-auc:0.86240\tvalidation_1-auc:0.82381\n",
            "[5]\tvalidation_0-auc:0.86839\tvalidation_1-auc:0.82180\n",
            "[6]\tvalidation_0-auc:0.86717\tvalidation_1-auc:0.81782\n",
            "[7]\tvalidation_0-auc:0.87563\tvalidation_1-auc:0.82251\n",
            "[8]\tvalidation_0-auc:0.87899\tvalidation_1-auc:0.82360\n",
            "[9]\tvalidation_0-auc:0.88444\tvalidation_1-auc:0.82355\n",
            " 30%|███       | 15/50 [08:20<17:46, 30.47s/trial, best loss: -0.8311015420747595]"
          ]
        },
        {
          "output_type": "stream",
          "name": "stderr",
          "text": [
            "/usr/local/lib/python3.10/dist-packages/xgboost/sklearn.py:835: UserWarning: `eval_metric` in `fit` method is deprecated for better compatibility with scikit-learn, use `eval_metric` in constructor or`set_params` instead.\n",
            "  warnings.warn(\n",
            "\n",
            "/usr/local/lib/python3.10/dist-packages/xgboost/sklearn.py:835: UserWarning: `early_stopping_rounds` in `fit` method is deprecated for better compatibility with scikit-learn, use `early_stopping_rounds` in constructor or`set_params` instead.\n",
            "  warnings.warn(\n",
            "\n"
          ]
        },
        {
          "output_type": "stream",
          "name": "stdout",
          "text": [
            "[0]\tvalidation_0-auc:0.82184\tvalidation_1-auc:0.80893\n",
            "[1]\tvalidation_0-auc:0.82241\tvalidation_1-auc:0.80405\n",
            "[2]\tvalidation_0-auc:0.83955\tvalidation_1-auc:0.81761\n",
            "[3]\tvalidation_0-auc:0.84785\tvalidation_1-auc:0.82067\n",
            "[4]\tvalidation_0-auc:0.85377\tvalidation_1-auc:0.82625\n",
            "[5]\tvalidation_0-auc:0.86326\tvalidation_1-auc:0.82711\n",
            "[6]\tvalidation_0-auc:0.86524\tvalidation_1-auc:0.82302\n",
            "[7]\tvalidation_0-auc:0.87275\tvalidation_1-auc:0.82717\n",
            "[8]\tvalidation_0-auc:0.87643\tvalidation_1-auc:0.83021\n",
            "[9]\tvalidation_0-auc:0.88127\tvalidation_1-auc:0.82914\n",
            " 30%|███       | 15/50 [08:28<17:46, 30.47s/trial, best loss: -0.8311015420747595]"
          ]
        },
        {
          "output_type": "stream",
          "name": "stderr",
          "text": [
            "/usr/local/lib/python3.10/dist-packages/xgboost/sklearn.py:835: UserWarning: `eval_metric` in `fit` method is deprecated for better compatibility with scikit-learn, use `eval_metric` in constructor or`set_params` instead.\n",
            "  warnings.warn(\n",
            "\n",
            "/usr/local/lib/python3.10/dist-packages/xgboost/sklearn.py:835: UserWarning: `early_stopping_rounds` in `fit` method is deprecated for better compatibility with scikit-learn, use `early_stopping_rounds` in constructor or`set_params` instead.\n",
            "  warnings.warn(\n",
            "\n"
          ]
        },
        {
          "output_type": "stream",
          "name": "stdout",
          "text": [
            "[0]\tvalidation_0-auc:0.82306\tvalidation_1-auc:0.80502\n",
            "[1]\tvalidation_0-auc:0.82746\tvalidation_1-auc:0.80250\n",
            "[2]\tvalidation_0-auc:0.84745\tvalidation_1-auc:0.81470\n",
            "[3]\tvalidation_0-auc:0.85399\tvalidation_1-auc:0.81956\n",
            "[4]\tvalidation_0-auc:0.86133\tvalidation_1-auc:0.82402\n",
            "[5]\tvalidation_0-auc:0.86877\tvalidation_1-auc:0.82265\n",
            "[6]\tvalidation_0-auc:0.87148\tvalidation_1-auc:0.81828\n",
            "[7]\tvalidation_0-auc:0.87949\tvalidation_1-auc:0.82080\n",
            "[8]\tvalidation_0-auc:0.88208\tvalidation_1-auc:0.82457\n",
            "[9]\tvalidation_0-auc:0.88565\tvalidation_1-auc:0.82326\n",
            " 32%|███▏      | 16/50 [08:38<16:52, 29.79s/trial, best loss: -0.8311015420747595]"
          ]
        },
        {
          "output_type": "stream",
          "name": "stderr",
          "text": [
            "/usr/local/lib/python3.10/dist-packages/xgboost/sklearn.py:835: UserWarning: `eval_metric` in `fit` method is deprecated for better compatibility with scikit-learn, use `eval_metric` in constructor or`set_params` instead.\n",
            "  warnings.warn(\n",
            "\n",
            "/usr/local/lib/python3.10/dist-packages/xgboost/sklearn.py:835: UserWarning: `early_stopping_rounds` in `fit` method is deprecated for better compatibility with scikit-learn, use `early_stopping_rounds` in constructor or`set_params` instead.\n",
            "  warnings.warn(\n",
            "\n"
          ]
        },
        {
          "output_type": "stream",
          "name": "stdout",
          "text": [
            "[0]\tvalidation_0-auc:0.83283\tvalidation_1-auc:0.81109\n",
            "[1]\tvalidation_0-auc:0.83055\tvalidation_1-auc:0.80073\n",
            "[2]\tvalidation_0-auc:0.84422\tvalidation_1-auc:0.81075\n",
            "[3]\tvalidation_0-auc:0.85031\tvalidation_1-auc:0.81373\n",
            "[4]\tvalidation_0-auc:0.85611\tvalidation_1-auc:0.81634\n",
            "[5]\tvalidation_0-auc:0.86100\tvalidation_1-auc:0.81891\n",
            "[6]\tvalidation_0-auc:0.86669\tvalidation_1-auc:0.82284\n",
            "[7]\tvalidation_0-auc:0.87201\tvalidation_1-auc:0.82627\n",
            "[8]\tvalidation_0-auc:0.87627\tvalidation_1-auc:0.82732\n",
            "[9]\tvalidation_0-auc:0.88019\tvalidation_1-auc:0.82796\n",
            " 32%|███▏      | 16/50 [08:51<16:52, 29.79s/trial, best loss: -0.8311015420747595]"
          ]
        },
        {
          "output_type": "stream",
          "name": "stderr",
          "text": [
            "/usr/local/lib/python3.10/dist-packages/xgboost/sklearn.py:835: UserWarning: `eval_metric` in `fit` method is deprecated for better compatibility with scikit-learn, use `eval_metric` in constructor or`set_params` instead.\n",
            "  warnings.warn(\n",
            "\n",
            "/usr/local/lib/python3.10/dist-packages/xgboost/sklearn.py:835: UserWarning: `early_stopping_rounds` in `fit` method is deprecated for better compatibility with scikit-learn, use `early_stopping_rounds` in constructor or`set_params` instead.\n",
            "  warnings.warn(\n",
            "\n"
          ]
        },
        {
          "output_type": "stream",
          "name": "stdout",
          "text": [
            "[0]\tvalidation_0-auc:0.83088\tvalidation_1-auc:0.81336\n",
            "[1]\tvalidation_0-auc:0.82480\tvalidation_1-auc:0.80486\n",
            "[2]\tvalidation_0-auc:0.84040\tvalidation_1-auc:0.81945\n",
            "[3]\tvalidation_0-auc:0.84464\tvalidation_1-auc:0.82261\n",
            "[4]\tvalidation_0-auc:0.84916\tvalidation_1-auc:0.82260\n",
            "[5]\tvalidation_0-auc:0.85555\tvalidation_1-auc:0.82713\n",
            "[6]\tvalidation_0-auc:0.85987\tvalidation_1-auc:0.82875\n",
            "[7]\tvalidation_0-auc:0.86258\tvalidation_1-auc:0.82902\n",
            "[8]\tvalidation_0-auc:0.86844\tvalidation_1-auc:0.83120\n",
            "[9]\tvalidation_0-auc:0.86939\tvalidation_1-auc:0.83181\n",
            " 32%|███▏      | 16/50 [09:04<16:52, 29.79s/trial, best loss: -0.8311015420747595]"
          ]
        },
        {
          "output_type": "stream",
          "name": "stderr",
          "text": [
            "/usr/local/lib/python3.10/dist-packages/xgboost/sklearn.py:835: UserWarning: `eval_metric` in `fit` method is deprecated for better compatibility with scikit-learn, use `eval_metric` in constructor or`set_params` instead.\n",
            "  warnings.warn(\n",
            "\n",
            "/usr/local/lib/python3.10/dist-packages/xgboost/sklearn.py:835: UserWarning: `early_stopping_rounds` in `fit` method is deprecated for better compatibility with scikit-learn, use `early_stopping_rounds` in constructor or`set_params` instead.\n",
            "  warnings.warn(\n",
            "\n"
          ]
        },
        {
          "output_type": "stream",
          "name": "stdout",
          "text": [
            "[0]\tvalidation_0-auc:0.82592\tvalidation_1-auc:0.80252\n",
            "[1]\tvalidation_0-auc:0.82694\tvalidation_1-auc:0.80215\n",
            "[2]\tvalidation_0-auc:0.83890\tvalidation_1-auc:0.81149\n",
            "[3]\tvalidation_0-auc:0.85028\tvalidation_1-auc:0.81893\n",
            "[4]\tvalidation_0-auc:0.86164\tvalidation_1-auc:0.82570\n",
            "[5]\tvalidation_0-auc:0.86688\tvalidation_1-auc:0.82537\n",
            "[6]\tvalidation_0-auc:0.86833\tvalidation_1-auc:0.82711\n",
            "[7]\tvalidation_0-auc:0.87114\tvalidation_1-auc:0.82693\n",
            "[8]\tvalidation_0-auc:0.87461\tvalidation_1-auc:0.82840\n",
            "[9]\tvalidation_0-auc:0.87651\tvalidation_1-auc:0.82882\n",
            " 34%|███▍      | 17/50 [09:17<17:59, 32.71s/trial, best loss: -0.8311015420747595]"
          ]
        },
        {
          "output_type": "stream",
          "name": "stderr",
          "text": [
            "/usr/local/lib/python3.10/dist-packages/xgboost/sklearn.py:835: UserWarning: `eval_metric` in `fit` method is deprecated for better compatibility with scikit-learn, use `eval_metric` in constructor or`set_params` instead.\n",
            "  warnings.warn(\n",
            "\n",
            "/usr/local/lib/python3.10/dist-packages/xgboost/sklearn.py:835: UserWarning: `early_stopping_rounds` in `fit` method is deprecated for better compatibility with scikit-learn, use `early_stopping_rounds` in constructor or`set_params` instead.\n",
            "  warnings.warn(\n",
            "\n"
          ]
        },
        {
          "output_type": "stream",
          "name": "stdout",
          "text": [
            "[0]\tvalidation_0-auc:0.83355\tvalidation_1-auc:0.81259\n",
            "[1]\tvalidation_0-auc:0.82625\tvalidation_1-auc:0.79867\n",
            "[2]\tvalidation_0-auc:0.83633\tvalidation_1-auc:0.80652\n",
            "[3]\tvalidation_0-auc:0.84408\tvalidation_1-auc:0.81193\n",
            "[4]\tvalidation_0-auc:0.84581\tvalidation_1-auc:0.81518\n",
            "[5]\tvalidation_0-auc:0.84711\tvalidation_1-auc:0.81713\n",
            "[6]\tvalidation_0-auc:0.84751\tvalidation_1-auc:0.81740\n",
            "[7]\tvalidation_0-auc:0.84974\tvalidation_1-auc:0.81842\n",
            "[8]\tvalidation_0-auc:0.85010\tvalidation_1-auc:0.81872\n",
            "[9]\tvalidation_0-auc:0.85043\tvalidation_1-auc:0.81977\n",
            " 34%|███▍      | 17/50 [09:29<17:59, 32.71s/trial, best loss: -0.8311015420747595]"
          ]
        },
        {
          "output_type": "stream",
          "name": "stderr",
          "text": [
            "/usr/local/lib/python3.10/dist-packages/xgboost/sklearn.py:835: UserWarning: `eval_metric` in `fit` method is deprecated for better compatibility with scikit-learn, use `eval_metric` in constructor or`set_params` instead.\n",
            "  warnings.warn(\n",
            "\n",
            "/usr/local/lib/python3.10/dist-packages/xgboost/sklearn.py:835: UserWarning: `early_stopping_rounds` in `fit` method is deprecated for better compatibility with scikit-learn, use `early_stopping_rounds` in constructor or`set_params` instead.\n",
            "  warnings.warn(\n",
            "\n"
          ]
        },
        {
          "output_type": "stream",
          "name": "stdout",
          "text": [
            "[0]\tvalidation_0-auc:0.82884\tvalidation_1-auc:0.81164\n",
            "[1]\tvalidation_0-auc:0.82144\tvalidation_1-auc:0.80339\n",
            "[2]\tvalidation_0-auc:0.83228\tvalidation_1-auc:0.81526\n",
            "[3]\tvalidation_0-auc:0.83507\tvalidation_1-auc:0.81841\n",
            "[4]\tvalidation_0-auc:0.83832\tvalidation_1-auc:0.81981\n",
            "[5]\tvalidation_0-auc:0.83897\tvalidation_1-auc:0.81987\n",
            "[6]\tvalidation_0-auc:0.84117\tvalidation_1-auc:0.82263\n",
            "[7]\tvalidation_0-auc:0.84202\tvalidation_1-auc:0.82224\n",
            "[8]\tvalidation_0-auc:0.84459\tvalidation_1-auc:0.82348\n",
            "[9]\tvalidation_0-auc:0.84514\tvalidation_1-auc:0.82343\n",
            " 34%|███▍      | 17/50 [09:39<17:59, 32.71s/trial, best loss: -0.8311015420747595]"
          ]
        },
        {
          "output_type": "stream",
          "name": "stderr",
          "text": [
            "/usr/local/lib/python3.10/dist-packages/xgboost/sklearn.py:835: UserWarning: `eval_metric` in `fit` method is deprecated for better compatibility with scikit-learn, use `eval_metric` in constructor or`set_params` instead.\n",
            "  warnings.warn(\n",
            "\n",
            "/usr/local/lib/python3.10/dist-packages/xgboost/sklearn.py:835: UserWarning: `early_stopping_rounds` in `fit` method is deprecated for better compatibility with scikit-learn, use `early_stopping_rounds` in constructor or`set_params` instead.\n",
            "  warnings.warn(\n",
            "\n"
          ]
        },
        {
          "output_type": "stream",
          "name": "stdout",
          "text": [
            "[0]\tvalidation_0-auc:0.82618\tvalidation_1-auc:0.80429\n",
            "[1]\tvalidation_0-auc:0.82802\tvalidation_1-auc:0.80506\n",
            "[2]\tvalidation_0-auc:0.83525\tvalidation_1-auc:0.80909\n",
            "[3]\tvalidation_0-auc:0.83720\tvalidation_1-auc:0.81046\n",
            "[4]\tvalidation_0-auc:0.83894\tvalidation_1-auc:0.81310\n",
            "[5]\tvalidation_0-auc:0.84433\tvalidation_1-auc:0.81730\n",
            "[6]\tvalidation_0-auc:0.84488\tvalidation_1-auc:0.81815\n",
            "[7]\tvalidation_0-auc:0.84588\tvalidation_1-auc:0.81830\n",
            "[8]\tvalidation_0-auc:0.84755\tvalidation_1-auc:0.81937\n",
            "[9]\tvalidation_0-auc:0.85243\tvalidation_1-auc:0.82469\n",
            " 36%|███▌      | 18/50 [09:51<17:30, 32.82s/trial, best loss: -0.8311015420747595]"
          ]
        },
        {
          "output_type": "stream",
          "name": "stderr",
          "text": [
            "/usr/local/lib/python3.10/dist-packages/xgboost/sklearn.py:835: UserWarning: `eval_metric` in `fit` method is deprecated for better compatibility with scikit-learn, use `eval_metric` in constructor or`set_params` instead.\n",
            "  warnings.warn(\n",
            "\n",
            "/usr/local/lib/python3.10/dist-packages/xgboost/sklearn.py:835: UserWarning: `early_stopping_rounds` in `fit` method is deprecated for better compatibility with scikit-learn, use `early_stopping_rounds` in constructor or`set_params` instead.\n",
            "  warnings.warn(\n",
            "\n"
          ]
        },
        {
          "output_type": "stream",
          "name": "stdout",
          "text": [
            "[0]\tvalidation_0-auc:0.83288\tvalidation_1-auc:0.81057\n",
            "[1]\tvalidation_0-auc:0.82578\tvalidation_1-auc:0.79734\n",
            "[2]\tvalidation_0-auc:0.84086\tvalidation_1-auc:0.81194\n",
            "[3]\tvalidation_0-auc:0.84594\tvalidation_1-auc:0.81388\n",
            "[4]\tvalidation_0-auc:0.85202\tvalidation_1-auc:0.81784\n",
            "[5]\tvalidation_0-auc:0.85440\tvalidation_1-auc:0.81808\n",
            "[6]\tvalidation_0-auc:0.85677\tvalidation_1-auc:0.81788\n",
            "[7]\tvalidation_0-auc:0.86006\tvalidation_1-auc:0.81786\n",
            "[8]\tvalidation_0-auc:0.86352\tvalidation_1-auc:0.81862\n",
            "[9]\tvalidation_0-auc:0.86863\tvalidation_1-auc:0.82290\n",
            " 36%|███▌      | 18/50 [10:02<17:30, 32.82s/trial, best loss: -0.8311015420747595]"
          ]
        },
        {
          "output_type": "stream",
          "name": "stderr",
          "text": [
            "/usr/local/lib/python3.10/dist-packages/xgboost/sklearn.py:835: UserWarning: `eval_metric` in `fit` method is deprecated for better compatibility with scikit-learn, use `eval_metric` in constructor or`set_params` instead.\n",
            "  warnings.warn(\n",
            "\n",
            "/usr/local/lib/python3.10/dist-packages/xgboost/sklearn.py:835: UserWarning: `early_stopping_rounds` in `fit` method is deprecated for better compatibility with scikit-learn, use `early_stopping_rounds` in constructor or`set_params` instead.\n",
            "  warnings.warn(\n",
            "\n"
          ]
        },
        {
          "output_type": "stream",
          "name": "stdout",
          "text": [
            "[0]\tvalidation_0-auc:0.83025\tvalidation_1-auc:0.81392\n",
            "[1]\tvalidation_0-auc:0.82273\tvalidation_1-auc:0.80378\n",
            "[2]\tvalidation_0-auc:0.83782\tvalidation_1-auc:0.82079\n",
            "[3]\tvalidation_0-auc:0.84234\tvalidation_1-auc:0.82311\n",
            "[4]\tvalidation_0-auc:0.84595\tvalidation_1-auc:0.82445\n",
            "[5]\tvalidation_0-auc:0.84755\tvalidation_1-auc:0.82502\n",
            "[6]\tvalidation_0-auc:0.85104\tvalidation_1-auc:0.82802\n",
            "[7]\tvalidation_0-auc:0.85535\tvalidation_1-auc:0.82901\n",
            "[8]\tvalidation_0-auc:0.85886\tvalidation_1-auc:0.82864\n",
            "[9]\tvalidation_0-auc:0.86299\tvalidation_1-auc:0.83029\n",
            " 36%|███▌      | 18/50 [10:14<17:30, 32.82s/trial, best loss: -0.8311015420747595]"
          ]
        },
        {
          "output_type": "stream",
          "name": "stderr",
          "text": [
            "/usr/local/lib/python3.10/dist-packages/xgboost/sklearn.py:835: UserWarning: `eval_metric` in `fit` method is deprecated for better compatibility with scikit-learn, use `eval_metric` in constructor or`set_params` instead.\n",
            "  warnings.warn(\n",
            "\n",
            "/usr/local/lib/python3.10/dist-packages/xgboost/sklearn.py:835: UserWarning: `early_stopping_rounds` in `fit` method is deprecated for better compatibility with scikit-learn, use `early_stopping_rounds` in constructor or`set_params` instead.\n",
            "  warnings.warn(\n",
            "\n"
          ]
        },
        {
          "output_type": "stream",
          "name": "stdout",
          "text": [
            "[0]\tvalidation_0-auc:0.82679\tvalidation_1-auc:0.80164\n",
            "[1]\tvalidation_0-auc:0.83279\tvalidation_1-auc:0.80088\n",
            "[2]\tvalidation_0-auc:0.84567\tvalidation_1-auc:0.81378\n",
            "[3]\tvalidation_0-auc:0.84966\tvalidation_1-auc:0.81661\n",
            "[4]\tvalidation_0-auc:0.85309\tvalidation_1-auc:0.82102\n",
            "[5]\tvalidation_0-auc:0.85702\tvalidation_1-auc:0.82214\n",
            "[6]\tvalidation_0-auc:0.86180\tvalidation_1-auc:0.82602\n",
            "[7]\tvalidation_0-auc:0.86490\tvalidation_1-auc:0.82529\n",
            "[8]\tvalidation_0-auc:0.86635\tvalidation_1-auc:0.82588\n",
            "[9]\tvalidation_0-auc:0.86924\tvalidation_1-auc:0.82681\n",
            " 38%|███▊      | 19/50 [10:26<17:24, 33.69s/trial, best loss: -0.8311015420747595]"
          ]
        },
        {
          "output_type": "stream",
          "name": "stderr",
          "text": [
            "/usr/local/lib/python3.10/dist-packages/xgboost/sklearn.py:835: UserWarning: `eval_metric` in `fit` method is deprecated for better compatibility with scikit-learn, use `eval_metric` in constructor or`set_params` instead.\n",
            "  warnings.warn(\n",
            "\n",
            "/usr/local/lib/python3.10/dist-packages/xgboost/sklearn.py:835: UserWarning: `early_stopping_rounds` in `fit` method is deprecated for better compatibility with scikit-learn, use `early_stopping_rounds` in constructor or`set_params` instead.\n",
            "  warnings.warn(\n",
            "\n"
          ]
        },
        {
          "output_type": "stream",
          "name": "stdout",
          "text": [
            "[0]\tvalidation_0-auc:0.83449\tvalidation_1-auc:0.81129\n",
            "[1]\tvalidation_0-auc:0.83301\tvalidation_1-auc:0.80129\n",
            "[2]\tvalidation_0-auc:0.85082\tvalidation_1-auc:0.80644\n",
            "[3]\tvalidation_0-auc:0.86171\tvalidation_1-auc:0.81367\n",
            "[4]\tvalidation_0-auc:0.87105\tvalidation_1-auc:0.81916\n",
            "[5]\tvalidation_0-auc:0.87726\tvalidation_1-auc:0.82262\n",
            "[6]\tvalidation_0-auc:0.88162\tvalidation_1-auc:0.82574\n",
            "[7]\tvalidation_0-auc:0.88945\tvalidation_1-auc:0.82627\n",
            "[8]\tvalidation_0-auc:0.89467\tvalidation_1-auc:0.82868\n",
            "[9]\tvalidation_0-auc:0.89742\tvalidation_1-auc:0.82784\n",
            " 38%|███▊      | 19/50 [10:41<17:24, 33.69s/trial, best loss: -0.8311015420747595]"
          ]
        },
        {
          "output_type": "stream",
          "name": "stderr",
          "text": [
            "/usr/local/lib/python3.10/dist-packages/xgboost/sklearn.py:835: UserWarning: `eval_metric` in `fit` method is deprecated for better compatibility with scikit-learn, use `eval_metric` in constructor or`set_params` instead.\n",
            "  warnings.warn(\n",
            "\n",
            "/usr/local/lib/python3.10/dist-packages/xgboost/sklearn.py:835: UserWarning: `early_stopping_rounds` in `fit` method is deprecated for better compatibility with scikit-learn, use `early_stopping_rounds` in constructor or`set_params` instead.\n",
            "  warnings.warn(\n",
            "\n"
          ]
        },
        {
          "output_type": "stream",
          "name": "stdout",
          "text": [
            "[0]\tvalidation_0-auc:0.83115\tvalidation_1-auc:0.81132\n",
            "[1]\tvalidation_0-auc:0.82868\tvalidation_1-auc:0.80539\n",
            "[2]\tvalidation_0-auc:0.84503\tvalidation_1-auc:0.82035\n",
            "[3]\tvalidation_0-auc:0.85315\tvalidation_1-auc:0.82333\n",
            "[4]\tvalidation_0-auc:0.85977\tvalidation_1-auc:0.82607\n",
            "[5]\tvalidation_0-auc:0.86652\tvalidation_1-auc:0.82810\n",
            "[6]\tvalidation_0-auc:0.87166\tvalidation_1-auc:0.82842\n",
            "[7]\tvalidation_0-auc:0.87456\tvalidation_1-auc:0.82807\n",
            "[8]\tvalidation_0-auc:0.88514\tvalidation_1-auc:0.82791\n",
            "[9]\tvalidation_0-auc:0.88730\tvalidation_1-auc:0.82814\n",
            " 38%|███▊      | 19/50 [10:55<17:24, 33.69s/trial, best loss: -0.8311015420747595]"
          ]
        },
        {
          "output_type": "stream",
          "name": "stderr",
          "text": [
            "/usr/local/lib/python3.10/dist-packages/xgboost/sklearn.py:835: UserWarning: `eval_metric` in `fit` method is deprecated for better compatibility with scikit-learn, use `eval_metric` in constructor or`set_params` instead.\n",
            "  warnings.warn(\n",
            "\n",
            "/usr/local/lib/python3.10/dist-packages/xgboost/sklearn.py:835: UserWarning: `early_stopping_rounds` in `fit` method is deprecated for better compatibility with scikit-learn, use `early_stopping_rounds` in constructor or`set_params` instead.\n",
            "  warnings.warn(\n",
            "\n"
          ]
        },
        {
          "output_type": "stream",
          "name": "stdout",
          "text": [
            "[0]\tvalidation_0-auc:0.82664\tvalidation_1-auc:0.80285\n",
            "[1]\tvalidation_0-auc:0.83766\tvalidation_1-auc:0.80299\n",
            "[2]\tvalidation_0-auc:0.85428\tvalidation_1-auc:0.81254\n",
            "[3]\tvalidation_0-auc:0.86628\tvalidation_1-auc:0.82039\n",
            "[4]\tvalidation_0-auc:0.87203\tvalidation_1-auc:0.82263\n",
            "[5]\tvalidation_0-auc:0.87711\tvalidation_1-auc:0.82283\n",
            "[6]\tvalidation_0-auc:0.88158\tvalidation_1-auc:0.82442\n",
            "[7]\tvalidation_0-auc:0.88599\tvalidation_1-auc:0.82643\n",
            "[8]\tvalidation_0-auc:0.89033\tvalidation_1-auc:0.82785\n",
            "[9]\tvalidation_0-auc:0.89390\tvalidation_1-auc:0.82870\n",
            " 40%|████      | 20/50 [11:10<18:20, 36.68s/trial, best loss: -0.8311015420747595]"
          ]
        },
        {
          "output_type": "stream",
          "name": "stderr",
          "text": [
            "/usr/local/lib/python3.10/dist-packages/xgboost/sklearn.py:835: UserWarning: `eval_metric` in `fit` method is deprecated for better compatibility with scikit-learn, use `eval_metric` in constructor or`set_params` instead.\n",
            "  warnings.warn(\n",
            "\n",
            "/usr/local/lib/python3.10/dist-packages/xgboost/sklearn.py:835: UserWarning: `early_stopping_rounds` in `fit` method is deprecated for better compatibility with scikit-learn, use `early_stopping_rounds` in constructor or`set_params` instead.\n",
            "  warnings.warn(\n",
            "\n"
          ]
        },
        {
          "output_type": "stream",
          "name": "stdout",
          "text": [
            "[0]\tvalidation_0-auc:0.82467\tvalidation_1-auc:0.81080\n",
            "[1]\tvalidation_0-auc:0.81556\tvalidation_1-auc:0.79770\n",
            "[2]\tvalidation_0-auc:0.82897\tvalidation_1-auc:0.81081\n",
            "[3]\tvalidation_0-auc:0.83548\tvalidation_1-auc:0.81346\n",
            "[4]\tvalidation_0-auc:0.84344\tvalidation_1-auc:0.82016\n",
            "[5]\tvalidation_0-auc:0.84546\tvalidation_1-auc:0.82260\n",
            "[6]\tvalidation_0-auc:0.84851\tvalidation_1-auc:0.82538\n",
            "[7]\tvalidation_0-auc:0.85082\tvalidation_1-auc:0.82682\n",
            "[8]\tvalidation_0-auc:0.85214\tvalidation_1-auc:0.82879\n",
            "[9]\tvalidation_0-auc:0.85424\tvalidation_1-auc:0.82873\n",
            " 40%|████      | 20/50 [11:15<18:20, 36.68s/trial, best loss: -0.8311015420747595]"
          ]
        },
        {
          "output_type": "stream",
          "name": "stderr",
          "text": [
            "/usr/local/lib/python3.10/dist-packages/xgboost/sklearn.py:835: UserWarning: `eval_metric` in `fit` method is deprecated for better compatibility with scikit-learn, use `eval_metric` in constructor or`set_params` instead.\n",
            "  warnings.warn(\n",
            "\n",
            "/usr/local/lib/python3.10/dist-packages/xgboost/sklearn.py:835: UserWarning: `early_stopping_rounds` in `fit` method is deprecated for better compatibility with scikit-learn, use `early_stopping_rounds` in constructor or`set_params` instead.\n",
            "  warnings.warn(\n",
            "\n"
          ]
        },
        {
          "output_type": "stream",
          "name": "stdout",
          "text": [
            "[0]\tvalidation_0-auc:0.82032\tvalidation_1-auc:0.81271\n",
            "[1]\tvalidation_0-auc:0.81745\tvalidation_1-auc:0.80884\n",
            "[2]\tvalidation_0-auc:0.83004\tvalidation_1-auc:0.81995\n",
            "[3]\tvalidation_0-auc:0.83714\tvalidation_1-auc:0.82488\n",
            "[4]\tvalidation_0-auc:0.83852\tvalidation_1-auc:0.82612\n",
            "[5]\tvalidation_0-auc:0.84068\tvalidation_1-auc:0.82868\n",
            "[6]\tvalidation_0-auc:0.84164\tvalidation_1-auc:0.82925\n",
            "[7]\tvalidation_0-auc:0.84238\tvalidation_1-auc:0.82905\n",
            "[8]\tvalidation_0-auc:0.84449\tvalidation_1-auc:0.83160\n",
            "[9]\tvalidation_0-auc:0.84685\tvalidation_1-auc:0.83256\n",
            " 40%|████      | 20/50 [11:23<18:20, 36.68s/trial, best loss: -0.8311015420747595]"
          ]
        },
        {
          "output_type": "stream",
          "name": "stderr",
          "text": [
            "/usr/local/lib/python3.10/dist-packages/xgboost/sklearn.py:835: UserWarning: `eval_metric` in `fit` method is deprecated for better compatibility with scikit-learn, use `eval_metric` in constructor or`set_params` instead.\n",
            "  warnings.warn(\n",
            "\n",
            "/usr/local/lib/python3.10/dist-packages/xgboost/sklearn.py:835: UserWarning: `early_stopping_rounds` in `fit` method is deprecated for better compatibility with scikit-learn, use `early_stopping_rounds` in constructor or`set_params` instead.\n",
            "  warnings.warn(\n",
            "\n"
          ]
        },
        {
          "output_type": "stream",
          "name": "stdout",
          "text": [
            "[0]\tvalidation_0-auc:0.81551\tvalidation_1-auc:0.80198\n",
            "[1]\tvalidation_0-auc:0.81671\tvalidation_1-auc:0.79738\n",
            "[2]\tvalidation_0-auc:0.83683\tvalidation_1-auc:0.81783\n",
            "[3]\tvalidation_0-auc:0.83921\tvalidation_1-auc:0.82235\n",
            "[4]\tvalidation_0-auc:0.84325\tvalidation_1-auc:0.82526\n",
            "[5]\tvalidation_0-auc:0.84445\tvalidation_1-auc:0.82633\n",
            "[6]\tvalidation_0-auc:0.84679\tvalidation_1-auc:0.82721\n",
            "[7]\tvalidation_0-auc:0.84987\tvalidation_1-auc:0.82807\n",
            "[8]\tvalidation_0-auc:0.85111\tvalidation_1-auc:0.82780\n",
            "[9]\tvalidation_0-auc:0.85285\tvalidation_1-auc:0.83075\n",
            " 42%|████▏     | 21/50 [11:28<15:05, 31.22s/trial, best loss: -0.8311015420747595]"
          ]
        },
        {
          "output_type": "stream",
          "name": "stderr",
          "text": [
            "/usr/local/lib/python3.10/dist-packages/xgboost/sklearn.py:835: UserWarning: `eval_metric` in `fit` method is deprecated for better compatibility with scikit-learn, use `eval_metric` in constructor or`set_params` instead.\n",
            "  warnings.warn(\n",
            "\n",
            "/usr/local/lib/python3.10/dist-packages/xgboost/sklearn.py:835: UserWarning: `early_stopping_rounds` in `fit` method is deprecated for better compatibility with scikit-learn, use `early_stopping_rounds` in constructor or`set_params` instead.\n",
            "  warnings.warn(\n",
            "\n"
          ]
        },
        {
          "output_type": "stream",
          "name": "stdout",
          "text": [
            "[0]\tvalidation_0-auc:0.82382\tvalidation_1-auc:0.81060\n",
            "[1]\tvalidation_0-auc:0.81881\tvalidation_1-auc:0.80051\n",
            "[2]\tvalidation_0-auc:0.83532\tvalidation_1-auc:0.81762\n",
            "[3]\tvalidation_0-auc:0.84280\tvalidation_1-auc:0.82123\n",
            "[4]\tvalidation_0-auc:0.84617\tvalidation_1-auc:0.82339\n",
            "[5]\tvalidation_0-auc:0.84735\tvalidation_1-auc:0.82546\n",
            "[6]\tvalidation_0-auc:0.84893\tvalidation_1-auc:0.82681\n",
            "[7]\tvalidation_0-auc:0.85011\tvalidation_1-auc:0.82752\n",
            "[8]\tvalidation_0-auc:0.85255\tvalidation_1-auc:0.82978\n",
            "[9]\tvalidation_0-auc:0.85394\tvalidation_1-auc:0.82919\n",
            " 42%|████▏     | 21/50 [11:36<15:05, 31.22s/trial, best loss: -0.8311015420747595]"
          ]
        },
        {
          "output_type": "stream",
          "name": "stderr",
          "text": [
            "/usr/local/lib/python3.10/dist-packages/xgboost/sklearn.py:835: UserWarning: `eval_metric` in `fit` method is deprecated for better compatibility with scikit-learn, use `eval_metric` in constructor or`set_params` instead.\n",
            "  warnings.warn(\n",
            "\n",
            "/usr/local/lib/python3.10/dist-packages/xgboost/sklearn.py:835: UserWarning: `early_stopping_rounds` in `fit` method is deprecated for better compatibility with scikit-learn, use `early_stopping_rounds` in constructor or`set_params` instead.\n",
            "  warnings.warn(\n",
            "\n"
          ]
        },
        {
          "output_type": "stream",
          "name": "stdout",
          "text": [
            "[0]\tvalidation_0-auc:0.82041\tvalidation_1-auc:0.81195\n",
            "[1]\tvalidation_0-auc:0.81717\tvalidation_1-auc:0.80849\n",
            "[2]\tvalidation_0-auc:0.82934\tvalidation_1-auc:0.81894\n",
            "[3]\tvalidation_0-auc:0.83795\tvalidation_1-auc:0.82568\n",
            "[4]\tvalidation_0-auc:0.83898\tvalidation_1-auc:0.82754\n",
            "[5]\tvalidation_0-auc:0.84103\tvalidation_1-auc:0.82918\n",
            "[6]\tvalidation_0-auc:0.84172\tvalidation_1-auc:0.83073\n",
            "[7]\tvalidation_0-auc:0.84352\tvalidation_1-auc:0.83190\n",
            "[8]\tvalidation_0-auc:0.84579\tvalidation_1-auc:0.83396\n",
            "[9]\tvalidation_0-auc:0.84747\tvalidation_1-auc:0.83418\n",
            " 42%|████▏     | 21/50 [11:41<15:05, 31.22s/trial, best loss: -0.8311015420747595]"
          ]
        },
        {
          "output_type": "stream",
          "name": "stderr",
          "text": [
            "/usr/local/lib/python3.10/dist-packages/xgboost/sklearn.py:835: UserWarning: `eval_metric` in `fit` method is deprecated for better compatibility with scikit-learn, use `eval_metric` in constructor or`set_params` instead.\n",
            "  warnings.warn(\n",
            "\n",
            "/usr/local/lib/python3.10/dist-packages/xgboost/sklearn.py:835: UserWarning: `early_stopping_rounds` in `fit` method is deprecated for better compatibility with scikit-learn, use `early_stopping_rounds` in constructor or`set_params` instead.\n",
            "  warnings.warn(\n",
            "\n"
          ]
        },
        {
          "output_type": "stream",
          "name": "stdout",
          "text": [
            "[0]\tvalidation_0-auc:0.81886\tvalidation_1-auc:0.80749\n",
            "[1]\tvalidation_0-auc:0.81605\tvalidation_1-auc:0.80133\n",
            "[2]\tvalidation_0-auc:0.83465\tvalidation_1-auc:0.81918\n",
            "[3]\tvalidation_0-auc:0.83820\tvalidation_1-auc:0.82340\n",
            "[4]\tvalidation_0-auc:0.84271\tvalidation_1-auc:0.82682\n",
            "[5]\tvalidation_0-auc:0.84379\tvalidation_1-auc:0.82735\n",
            "[6]\tvalidation_0-auc:0.84612\tvalidation_1-auc:0.82839\n",
            "[7]\tvalidation_0-auc:0.84860\tvalidation_1-auc:0.82839\n",
            "[8]\tvalidation_0-auc:0.85034\tvalidation_1-auc:0.82864\n",
            "[9]\tvalidation_0-auc:0.85300\tvalidation_1-auc:0.83074\n",
            " 44%|████▍     | 22/50 [11:49<13:06, 28.10s/trial, best loss: -0.8315661922110187]"
          ]
        },
        {
          "output_type": "stream",
          "name": "stderr",
          "text": [
            "/usr/local/lib/python3.10/dist-packages/xgboost/sklearn.py:835: UserWarning: `eval_metric` in `fit` method is deprecated for better compatibility with scikit-learn, use `eval_metric` in constructor or`set_params` instead.\n",
            "  warnings.warn(\n",
            "\n",
            "/usr/local/lib/python3.10/dist-packages/xgboost/sklearn.py:835: UserWarning: `early_stopping_rounds` in `fit` method is deprecated for better compatibility with scikit-learn, use `early_stopping_rounds` in constructor or`set_params` instead.\n",
            "  warnings.warn(\n",
            "\n"
          ]
        },
        {
          "output_type": "stream",
          "name": "stdout",
          "text": [
            "[0]\tvalidation_0-auc:0.82668\tvalidation_1-auc:0.81048\n",
            "[1]\tvalidation_0-auc:0.82073\tvalidation_1-auc:0.79838\n",
            "[2]\tvalidation_0-auc:0.83313\tvalidation_1-auc:0.81188\n",
            "[3]\tvalidation_0-auc:0.84272\tvalidation_1-auc:0.81646\n",
            "[4]\tvalidation_0-auc:0.84947\tvalidation_1-auc:0.82275\n",
            "[5]\tvalidation_0-auc:0.85362\tvalidation_1-auc:0.82397\n",
            "[6]\tvalidation_0-auc:0.85703\tvalidation_1-auc:0.82751\n",
            "[7]\tvalidation_0-auc:0.85932\tvalidation_1-auc:0.82786\n",
            "[8]\tvalidation_0-auc:0.86058\tvalidation_1-auc:0.82986\n",
            "[9]\tvalidation_0-auc:0.86234\tvalidation_1-auc:0.83006\n",
            " 44%|████▍     | 22/50 [11:55<13:06, 28.10s/trial, best loss: -0.8315661922110187]"
          ]
        },
        {
          "output_type": "stream",
          "name": "stderr",
          "text": [
            "/usr/local/lib/python3.10/dist-packages/xgboost/sklearn.py:835: UserWarning: `eval_metric` in `fit` method is deprecated for better compatibility with scikit-learn, use `eval_metric` in constructor or`set_params` instead.\n",
            "  warnings.warn(\n",
            "\n",
            "/usr/local/lib/python3.10/dist-packages/xgboost/sklearn.py:835: UserWarning: `early_stopping_rounds` in `fit` method is deprecated for better compatibility with scikit-learn, use `early_stopping_rounds` in constructor or`set_params` instead.\n",
            "  warnings.warn(\n",
            "\n"
          ]
        },
        {
          "output_type": "stream",
          "name": "stdout",
          "text": [
            "[0]\tvalidation_0-auc:0.82389\tvalidation_1-auc:0.81158\n",
            "[1]\tvalidation_0-auc:0.81562\tvalidation_1-auc:0.80227\n",
            "[2]\tvalidation_0-auc:0.83024\tvalidation_1-auc:0.81816\n",
            "[3]\tvalidation_0-auc:0.83789\tvalidation_1-auc:0.82238\n",
            "[4]\tvalidation_0-auc:0.84123\tvalidation_1-auc:0.82558\n",
            "[5]\tvalidation_0-auc:0.84472\tvalidation_1-auc:0.82843\n",
            "[6]\tvalidation_0-auc:0.84484\tvalidation_1-auc:0.82839\n",
            "[7]\tvalidation_0-auc:0.84724\tvalidation_1-auc:0.82938\n",
            "[8]\tvalidation_0-auc:0.85185\tvalidation_1-auc:0.83206\n",
            "[9]\tvalidation_0-auc:0.85364\tvalidation_1-auc:0.83436\n",
            " 44%|████▍     | 22/50 [12:04<13:06, 28.10s/trial, best loss: -0.8315661922110187]"
          ]
        },
        {
          "output_type": "stream",
          "name": "stderr",
          "text": [
            "/usr/local/lib/python3.10/dist-packages/xgboost/sklearn.py:835: UserWarning: `eval_metric` in `fit` method is deprecated for better compatibility with scikit-learn, use `eval_metric` in constructor or`set_params` instead.\n",
            "  warnings.warn(\n",
            "\n",
            "/usr/local/lib/python3.10/dist-packages/xgboost/sklearn.py:835: UserWarning: `early_stopping_rounds` in `fit` method is deprecated for better compatibility with scikit-learn, use `early_stopping_rounds` in constructor or`set_params` instead.\n",
            "  warnings.warn(\n",
            "\n"
          ]
        },
        {
          "output_type": "stream",
          "name": "stdout",
          "text": [
            "[0]\tvalidation_0-auc:0.82129\tvalidation_1-auc:0.80796\n",
            "[1]\tvalidation_0-auc:0.81954\tvalidation_1-auc:0.80131\n",
            "[2]\tvalidation_0-auc:0.84090\tvalidation_1-auc:0.82325\n",
            "[3]\tvalidation_0-auc:0.84453\tvalidation_1-auc:0.82513\n",
            "[4]\tvalidation_0-auc:0.84659\tvalidation_1-auc:0.82549\n",
            "[5]\tvalidation_0-auc:0.84994\tvalidation_1-auc:0.82925\n",
            "[6]\tvalidation_0-auc:0.85200\tvalidation_1-auc:0.82972\n",
            "[7]\tvalidation_0-auc:0.85471\tvalidation_1-auc:0.82982\n",
            "[8]\tvalidation_0-auc:0.85652\tvalidation_1-auc:0.83084\n",
            "[9]\tvalidation_0-auc:0.85883\tvalidation_1-auc:0.83128\n",
            " 46%|████▌     | 23/50 [12:10<11:37, 25.82s/trial, best loss: -0.8318982775267975]"
          ]
        },
        {
          "output_type": "stream",
          "name": "stderr",
          "text": [
            "/usr/local/lib/python3.10/dist-packages/xgboost/sklearn.py:835: UserWarning: `eval_metric` in `fit` method is deprecated for better compatibility with scikit-learn, use `eval_metric` in constructor or`set_params` instead.\n",
            "  warnings.warn(\n",
            "\n",
            "/usr/local/lib/python3.10/dist-packages/xgboost/sklearn.py:835: UserWarning: `early_stopping_rounds` in `fit` method is deprecated for better compatibility with scikit-learn, use `early_stopping_rounds` in constructor or`set_params` instead.\n",
            "  warnings.warn(\n",
            "\n"
          ]
        },
        {
          "output_type": "stream",
          "name": "stdout",
          "text": [
            "[0]\tvalidation_0-auc:0.82665\tvalidation_1-auc:0.81053\n",
            "[1]\tvalidation_0-auc:0.82600\tvalidation_1-auc:0.80314\n",
            "[2]\tvalidation_0-auc:0.83671\tvalidation_1-auc:0.81495\n",
            "[3]\tvalidation_0-auc:0.84619\tvalidation_1-auc:0.81899\n",
            "[4]\tvalidation_0-auc:0.85015\tvalidation_1-auc:0.82372\n",
            "[5]\tvalidation_0-auc:0.85543\tvalidation_1-auc:0.82570\n",
            "[6]\tvalidation_0-auc:0.85843\tvalidation_1-auc:0.82849\n",
            "[7]\tvalidation_0-auc:0.85986\tvalidation_1-auc:0.82935\n",
            "[8]\tvalidation_0-auc:0.86101\tvalidation_1-auc:0.83073\n",
            "[9]\tvalidation_0-auc:0.86263\tvalidation_1-auc:0.83027\n",
            " 46%|████▌     | 23/50 [12:18<11:37, 25.82s/trial, best loss: -0.8318982775267975]"
          ]
        },
        {
          "output_type": "stream",
          "name": "stderr",
          "text": [
            "/usr/local/lib/python3.10/dist-packages/xgboost/sklearn.py:835: UserWarning: `eval_metric` in `fit` method is deprecated for better compatibility with scikit-learn, use `eval_metric` in constructor or`set_params` instead.\n",
            "  warnings.warn(\n",
            "\n",
            "/usr/local/lib/python3.10/dist-packages/xgboost/sklearn.py:835: UserWarning: `early_stopping_rounds` in `fit` method is deprecated for better compatibility with scikit-learn, use `early_stopping_rounds` in constructor or`set_params` instead.\n",
            "  warnings.warn(\n",
            "\n"
          ]
        },
        {
          "output_type": "stream",
          "name": "stdout",
          "text": [
            "[0]\tvalidation_0-auc:0.82381\tvalidation_1-auc:0.81210\n",
            "[1]\tvalidation_0-auc:0.81561\tvalidation_1-auc:0.80239\n",
            "[2]\tvalidation_0-auc:0.82948\tvalidation_1-auc:0.81716\n",
            "[3]\tvalidation_0-auc:0.83750\tvalidation_1-auc:0.82243\n",
            "[4]\tvalidation_0-auc:0.84102\tvalidation_1-auc:0.82545\n",
            "[5]\tvalidation_0-auc:0.84480\tvalidation_1-auc:0.82851\n",
            "[6]\tvalidation_0-auc:0.84484\tvalidation_1-auc:0.82884\n",
            "[7]\tvalidation_0-auc:0.84635\tvalidation_1-auc:0.83068\n",
            "[8]\tvalidation_0-auc:0.85104\tvalidation_1-auc:0.83304\n",
            "[9]\tvalidation_0-auc:0.85318\tvalidation_1-auc:0.83509\n",
            " 46%|████▌     | 23/50 [12:24<11:37, 25.82s/trial, best loss: -0.8318982775267975]"
          ]
        },
        {
          "output_type": "stream",
          "name": "stderr",
          "text": [
            "/usr/local/lib/python3.10/dist-packages/xgboost/sklearn.py:835: UserWarning: `eval_metric` in `fit` method is deprecated for better compatibility with scikit-learn, use `eval_metric` in constructor or`set_params` instead.\n",
            "  warnings.warn(\n",
            "\n",
            "/usr/local/lib/python3.10/dist-packages/xgboost/sklearn.py:835: UserWarning: `early_stopping_rounds` in `fit` method is deprecated for better compatibility with scikit-learn, use `early_stopping_rounds` in constructor or`set_params` instead.\n",
            "  warnings.warn(\n",
            "\n"
          ]
        },
        {
          "output_type": "stream",
          "name": "stdout",
          "text": [
            "[0]\tvalidation_0-auc:0.82129\tvalidation_1-auc:0.80796\n",
            "[1]\tvalidation_0-auc:0.81963\tvalidation_1-auc:0.80141\n",
            "[2]\tvalidation_0-auc:0.84085\tvalidation_1-auc:0.82293\n",
            "[3]\tvalidation_0-auc:0.84443\tvalidation_1-auc:0.82502\n",
            "[4]\tvalidation_0-auc:0.84655\tvalidation_1-auc:0.82531\n",
            "[5]\tvalidation_0-auc:0.84989\tvalidation_1-auc:0.82919\n",
            "[6]\tvalidation_0-auc:0.85192\tvalidation_1-auc:0.82975\n",
            "[7]\tvalidation_0-auc:0.85404\tvalidation_1-auc:0.82982\n",
            "[8]\tvalidation_0-auc:0.85587\tvalidation_1-auc:0.83087\n",
            "[9]\tvalidation_0-auc:0.85803\tvalidation_1-auc:0.83010\n",
            " 48%|████▊     | 24/50 [12:32<10:47, 24.90s/trial, best loss: -0.8322307450784073]"
          ]
        },
        {
          "output_type": "stream",
          "name": "stderr",
          "text": [
            "/usr/local/lib/python3.10/dist-packages/xgboost/sklearn.py:835: UserWarning: `eval_metric` in `fit` method is deprecated for better compatibility with scikit-learn, use `eval_metric` in constructor or`set_params` instead.\n",
            "  warnings.warn(\n",
            "\n",
            "/usr/local/lib/python3.10/dist-packages/xgboost/sklearn.py:835: UserWarning: `early_stopping_rounds` in `fit` method is deprecated for better compatibility with scikit-learn, use `early_stopping_rounds` in constructor or`set_params` instead.\n",
            "  warnings.warn(\n",
            "\n"
          ]
        },
        {
          "output_type": "stream",
          "name": "stdout",
          "text": [
            "[0]\tvalidation_0-auc:0.82665\tvalidation_1-auc:0.81053\n",
            "[1]\tvalidation_0-auc:0.82066\tvalidation_1-auc:0.79846\n",
            "[2]\tvalidation_0-auc:0.83275\tvalidation_1-auc:0.81214\n",
            "[3]\tvalidation_0-auc:0.84193\tvalidation_1-auc:0.81759\n",
            "[4]\tvalidation_0-auc:0.84517\tvalidation_1-auc:0.81898\n",
            "[5]\tvalidation_0-auc:0.84950\tvalidation_1-auc:0.82249\n",
            "[6]\tvalidation_0-auc:0.85148\tvalidation_1-auc:0.82614\n",
            "[7]\tvalidation_0-auc:0.85534\tvalidation_1-auc:0.82894\n",
            "[8]\tvalidation_0-auc:0.85751\tvalidation_1-auc:0.83006\n",
            "[9]\tvalidation_0-auc:0.85883\tvalidation_1-auc:0.83030\n",
            " 48%|████▊     | 24/50 [12:38<10:47, 24.90s/trial, best loss: -0.8322307450784073]"
          ]
        },
        {
          "output_type": "stream",
          "name": "stderr",
          "text": [
            "/usr/local/lib/python3.10/dist-packages/xgboost/sklearn.py:835: UserWarning: `eval_metric` in `fit` method is deprecated for better compatibility with scikit-learn, use `eval_metric` in constructor or`set_params` instead.\n",
            "  warnings.warn(\n",
            "\n",
            "/usr/local/lib/python3.10/dist-packages/xgboost/sklearn.py:835: UserWarning: `early_stopping_rounds` in `fit` method is deprecated for better compatibility with scikit-learn, use `early_stopping_rounds` in constructor or`set_params` instead.\n",
            "  warnings.warn(\n",
            "\n"
          ]
        },
        {
          "output_type": "stream",
          "name": "stdout",
          "text": [
            "[0]\tvalidation_0-auc:0.82381\tvalidation_1-auc:0.81210\n",
            "[1]\tvalidation_0-auc:0.81531\tvalidation_1-auc:0.80276\n",
            "[2]\tvalidation_0-auc:0.82930\tvalidation_1-auc:0.81801\n",
            "[3]\tvalidation_0-auc:0.83824\tvalidation_1-auc:0.82359\n",
            "[4]\tvalidation_0-auc:0.84046\tvalidation_1-auc:0.82471\n",
            "[5]\tvalidation_0-auc:0.84396\tvalidation_1-auc:0.82734\n",
            "[6]\tvalidation_0-auc:0.84449\tvalidation_1-auc:0.82801\n",
            "[7]\tvalidation_0-auc:0.84572\tvalidation_1-auc:0.82902\n",
            "[8]\tvalidation_0-auc:0.84878\tvalidation_1-auc:0.83141\n",
            "[9]\tvalidation_0-auc:0.85097\tvalidation_1-auc:0.83376\n",
            " 48%|████▊     | 24/50 [12:47<10:47, 24.90s/trial, best loss: -0.8322307450784073]"
          ]
        },
        {
          "output_type": "stream",
          "name": "stderr",
          "text": [
            "/usr/local/lib/python3.10/dist-packages/xgboost/sklearn.py:835: UserWarning: `eval_metric` in `fit` method is deprecated for better compatibility with scikit-learn, use `eval_metric` in constructor or`set_params` instead.\n",
            "  warnings.warn(\n",
            "\n",
            "/usr/local/lib/python3.10/dist-packages/xgboost/sklearn.py:835: UserWarning: `early_stopping_rounds` in `fit` method is deprecated for better compatibility with scikit-learn, use `early_stopping_rounds` in constructor or`set_params` instead.\n",
            "  warnings.warn(\n",
            "\n"
          ]
        },
        {
          "output_type": "stream",
          "name": "stdout",
          "text": [
            "[0]\tvalidation_0-auc:0.82129\tvalidation_1-auc:0.80796\n",
            "[1]\tvalidation_0-auc:0.81582\tvalidation_1-auc:0.80170\n",
            "[2]\tvalidation_0-auc:0.83310\tvalidation_1-auc:0.81668\n",
            "[3]\tvalidation_0-auc:0.83983\tvalidation_1-auc:0.82326\n",
            "[4]\tvalidation_0-auc:0.84392\tvalidation_1-auc:0.82618\n",
            "[5]\tvalidation_0-auc:0.84652\tvalidation_1-auc:0.82867\n",
            "[6]\tvalidation_0-auc:0.84795\tvalidation_1-auc:0.82902\n",
            "[7]\tvalidation_0-auc:0.85027\tvalidation_1-auc:0.82846\n",
            "[8]\tvalidation_0-auc:0.85358\tvalidation_1-auc:0.82918\n",
            "[9]\tvalidation_0-auc:0.85684\tvalidation_1-auc:0.83163\n",
            " 50%|█████     | 25/50 [12:53<09:49, 23.58s/trial, best loss: -0.8322307450784073]"
          ]
        },
        {
          "output_type": "stream",
          "name": "stderr",
          "text": [
            "/usr/local/lib/python3.10/dist-packages/xgboost/sklearn.py:835: UserWarning: `eval_metric` in `fit` method is deprecated for better compatibility with scikit-learn, use `eval_metric` in constructor or`set_params` instead.\n",
            "  warnings.warn(\n",
            "\n",
            "/usr/local/lib/python3.10/dist-packages/xgboost/sklearn.py:835: UserWarning: `early_stopping_rounds` in `fit` method is deprecated for better compatibility with scikit-learn, use `early_stopping_rounds` in constructor or`set_params` instead.\n",
            "  warnings.warn(\n",
            "\n"
          ]
        },
        {
          "output_type": "stream",
          "name": "stdout",
          "text": [
            "[0]\tvalidation_0-auc:0.82890\tvalidation_1-auc:0.81086\n",
            "[1]\tvalidation_0-auc:0.82752\tvalidation_1-auc:0.80234\n",
            "[2]\tvalidation_0-auc:0.84004\tvalidation_1-auc:0.81371\n",
            "[3]\tvalidation_0-auc:0.84867\tvalidation_1-auc:0.82148\n",
            "[4]\tvalidation_0-auc:0.85472\tvalidation_1-auc:0.82694\n",
            "[5]\tvalidation_0-auc:0.85721\tvalidation_1-auc:0.82325\n",
            "[6]\tvalidation_0-auc:0.86188\tvalidation_1-auc:0.82652\n",
            "[7]\tvalidation_0-auc:0.86413\tvalidation_1-auc:0.82812\n",
            "[8]\tvalidation_0-auc:0.86717\tvalidation_1-auc:0.83065\n",
            "[9]\tvalidation_0-auc:0.86867\tvalidation_1-auc:0.82978\n",
            " 50%|█████     | 25/50 [13:02<09:49, 23.58s/trial, best loss: -0.8322307450784073]"
          ]
        },
        {
          "output_type": "stream",
          "name": "stderr",
          "text": [
            "/usr/local/lib/python3.10/dist-packages/xgboost/sklearn.py:835: UserWarning: `eval_metric` in `fit` method is deprecated for better compatibility with scikit-learn, use `eval_metric` in constructor or`set_params` instead.\n",
            "  warnings.warn(\n",
            "\n",
            "/usr/local/lib/python3.10/dist-packages/xgboost/sklearn.py:835: UserWarning: `early_stopping_rounds` in `fit` method is deprecated for better compatibility with scikit-learn, use `early_stopping_rounds` in constructor or`set_params` instead.\n",
            "  warnings.warn(\n",
            "\n"
          ]
        },
        {
          "output_type": "stream",
          "name": "stdout",
          "text": [
            "[0]\tvalidation_0-auc:0.82565\tvalidation_1-auc:0.81266\n",
            "[1]\tvalidation_0-auc:0.81865\tvalidation_1-auc:0.80400\n",
            "[2]\tvalidation_0-auc:0.83282\tvalidation_1-auc:0.82031\n",
            "[3]\tvalidation_0-auc:0.84161\tvalidation_1-auc:0.82524\n",
            "[4]\tvalidation_0-auc:0.84610\tvalidation_1-auc:0.82840\n",
            "[5]\tvalidation_0-auc:0.84829\tvalidation_1-auc:0.82794\n",
            "[6]\tvalidation_0-auc:0.85219\tvalidation_1-auc:0.82912\n",
            "[7]\tvalidation_0-auc:0.85543\tvalidation_1-auc:0.83231\n",
            "[8]\tvalidation_0-auc:0.86022\tvalidation_1-auc:0.83472\n",
            "[9]\tvalidation_0-auc:0.86146\tvalidation_1-auc:0.83361\n",
            " 50%|█████     | 25/50 [13:08<09:49, 23.58s/trial, best loss: -0.8322307450784073]"
          ]
        },
        {
          "output_type": "stream",
          "name": "stderr",
          "text": [
            "/usr/local/lib/python3.10/dist-packages/xgboost/sklearn.py:835: UserWarning: `eval_metric` in `fit` method is deprecated for better compatibility with scikit-learn, use `eval_metric` in constructor or`set_params` instead.\n",
            "  warnings.warn(\n",
            "\n",
            "/usr/local/lib/python3.10/dist-packages/xgboost/sklearn.py:835: UserWarning: `early_stopping_rounds` in `fit` method is deprecated for better compatibility with scikit-learn, use `early_stopping_rounds` in constructor or`set_params` instead.\n",
            "  warnings.warn(\n",
            "\n"
          ]
        },
        {
          "output_type": "stream",
          "name": "stdout",
          "text": [
            "[0]\tvalidation_0-auc:0.82344\tvalidation_1-auc:0.80864\n",
            "[1]\tvalidation_0-auc:0.82380\tvalidation_1-auc:0.80020\n",
            "[2]\tvalidation_0-auc:0.84421\tvalidation_1-auc:0.82321\n",
            "[3]\tvalidation_0-auc:0.84885\tvalidation_1-auc:0.82531\n",
            "[4]\tvalidation_0-auc:0.85245\tvalidation_1-auc:0.82801\n",
            "[5]\tvalidation_0-auc:0.85484\tvalidation_1-auc:0.82311\n",
            "[6]\tvalidation_0-auc:0.85950\tvalidation_1-auc:0.82616\n",
            "[7]\tvalidation_0-auc:0.86302\tvalidation_1-auc:0.82663\n",
            "[8]\tvalidation_0-auc:0.86549\tvalidation_1-auc:0.82945\n",
            "[9]\tvalidation_0-auc:0.86674\tvalidation_1-auc:0.82995\n",
            " 52%|█████▏    | 26/50 [13:17<09:25, 23.58s/trial, best loss: -0.8322307450784073]"
          ]
        },
        {
          "output_type": "stream",
          "name": "stderr",
          "text": [
            "/usr/local/lib/python3.10/dist-packages/xgboost/sklearn.py:835: UserWarning: `eval_metric` in `fit` method is deprecated for better compatibility with scikit-learn, use `eval_metric` in constructor or`set_params` instead.\n",
            "  warnings.warn(\n",
            "\n",
            "/usr/local/lib/python3.10/dist-packages/xgboost/sklearn.py:835: UserWarning: `early_stopping_rounds` in `fit` method is deprecated for better compatibility with scikit-learn, use `early_stopping_rounds` in constructor or`set_params` instead.\n",
            "  warnings.warn(\n",
            "\n"
          ]
        },
        {
          "output_type": "stream",
          "name": "stdout",
          "text": [
            "[0]\tvalidation_0-auc:0.82764\tvalidation_1-auc:0.81024\n",
            "[1]\tvalidation_0-auc:0.82185\tvalidation_1-auc:0.79745\n",
            "[2]\tvalidation_0-auc:0.83380\tvalidation_1-auc:0.81163\n",
            "[3]\tvalidation_0-auc:0.84184\tvalidation_1-auc:0.81616\n",
            "[4]\tvalidation_0-auc:0.84496\tvalidation_1-auc:0.81805\n",
            "[5]\tvalidation_0-auc:0.84874\tvalidation_1-auc:0.82089\n",
            "[6]\tvalidation_0-auc:0.85109\tvalidation_1-auc:0.82305\n",
            "[7]\tvalidation_0-auc:0.85347\tvalidation_1-auc:0.82492\n",
            "[8]\tvalidation_0-auc:0.85565\tvalidation_1-auc:0.82731\n",
            "[9]\tvalidation_0-auc:0.85687\tvalidation_1-auc:0.82809\n",
            " 52%|█████▏    | 26/50 [13:23<09:25, 23.58s/trial, best loss: -0.8322307450784073]"
          ]
        },
        {
          "output_type": "stream",
          "name": "stderr",
          "text": [
            "/usr/local/lib/python3.10/dist-packages/xgboost/sklearn.py:835: UserWarning: `eval_metric` in `fit` method is deprecated for better compatibility with scikit-learn, use `eval_metric` in constructor or`set_params` instead.\n",
            "  warnings.warn(\n",
            "\n",
            "/usr/local/lib/python3.10/dist-packages/xgboost/sklearn.py:835: UserWarning: `early_stopping_rounds` in `fit` method is deprecated for better compatibility with scikit-learn, use `early_stopping_rounds` in constructor or`set_params` instead.\n",
            "  warnings.warn(\n",
            "\n"
          ]
        },
        {
          "output_type": "stream",
          "name": "stdout",
          "text": [
            "[0]\tvalidation_0-auc:0.82387\tvalidation_1-auc:0.81162\n",
            "[1]\tvalidation_0-auc:0.81503\tvalidation_1-auc:0.80297\n",
            "[2]\tvalidation_0-auc:0.82935\tvalidation_1-auc:0.81806\n",
            "[3]\tvalidation_0-auc:0.83778\tvalidation_1-auc:0.82362\n",
            "[4]\tvalidation_0-auc:0.84144\tvalidation_1-auc:0.82623\n",
            "[5]\tvalidation_0-auc:0.84445\tvalidation_1-auc:0.82740\n",
            "[6]\tvalidation_0-auc:0.84488\tvalidation_1-auc:0.82824\n",
            "[7]\tvalidation_0-auc:0.84620\tvalidation_1-auc:0.82812\n",
            "[8]\tvalidation_0-auc:0.84947\tvalidation_1-auc:0.83002\n",
            "[9]\tvalidation_0-auc:0.85133\tvalidation_1-auc:0.83280\n",
            " 52%|█████▏    | 26/50 [13:31<09:25, 23.58s/trial, best loss: -0.8322307450784073]"
          ]
        },
        {
          "output_type": "stream",
          "name": "stderr",
          "text": [
            "/usr/local/lib/python3.10/dist-packages/xgboost/sklearn.py:835: UserWarning: `eval_metric` in `fit` method is deprecated for better compatibility with scikit-learn, use `eval_metric` in constructor or`set_params` instead.\n",
            "  warnings.warn(\n",
            "\n",
            "/usr/local/lib/python3.10/dist-packages/xgboost/sklearn.py:835: UserWarning: `early_stopping_rounds` in `fit` method is deprecated for better compatibility with scikit-learn, use `early_stopping_rounds` in constructor or`set_params` instead.\n",
            "  warnings.warn(\n",
            "\n"
          ]
        },
        {
          "output_type": "stream",
          "name": "stdout",
          "text": [
            "[0]\tvalidation_0-auc:0.82159\tvalidation_1-auc:0.80788\n",
            "[1]\tvalidation_0-auc:0.81617\tvalidation_1-auc:0.80236\n",
            "[2]\tvalidation_0-auc:0.83251\tvalidation_1-auc:0.81693\n",
            "[3]\tvalidation_0-auc:0.84029\tvalidation_1-auc:0.82324\n",
            "[4]\tvalidation_0-auc:0.84472\tvalidation_1-auc:0.82673\n",
            "[5]\tvalidation_0-auc:0.84649\tvalidation_1-auc:0.82764\n",
            "[6]\tvalidation_0-auc:0.84793\tvalidation_1-auc:0.82688\n",
            "[7]\tvalidation_0-auc:0.84939\tvalidation_1-auc:0.82832\n",
            "[8]\tvalidation_0-auc:0.85216\tvalidation_1-auc:0.82944\n",
            "[9]\tvalidation_0-auc:0.85409\tvalidation_1-auc:0.82995\n",
            " 54%|█████▍    | 27/50 [13:40<09:03, 23.61s/trial, best loss: -0.8322307450784073]"
          ]
        },
        {
          "output_type": "stream",
          "name": "stderr",
          "text": [
            "/usr/local/lib/python3.10/dist-packages/xgboost/sklearn.py:835: UserWarning: `eval_metric` in `fit` method is deprecated for better compatibility with scikit-learn, use `eval_metric` in constructor or`set_params` instead.\n",
            "  warnings.warn(\n",
            "\n",
            "/usr/local/lib/python3.10/dist-packages/xgboost/sklearn.py:835: UserWarning: `early_stopping_rounds` in `fit` method is deprecated for better compatibility with scikit-learn, use `early_stopping_rounds` in constructor or`set_params` instead.\n",
            "  warnings.warn(\n",
            "\n"
          ]
        },
        {
          "output_type": "stream",
          "name": "stdout",
          "text": [
            "[0]\tvalidation_0-auc:0.82936\tvalidation_1-auc:0.81091\n",
            "[1]\tvalidation_0-auc:0.82421\tvalidation_1-auc:0.79846\n",
            "[2]\tvalidation_0-auc:0.83611\tvalidation_1-auc:0.81321\n",
            "[3]\tvalidation_0-auc:0.84391\tvalidation_1-auc:0.81671\n",
            "[4]\tvalidation_0-auc:0.84869\tvalidation_1-auc:0.81993\n",
            "[5]\tvalidation_0-auc:0.85476\tvalidation_1-auc:0.82447\n",
            "[6]\tvalidation_0-auc:0.85797\tvalidation_1-auc:0.82787\n",
            "[7]\tvalidation_0-auc:0.86168\tvalidation_1-auc:0.82870\n",
            "[8]\tvalidation_0-auc:0.86376\tvalidation_1-auc:0.82951\n",
            "[9]\tvalidation_0-auc:0.86734\tvalidation_1-auc:0.82965\n",
            " 54%|█████▍    | 27/50 [13:47<09:03, 23.61s/trial, best loss: -0.8322307450784073]"
          ]
        },
        {
          "output_type": "stream",
          "name": "stderr",
          "text": [
            "/usr/local/lib/python3.10/dist-packages/xgboost/sklearn.py:835: UserWarning: `eval_metric` in `fit` method is deprecated for better compatibility with scikit-learn, use `eval_metric` in constructor or`set_params` instead.\n",
            "  warnings.warn(\n",
            "\n",
            "/usr/local/lib/python3.10/dist-packages/xgboost/sklearn.py:835: UserWarning: `early_stopping_rounds` in `fit` method is deprecated for better compatibility with scikit-learn, use `early_stopping_rounds` in constructor or`set_params` instead.\n",
            "  warnings.warn(\n",
            "\n"
          ]
        },
        {
          "output_type": "stream",
          "name": "stdout",
          "text": [
            "[0]\tvalidation_0-auc:0.82597\tvalidation_1-auc:0.81278\n",
            "[1]\tvalidation_0-auc:0.81833\tvalidation_1-auc:0.80409\n",
            "[2]\tvalidation_0-auc:0.83190\tvalidation_1-auc:0.82045\n",
            "[3]\tvalidation_0-auc:0.84065\tvalidation_1-auc:0.82506\n",
            "[4]\tvalidation_0-auc:0.84615\tvalidation_1-auc:0.82898\n",
            "[5]\tvalidation_0-auc:0.84989\tvalidation_1-auc:0.83110\n",
            "[6]\tvalidation_0-auc:0.85002\tvalidation_1-auc:0.83148\n",
            "[7]\tvalidation_0-auc:0.85203\tvalidation_1-auc:0.83202\n",
            "[8]\tvalidation_0-auc:0.85758\tvalidation_1-auc:0.83463\n",
            "[9]\tvalidation_0-auc:0.85876\tvalidation_1-auc:0.83712\n",
            " 54%|█████▍    | 27/50 [13:56<09:03, 23.61s/trial, best loss: -0.8322307450784073]"
          ]
        },
        {
          "output_type": "stream",
          "name": "stderr",
          "text": [
            "/usr/local/lib/python3.10/dist-packages/xgboost/sklearn.py:835: UserWarning: `eval_metric` in `fit` method is deprecated for better compatibility with scikit-learn, use `eval_metric` in constructor or`set_params` instead.\n",
            "  warnings.warn(\n",
            "\n",
            "/usr/local/lib/python3.10/dist-packages/xgboost/sklearn.py:835: UserWarning: `early_stopping_rounds` in `fit` method is deprecated for better compatibility with scikit-learn, use `early_stopping_rounds` in constructor or`set_params` instead.\n",
            "  warnings.warn(\n",
            "\n"
          ]
        },
        {
          "output_type": "stream",
          "name": "stdout",
          "text": [
            "[0]\tvalidation_0-auc:0.82333\tvalidation_1-auc:0.81013\n",
            "[1]\tvalidation_0-auc:0.82195\tvalidation_1-auc:0.80621\n",
            "[2]\tvalidation_0-auc:0.83649\tvalidation_1-auc:0.81963\n",
            "[3]\tvalidation_0-auc:0.84352\tvalidation_1-auc:0.82357\n",
            "[4]\tvalidation_0-auc:0.84894\tvalidation_1-auc:0.82538\n",
            "[5]\tvalidation_0-auc:0.85175\tvalidation_1-auc:0.82759\n",
            "[6]\tvalidation_0-auc:0.85487\tvalidation_1-auc:0.82738\n",
            "[7]\tvalidation_0-auc:0.85777\tvalidation_1-auc:0.83000\n",
            "[8]\tvalidation_0-auc:0.86179\tvalidation_1-auc:0.82989\n",
            "[9]\tvalidation_0-auc:0.86402\tvalidation_1-auc:0.82982\n",
            " 56%|█████▌    | 28/50 [14:03<08:35, 23.42s/trial, best loss: -0.8322573646711438]"
          ]
        },
        {
          "output_type": "stream",
          "name": "stderr",
          "text": [
            "/usr/local/lib/python3.10/dist-packages/xgboost/sklearn.py:835: UserWarning: `eval_metric` in `fit` method is deprecated for better compatibility with scikit-learn, use `eval_metric` in constructor or`set_params` instead.\n",
            "  warnings.warn(\n",
            "\n",
            "/usr/local/lib/python3.10/dist-packages/xgboost/sklearn.py:835: UserWarning: `early_stopping_rounds` in `fit` method is deprecated for better compatibility with scikit-learn, use `early_stopping_rounds` in constructor or`set_params` instead.\n",
            "  warnings.warn(\n",
            "\n"
          ]
        },
        {
          "output_type": "stream",
          "name": "stdout",
          "text": [
            "[0]\tvalidation_0-auc:0.82327\tvalidation_1-auc:0.80715\n",
            "[1]\tvalidation_0-auc:0.82310\tvalidation_1-auc:0.79678\n",
            "[2]\tvalidation_0-auc:0.83743\tvalidation_1-auc:0.80922\n",
            "[3]\tvalidation_0-auc:0.84808\tvalidation_1-auc:0.81588\n",
            "[4]\tvalidation_0-auc:0.85192\tvalidation_1-auc:0.81784\n",
            "[5]\tvalidation_0-auc:0.85579\tvalidation_1-auc:0.81790\n",
            "[6]\tvalidation_0-auc:0.85492\tvalidation_1-auc:0.81612\n",
            "[7]\tvalidation_0-auc:0.86238\tvalidation_1-auc:0.82276\n",
            "[8]\tvalidation_0-auc:0.86483\tvalidation_1-auc:0.82465\n",
            "[9]\tvalidation_0-auc:0.86729\tvalidation_1-auc:0.82488\n",
            " 56%|█████▌    | 28/50 [14:12<08:35, 23.42s/trial, best loss: -0.8322573646711438]"
          ]
        },
        {
          "output_type": "stream",
          "name": "stderr",
          "text": [
            "/usr/local/lib/python3.10/dist-packages/xgboost/sklearn.py:835: UserWarning: `eval_metric` in `fit` method is deprecated for better compatibility with scikit-learn, use `eval_metric` in constructor or`set_params` instead.\n",
            "  warnings.warn(\n",
            "\n",
            "/usr/local/lib/python3.10/dist-packages/xgboost/sklearn.py:835: UserWarning: `early_stopping_rounds` in `fit` method is deprecated for better compatibility with scikit-learn, use `early_stopping_rounds` in constructor or`set_params` instead.\n",
            "  warnings.warn(\n",
            "\n"
          ]
        },
        {
          "output_type": "stream",
          "name": "stdout",
          "text": [
            "[0]\tvalidation_0-auc:0.81850\tvalidation_1-auc:0.80906\n",
            "[1]\tvalidation_0-auc:0.81831\tvalidation_1-auc:0.80349\n",
            "[2]\tvalidation_0-auc:0.83286\tvalidation_1-auc:0.81942\n",
            "[3]\tvalidation_0-auc:0.84151\tvalidation_1-auc:0.82483\n",
            "[4]\tvalidation_0-auc:0.84553\tvalidation_1-auc:0.82791\n",
            "[5]\tvalidation_0-auc:0.84980\tvalidation_1-auc:0.82983\n",
            "[6]\tvalidation_0-auc:0.85144\tvalidation_1-auc:0.82661\n",
            "[7]\tvalidation_0-auc:0.85603\tvalidation_1-auc:0.82926\n",
            "[8]\tvalidation_0-auc:0.85822\tvalidation_1-auc:0.83196\n",
            "[9]\tvalidation_0-auc:0.86107\tvalidation_1-auc:0.83093\n",
            " 56%|█████▌    | 28/50 [14:18<08:35, 23.42s/trial, best loss: -0.8322573646711438]"
          ]
        },
        {
          "output_type": "stream",
          "name": "stderr",
          "text": [
            "/usr/local/lib/python3.10/dist-packages/xgboost/sklearn.py:835: UserWarning: `eval_metric` in `fit` method is deprecated for better compatibility with scikit-learn, use `eval_metric` in constructor or`set_params` instead.\n",
            "  warnings.warn(\n",
            "\n",
            "/usr/local/lib/python3.10/dist-packages/xgboost/sklearn.py:835: UserWarning: `early_stopping_rounds` in `fit` method is deprecated for better compatibility with scikit-learn, use `early_stopping_rounds` in constructor or`set_params` instead.\n",
            "  warnings.warn(\n",
            "\n"
          ]
        },
        {
          "output_type": "stream",
          "name": "stdout",
          "text": [
            "[0]\tvalidation_0-auc:0.81876\tvalidation_1-auc:0.80455\n",
            "[1]\tvalidation_0-auc:0.82174\tvalidation_1-auc:0.80329\n",
            "[2]\tvalidation_0-auc:0.84301\tvalidation_1-auc:0.82174\n",
            "[3]\tvalidation_0-auc:0.84984\tvalidation_1-auc:0.82428\n",
            "[4]\tvalidation_0-auc:0.85282\tvalidation_1-auc:0.82814\n",
            "[5]\tvalidation_0-auc:0.85504\tvalidation_1-auc:0.82423\n",
            "[6]\tvalidation_0-auc:0.85584\tvalidation_1-auc:0.82056\n",
            "[7]\tvalidation_0-auc:0.86138\tvalidation_1-auc:0.82344\n",
            "[8]\tvalidation_0-auc:0.86510\tvalidation_1-auc:0.82677\n",
            "[9]\tvalidation_0-auc:0.86628\tvalidation_1-auc:0.82592\n",
            " 58%|█████▊    | 29/50 [14:27<08:10, 23.38s/trial, best loss: -0.8322573646711438]"
          ]
        },
        {
          "output_type": "stream",
          "name": "stderr",
          "text": [
            "/usr/local/lib/python3.10/dist-packages/xgboost/sklearn.py:835: UserWarning: `eval_metric` in `fit` method is deprecated for better compatibility with scikit-learn, use `eval_metric` in constructor or`set_params` instead.\n",
            "  warnings.warn(\n",
            "\n",
            "/usr/local/lib/python3.10/dist-packages/xgboost/sklearn.py:835: UserWarning: `early_stopping_rounds` in `fit` method is deprecated for better compatibility with scikit-learn, use `early_stopping_rounds` in constructor or`set_params` instead.\n",
            "  warnings.warn(\n",
            "\n"
          ]
        },
        {
          "output_type": "stream",
          "name": "stdout",
          "text": [
            "[0]\tvalidation_0-auc:0.82747\tvalidation_1-auc:0.81083\n",
            "[1]\tvalidation_0-auc:0.81937\tvalidation_1-auc:0.79618\n",
            "[2]\tvalidation_0-auc:0.83475\tvalidation_1-auc:0.81135\n",
            "[3]\tvalidation_0-auc:0.83858\tvalidation_1-auc:0.81371\n",
            "[4]\tvalidation_0-auc:0.84338\tvalidation_1-auc:0.81732\n",
            "[5]\tvalidation_0-auc:0.84640\tvalidation_1-auc:0.81861\n",
            "[6]\tvalidation_0-auc:0.84959\tvalidation_1-auc:0.82097\n",
            "[7]\tvalidation_0-auc:0.85368\tvalidation_1-auc:0.82619\n",
            "[8]\tvalidation_0-auc:0.85838\tvalidation_1-auc:0.82858\n",
            "[9]\tvalidation_0-auc:0.85886\tvalidation_1-auc:0.82755\n",
            " 58%|█████▊    | 29/50 [14:34<08:10, 23.38s/trial, best loss: -0.8322573646711438]"
          ]
        },
        {
          "output_type": "stream",
          "name": "stderr",
          "text": [
            "/usr/local/lib/python3.10/dist-packages/xgboost/sklearn.py:835: UserWarning: `eval_metric` in `fit` method is deprecated for better compatibility with scikit-learn, use `eval_metric` in constructor or`set_params` instead.\n",
            "  warnings.warn(\n",
            "\n",
            "/usr/local/lib/python3.10/dist-packages/xgboost/sklearn.py:835: UserWarning: `early_stopping_rounds` in `fit` method is deprecated for better compatibility with scikit-learn, use `early_stopping_rounds` in constructor or`set_params` instead.\n",
            "  warnings.warn(\n",
            "\n"
          ]
        },
        {
          "output_type": "stream",
          "name": "stdout",
          "text": [
            "[0]\tvalidation_0-auc:0.82571\tvalidation_1-auc:0.81187\n",
            "[1]\tvalidation_0-auc:0.81750\tvalidation_1-auc:0.80408\n",
            "[2]\tvalidation_0-auc:0.83069\tvalidation_1-auc:0.81930\n",
            "[3]\tvalidation_0-auc:0.83332\tvalidation_1-auc:0.82158\n",
            "[4]\tvalidation_0-auc:0.83627\tvalidation_1-auc:0.82352\n",
            "[5]\tvalidation_0-auc:0.83924\tvalidation_1-auc:0.82610\n",
            "[6]\tvalidation_0-auc:0.84259\tvalidation_1-auc:0.82791\n",
            "[7]\tvalidation_0-auc:0.84453\tvalidation_1-auc:0.82940\n",
            "[8]\tvalidation_0-auc:0.84833\tvalidation_1-auc:0.83010\n",
            "[9]\tvalidation_0-auc:0.85010\tvalidation_1-auc:0.83204\n",
            " 58%|█████▊    | 29/50 [14:41<08:10, 23.38s/trial, best loss: -0.8322573646711438]"
          ]
        },
        {
          "output_type": "stream",
          "name": "stderr",
          "text": [
            "/usr/local/lib/python3.10/dist-packages/xgboost/sklearn.py:835: UserWarning: `eval_metric` in `fit` method is deprecated for better compatibility with scikit-learn, use `eval_metric` in constructor or`set_params` instead.\n",
            "  warnings.warn(\n",
            "\n",
            "/usr/local/lib/python3.10/dist-packages/xgboost/sklearn.py:835: UserWarning: `early_stopping_rounds` in `fit` method is deprecated for better compatibility with scikit-learn, use `early_stopping_rounds` in constructor or`set_params` instead.\n",
            "  warnings.warn(\n",
            "\n"
          ]
        },
        {
          "output_type": "stream",
          "name": "stdout",
          "text": [
            "[0]\tvalidation_0-auc:0.82233\tvalidation_1-auc:0.80911\n",
            "[1]\tvalidation_0-auc:0.81722\tvalidation_1-auc:0.80284\n",
            "[2]\tvalidation_0-auc:0.83113\tvalidation_1-auc:0.81452\n",
            "[3]\tvalidation_0-auc:0.84145\tvalidation_1-auc:0.82342\n",
            "[4]\tvalidation_0-auc:0.84567\tvalidation_1-auc:0.82631\n",
            "[5]\tvalidation_0-auc:0.84724\tvalidation_1-auc:0.82493\n",
            "[6]\tvalidation_0-auc:0.85040\tvalidation_1-auc:0.82570\n",
            "[7]\tvalidation_0-auc:0.85270\tvalidation_1-auc:0.82773\n",
            "[8]\tvalidation_0-auc:0.85452\tvalidation_1-auc:0.82856\n",
            "[9]\tvalidation_0-auc:0.85574\tvalidation_1-auc:0.82779\n",
            " 60%|██████    | 30/50 [14:50<07:48, 23.42s/trial, best loss: -0.8322573646711438]"
          ]
        },
        {
          "output_type": "stream",
          "name": "stderr",
          "text": [
            "/usr/local/lib/python3.10/dist-packages/xgboost/sklearn.py:835: UserWarning: `eval_metric` in `fit` method is deprecated for better compatibility with scikit-learn, use `eval_metric` in constructor or`set_params` instead.\n",
            "  warnings.warn(\n",
            "\n",
            "/usr/local/lib/python3.10/dist-packages/xgboost/sklearn.py:835: UserWarning: `early_stopping_rounds` in `fit` method is deprecated for better compatibility with scikit-learn, use `early_stopping_rounds` in constructor or`set_params` instead.\n",
            "  warnings.warn(\n",
            "\n"
          ]
        },
        {
          "output_type": "stream",
          "name": "stdout",
          "text": [
            "[0]\tvalidation_0-auc:0.83003\tvalidation_1-auc:0.81062\n",
            "[1]\tvalidation_0-auc:0.82171\tvalidation_1-auc:0.79482\n",
            "[2]\tvalidation_0-auc:0.83808\tvalidation_1-auc:0.80928\n",
            "[3]\tvalidation_0-auc:0.84271\tvalidation_1-auc:0.81128\n",
            "[4]\tvalidation_0-auc:0.84812\tvalidation_1-auc:0.81653\n",
            "[5]\tvalidation_0-auc:0.84974\tvalidation_1-auc:0.81837\n",
            "[6]\tvalidation_0-auc:0.85248\tvalidation_1-auc:0.81975\n",
            "[7]\tvalidation_0-auc:0.85625\tvalidation_1-auc:0.82271\n",
            "[8]\tvalidation_0-auc:0.85987\tvalidation_1-auc:0.82534\n",
            "[9]\tvalidation_0-auc:0.86131\tvalidation_1-auc:0.82551\n",
            " 60%|██████    | 30/50 [14:57<07:48, 23.42s/trial, best loss: -0.8322573646711438]"
          ]
        },
        {
          "output_type": "stream",
          "name": "stderr",
          "text": [
            "/usr/local/lib/python3.10/dist-packages/xgboost/sklearn.py:835: UserWarning: `eval_metric` in `fit` method is deprecated for better compatibility with scikit-learn, use `eval_metric` in constructor or`set_params` instead.\n",
            "  warnings.warn(\n",
            "\n",
            "/usr/local/lib/python3.10/dist-packages/xgboost/sklearn.py:835: UserWarning: `early_stopping_rounds` in `fit` method is deprecated for better compatibility with scikit-learn, use `early_stopping_rounds` in constructor or`set_params` instead.\n",
            "  warnings.warn(\n",
            "\n"
          ]
        },
        {
          "output_type": "stream",
          "name": "stdout",
          "text": [
            "[0]\tvalidation_0-auc:0.82751\tvalidation_1-auc:0.81296\n",
            "[1]\tvalidation_0-auc:0.81963\tvalidation_1-auc:0.80236\n",
            "[2]\tvalidation_0-auc:0.83429\tvalidation_1-auc:0.81874\n",
            "[3]\tvalidation_0-auc:0.83647\tvalidation_1-auc:0.82141\n",
            "[4]\tvalidation_0-auc:0.83930\tvalidation_1-auc:0.82231\n",
            "[5]\tvalidation_0-auc:0.84337\tvalidation_1-auc:0.82442\n",
            "[6]\tvalidation_0-auc:0.84620\tvalidation_1-auc:0.82737\n",
            "[7]\tvalidation_0-auc:0.84716\tvalidation_1-auc:0.82769\n",
            "[8]\tvalidation_0-auc:0.84974\tvalidation_1-auc:0.82974\n",
            "[9]\tvalidation_0-auc:0.85330\tvalidation_1-auc:0.83034\n",
            " 60%|██████    | 30/50 [15:06<07:48, 23.42s/trial, best loss: -0.8322573646711438]"
          ]
        },
        {
          "output_type": "stream",
          "name": "stderr",
          "text": [
            "/usr/local/lib/python3.10/dist-packages/xgboost/sklearn.py:835: UserWarning: `eval_metric` in `fit` method is deprecated for better compatibility with scikit-learn, use `eval_metric` in constructor or`set_params` instead.\n",
            "  warnings.warn(\n",
            "\n",
            "/usr/local/lib/python3.10/dist-packages/xgboost/sklearn.py:835: UserWarning: `early_stopping_rounds` in `fit` method is deprecated for better compatibility with scikit-learn, use `early_stopping_rounds` in constructor or`set_params` instead.\n",
            "  warnings.warn(\n",
            "\n"
          ]
        },
        {
          "output_type": "stream",
          "name": "stdout",
          "text": [
            "[0]\tvalidation_0-auc:0.82602\tvalidation_1-auc:0.80948\n",
            "[1]\tvalidation_0-auc:0.82085\tvalidation_1-auc:0.80321\n",
            "[2]\tvalidation_0-auc:0.83552\tvalidation_1-auc:0.81378\n",
            "[3]\tvalidation_0-auc:0.84566\tvalidation_1-auc:0.82173\n",
            "[4]\tvalidation_0-auc:0.84924\tvalidation_1-auc:0.82473\n",
            "[5]\tvalidation_0-auc:0.85075\tvalidation_1-auc:0.82067\n",
            "[6]\tvalidation_0-auc:0.85339\tvalidation_1-auc:0.82235\n",
            "[7]\tvalidation_0-auc:0.85697\tvalidation_1-auc:0.82365\n",
            "[8]\tvalidation_0-auc:0.85921\tvalidation_1-auc:0.82761\n",
            "[9]\tvalidation_0-auc:0.86145\tvalidation_1-auc:0.82785\n",
            " 62%|██████▏   | 31/50 [15:13<07:22, 23.30s/trial, best loss: -0.8322573646711438]"
          ]
        },
        {
          "output_type": "stream",
          "name": "stderr",
          "text": [
            "/usr/local/lib/python3.10/dist-packages/xgboost/sklearn.py:835: UserWarning: `eval_metric` in `fit` method is deprecated for better compatibility with scikit-learn, use `eval_metric` in constructor or`set_params` instead.\n",
            "  warnings.warn(\n",
            "\n",
            "/usr/local/lib/python3.10/dist-packages/xgboost/sklearn.py:835: UserWarning: `early_stopping_rounds` in `fit` method is deprecated for better compatibility with scikit-learn, use `early_stopping_rounds` in constructor or`set_params` instead.\n",
            "  warnings.warn(\n",
            "\n"
          ]
        },
        {
          "output_type": "stream",
          "name": "stdout",
          "text": [
            "[0]\tvalidation_0-auc:0.82561\tvalidation_1-auc:0.80503\n",
            "[1]\tvalidation_0-auc:0.82250\tvalidation_1-auc:0.79531\n",
            "[2]\tvalidation_0-auc:0.83770\tvalidation_1-auc:0.81025\n",
            "[3]\tvalidation_0-auc:0.84371\tvalidation_1-auc:0.81304\n",
            "[4]\tvalidation_0-auc:0.84850\tvalidation_1-auc:0.81567\n",
            "[5]\tvalidation_0-auc:0.85494\tvalidation_1-auc:0.82127\n",
            "[6]\tvalidation_0-auc:0.85748\tvalidation_1-auc:0.82383\n",
            "[7]\tvalidation_0-auc:0.86188\tvalidation_1-auc:0.82560\n",
            "[8]\tvalidation_0-auc:0.86604\tvalidation_1-auc:0.82637\n",
            "[9]\tvalidation_0-auc:0.86902\tvalidation_1-auc:0.82713\n",
            " 62%|██████▏   | 31/50 [15:22<07:22, 23.30s/trial, best loss: -0.8322573646711438]"
          ]
        },
        {
          "output_type": "stream",
          "name": "stderr",
          "text": [
            "/usr/local/lib/python3.10/dist-packages/xgboost/sklearn.py:835: UserWarning: `eval_metric` in `fit` method is deprecated for better compatibility with scikit-learn, use `eval_metric` in constructor or`set_params` instead.\n",
            "  warnings.warn(\n",
            "\n",
            "/usr/local/lib/python3.10/dist-packages/xgboost/sklearn.py:835: UserWarning: `early_stopping_rounds` in `fit` method is deprecated for better compatibility with scikit-learn, use `early_stopping_rounds` in constructor or`set_params` instead.\n",
            "  warnings.warn(\n",
            "\n"
          ]
        },
        {
          "output_type": "stream",
          "name": "stdout",
          "text": [
            "[0]\tvalidation_0-auc:0.82682\tvalidation_1-auc:0.81198\n",
            "[1]\tvalidation_0-auc:0.81916\tvalidation_1-auc:0.80290\n",
            "[2]\tvalidation_0-auc:0.83504\tvalidation_1-auc:0.81954\n",
            "[3]\tvalidation_0-auc:0.84394\tvalidation_1-auc:0.82313\n",
            "[4]\tvalidation_0-auc:0.84748\tvalidation_1-auc:0.82586\n",
            "[5]\tvalidation_0-auc:0.85264\tvalidation_1-auc:0.82713\n",
            "[6]\tvalidation_0-auc:0.85325\tvalidation_1-auc:0.82996\n",
            "[7]\tvalidation_0-auc:0.85499\tvalidation_1-auc:0.83132\n",
            "[8]\tvalidation_0-auc:0.85888\tvalidation_1-auc:0.83371\n",
            "[9]\tvalidation_0-auc:0.86218\tvalidation_1-auc:0.83686\n",
            " 62%|██████▏   | 31/50 [15:32<07:22, 23.30s/trial, best loss: -0.8322573646711438]"
          ]
        },
        {
          "output_type": "stream",
          "name": "stderr",
          "text": [
            "/usr/local/lib/python3.10/dist-packages/xgboost/sklearn.py:835: UserWarning: `eval_metric` in `fit` method is deprecated for better compatibility with scikit-learn, use `eval_metric` in constructor or`set_params` instead.\n",
            "  warnings.warn(\n",
            "\n",
            "/usr/local/lib/python3.10/dist-packages/xgboost/sklearn.py:835: UserWarning: `early_stopping_rounds` in `fit` method is deprecated for better compatibility with scikit-learn, use `early_stopping_rounds` in constructor or`set_params` instead.\n",
            "  warnings.warn(\n",
            "\n"
          ]
        },
        {
          "output_type": "stream",
          "name": "stdout",
          "text": [
            "[0]\tvalidation_0-auc:0.82292\tvalidation_1-auc:0.80171\n",
            "[1]\tvalidation_0-auc:0.82023\tvalidation_1-auc:0.80260\n",
            "[2]\tvalidation_0-auc:0.83727\tvalidation_1-auc:0.81675\n",
            "[3]\tvalidation_0-auc:0.84865\tvalidation_1-auc:0.82334\n",
            "[4]\tvalidation_0-auc:0.85362\tvalidation_1-auc:0.82547\n",
            "[5]\tvalidation_0-auc:0.85663\tvalidation_1-auc:0.82630\n",
            "[6]\tvalidation_0-auc:0.85826\tvalidation_1-auc:0.82611\n",
            "[7]\tvalidation_0-auc:0.86075\tvalidation_1-auc:0.82663\n",
            "[8]\tvalidation_0-auc:0.86409\tvalidation_1-auc:0.82694\n",
            "[9]\tvalidation_0-auc:0.86834\tvalidation_1-auc:0.82950\n",
            " 64%|██████▍   | 32/50 [15:40<07:16, 24.27s/trial, best loss: -0.8322573646711438]"
          ]
        },
        {
          "output_type": "stream",
          "name": "stderr",
          "text": [
            "/usr/local/lib/python3.10/dist-packages/xgboost/sklearn.py:835: UserWarning: `eval_metric` in `fit` method is deprecated for better compatibility with scikit-learn, use `eval_metric` in constructor or`set_params` instead.\n",
            "  warnings.warn(\n",
            "\n",
            "/usr/local/lib/python3.10/dist-packages/xgboost/sklearn.py:835: UserWarning: `early_stopping_rounds` in `fit` method is deprecated for better compatibility with scikit-learn, use `early_stopping_rounds` in constructor or`set_params` instead.\n",
            "  warnings.warn(\n",
            "\n"
          ]
        },
        {
          "output_type": "stream",
          "name": "stdout",
          "text": [
            "[0]\tvalidation_0-auc:0.83049\tvalidation_1-auc:0.81023\n",
            "[1]\tvalidation_0-auc:0.82570\tvalidation_1-auc:0.79824\n",
            "[2]\tvalidation_0-auc:0.83752\tvalidation_1-auc:0.81222\n",
            "[3]\tvalidation_0-auc:0.84614\tvalidation_1-auc:0.81639\n",
            "[4]\tvalidation_0-auc:0.85514\tvalidation_1-auc:0.82393\n",
            "[5]\tvalidation_0-auc:0.86248\tvalidation_1-auc:0.82643\n",
            "[6]\tvalidation_0-auc:0.86638\tvalidation_1-auc:0.82908\n",
            "[7]\tvalidation_0-auc:0.86996\tvalidation_1-auc:0.82977\n",
            "[8]\tvalidation_0-auc:0.87166\tvalidation_1-auc:0.83029\n",
            "[9]\tvalidation_0-auc:0.87622\tvalidation_1-auc:0.83083\n",
            " 64%|██████▍   | 32/50 [15:49<07:16, 24.27s/trial, best loss: -0.8322573646711438]"
          ]
        },
        {
          "output_type": "stream",
          "name": "stderr",
          "text": [
            "/usr/local/lib/python3.10/dist-packages/xgboost/sklearn.py:835: UserWarning: `eval_metric` in `fit` method is deprecated for better compatibility with scikit-learn, use `eval_metric` in constructor or`set_params` instead.\n",
            "  warnings.warn(\n",
            "\n",
            "/usr/local/lib/python3.10/dist-packages/xgboost/sklearn.py:835: UserWarning: `early_stopping_rounds` in `fit` method is deprecated for better compatibility with scikit-learn, use `early_stopping_rounds` in constructor or`set_params` instead.\n",
            "  warnings.warn(\n",
            "\n"
          ]
        },
        {
          "output_type": "stream",
          "name": "stdout",
          "text": [
            "[0]\tvalidation_0-auc:0.82693\tvalidation_1-auc:0.81263\n",
            "[1]\tvalidation_0-auc:0.81889\tvalidation_1-auc:0.80220\n",
            "[2]\tvalidation_0-auc:0.83424\tvalidation_1-auc:0.81908\n",
            "[3]\tvalidation_0-auc:0.84309\tvalidation_1-auc:0.82442\n",
            "[4]\tvalidation_0-auc:0.84742\tvalidation_1-auc:0.82801\n",
            "[5]\tvalidation_0-auc:0.85273\tvalidation_1-auc:0.83071\n",
            "[6]\tvalidation_0-auc:0.85408\tvalidation_1-auc:0.83097\n",
            "[7]\tvalidation_0-auc:0.85738\tvalidation_1-auc:0.83198\n",
            "[8]\tvalidation_0-auc:0.86494\tvalidation_1-auc:0.83423\n",
            "[9]\tvalidation_0-auc:0.86678\tvalidation_1-auc:0.83536\n",
            " 64%|██████▍   | 32/50 [15:58<07:16, 24.27s/trial, best loss: -0.8322573646711438]"
          ]
        },
        {
          "output_type": "stream",
          "name": "stderr",
          "text": [
            "/usr/local/lib/python3.10/dist-packages/xgboost/sklearn.py:835: UserWarning: `eval_metric` in `fit` method is deprecated for better compatibility with scikit-learn, use `eval_metric` in constructor or`set_params` instead.\n",
            "  warnings.warn(\n",
            "\n",
            "/usr/local/lib/python3.10/dist-packages/xgboost/sklearn.py:835: UserWarning: `early_stopping_rounds` in `fit` method is deprecated for better compatibility with scikit-learn, use `early_stopping_rounds` in constructor or`set_params` instead.\n",
            "  warnings.warn(\n",
            "\n"
          ]
        },
        {
          "output_type": "stream",
          "name": "stdout",
          "text": [
            "[0]\tvalidation_0-auc:0.82482\tvalidation_1-auc:0.80954\n",
            "[1]\tvalidation_0-auc:0.82252\tvalidation_1-auc:0.80525\n",
            "[2]\tvalidation_0-auc:0.84075\tvalidation_1-auc:0.82154\n",
            "[3]\tvalidation_0-auc:0.84826\tvalidation_1-auc:0.82474\n",
            "[4]\tvalidation_0-auc:0.85397\tvalidation_1-auc:0.82732\n",
            "[5]\tvalidation_0-auc:0.85709\tvalidation_1-auc:0.82984\n",
            "[6]\tvalidation_0-auc:0.86049\tvalidation_1-auc:0.82944\n",
            "[7]\tvalidation_0-auc:0.86389\tvalidation_1-auc:0.83043\n",
            "[8]\tvalidation_0-auc:0.86608\tvalidation_1-auc:0.83113\n",
            "[9]\tvalidation_0-auc:0.86947\tvalidation_1-auc:0.83089\n",
            " 66%|██████▌   | 33/50 [16:07<07:06, 25.07s/trial, best loss: -0.832438781440486] "
          ]
        },
        {
          "output_type": "stream",
          "name": "stderr",
          "text": [
            "/usr/local/lib/python3.10/dist-packages/xgboost/sklearn.py:835: UserWarning: `eval_metric` in `fit` method is deprecated for better compatibility with scikit-learn, use `eval_metric` in constructor or`set_params` instead.\n",
            "  warnings.warn(\n",
            "\n",
            "/usr/local/lib/python3.10/dist-packages/xgboost/sklearn.py:835: UserWarning: `early_stopping_rounds` in `fit` method is deprecated for better compatibility with scikit-learn, use `early_stopping_rounds` in constructor or`set_params` instead.\n",
            "  warnings.warn(\n",
            "\n"
          ]
        },
        {
          "output_type": "stream",
          "name": "stdout",
          "text": [
            "[0]\tvalidation_0-auc:0.83023\tvalidation_1-auc:0.81035\n",
            "[1]\tvalidation_0-auc:0.82307\tvalidation_1-auc:0.79641\n",
            "[2]\tvalidation_0-auc:0.83589\tvalidation_1-auc:0.81022\n",
            "[3]\tvalidation_0-auc:0.84338\tvalidation_1-auc:0.81439\n",
            "[4]\tvalidation_0-auc:0.84918\tvalidation_1-auc:0.81836\n",
            "[5]\tvalidation_0-auc:0.85470\tvalidation_1-auc:0.81908\n",
            "[6]\tvalidation_0-auc:0.85819\tvalidation_1-auc:0.82300\n",
            "[7]\tvalidation_0-auc:0.86507\tvalidation_1-auc:0.82636\n",
            "[8]\tvalidation_0-auc:0.86743\tvalidation_1-auc:0.82831\n",
            "[9]\tvalidation_0-auc:0.86994\tvalidation_1-auc:0.82954\n",
            " 66%|██████▌   | 33/50 [16:16<07:06, 25.07s/trial, best loss: -0.832438781440486]"
          ]
        },
        {
          "output_type": "stream",
          "name": "stderr",
          "text": [
            "/usr/local/lib/python3.10/dist-packages/xgboost/sklearn.py:835: UserWarning: `eval_metric` in `fit` method is deprecated for better compatibility with scikit-learn, use `eval_metric` in constructor or`set_params` instead.\n",
            "  warnings.warn(\n",
            "\n",
            "/usr/local/lib/python3.10/dist-packages/xgboost/sklearn.py:835: UserWarning: `early_stopping_rounds` in `fit` method is deprecated for better compatibility with scikit-learn, use `early_stopping_rounds` in constructor or`set_params` instead.\n",
            "  warnings.warn(\n",
            "\n"
          ]
        },
        {
          "output_type": "stream",
          "name": "stdout",
          "text": [
            "[0]\tvalidation_0-auc:0.82666\tvalidation_1-auc:0.81294\n",
            "[1]\tvalidation_0-auc:0.81860\tvalidation_1-auc:0.80219\n",
            "[2]\tvalidation_0-auc:0.83360\tvalidation_1-auc:0.81951\n",
            "[3]\tvalidation_0-auc:0.84059\tvalidation_1-auc:0.82283\n",
            "[4]\tvalidation_0-auc:0.84461\tvalidation_1-auc:0.82589\n",
            "[5]\tvalidation_0-auc:0.85012\tvalidation_1-auc:0.82838\n",
            "[6]\tvalidation_0-auc:0.85125\tvalidation_1-auc:0.83011\n",
            "[7]\tvalidation_0-auc:0.85402\tvalidation_1-auc:0.83101\n",
            "[8]\tvalidation_0-auc:0.85840\tvalidation_1-auc:0.83275\n",
            "[9]\tvalidation_0-auc:0.86047\tvalidation_1-auc:0.83285\n",
            " 66%|██████▌   | 33/50 [16:24<07:06, 25.07s/trial, best loss: -0.832438781440486]"
          ]
        },
        {
          "output_type": "stream",
          "name": "stderr",
          "text": [
            "/usr/local/lib/python3.10/dist-packages/xgboost/sklearn.py:835: UserWarning: `eval_metric` in `fit` method is deprecated for better compatibility with scikit-learn, use `eval_metric` in constructor or`set_params` instead.\n",
            "  warnings.warn(\n",
            "\n",
            "/usr/local/lib/python3.10/dist-packages/xgboost/sklearn.py:835: UserWarning: `early_stopping_rounds` in `fit` method is deprecated for better compatibility with scikit-learn, use `early_stopping_rounds` in constructor or`set_params` instead.\n",
            "  warnings.warn(\n",
            "\n"
          ]
        },
        {
          "output_type": "stream",
          "name": "stdout",
          "text": [
            "[0]\tvalidation_0-auc:0.82191\tvalidation_1-auc:0.80269\n",
            "[1]\tvalidation_0-auc:0.82869\tvalidation_1-auc:0.80356\n",
            "[2]\tvalidation_0-auc:0.84136\tvalidation_1-auc:0.81658\n",
            "[3]\tvalidation_0-auc:0.84864\tvalidation_1-auc:0.82456\n",
            "[4]\tvalidation_0-auc:0.85342\tvalidation_1-auc:0.82742\n",
            "[5]\tvalidation_0-auc:0.85693\tvalidation_1-auc:0.82927\n",
            "[6]\tvalidation_0-auc:0.85975\tvalidation_1-auc:0.82922\n",
            "[7]\tvalidation_0-auc:0.86249\tvalidation_1-auc:0.83071\n",
            "[8]\tvalidation_0-auc:0.86474\tvalidation_1-auc:0.83132\n",
            "[9]\tvalidation_0-auc:0.86719\tvalidation_1-auc:0.83165\n",
            " 68%|██████▊   | 34/50 [16:33<06:50, 25.63s/trial, best loss: -0.832438781440486]"
          ]
        },
        {
          "output_type": "stream",
          "name": "stderr",
          "text": [
            "/usr/local/lib/python3.10/dist-packages/xgboost/sklearn.py:835: UserWarning: `eval_metric` in `fit` method is deprecated for better compatibility with scikit-learn, use `eval_metric` in constructor or`set_params` instead.\n",
            "  warnings.warn(\n",
            "\n",
            "/usr/local/lib/python3.10/dist-packages/xgboost/sklearn.py:835: UserWarning: `early_stopping_rounds` in `fit` method is deprecated for better compatibility with scikit-learn, use `early_stopping_rounds` in constructor or`set_params` instead.\n",
            "  warnings.warn(\n",
            "\n"
          ]
        },
        {
          "output_type": "stream",
          "name": "stdout",
          "text": [
            "[0]\tvalidation_0-auc:0.83117\tvalidation_1-auc:0.81020\n",
            "[1]\tvalidation_0-auc:0.82930\tvalidation_1-auc:0.79931\n",
            "[2]\tvalidation_0-auc:0.84152\tvalidation_1-auc:0.80867\n",
            "[3]\tvalidation_0-auc:0.84997\tvalidation_1-auc:0.81481\n",
            "[4]\tvalidation_0-auc:0.85781\tvalidation_1-auc:0.82069\n",
            "[5]\tvalidation_0-auc:0.86440\tvalidation_1-auc:0.82279\n",
            "[6]\tvalidation_0-auc:0.86932\tvalidation_1-auc:0.82661\n",
            "[7]\tvalidation_0-auc:0.87273\tvalidation_1-auc:0.82801\n",
            "[8]\tvalidation_0-auc:0.87526\tvalidation_1-auc:0.82947\n",
            "[9]\tvalidation_0-auc:0.87725\tvalidation_1-auc:0.82941\n",
            " 68%|██████▊   | 34/50 [16:45<06:50, 25.63s/trial, best loss: -0.832438781440486]"
          ]
        },
        {
          "output_type": "stream",
          "name": "stderr",
          "text": [
            "/usr/local/lib/python3.10/dist-packages/xgboost/sklearn.py:835: UserWarning: `eval_metric` in `fit` method is deprecated for better compatibility with scikit-learn, use `eval_metric` in constructor or`set_params` instead.\n",
            "  warnings.warn(\n",
            "\n",
            "/usr/local/lib/python3.10/dist-packages/xgboost/sklearn.py:835: UserWarning: `early_stopping_rounds` in `fit` method is deprecated for better compatibility with scikit-learn, use `early_stopping_rounds` in constructor or`set_params` instead.\n",
            "  warnings.warn(\n",
            "\n"
          ]
        },
        {
          "output_type": "stream",
          "name": "stdout",
          "text": [
            "[0]\tvalidation_0-auc:0.82746\tvalidation_1-auc:0.81159\n",
            "[1]\tvalidation_0-auc:0.82331\tvalidation_1-auc:0.80519\n",
            "[2]\tvalidation_0-auc:0.83779\tvalidation_1-auc:0.81928\n",
            "[3]\tvalidation_0-auc:0.84840\tvalidation_1-auc:0.82760\n",
            "[4]\tvalidation_0-auc:0.85271\tvalidation_1-auc:0.83030\n",
            "[5]\tvalidation_0-auc:0.85588\tvalidation_1-auc:0.83100\n",
            "[6]\tvalidation_0-auc:0.85758\tvalidation_1-auc:0.83152\n",
            "[7]\tvalidation_0-auc:0.86140\tvalidation_1-auc:0.83194\n",
            "[8]\tvalidation_0-auc:0.86865\tvalidation_1-auc:0.83479\n",
            "[9]\tvalidation_0-auc:0.87115\tvalidation_1-auc:0.83564\n",
            " 68%|██████▊   | 34/50 [16:56<06:50, 25.63s/trial, best loss: -0.832438781440486]"
          ]
        },
        {
          "output_type": "stream",
          "name": "stderr",
          "text": [
            "/usr/local/lib/python3.10/dist-packages/xgboost/sklearn.py:835: UserWarning: `eval_metric` in `fit` method is deprecated for better compatibility with scikit-learn, use `eval_metric` in constructor or`set_params` instead.\n",
            "  warnings.warn(\n",
            "\n",
            "/usr/local/lib/python3.10/dist-packages/xgboost/sklearn.py:835: UserWarning: `early_stopping_rounds` in `fit` method is deprecated for better compatibility with scikit-learn, use `early_stopping_rounds` in constructor or`set_params` instead.\n",
            "  warnings.warn(\n",
            "\n"
          ]
        },
        {
          "output_type": "stream",
          "name": "stdout",
          "text": [
            "[0]\tvalidation_0-auc:0.82592\tvalidation_1-auc:0.80812\n",
            "[1]\tvalidation_0-auc:0.82548\tvalidation_1-auc:0.80436\n",
            "[2]\tvalidation_0-auc:0.84404\tvalidation_1-auc:0.81898\n",
            "[3]\tvalidation_0-auc:0.85117\tvalidation_1-auc:0.82447\n",
            "[4]\tvalidation_0-auc:0.85756\tvalidation_1-auc:0.82718\n",
            "[5]\tvalidation_0-auc:0.86084\tvalidation_1-auc:0.82856\n",
            "[6]\tvalidation_0-auc:0.86386\tvalidation_1-auc:0.82952\n",
            "[7]\tvalidation_0-auc:0.86867\tvalidation_1-auc:0.82973\n",
            "[8]\tvalidation_0-auc:0.87173\tvalidation_1-auc:0.83072\n",
            "[9]\tvalidation_0-auc:0.87451\tvalidation_1-auc:0.83079\n",
            " 70%|███████   | 35/50 [17:05<06:49, 27.33s/trial, best loss: -0.832438781440486]"
          ]
        },
        {
          "output_type": "stream",
          "name": "stderr",
          "text": [
            "/usr/local/lib/python3.10/dist-packages/xgboost/sklearn.py:835: UserWarning: `eval_metric` in `fit` method is deprecated for better compatibility with scikit-learn, use `eval_metric` in constructor or`set_params` instead.\n",
            "  warnings.warn(\n",
            "\n",
            "/usr/local/lib/python3.10/dist-packages/xgboost/sklearn.py:835: UserWarning: `early_stopping_rounds` in `fit` method is deprecated for better compatibility with scikit-learn, use `early_stopping_rounds` in constructor or`set_params` instead.\n",
            "  warnings.warn(\n",
            "\n"
          ]
        },
        {
          "output_type": "stream",
          "name": "stdout",
          "text": [
            "[0]\tvalidation_0-auc:0.83188\tvalidation_1-auc:0.80997\n",
            "[1]\tvalidation_0-auc:0.82976\tvalidation_1-auc:0.79864\n",
            "[2]\tvalidation_0-auc:0.84093\tvalidation_1-auc:0.80845\n",
            "[3]\tvalidation_0-auc:0.84859\tvalidation_1-auc:0.81262\n",
            "[4]\tvalidation_0-auc:0.85453\tvalidation_1-auc:0.81405\n",
            "[5]\tvalidation_0-auc:0.85710\tvalidation_1-auc:0.81684\n",
            "[6]\tvalidation_0-auc:0.85862\tvalidation_1-auc:0.81746\n",
            "[7]\tvalidation_0-auc:0.86270\tvalidation_1-auc:0.81900\n",
            "[8]\tvalidation_0-auc:0.86928\tvalidation_1-auc:0.82341\n",
            "[9]\tvalidation_0-auc:0.87163\tvalidation_1-auc:0.82367\n",
            " 70%|███████   | 35/50 [17:17<06:49, 27.33s/trial, best loss: -0.832438781440486]"
          ]
        },
        {
          "output_type": "stream",
          "name": "stderr",
          "text": [
            "/usr/local/lib/python3.10/dist-packages/xgboost/sklearn.py:835: UserWarning: `eval_metric` in `fit` method is deprecated for better compatibility with scikit-learn, use `eval_metric` in constructor or`set_params` instead.\n",
            "  warnings.warn(\n",
            "\n",
            "/usr/local/lib/python3.10/dist-packages/xgboost/sklearn.py:835: UserWarning: `early_stopping_rounds` in `fit` method is deprecated for better compatibility with scikit-learn, use `early_stopping_rounds` in constructor or`set_params` instead.\n",
            "  warnings.warn(\n",
            "\n"
          ]
        },
        {
          "output_type": "stream",
          "name": "stdout",
          "text": [
            "[0]\tvalidation_0-auc:0.82893\tvalidation_1-auc:0.81198\n",
            "[1]\tvalidation_0-auc:0.82393\tvalidation_1-auc:0.80366\n",
            "[2]\tvalidation_0-auc:0.83954\tvalidation_1-auc:0.81929\n",
            "[3]\tvalidation_0-auc:0.84299\tvalidation_1-auc:0.82312\n",
            "[4]\tvalidation_0-auc:0.84670\tvalidation_1-auc:0.82533\n",
            "[5]\tvalidation_0-auc:0.85124\tvalidation_1-auc:0.82556\n",
            "[6]\tvalidation_0-auc:0.85444\tvalidation_1-auc:0.82969\n",
            "[7]\tvalidation_0-auc:0.85737\tvalidation_1-auc:0.83178\n",
            "[8]\tvalidation_0-auc:0.85971\tvalidation_1-auc:0.83251\n",
            "[9]\tvalidation_0-auc:0.86055\tvalidation_1-auc:0.83278\n",
            " 70%|███████   | 35/50 [17:30<06:49, 27.33s/trial, best loss: -0.832438781440486]"
          ]
        },
        {
          "output_type": "stream",
          "name": "stderr",
          "text": [
            "/usr/local/lib/python3.10/dist-packages/xgboost/sklearn.py:835: UserWarning: `eval_metric` in `fit` method is deprecated for better compatibility with scikit-learn, use `eval_metric` in constructor or`set_params` instead.\n",
            "  warnings.warn(\n",
            "\n",
            "/usr/local/lib/python3.10/dist-packages/xgboost/sklearn.py:835: UserWarning: `early_stopping_rounds` in `fit` method is deprecated for better compatibility with scikit-learn, use `early_stopping_rounds` in constructor or`set_params` instead.\n",
            "  warnings.warn(\n",
            "\n"
          ]
        },
        {
          "output_type": "stream",
          "name": "stdout",
          "text": [
            "[0]\tvalidation_0-auc:0.82502\tvalidation_1-auc:0.80234\n",
            "[1]\tvalidation_0-auc:0.82610\tvalidation_1-auc:0.80173\n",
            "[2]\tvalidation_0-auc:0.83776\tvalidation_1-auc:0.81141\n",
            "[3]\tvalidation_0-auc:0.84892\tvalidation_1-auc:0.81945\n",
            "[4]\tvalidation_0-auc:0.85264\tvalidation_1-auc:0.82199\n",
            "[5]\tvalidation_0-auc:0.85686\tvalidation_1-auc:0.82298\n",
            "[6]\tvalidation_0-auc:0.86056\tvalidation_1-auc:0.82675\n",
            "[7]\tvalidation_0-auc:0.86386\tvalidation_1-auc:0.82672\n",
            "[8]\tvalidation_0-auc:0.86591\tvalidation_1-auc:0.82718\n",
            "[9]\tvalidation_0-auc:0.86827\tvalidation_1-auc:0.82760\n",
            " 72%|███████▏  | 36/50 [17:42<07:05, 30.42s/trial, best loss: -0.832438781440486]"
          ]
        },
        {
          "output_type": "stream",
          "name": "stderr",
          "text": [
            "/usr/local/lib/python3.10/dist-packages/xgboost/sklearn.py:835: UserWarning: `eval_metric` in `fit` method is deprecated for better compatibility with scikit-learn, use `eval_metric` in constructor or`set_params` instead.\n",
            "  warnings.warn(\n",
            "\n",
            "/usr/local/lib/python3.10/dist-packages/xgboost/sklearn.py:835: UserWarning: `early_stopping_rounds` in `fit` method is deprecated for better compatibility with scikit-learn, use `early_stopping_rounds` in constructor or`set_params` instead.\n",
            "  warnings.warn(\n",
            "\n"
          ]
        },
        {
          "output_type": "stream",
          "name": "stdout",
          "text": [
            "[0]\tvalidation_0-auc:0.82822\tvalidation_1-auc:0.81062\n",
            "[1]\tvalidation_0-auc:0.82003\tvalidation_1-auc:0.79651\n",
            "[2]\tvalidation_0-auc:0.83472\tvalidation_1-auc:0.80960\n",
            "[3]\tvalidation_0-auc:0.83850\tvalidation_1-auc:0.81119\n",
            "[4]\tvalidation_0-auc:0.84419\tvalidation_1-auc:0.81647\n",
            "[5]\tvalidation_0-auc:0.84582\tvalidation_1-auc:0.81751\n",
            "[6]\tvalidation_0-auc:0.84810\tvalidation_1-auc:0.81895\n",
            "[7]\tvalidation_0-auc:0.84900\tvalidation_1-auc:0.82005\n",
            "[8]\tvalidation_0-auc:0.85306\tvalidation_1-auc:0.82271\n",
            "[9]\tvalidation_0-auc:0.85408\tvalidation_1-auc:0.82153\n",
            " 72%|███████▏  | 36/50 [17:51<07:05, 30.42s/trial, best loss: -0.832438781440486]"
          ]
        },
        {
          "output_type": "stream",
          "name": "stderr",
          "text": [
            "/usr/local/lib/python3.10/dist-packages/xgboost/sklearn.py:835: UserWarning: `eval_metric` in `fit` method is deprecated for better compatibility with scikit-learn, use `eval_metric` in constructor or`set_params` instead.\n",
            "  warnings.warn(\n",
            "\n",
            "/usr/local/lib/python3.10/dist-packages/xgboost/sklearn.py:835: UserWarning: `early_stopping_rounds` in `fit` method is deprecated for better compatibility with scikit-learn, use `early_stopping_rounds` in constructor or`set_params` instead.\n",
            "  warnings.warn(\n",
            "\n"
          ]
        },
        {
          "output_type": "stream",
          "name": "stdout",
          "text": [
            "[0]\tvalidation_0-auc:0.82639\tvalidation_1-auc:0.81146\n",
            "[1]\tvalidation_0-auc:0.81745\tvalidation_1-auc:0.80183\n",
            "[2]\tvalidation_0-auc:0.83208\tvalidation_1-auc:0.81822\n",
            "[3]\tvalidation_0-auc:0.83416\tvalidation_1-auc:0.82093\n",
            "[4]\tvalidation_0-auc:0.83746\tvalidation_1-auc:0.82251\n",
            "[5]\tvalidation_0-auc:0.84100\tvalidation_1-auc:0.82435\n",
            "[6]\tvalidation_0-auc:0.84313\tvalidation_1-auc:0.82563\n",
            "[7]\tvalidation_0-auc:0.84386\tvalidation_1-auc:0.82610\n",
            "[8]\tvalidation_0-auc:0.84580\tvalidation_1-auc:0.82731\n",
            "[9]\tvalidation_0-auc:0.84728\tvalidation_1-auc:0.82831\n",
            " 72%|███████▏  | 36/50 [17:58<07:05, 30.42s/trial, best loss: -0.832438781440486]"
          ]
        },
        {
          "output_type": "stream",
          "name": "stderr",
          "text": [
            "/usr/local/lib/python3.10/dist-packages/xgboost/sklearn.py:835: UserWarning: `eval_metric` in `fit` method is deprecated for better compatibility with scikit-learn, use `eval_metric` in constructor or`set_params` instead.\n",
            "  warnings.warn(\n",
            "\n",
            "/usr/local/lib/python3.10/dist-packages/xgboost/sklearn.py:835: UserWarning: `early_stopping_rounds` in `fit` method is deprecated for better compatibility with scikit-learn, use `early_stopping_rounds` in constructor or`set_params` instead.\n",
            "  warnings.warn(\n",
            "\n"
          ]
        },
        {
          "output_type": "stream",
          "name": "stdout",
          "text": [
            "[0]\tvalidation_0-auc:0.82378\tvalidation_1-auc:0.81015\n",
            "[1]\tvalidation_0-auc:0.81809\tvalidation_1-auc:0.80313\n",
            "[2]\tvalidation_0-auc:0.83276\tvalidation_1-auc:0.81354\n",
            "[3]\tvalidation_0-auc:0.83763\tvalidation_1-auc:0.81633\n",
            "[4]\tvalidation_0-auc:0.83983\tvalidation_1-auc:0.81866\n",
            "[5]\tvalidation_0-auc:0.84166\tvalidation_1-auc:0.81794\n",
            "[6]\tvalidation_0-auc:0.84319\tvalidation_1-auc:0.81965\n",
            "[7]\tvalidation_0-auc:0.84464\tvalidation_1-auc:0.82149\n",
            "[8]\tvalidation_0-auc:0.85112\tvalidation_1-auc:0.82728\n",
            "[9]\tvalidation_0-auc:0.85089\tvalidation_1-auc:0.82632\n",
            " 74%|███████▍  | 37/50 [18:07<06:12, 28.66s/trial, best loss: -0.832438781440486]"
          ]
        },
        {
          "output_type": "stream",
          "name": "stderr",
          "text": [
            "/usr/local/lib/python3.10/dist-packages/xgboost/sklearn.py:835: UserWarning: `eval_metric` in `fit` method is deprecated for better compatibility with scikit-learn, use `eval_metric` in constructor or`set_params` instead.\n",
            "  warnings.warn(\n",
            "\n",
            "/usr/local/lib/python3.10/dist-packages/xgboost/sklearn.py:835: UserWarning: `early_stopping_rounds` in `fit` method is deprecated for better compatibility with scikit-learn, use `early_stopping_rounds` in constructor or`set_params` instead.\n",
            "  warnings.warn(\n",
            "\n"
          ]
        },
        {
          "output_type": "stream",
          "name": "stdout",
          "text": [
            "[0]\tvalidation_0-auc:0.83361\tvalidation_1-auc:0.81052\n",
            "[1]\tvalidation_0-auc:0.82550\tvalidation_1-auc:0.79710\n",
            "[2]\tvalidation_0-auc:0.83867\tvalidation_1-auc:0.81126\n",
            "[3]\tvalidation_0-auc:0.84844\tvalidation_1-auc:0.81616\n",
            "[4]\tvalidation_0-auc:0.85386\tvalidation_1-auc:0.81792\n",
            "[5]\tvalidation_0-auc:0.86327\tvalidation_1-auc:0.82249\n",
            "[6]\tvalidation_0-auc:0.86552\tvalidation_1-auc:0.82472\n",
            "[7]\tvalidation_0-auc:0.87038\tvalidation_1-auc:0.82607\n",
            "[8]\tvalidation_0-auc:0.87456\tvalidation_1-auc:0.82666\n",
            "[9]\tvalidation_0-auc:0.88032\tvalidation_1-auc:0.82764\n",
            " 74%|███████▍  | 37/50 [18:15<06:12, 28.66s/trial, best loss: -0.832438781440486]"
          ]
        },
        {
          "output_type": "stream",
          "name": "stderr",
          "text": [
            "/usr/local/lib/python3.10/dist-packages/xgboost/sklearn.py:835: UserWarning: `eval_metric` in `fit` method is deprecated for better compatibility with scikit-learn, use `eval_metric` in constructor or`set_params` instead.\n",
            "  warnings.warn(\n",
            "\n",
            "/usr/local/lib/python3.10/dist-packages/xgboost/sklearn.py:835: UserWarning: `early_stopping_rounds` in `fit` method is deprecated for better compatibility with scikit-learn, use `early_stopping_rounds` in constructor or`set_params` instead.\n",
            "  warnings.warn(\n",
            "\n"
          ]
        },
        {
          "output_type": "stream",
          "name": "stdout",
          "text": [
            "[0]\tvalidation_0-auc:0.83075\tvalidation_1-auc:0.81095\n",
            "[1]\tvalidation_0-auc:0.82170\tvalidation_1-auc:0.79994\n",
            "[2]\tvalidation_0-auc:0.83855\tvalidation_1-auc:0.81907\n",
            "[3]\tvalidation_0-auc:0.84782\tvalidation_1-auc:0.82263\n",
            "[4]\tvalidation_0-auc:0.85203\tvalidation_1-auc:0.82647\n",
            "[5]\tvalidation_0-auc:0.85835\tvalidation_1-auc:0.82875\n",
            "[6]\tvalidation_0-auc:0.86027\tvalidation_1-auc:0.83018\n",
            "[7]\tvalidation_0-auc:0.86172\tvalidation_1-auc:0.83015\n",
            "[8]\tvalidation_0-auc:0.86778\tvalidation_1-auc:0.83094\n",
            "[9]\tvalidation_0-auc:0.87166\tvalidation_1-auc:0.83280\n",
            " 74%|███████▍  | 37/50 [18:25<06:12, 28.66s/trial, best loss: -0.832438781440486]"
          ]
        },
        {
          "output_type": "stream",
          "name": "stderr",
          "text": [
            "/usr/local/lib/python3.10/dist-packages/xgboost/sklearn.py:835: UserWarning: `eval_metric` in `fit` method is deprecated for better compatibility with scikit-learn, use `eval_metric` in constructor or`set_params` instead.\n",
            "  warnings.warn(\n",
            "\n",
            "/usr/local/lib/python3.10/dist-packages/xgboost/sklearn.py:835: UserWarning: `early_stopping_rounds` in `fit` method is deprecated for better compatibility with scikit-learn, use `early_stopping_rounds` in constructor or`set_params` instead.\n",
            "  warnings.warn(\n",
            "\n"
          ]
        },
        {
          "output_type": "stream",
          "name": "stdout",
          "text": [
            "[0]\tvalidation_0-auc:0.82635\tvalidation_1-auc:0.80366\n",
            "[1]\tvalidation_0-auc:0.82539\tvalidation_1-auc:0.80175\n",
            "[2]\tvalidation_0-auc:0.83864\tvalidation_1-auc:0.81291\n",
            "[3]\tvalidation_0-auc:0.85231\tvalidation_1-auc:0.82137\n",
            "[4]\tvalidation_0-auc:0.85984\tvalidation_1-auc:0.82529\n",
            "[5]\tvalidation_0-auc:0.86422\tvalidation_1-auc:0.82700\n",
            "[6]\tvalidation_0-auc:0.86668\tvalidation_1-auc:0.82716\n",
            "[7]\tvalidation_0-auc:0.86992\tvalidation_1-auc:0.82883\n",
            "[8]\tvalidation_0-auc:0.87424\tvalidation_1-auc:0.83012\n",
            "[9]\tvalidation_0-auc:0.87989\tvalidation_1-auc:0.83047\n",
            " 76%|███████▌  | 38/50 [18:36<05:45, 28.76s/trial, best loss: -0.832438781440486]"
          ]
        },
        {
          "output_type": "stream",
          "name": "stderr",
          "text": [
            "/usr/local/lib/python3.10/dist-packages/xgboost/sklearn.py:835: UserWarning: `eval_metric` in `fit` method is deprecated for better compatibility with scikit-learn, use `eval_metric` in constructor or`set_params` instead.\n",
            "  warnings.warn(\n",
            "\n",
            "/usr/local/lib/python3.10/dist-packages/xgboost/sklearn.py:835: UserWarning: `early_stopping_rounds` in `fit` method is deprecated for better compatibility with scikit-learn, use `early_stopping_rounds` in constructor or`set_params` instead.\n",
            "  warnings.warn(\n",
            "\n"
          ]
        },
        {
          "output_type": "stream",
          "name": "stdout",
          "text": [
            "[0]\tvalidation_0-auc:0.83155\tvalidation_1-auc:0.80968\n",
            "[1]\tvalidation_0-auc:0.83505\tvalidation_1-auc:0.80183\n",
            "[2]\tvalidation_0-auc:0.85050\tvalidation_1-auc:0.81456\n",
            "[3]\tvalidation_0-auc:0.85979\tvalidation_1-auc:0.81758\n",
            "[4]\tvalidation_0-auc:0.86685\tvalidation_1-auc:0.82261\n",
            "[5]\tvalidation_0-auc:0.87029\tvalidation_1-auc:0.82023\n",
            "[6]\tvalidation_0-auc:0.87662\tvalidation_1-auc:0.82503\n",
            "[7]\tvalidation_0-auc:0.87964\tvalidation_1-auc:0.82604\n",
            "[8]\tvalidation_0-auc:0.88545\tvalidation_1-auc:0.82917\n",
            "[9]\tvalidation_0-auc:0.88910\tvalidation_1-auc:0.82754\n",
            " 76%|███████▌  | 38/50 [18:47<05:45, 28.76s/trial, best loss: -0.832438781440486]"
          ]
        },
        {
          "output_type": "stream",
          "name": "stderr",
          "text": [
            "/usr/local/lib/python3.10/dist-packages/xgboost/sklearn.py:835: UserWarning: `eval_metric` in `fit` method is deprecated for better compatibility with scikit-learn, use `eval_metric` in constructor or`set_params` instead.\n",
            "  warnings.warn(\n",
            "\n",
            "/usr/local/lib/python3.10/dist-packages/xgboost/sklearn.py:835: UserWarning: `early_stopping_rounds` in `fit` method is deprecated for better compatibility with scikit-learn, use `early_stopping_rounds` in constructor or`set_params` instead.\n",
            "  warnings.warn(\n",
            "\n"
          ]
        },
        {
          "output_type": "stream",
          "name": "stdout",
          "text": [
            "[0]\tvalidation_0-auc:0.82851\tvalidation_1-auc:0.81292\n",
            "[1]\tvalidation_0-auc:0.82196\tvalidation_1-auc:0.80258\n",
            "[2]\tvalidation_0-auc:0.83866\tvalidation_1-auc:0.81773\n",
            "[3]\tvalidation_0-auc:0.84950\tvalidation_1-auc:0.82395\n",
            "[4]\tvalidation_0-auc:0.85529\tvalidation_1-auc:0.82866\n",
            "[5]\tvalidation_0-auc:0.86116\tvalidation_1-auc:0.82714\n",
            "[6]\tvalidation_0-auc:0.86462\tvalidation_1-auc:0.82904\n",
            "[7]\tvalidation_0-auc:0.86974\tvalidation_1-auc:0.83250\n",
            "[8]\tvalidation_0-auc:0.87784\tvalidation_1-auc:0.83602\n",
            "[9]\tvalidation_0-auc:0.87998\tvalidation_1-auc:0.83315\n",
            " 76%|███████▌  | 38/50 [18:55<05:45, 28.76s/trial, best loss: -0.832438781440486]"
          ]
        },
        {
          "output_type": "stream",
          "name": "stderr",
          "text": [
            "/usr/local/lib/python3.10/dist-packages/xgboost/sklearn.py:835: UserWarning: `eval_metric` in `fit` method is deprecated for better compatibility with scikit-learn, use `eval_metric` in constructor or`set_params` instead.\n",
            "  warnings.warn(\n",
            "\n",
            "/usr/local/lib/python3.10/dist-packages/xgboost/sklearn.py:835: UserWarning: `early_stopping_rounds` in `fit` method is deprecated for better compatibility with scikit-learn, use `early_stopping_rounds` in constructor or`set_params` instead.\n",
            "  warnings.warn(\n",
            "\n"
          ]
        },
        {
          "output_type": "stream",
          "name": "stdout",
          "text": [
            "[0]\tvalidation_0-auc:0.82861\tvalidation_1-auc:0.80914\n",
            "[1]\tvalidation_0-auc:0.82658\tvalidation_1-auc:0.80338\n",
            "[2]\tvalidation_0-auc:0.84686\tvalidation_1-auc:0.81982\n",
            "[3]\tvalidation_0-auc:0.85494\tvalidation_1-auc:0.82300\n",
            "[4]\tvalidation_0-auc:0.86317\tvalidation_1-auc:0.82679\n",
            "[5]\tvalidation_0-auc:0.86661\tvalidation_1-auc:0.82321\n",
            "[6]\tvalidation_0-auc:0.87211\tvalidation_1-auc:0.82473\n",
            "[7]\tvalidation_0-auc:0.87590\tvalidation_1-auc:0.82570\n",
            "[8]\tvalidation_0-auc:0.88067\tvalidation_1-auc:0.82887\n",
            "[9]\tvalidation_0-auc:0.88398\tvalidation_1-auc:0.82663\n",
            " 78%|███████▊  | 39/50 [19:06<05:21, 29.21s/trial, best loss: -0.832438781440486]"
          ]
        },
        {
          "output_type": "stream",
          "name": "stderr",
          "text": [
            "/usr/local/lib/python3.10/dist-packages/xgboost/sklearn.py:835: UserWarning: `eval_metric` in `fit` method is deprecated for better compatibility with scikit-learn, use `eval_metric` in constructor or`set_params` instead.\n",
            "  warnings.warn(\n",
            "\n",
            "/usr/local/lib/python3.10/dist-packages/xgboost/sklearn.py:835: UserWarning: `early_stopping_rounds` in `fit` method is deprecated for better compatibility with scikit-learn, use `early_stopping_rounds` in constructor or`set_params` instead.\n",
            "  warnings.warn(\n",
            "\n"
          ]
        },
        {
          "output_type": "stream",
          "name": "stdout",
          "text": [
            "[0]\tvalidation_0-auc:0.83049\tvalidation_1-auc:0.81023\n",
            "[1]\tvalidation_0-auc:0.82184\tvalidation_1-auc:0.79543\n",
            "[2]\tvalidation_0-auc:0.83006\tvalidation_1-auc:0.80418\n",
            "[3]\tvalidation_0-auc:0.83367\tvalidation_1-auc:0.80668\n",
            "[4]\tvalidation_0-auc:0.83691\tvalidation_1-auc:0.81183\n",
            "[5]\tvalidation_0-auc:0.83685\tvalidation_1-auc:0.81266\n",
            "[6]\tvalidation_0-auc:0.83870\tvalidation_1-auc:0.81371\n",
            "[7]\tvalidation_0-auc:0.83844\tvalidation_1-auc:0.81365\n",
            "[8]\tvalidation_0-auc:0.83892\tvalidation_1-auc:0.81372\n",
            "[9]\tvalidation_0-auc:0.83969\tvalidation_1-auc:0.81333\n",
            " 78%|███████▊  | 39/50 [19:16<05:21, 29.21s/trial, best loss: -0.832438781440486]"
          ]
        },
        {
          "output_type": "stream",
          "name": "stderr",
          "text": [
            "/usr/local/lib/python3.10/dist-packages/xgboost/sklearn.py:835: UserWarning: `eval_metric` in `fit` method is deprecated for better compatibility with scikit-learn, use `eval_metric` in constructor or`set_params` instead.\n",
            "  warnings.warn(\n",
            "\n",
            "/usr/local/lib/python3.10/dist-packages/xgboost/sklearn.py:835: UserWarning: `early_stopping_rounds` in `fit` method is deprecated for better compatibility with scikit-learn, use `early_stopping_rounds` in constructor or`set_params` instead.\n",
            "  warnings.warn(\n",
            "\n"
          ]
        },
        {
          "output_type": "stream",
          "name": "stdout",
          "text": [
            "[0]\tvalidation_0-auc:0.82641\tvalidation_1-auc:0.81251\n",
            "[1]\tvalidation_0-auc:0.81633\tvalidation_1-auc:0.80263\n",
            "[2]\tvalidation_0-auc:0.82449\tvalidation_1-auc:0.81087\n",
            "[3]\tvalidation_0-auc:0.82924\tvalidation_1-auc:0.81881\n",
            "[4]\tvalidation_0-auc:0.83055\tvalidation_1-auc:0.81928\n",
            "[5]\tvalidation_0-auc:0.83080\tvalidation_1-auc:0.81965\n",
            "[6]\tvalidation_0-auc:0.83171\tvalidation_1-auc:0.82007\n",
            "[7]\tvalidation_0-auc:0.83534\tvalidation_1-auc:0.82305\n",
            "[8]\tvalidation_0-auc:0.83533\tvalidation_1-auc:0.82318\n",
            "[9]\tvalidation_0-auc:0.83660\tvalidation_1-auc:0.82257\n",
            " 78%|███████▊  | 39/50 [19:24<05:21, 29.21s/trial, best loss: -0.832438781440486]"
          ]
        },
        {
          "output_type": "stream",
          "name": "stderr",
          "text": [
            "/usr/local/lib/python3.10/dist-packages/xgboost/sklearn.py:835: UserWarning: `eval_metric` in `fit` method is deprecated for better compatibility with scikit-learn, use `eval_metric` in constructor or`set_params` instead.\n",
            "  warnings.warn(\n",
            "\n",
            "/usr/local/lib/python3.10/dist-packages/xgboost/sklearn.py:835: UserWarning: `early_stopping_rounds` in `fit` method is deprecated for better compatibility with scikit-learn, use `early_stopping_rounds` in constructor or`set_params` instead.\n",
            "  warnings.warn(\n",
            "\n"
          ]
        },
        {
          "output_type": "stream",
          "name": "stdout",
          "text": [
            "[0]\tvalidation_0-auc:0.82482\tvalidation_1-auc:0.80954\n",
            "[1]\tvalidation_0-auc:0.82279\tvalidation_1-auc:0.80285\n",
            "[2]\tvalidation_0-auc:0.83118\tvalidation_1-auc:0.80978\n",
            "[3]\tvalidation_0-auc:0.83427\tvalidation_1-auc:0.81309\n",
            "[4]\tvalidation_0-auc:0.83473\tvalidation_1-auc:0.81412\n",
            "[5]\tvalidation_0-auc:0.83636\tvalidation_1-auc:0.81596\n",
            "[6]\tvalidation_0-auc:0.83691\tvalidation_1-auc:0.81648\n",
            "[7]\tvalidation_0-auc:0.83663\tvalidation_1-auc:0.81629\n",
            "[8]\tvalidation_0-auc:0.83866\tvalidation_1-auc:0.81764\n",
            "[9]\tvalidation_0-auc:0.83947\tvalidation_1-auc:0.81966\n",
            " 80%|████████  | 40/50 [19:34<04:47, 28.77s/trial, best loss: -0.832438781440486]"
          ]
        },
        {
          "output_type": "stream",
          "name": "stderr",
          "text": [
            "/usr/local/lib/python3.10/dist-packages/xgboost/sklearn.py:835: UserWarning: `eval_metric` in `fit` method is deprecated for better compatibility with scikit-learn, use `eval_metric` in constructor or`set_params` instead.\n",
            "  warnings.warn(\n",
            "\n",
            "/usr/local/lib/python3.10/dist-packages/xgboost/sklearn.py:835: UserWarning: `early_stopping_rounds` in `fit` method is deprecated for better compatibility with scikit-learn, use `early_stopping_rounds` in constructor or`set_params` instead.\n",
            "  warnings.warn(\n",
            "\n"
          ]
        },
        {
          "output_type": "stream",
          "name": "stdout",
          "text": [
            "[0]\tvalidation_0-auc:0.82467\tvalidation_1-auc:0.81080\n",
            "[1]\tvalidation_0-auc:0.81556\tvalidation_1-auc:0.79770\n",
            "[2]\tvalidation_0-auc:0.82878\tvalidation_1-auc:0.81089\n",
            "[3]\tvalidation_0-auc:0.83727\tvalidation_1-auc:0.81503\n",
            "[4]\tvalidation_0-auc:0.83934\tvalidation_1-auc:0.81655\n",
            "[5]\tvalidation_0-auc:0.84314\tvalidation_1-auc:0.82205\n",
            "[6]\tvalidation_0-auc:0.84494\tvalidation_1-auc:0.82399\n",
            "[7]\tvalidation_0-auc:0.84805\tvalidation_1-auc:0.82606\n",
            "[8]\tvalidation_0-auc:0.85034\tvalidation_1-auc:0.82846\n",
            "[9]\tvalidation_0-auc:0.85201\tvalidation_1-auc:0.82894\n",
            " 80%|████████  | 40/50 [19:41<04:47, 28.77s/trial, best loss: -0.832438781440486]"
          ]
        },
        {
          "output_type": "stream",
          "name": "stderr",
          "text": [
            "/usr/local/lib/python3.10/dist-packages/xgboost/sklearn.py:835: UserWarning: `eval_metric` in `fit` method is deprecated for better compatibility with scikit-learn, use `eval_metric` in constructor or`set_params` instead.\n",
            "  warnings.warn(\n",
            "\n",
            "/usr/local/lib/python3.10/dist-packages/xgboost/sklearn.py:835: UserWarning: `early_stopping_rounds` in `fit` method is deprecated for better compatibility with scikit-learn, use `early_stopping_rounds` in constructor or`set_params` instead.\n",
            "  warnings.warn(\n",
            "\n"
          ]
        },
        {
          "output_type": "stream",
          "name": "stdout",
          "text": [
            "[0]\tvalidation_0-auc:0.82041\tvalidation_1-auc:0.81268\n",
            "[1]\tvalidation_0-auc:0.80839\tvalidation_1-auc:0.80047\n",
            "[2]\tvalidation_0-auc:0.82522\tvalidation_1-auc:0.81383\n",
            "[3]\tvalidation_0-auc:0.83490\tvalidation_1-auc:0.82180\n",
            "[4]\tvalidation_0-auc:0.83717\tvalidation_1-auc:0.82452\n",
            "[5]\tvalidation_0-auc:0.83942\tvalidation_1-auc:0.82703\n",
            "[6]\tvalidation_0-auc:0.83916\tvalidation_1-auc:0.82675\n",
            "[7]\tvalidation_0-auc:0.84068\tvalidation_1-auc:0.82747\n",
            "[8]\tvalidation_0-auc:0.84318\tvalidation_1-auc:0.83043\n",
            "[9]\tvalidation_0-auc:0.84541\tvalidation_1-auc:0.83279\n",
            " 80%|████████  | 40/50 [19:47<04:47, 28.77s/trial, best loss: -0.832438781440486]"
          ]
        },
        {
          "output_type": "stream",
          "name": "stderr",
          "text": [
            "/usr/local/lib/python3.10/dist-packages/xgboost/sklearn.py:835: UserWarning: `eval_metric` in `fit` method is deprecated for better compatibility with scikit-learn, use `eval_metric` in constructor or`set_params` instead.\n",
            "  warnings.warn(\n",
            "\n",
            "/usr/local/lib/python3.10/dist-packages/xgboost/sklearn.py:835: UserWarning: `early_stopping_rounds` in `fit` method is deprecated for better compatibility with scikit-learn, use `early_stopping_rounds` in constructor or`set_params` instead.\n",
            "  warnings.warn(\n",
            "\n"
          ]
        },
        {
          "output_type": "stream",
          "name": "stdout",
          "text": [
            "[0]\tvalidation_0-auc:0.81551\tvalidation_1-auc:0.80198\n",
            "[1]\tvalidation_0-auc:0.81569\tvalidation_1-auc:0.79949\n",
            "[2]\tvalidation_0-auc:0.83360\tvalidation_1-auc:0.81712\n",
            "[3]\tvalidation_0-auc:0.83698\tvalidation_1-auc:0.82258\n",
            "[4]\tvalidation_0-auc:0.84053\tvalidation_1-auc:0.82546\n",
            "[5]\tvalidation_0-auc:0.84265\tvalidation_1-auc:0.82562\n",
            "[6]\tvalidation_0-auc:0.84441\tvalidation_1-auc:0.82646\n",
            "[7]\tvalidation_0-auc:0.84595\tvalidation_1-auc:0.82755\n",
            "[8]\tvalidation_0-auc:0.84896\tvalidation_1-auc:0.82861\n",
            "[9]\tvalidation_0-auc:0.84999\tvalidation_1-auc:0.83005\n",
            " 82%|████████▏ | 41/50 [19:54<03:54, 26.09s/trial, best loss: -0.832438781440486]"
          ]
        },
        {
          "output_type": "stream",
          "name": "stderr",
          "text": [
            "/usr/local/lib/python3.10/dist-packages/xgboost/sklearn.py:835: UserWarning: `eval_metric` in `fit` method is deprecated for better compatibility with scikit-learn, use `eval_metric` in constructor or`set_params` instead.\n",
            "  warnings.warn(\n",
            "\n",
            "/usr/local/lib/python3.10/dist-packages/xgboost/sklearn.py:835: UserWarning: `early_stopping_rounds` in `fit` method is deprecated for better compatibility with scikit-learn, use `early_stopping_rounds` in constructor or`set_params` instead.\n",
            "  warnings.warn(\n",
            "\n"
          ]
        },
        {
          "output_type": "stream",
          "name": "stdout",
          "text": [
            "[0]\tvalidation_0-auc:0.83356\tvalidation_1-auc:0.81087\n",
            "[1]\tvalidation_0-auc:0.83343\tvalidation_1-auc:0.80041\n",
            "[2]\tvalidation_0-auc:0.84591\tvalidation_1-auc:0.81148\n",
            "[3]\tvalidation_0-auc:0.85465\tvalidation_1-auc:0.81390\n",
            "[4]\tvalidation_0-auc:0.86043\tvalidation_1-auc:0.81537\n",
            "[5]\tvalidation_0-auc:0.86951\tvalidation_1-auc:0.82141\n",
            "[6]\tvalidation_0-auc:0.87388\tvalidation_1-auc:0.82308\n",
            "[7]\tvalidation_0-auc:0.87933\tvalidation_1-auc:0.82561\n",
            "[8]\tvalidation_0-auc:0.88614\tvalidation_1-auc:0.82445\n",
            "[9]\tvalidation_0-auc:0.89001\tvalidation_1-auc:0.82559\n",
            " 82%|████████▏ | 41/50 [20:07<03:54, 26.09s/trial, best loss: -0.832438781440486]"
          ]
        },
        {
          "output_type": "stream",
          "name": "stderr",
          "text": [
            "/usr/local/lib/python3.10/dist-packages/xgboost/sklearn.py:835: UserWarning: `eval_metric` in `fit` method is deprecated for better compatibility with scikit-learn, use `eval_metric` in constructor or`set_params` instead.\n",
            "  warnings.warn(\n",
            "\n",
            "/usr/local/lib/python3.10/dist-packages/xgboost/sklearn.py:835: UserWarning: `early_stopping_rounds` in `fit` method is deprecated for better compatibility with scikit-learn, use `early_stopping_rounds` in constructor or`set_params` instead.\n",
            "  warnings.warn(\n",
            "\n"
          ]
        },
        {
          "output_type": "stream",
          "name": "stdout",
          "text": [
            "[0]\tvalidation_0-auc:0.83124\tvalidation_1-auc:0.81316\n",
            "[1]\tvalidation_0-auc:0.83040\tvalidation_1-auc:0.80762\n",
            "[2]\tvalidation_0-auc:0.84698\tvalidation_1-auc:0.81928\n",
            "[3]\tvalidation_0-auc:0.85628\tvalidation_1-auc:0.82427\n",
            "[4]\tvalidation_0-auc:0.86294\tvalidation_1-auc:0.82745\n",
            "[5]\tvalidation_0-auc:0.86839\tvalidation_1-auc:0.82957\n",
            "[6]\tvalidation_0-auc:0.87027\tvalidation_1-auc:0.83071\n",
            "[7]\tvalidation_0-auc:0.87379\tvalidation_1-auc:0.83108\n",
            "[8]\tvalidation_0-auc:0.88160\tvalidation_1-auc:0.82892\n",
            "[9]\tvalidation_0-auc:0.88301\tvalidation_1-auc:0.83017\n",
            " 82%|████████▏ | 41/50 [20:21<03:54, 26.09s/trial, best loss: -0.832438781440486]"
          ]
        },
        {
          "output_type": "stream",
          "name": "stderr",
          "text": [
            "/usr/local/lib/python3.10/dist-packages/xgboost/sklearn.py:835: UserWarning: `eval_metric` in `fit` method is deprecated for better compatibility with scikit-learn, use `eval_metric` in constructor or`set_params` instead.\n",
            "  warnings.warn(\n",
            "\n",
            "/usr/local/lib/python3.10/dist-packages/xgboost/sklearn.py:835: UserWarning: `early_stopping_rounds` in `fit` method is deprecated for better compatibility with scikit-learn, use `early_stopping_rounds` in constructor or`set_params` instead.\n",
            "  warnings.warn(\n",
            "\n"
          ]
        },
        {
          "output_type": "stream",
          "name": "stdout",
          "text": [
            "[0]\tvalidation_0-auc:0.82772\tvalidation_1-auc:0.80190\n",
            "[1]\tvalidation_0-auc:0.83805\tvalidation_1-auc:0.80419\n",
            "[2]\tvalidation_0-auc:0.85109\tvalidation_1-auc:0.81359\n",
            "[3]\tvalidation_0-auc:0.86481\tvalidation_1-auc:0.82109\n",
            "[4]\tvalidation_0-auc:0.86750\tvalidation_1-auc:0.82150\n",
            "[5]\tvalidation_0-auc:0.87158\tvalidation_1-auc:0.82313\n",
            "[6]\tvalidation_0-auc:0.87395\tvalidation_1-auc:0.82497\n",
            "[7]\tvalidation_0-auc:0.87845\tvalidation_1-auc:0.82537\n",
            "[8]\tvalidation_0-auc:0.88260\tvalidation_1-auc:0.82598\n",
            "[9]\tvalidation_0-auc:0.88658\tvalidation_1-auc:0.82850\n",
            " 84%|████████▍ | 42/50 [20:35<04:06, 30.77s/trial, best loss: -0.832438781440486]"
          ]
        },
        {
          "output_type": "stream",
          "name": "stderr",
          "text": [
            "/usr/local/lib/python3.10/dist-packages/xgboost/sklearn.py:835: UserWarning: `eval_metric` in `fit` method is deprecated for better compatibility with scikit-learn, use `eval_metric` in constructor or`set_params` instead.\n",
            "  warnings.warn(\n",
            "\n",
            "/usr/local/lib/python3.10/dist-packages/xgboost/sklearn.py:835: UserWarning: `early_stopping_rounds` in `fit` method is deprecated for better compatibility with scikit-learn, use `early_stopping_rounds` in constructor or`set_params` instead.\n",
            "  warnings.warn(\n",
            "\n"
          ]
        },
        {
          "output_type": "stream",
          "name": "stdout",
          "text": [
            "[0]\tvalidation_0-auc:0.83593\tvalidation_1-auc:0.81021\n",
            "[1]\tvalidation_0-auc:0.83036\tvalidation_1-auc:0.79867\n",
            "[2]\tvalidation_0-auc:0.84772\tvalidation_1-auc:0.80882\n",
            "[3]\tvalidation_0-auc:0.85973\tvalidation_1-auc:0.81645\n",
            "[4]\tvalidation_0-auc:0.87089\tvalidation_1-auc:0.82268\n",
            "[5]\tvalidation_0-auc:0.88085\tvalidation_1-auc:0.82464\n",
            "[6]\tvalidation_0-auc:0.88641\tvalidation_1-auc:0.82601\n",
            "[7]\tvalidation_0-auc:0.89548\tvalidation_1-auc:0.82419\n",
            "[8]\tvalidation_0-auc:0.90060\tvalidation_1-auc:0.82532\n",
            "[9]\tvalidation_0-auc:0.90758\tvalidation_1-auc:0.82466\n",
            " 84%|████████▍ | 42/50 [20:48<04:06, 30.77s/trial, best loss: -0.832438781440486]"
          ]
        },
        {
          "output_type": "stream",
          "name": "stderr",
          "text": [
            "/usr/local/lib/python3.10/dist-packages/xgboost/sklearn.py:835: UserWarning: `eval_metric` in `fit` method is deprecated for better compatibility with scikit-learn, use `eval_metric` in constructor or`set_params` instead.\n",
            "  warnings.warn(\n",
            "\n",
            "/usr/local/lib/python3.10/dist-packages/xgboost/sklearn.py:835: UserWarning: `early_stopping_rounds` in `fit` method is deprecated for better compatibility with scikit-learn, use `early_stopping_rounds` in constructor or`set_params` instead.\n",
            "  warnings.warn(\n",
            "\n"
          ]
        },
        {
          "output_type": "stream",
          "name": "stdout",
          "text": [
            "[0]\tvalidation_0-auc:0.83429\tvalidation_1-auc:0.81067\n",
            "[1]\tvalidation_0-auc:0.82524\tvalidation_1-auc:0.80018\n",
            "[2]\tvalidation_0-auc:0.84640\tvalidation_1-auc:0.81702\n",
            "[3]\tvalidation_0-auc:0.85812\tvalidation_1-auc:0.82119\n",
            "[4]\tvalidation_0-auc:0.86350\tvalidation_1-auc:0.82552\n",
            "[5]\tvalidation_0-auc:0.87282\tvalidation_1-auc:0.82784\n",
            "[6]\tvalidation_0-auc:0.87561\tvalidation_1-auc:0.82689\n",
            "[7]\tvalidation_0-auc:0.88115\tvalidation_1-auc:0.82688\n",
            "[8]\tvalidation_0-auc:0.89285\tvalidation_1-auc:0.82613\n",
            "[9]\tvalidation_0-auc:0.89876\tvalidation_1-auc:0.82453\n",
            " 84%|████████▍ | 42/50 [21:01<04:06, 30.77s/trial, best loss: -0.832438781440486]"
          ]
        },
        {
          "output_type": "stream",
          "name": "stderr",
          "text": [
            "/usr/local/lib/python3.10/dist-packages/xgboost/sklearn.py:835: UserWarning: `eval_metric` in `fit` method is deprecated for better compatibility with scikit-learn, use `eval_metric` in constructor or`set_params` instead.\n",
            "  warnings.warn(\n",
            "\n",
            "/usr/local/lib/python3.10/dist-packages/xgboost/sklearn.py:835: UserWarning: `early_stopping_rounds` in `fit` method is deprecated for better compatibility with scikit-learn, use `early_stopping_rounds` in constructor or`set_params` instead.\n",
            "  warnings.warn(\n",
            "\n"
          ]
        },
        {
          "output_type": "stream",
          "name": "stdout",
          "text": [
            "[0]\tvalidation_0-auc:0.83176\tvalidation_1-auc:0.80256\n",
            "[1]\tvalidation_0-auc:0.83682\tvalidation_1-auc:0.79969\n",
            "[2]\tvalidation_0-auc:0.85338\tvalidation_1-auc:0.81169\n",
            "[3]\tvalidation_0-auc:0.86634\tvalidation_1-auc:0.82052\n",
            "[4]\tvalidation_0-auc:0.87423\tvalidation_1-auc:0.82277\n",
            "[5]\tvalidation_0-auc:0.88232\tvalidation_1-auc:0.82277\n",
            "[6]\tvalidation_0-auc:0.88660\tvalidation_1-auc:0.82380\n",
            "[7]\tvalidation_0-auc:0.89263\tvalidation_1-auc:0.82556\n",
            "[8]\tvalidation_0-auc:0.89695\tvalidation_1-auc:0.82611\n",
            "[9]\tvalidation_0-auc:0.90399\tvalidation_1-auc:0.82512\n",
            " 86%|████████▌ | 43/50 [21:14<03:52, 33.23s/trial, best loss: -0.832438781440486]"
          ]
        },
        {
          "output_type": "stream",
          "name": "stderr",
          "text": [
            "/usr/local/lib/python3.10/dist-packages/xgboost/sklearn.py:835: UserWarning: `eval_metric` in `fit` method is deprecated for better compatibility with scikit-learn, use `eval_metric` in constructor or`set_params` instead.\n",
            "  warnings.warn(\n",
            "\n",
            "/usr/local/lib/python3.10/dist-packages/xgboost/sklearn.py:835: UserWarning: `early_stopping_rounds` in `fit` method is deprecated for better compatibility with scikit-learn, use `early_stopping_rounds` in constructor or`set_params` instead.\n",
            "  warnings.warn(\n",
            "\n"
          ]
        },
        {
          "output_type": "stream",
          "name": "stdout",
          "text": [
            "[0]\tvalidation_0-auc:0.82990\tvalidation_1-auc:0.81137\n",
            "[1]\tvalidation_0-auc:0.82374\tvalidation_1-auc:0.79744\n",
            "[2]\tvalidation_0-auc:0.83633\tvalidation_1-auc:0.81036\n",
            "[3]\tvalidation_0-auc:0.84223\tvalidation_1-auc:0.81427\n",
            "[4]\tvalidation_0-auc:0.84620\tvalidation_1-auc:0.81552\n",
            "[5]\tvalidation_0-auc:0.85184\tvalidation_1-auc:0.81998\n",
            "[6]\tvalidation_0-auc:0.85704\tvalidation_1-auc:0.82318\n",
            "[7]\tvalidation_0-auc:0.86019\tvalidation_1-auc:0.82618\n",
            "[8]\tvalidation_0-auc:0.86395\tvalidation_1-auc:0.82676\n",
            "[9]\tvalidation_0-auc:0.86652\tvalidation_1-auc:0.82836\n",
            " 86%|████████▌ | 43/50 [21:25<03:52, 33.23s/trial, best loss: -0.832438781440486]"
          ]
        },
        {
          "output_type": "stream",
          "name": "stderr",
          "text": [
            "/usr/local/lib/python3.10/dist-packages/xgboost/sklearn.py:835: UserWarning: `eval_metric` in `fit` method is deprecated for better compatibility with scikit-learn, use `eval_metric` in constructor or`set_params` instead.\n",
            "  warnings.warn(\n",
            "\n",
            "/usr/local/lib/python3.10/dist-packages/xgboost/sklearn.py:835: UserWarning: `early_stopping_rounds` in `fit` method is deprecated for better compatibility with scikit-learn, use `early_stopping_rounds` in constructor or`set_params` instead.\n",
            "  warnings.warn(\n",
            "\n"
          ]
        },
        {
          "output_type": "stream",
          "name": "stdout",
          "text": [
            "[0]\tvalidation_0-auc:0.82649\tvalidation_1-auc:0.81246\n",
            "[1]\tvalidation_0-auc:0.82087\tvalidation_1-auc:0.80512\n",
            "[2]\tvalidation_0-auc:0.83544\tvalidation_1-auc:0.81935\n",
            "[3]\tvalidation_0-auc:0.83892\tvalidation_1-auc:0.82117\n",
            "[4]\tvalidation_0-auc:0.84363\tvalidation_1-auc:0.82526\n",
            "[5]\tvalidation_0-auc:0.84864\tvalidation_1-auc:0.82883\n",
            "[6]\tvalidation_0-auc:0.85073\tvalidation_1-auc:0.82857\n",
            "[7]\tvalidation_0-auc:0.85161\tvalidation_1-auc:0.82920\n",
            "[8]\tvalidation_0-auc:0.85371\tvalidation_1-auc:0.82919\n",
            "[9]\tvalidation_0-auc:0.85482\tvalidation_1-auc:0.82991\n",
            " 86%|████████▌ | 43/50 [21:36<03:52, 33.23s/trial, best loss: -0.832438781440486]"
          ]
        },
        {
          "output_type": "stream",
          "name": "stderr",
          "text": [
            "/usr/local/lib/python3.10/dist-packages/xgboost/sklearn.py:835: UserWarning: `eval_metric` in `fit` method is deprecated for better compatibility with scikit-learn, use `eval_metric` in constructor or`set_params` instead.\n",
            "  warnings.warn(\n",
            "\n",
            "/usr/local/lib/python3.10/dist-packages/xgboost/sklearn.py:835: UserWarning: `early_stopping_rounds` in `fit` method is deprecated for better compatibility with scikit-learn, use `early_stopping_rounds` in constructor or`set_params` instead.\n",
            "  warnings.warn(\n",
            "\n"
          ]
        },
        {
          "output_type": "stream",
          "name": "stdout",
          "text": [
            "[0]\tvalidation_0-auc:0.82333\tvalidation_1-auc:0.81013\n",
            "[1]\tvalidation_0-auc:0.82896\tvalidation_1-auc:0.80900\n",
            "[2]\tvalidation_0-auc:0.83905\tvalidation_1-auc:0.81688\n",
            "[3]\tvalidation_0-auc:0.84105\tvalidation_1-auc:0.82065\n",
            "[4]\tvalidation_0-auc:0.84989\tvalidation_1-auc:0.82734\n",
            "[5]\tvalidation_0-auc:0.85176\tvalidation_1-auc:0.82645\n",
            "[6]\tvalidation_0-auc:0.85397\tvalidation_1-auc:0.82670\n",
            "[7]\tvalidation_0-auc:0.85683\tvalidation_1-auc:0.82884\n",
            "[8]\tvalidation_0-auc:0.85918\tvalidation_1-auc:0.82971\n",
            "[9]\tvalidation_0-auc:0.86220\tvalidation_1-auc:0.83093\n",
            " 88%|████████▊ | 44/50 [21:44<03:13, 32.24s/trial, best loss: -0.832438781440486]"
          ]
        },
        {
          "output_type": "stream",
          "name": "stderr",
          "text": [
            "/usr/local/lib/python3.10/dist-packages/xgboost/sklearn.py:835: UserWarning: `eval_metric` in `fit` method is deprecated for better compatibility with scikit-learn, use `eval_metric` in constructor or`set_params` instead.\n",
            "  warnings.warn(\n",
            "\n",
            "/usr/local/lib/python3.10/dist-packages/xgboost/sklearn.py:835: UserWarning: `early_stopping_rounds` in `fit` method is deprecated for better compatibility with scikit-learn, use `early_stopping_rounds` in constructor or`set_params` instead.\n",
            "  warnings.warn(\n",
            "\n"
          ]
        },
        {
          "output_type": "stream",
          "name": "stdout",
          "text": [
            "[0]\tvalidation_0-auc:0.83117\tvalidation_1-auc:0.81020\n",
            "[1]\tvalidation_0-auc:0.82729\tvalidation_1-auc:0.80046\n",
            "[2]\tvalidation_0-auc:0.83748\tvalidation_1-auc:0.80945\n",
            "[3]\tvalidation_0-auc:0.84502\tvalidation_1-auc:0.81483\n",
            "[4]\tvalidation_0-auc:0.84974\tvalidation_1-auc:0.81795\n",
            "[5]\tvalidation_0-auc:0.85415\tvalidation_1-auc:0.81831\n",
            "[6]\tvalidation_0-auc:0.85947\tvalidation_1-auc:0.82296\n",
            "[7]\tvalidation_0-auc:0.86617\tvalidation_1-auc:0.82536\n",
            "[8]\tvalidation_0-auc:0.86757\tvalidation_1-auc:0.82729\n",
            "[9]\tvalidation_0-auc:0.87166\tvalidation_1-auc:0.82935\n",
            " 88%|████████▊ | 44/50 [21:56<03:13, 32.24s/trial, best loss: -0.832438781440486]"
          ]
        },
        {
          "output_type": "stream",
          "name": "stderr",
          "text": [
            "/usr/local/lib/python3.10/dist-packages/xgboost/sklearn.py:835: UserWarning: `eval_metric` in `fit` method is deprecated for better compatibility with scikit-learn, use `eval_metric` in constructor or`set_params` instead.\n",
            "  warnings.warn(\n",
            "\n",
            "/usr/local/lib/python3.10/dist-packages/xgboost/sklearn.py:835: UserWarning: `early_stopping_rounds` in `fit` method is deprecated for better compatibility with scikit-learn, use `early_stopping_rounds` in constructor or`set_params` instead.\n",
            "  warnings.warn(\n",
            "\n"
          ]
        },
        {
          "output_type": "stream",
          "name": "stdout",
          "text": [
            "[0]\tvalidation_0-auc:0.82804\tvalidation_1-auc:0.81222\n",
            "[1]\tvalidation_0-auc:0.82282\tvalidation_1-auc:0.80404\n",
            "[2]\tvalidation_0-auc:0.83799\tvalidation_1-auc:0.82028\n",
            "[3]\tvalidation_0-auc:0.84344\tvalidation_1-auc:0.82601\n",
            "[4]\tvalidation_0-auc:0.84800\tvalidation_1-auc:0.82748\n",
            "[5]\tvalidation_0-auc:0.85295\tvalidation_1-auc:0.83006\n",
            "[6]\tvalidation_0-auc:0.85561\tvalidation_1-auc:0.83054\n",
            "[7]\tvalidation_0-auc:0.85708\tvalidation_1-auc:0.83089\n",
            "[8]\tvalidation_0-auc:0.85913\tvalidation_1-auc:0.83159\n",
            "[9]\tvalidation_0-auc:0.86061\tvalidation_1-auc:0.83241\n",
            " 88%|████████▊ | 44/50 [22:07<03:13, 32.24s/trial, best loss: -0.832438781440486]"
          ]
        },
        {
          "output_type": "stream",
          "name": "stderr",
          "text": [
            "/usr/local/lib/python3.10/dist-packages/xgboost/sklearn.py:835: UserWarning: `eval_metric` in `fit` method is deprecated for better compatibility with scikit-learn, use `eval_metric` in constructor or`set_params` instead.\n",
            "  warnings.warn(\n",
            "\n",
            "/usr/local/lib/python3.10/dist-packages/xgboost/sklearn.py:835: UserWarning: `early_stopping_rounds` in `fit` method is deprecated for better compatibility with scikit-learn, use `early_stopping_rounds` in constructor or`set_params` instead.\n",
            "  warnings.warn(\n",
            "\n"
          ]
        },
        {
          "output_type": "stream",
          "name": "stdout",
          "text": [
            "[0]\tvalidation_0-auc:0.82588\tvalidation_1-auc:0.80868\n",
            "[1]\tvalidation_0-auc:0.82570\tvalidation_1-auc:0.80628\n",
            "[2]\tvalidation_0-auc:0.83935\tvalidation_1-auc:0.81592\n",
            "[3]\tvalidation_0-auc:0.85005\tvalidation_1-auc:0.82593\n",
            "[4]\tvalidation_0-auc:0.85464\tvalidation_1-auc:0.82814\n",
            "[5]\tvalidation_0-auc:0.85704\tvalidation_1-auc:0.82738\n",
            "[6]\tvalidation_0-auc:0.86080\tvalidation_1-auc:0.82765\n",
            "[7]\tvalidation_0-auc:0.86297\tvalidation_1-auc:0.82764\n",
            "[8]\tvalidation_0-auc:0.86628\tvalidation_1-auc:0.82990\n",
            "[9]\tvalidation_0-auc:0.86816\tvalidation_1-auc:0.83097\n",
            " 90%|█████████ | 45/50 [22:19<02:44, 32.94s/trial, best loss: -0.832438781440486]"
          ]
        },
        {
          "output_type": "stream",
          "name": "stderr",
          "text": [
            "/usr/local/lib/python3.10/dist-packages/xgboost/sklearn.py:835: UserWarning: `eval_metric` in `fit` method is deprecated for better compatibility with scikit-learn, use `eval_metric` in constructor or`set_params` instead.\n",
            "  warnings.warn(\n",
            "\n",
            "/usr/local/lib/python3.10/dist-packages/xgboost/sklearn.py:835: UserWarning: `early_stopping_rounds` in `fit` method is deprecated for better compatibility with scikit-learn, use `early_stopping_rounds` in constructor or`set_params` instead.\n",
            "  warnings.warn(\n",
            "\n"
          ]
        },
        {
          "output_type": "stream",
          "name": "stdout",
          "text": [
            "[0]\tvalidation_0-auc:0.82561\tvalidation_1-auc:0.80503\n",
            "[1]\tvalidation_0-auc:0.82399\tvalidation_1-auc:0.79754\n",
            "[2]\tvalidation_0-auc:0.83537\tvalidation_1-auc:0.80940\n",
            "[3]\tvalidation_0-auc:0.84210\tvalidation_1-auc:0.81391\n",
            "[4]\tvalidation_0-auc:0.84613\tvalidation_1-auc:0.81566\n",
            "[5]\tvalidation_0-auc:0.84732\tvalidation_1-auc:0.81601\n",
            "[6]\tvalidation_0-auc:0.84873\tvalidation_1-auc:0.81648\n",
            "[7]\tvalidation_0-auc:0.85299\tvalidation_1-auc:0.81984\n",
            "[8]\tvalidation_0-auc:0.85821\tvalidation_1-auc:0.82402\n",
            "[9]\tvalidation_0-auc:0.86041\tvalidation_1-auc:0.82524\n",
            " 90%|█████████ | 45/50 [22:26<02:44, 32.94s/trial, best loss: -0.832438781440486]"
          ]
        },
        {
          "output_type": "stream",
          "name": "stderr",
          "text": [
            "/usr/local/lib/python3.10/dist-packages/xgboost/sklearn.py:835: UserWarning: `eval_metric` in `fit` method is deprecated for better compatibility with scikit-learn, use `eval_metric` in constructor or`set_params` instead.\n",
            "  warnings.warn(\n",
            "\n",
            "/usr/local/lib/python3.10/dist-packages/xgboost/sklearn.py:835: UserWarning: `early_stopping_rounds` in `fit` method is deprecated for better compatibility with scikit-learn, use `early_stopping_rounds` in constructor or`set_params` instead.\n",
            "  warnings.warn(\n",
            "\n"
          ]
        },
        {
          "output_type": "stream",
          "name": "stdout",
          "text": [
            "[0]\tvalidation_0-auc:0.82682\tvalidation_1-auc:0.81198\n",
            "[1]\tvalidation_0-auc:0.82255\tvalidation_1-auc:0.80585\n",
            "[2]\tvalidation_0-auc:0.83456\tvalidation_1-auc:0.81883\n",
            "[3]\tvalidation_0-auc:0.83915\tvalidation_1-auc:0.82217\n",
            "[4]\tvalidation_0-auc:0.84195\tvalidation_1-auc:0.82462\n",
            "[5]\tvalidation_0-auc:0.84512\tvalidation_1-auc:0.82568\n",
            "[6]\tvalidation_0-auc:0.84656\tvalidation_1-auc:0.82734\n",
            "[7]\tvalidation_0-auc:0.84861\tvalidation_1-auc:0.82852\n",
            "[8]\tvalidation_0-auc:0.85176\tvalidation_1-auc:0.83018\n",
            "[9]\tvalidation_0-auc:0.85210\tvalidation_1-auc:0.83054\n",
            " 90%|█████████ | 45/50 [22:36<02:44, 32.94s/trial, best loss: -0.832438781440486]"
          ]
        },
        {
          "output_type": "stream",
          "name": "stderr",
          "text": [
            "/usr/local/lib/python3.10/dist-packages/xgboost/sklearn.py:835: UserWarning: `eval_metric` in `fit` method is deprecated for better compatibility with scikit-learn, use `eval_metric` in constructor or`set_params` instead.\n",
            "  warnings.warn(\n",
            "\n",
            "/usr/local/lib/python3.10/dist-packages/xgboost/sklearn.py:835: UserWarning: `early_stopping_rounds` in `fit` method is deprecated for better compatibility with scikit-learn, use `early_stopping_rounds` in constructor or`set_params` instead.\n",
            "  warnings.warn(\n",
            "\n"
          ]
        },
        {
          "output_type": "stream",
          "name": "stdout",
          "text": [
            "[0]\tvalidation_0-auc:0.82292\tvalidation_1-auc:0.80171\n",
            "[1]\tvalidation_0-auc:0.81980\tvalidation_1-auc:0.80243\n",
            "[2]\tvalidation_0-auc:0.83334\tvalidation_1-auc:0.81130\n",
            "[3]\tvalidation_0-auc:0.84406\tvalidation_1-auc:0.82150\n",
            "[4]\tvalidation_0-auc:0.84664\tvalidation_1-auc:0.82239\n",
            "[5]\tvalidation_0-auc:0.84979\tvalidation_1-auc:0.82346\n",
            "[6]\tvalidation_0-auc:0.85198\tvalidation_1-auc:0.82446\n",
            "[7]\tvalidation_0-auc:0.85514\tvalidation_1-auc:0.82671\n",
            "[8]\tvalidation_0-auc:0.85789\tvalidation_1-auc:0.82691\n",
            "[9]\tvalidation_0-auc:0.85927\tvalidation_1-auc:0.82656\n",
            " 92%|█████████▏| 46/50 [22:46<02:04, 31.21s/trial, best loss: -0.832438781440486]"
          ]
        },
        {
          "output_type": "stream",
          "name": "stderr",
          "text": [
            "/usr/local/lib/python3.10/dist-packages/xgboost/sklearn.py:835: UserWarning: `eval_metric` in `fit` method is deprecated for better compatibility with scikit-learn, use `eval_metric` in constructor or`set_params` instead.\n",
            "  warnings.warn(\n",
            "\n",
            "/usr/local/lib/python3.10/dist-packages/xgboost/sklearn.py:835: UserWarning: `early_stopping_rounds` in `fit` method is deprecated for better compatibility with scikit-learn, use `early_stopping_rounds` in constructor or`set_params` instead.\n",
            "  warnings.warn(\n",
            "\n"
          ]
        },
        {
          "output_type": "stream",
          "name": "stdout",
          "text": [
            "[0]\tvalidation_0-auc:0.83143\tvalidation_1-auc:0.81080\n",
            "[1]\tvalidation_0-auc:0.83502\tvalidation_1-auc:0.80423\n",
            "[2]\tvalidation_0-auc:0.84978\tvalidation_1-auc:0.81588\n",
            "[3]\tvalidation_0-auc:0.85994\tvalidation_1-auc:0.81844\n",
            "[4]\tvalidation_0-auc:0.86622\tvalidation_1-auc:0.82415\n",
            "[5]\tvalidation_0-auc:0.86887\tvalidation_1-auc:0.82221\n",
            "[6]\tvalidation_0-auc:0.87547\tvalidation_1-auc:0.82643\n",
            "[7]\tvalidation_0-auc:0.87806\tvalidation_1-auc:0.82788\n",
            "[8]\tvalidation_0-auc:0.88025\tvalidation_1-auc:0.82932\n",
            "[9]\tvalidation_0-auc:0.88566\tvalidation_1-auc:0.82706\n",
            " 92%|█████████▏| 46/50 [22:54<02:04, 31.21s/trial, best loss: -0.832438781440486]"
          ]
        },
        {
          "output_type": "stream",
          "name": "stderr",
          "text": [
            "/usr/local/lib/python3.10/dist-packages/xgboost/sklearn.py:835: UserWarning: `eval_metric` in `fit` method is deprecated for better compatibility with scikit-learn, use `eval_metric` in constructor or`set_params` instead.\n",
            "  warnings.warn(\n",
            "\n",
            "/usr/local/lib/python3.10/dist-packages/xgboost/sklearn.py:835: UserWarning: `early_stopping_rounds` in `fit` method is deprecated for better compatibility with scikit-learn, use `early_stopping_rounds` in constructor or`set_params` instead.\n",
            "  warnings.warn(\n",
            "\n"
          ]
        },
        {
          "output_type": "stream",
          "name": "stdout",
          "text": [
            "[0]\tvalidation_0-auc:0.82875\tvalidation_1-auc:0.81329\n",
            "[1]\tvalidation_0-auc:0.82202\tvalidation_1-auc:0.80302\n",
            "[2]\tvalidation_0-auc:0.83982\tvalidation_1-auc:0.81933\n",
            "[3]\tvalidation_0-auc:0.85014\tvalidation_1-auc:0.82277\n",
            "[4]\tvalidation_0-auc:0.85519\tvalidation_1-auc:0.82715\n",
            "[5]\tvalidation_0-auc:0.86111\tvalidation_1-auc:0.82867\n",
            "[6]\tvalidation_0-auc:0.86491\tvalidation_1-auc:0.83089\n",
            "[7]\tvalidation_0-auc:0.87032\tvalidation_1-auc:0.83252\n",
            "[8]\tvalidation_0-auc:0.87402\tvalidation_1-auc:0.83613\n",
            "[9]\tvalidation_0-auc:0.87707\tvalidation_1-auc:0.83286\n",
            " 92%|█████████▏| 46/50 [23:04<02:04, 31.21s/trial, best loss: -0.832438781440486]"
          ]
        },
        {
          "output_type": "stream",
          "name": "stderr",
          "text": [
            "/usr/local/lib/python3.10/dist-packages/xgboost/sklearn.py:835: UserWarning: `eval_metric` in `fit` method is deprecated for better compatibility with scikit-learn, use `eval_metric` in constructor or`set_params` instead.\n",
            "  warnings.warn(\n",
            "\n",
            "/usr/local/lib/python3.10/dist-packages/xgboost/sklearn.py:835: UserWarning: `early_stopping_rounds` in `fit` method is deprecated for better compatibility with scikit-learn, use `early_stopping_rounds` in constructor or`set_params` instead.\n",
            "  warnings.warn(\n",
            "\n"
          ]
        },
        {
          "output_type": "stream",
          "name": "stdout",
          "text": [
            "[0]\tvalidation_0-auc:0.82840\tvalidation_1-auc:0.80975\n",
            "[1]\tvalidation_0-auc:0.82579\tvalidation_1-auc:0.80277\n",
            "[2]\tvalidation_0-auc:0.84601\tvalidation_1-auc:0.81843\n",
            "[3]\tvalidation_0-auc:0.85505\tvalidation_1-auc:0.82165\n",
            "[4]\tvalidation_0-auc:0.86146\tvalidation_1-auc:0.82518\n",
            "[5]\tvalidation_0-auc:0.86631\tvalidation_1-auc:0.82218\n",
            "[6]\tvalidation_0-auc:0.87186\tvalidation_1-auc:0.82376\n",
            "[7]\tvalidation_0-auc:0.87637\tvalidation_1-auc:0.82470\n",
            "[8]\tvalidation_0-auc:0.87859\tvalidation_1-auc:0.82635\n",
            "[9]\tvalidation_0-auc:0.88302\tvalidation_1-auc:0.82512\n",
            " 94%|█████████▍| 47/50 [23:15<01:31, 30.41s/trial, best loss: -0.832438781440486]"
          ]
        },
        {
          "output_type": "stream",
          "name": "stderr",
          "text": [
            "/usr/local/lib/python3.10/dist-packages/xgboost/sklearn.py:835: UserWarning: `eval_metric` in `fit` method is deprecated for better compatibility with scikit-learn, use `eval_metric` in constructor or`set_params` instead.\n",
            "  warnings.warn(\n",
            "\n",
            "/usr/local/lib/python3.10/dist-packages/xgboost/sklearn.py:835: UserWarning: `early_stopping_rounds` in `fit` method is deprecated for better compatibility with scikit-learn, use `early_stopping_rounds` in constructor or`set_params` instead.\n",
            "  warnings.warn(\n",
            "\n"
          ]
        },
        {
          "output_type": "stream",
          "name": "stdout",
          "text": [
            "[0]\tvalidation_0-auc:0.82740\tvalidation_1-auc:0.81088\n",
            "[1]\tvalidation_0-auc:0.81794\tvalidation_1-auc:0.79667\n",
            "[2]\tvalidation_0-auc:0.83212\tvalidation_1-auc:0.81212\n",
            "[3]\tvalidation_0-auc:0.83591\tvalidation_1-auc:0.81389\n",
            "[4]\tvalidation_0-auc:0.83881\tvalidation_1-auc:0.81633\n",
            "[5]\tvalidation_0-auc:0.83907\tvalidation_1-auc:0.81588\n",
            "[6]\tvalidation_0-auc:0.84215\tvalidation_1-auc:0.81906\n",
            "[7]\tvalidation_0-auc:0.84493\tvalidation_1-auc:0.82099\n",
            "[8]\tvalidation_0-auc:0.84795\tvalidation_1-auc:0.82448\n",
            "[9]\tvalidation_0-auc:0.84909\tvalidation_1-auc:0.82458\n",
            " 94%|█████████▍| 47/50 [23:20<01:31, 30.41s/trial, best loss: -0.832438781440486]"
          ]
        },
        {
          "output_type": "stream",
          "name": "stderr",
          "text": [
            "/usr/local/lib/python3.10/dist-packages/xgboost/sklearn.py:835: UserWarning: `eval_metric` in `fit` method is deprecated for better compatibility with scikit-learn, use `eval_metric` in constructor or`set_params` instead.\n",
            "  warnings.warn(\n",
            "\n",
            "/usr/local/lib/python3.10/dist-packages/xgboost/sklearn.py:835: UserWarning: `early_stopping_rounds` in `fit` method is deprecated for better compatibility with scikit-learn, use `early_stopping_rounds` in constructor or`set_params` instead.\n",
            "  warnings.warn(\n",
            "\n"
          ]
        },
        {
          "output_type": "stream",
          "name": "stdout",
          "text": [
            "[0]\tvalidation_0-auc:0.82340\tvalidation_1-auc:0.81286\n",
            "[1]\tvalidation_0-auc:0.81487\tvalidation_1-auc:0.80374\n",
            "[2]\tvalidation_0-auc:0.82734\tvalidation_1-auc:0.81670\n",
            "[3]\tvalidation_0-auc:0.83103\tvalidation_1-auc:0.82097\n",
            "[4]\tvalidation_0-auc:0.83407\tvalidation_1-auc:0.82333\n",
            "[5]\tvalidation_0-auc:0.83330\tvalidation_1-auc:0.82328\n",
            "[6]\tvalidation_0-auc:0.83588\tvalidation_1-auc:0.82480\n",
            "[7]\tvalidation_0-auc:0.83764\tvalidation_1-auc:0.82582\n",
            "[8]\tvalidation_0-auc:0.84305\tvalidation_1-auc:0.82897\n",
            "[9]\tvalidation_0-auc:0.84325\tvalidation_1-auc:0.82896\n",
            " 94%|█████████▍| 47/50 [23:28<01:31, 30.41s/trial, best loss: -0.832438781440486]"
          ]
        },
        {
          "output_type": "stream",
          "name": "stderr",
          "text": [
            "/usr/local/lib/python3.10/dist-packages/xgboost/sklearn.py:835: UserWarning: `eval_metric` in `fit` method is deprecated for better compatibility with scikit-learn, use `eval_metric` in constructor or`set_params` instead.\n",
            "  warnings.warn(\n",
            "\n",
            "/usr/local/lib/python3.10/dist-packages/xgboost/sklearn.py:835: UserWarning: `early_stopping_rounds` in `fit` method is deprecated for better compatibility with scikit-learn, use `early_stopping_rounds` in constructor or`set_params` instead.\n",
            "  warnings.warn(\n",
            "\n"
          ]
        },
        {
          "output_type": "stream",
          "name": "stdout",
          "text": [
            "[0]\tvalidation_0-auc:0.82202\tvalidation_1-auc:0.80821\n",
            "[1]\tvalidation_0-auc:0.81539\tvalidation_1-auc:0.80031\n",
            "[2]\tvalidation_0-auc:0.82879\tvalidation_1-auc:0.81197\n",
            "[3]\tvalidation_0-auc:0.83337\tvalidation_1-auc:0.81483\n",
            "[4]\tvalidation_0-auc:0.83783\tvalidation_1-auc:0.82076\n",
            "[5]\tvalidation_0-auc:0.83689\tvalidation_1-auc:0.81894\n",
            "[6]\tvalidation_0-auc:0.83905\tvalidation_1-auc:0.82045\n",
            "[7]\tvalidation_0-auc:0.84199\tvalidation_1-auc:0.82293\n",
            "[8]\tvalidation_0-auc:0.84664\tvalidation_1-auc:0.82753\n",
            "[9]\tvalidation_0-auc:0.84853\tvalidation_1-auc:0.82764\n",
            " 96%|█████████▌| 48/50 [23:33<00:53, 26.89s/trial, best loss: -0.832438781440486]"
          ]
        },
        {
          "output_type": "stream",
          "name": "stderr",
          "text": [
            "/usr/local/lib/python3.10/dist-packages/xgboost/sklearn.py:835: UserWarning: `eval_metric` in `fit` method is deprecated for better compatibility with scikit-learn, use `eval_metric` in constructor or`set_params` instead.\n",
            "  warnings.warn(\n",
            "\n",
            "/usr/local/lib/python3.10/dist-packages/xgboost/sklearn.py:835: UserWarning: `early_stopping_rounds` in `fit` method is deprecated for better compatibility with scikit-learn, use `early_stopping_rounds` in constructor or`set_params` instead.\n",
            "  warnings.warn(\n",
            "\n"
          ]
        },
        {
          "output_type": "stream",
          "name": "stdout",
          "text": [
            "[0]\tvalidation_0-auc:0.83188\tvalidation_1-auc:0.80997\n",
            "[1]\tvalidation_0-auc:0.82694\tvalidation_1-auc:0.79985\n",
            "[2]\tvalidation_0-auc:0.84248\tvalidation_1-auc:0.81329\n",
            "[3]\tvalidation_0-auc:0.85305\tvalidation_1-auc:0.81579\n",
            "[4]\tvalidation_0-auc:0.85863\tvalidation_1-auc:0.81846\n",
            "[5]\tvalidation_0-auc:0.86591\tvalidation_1-auc:0.82342\n",
            "[6]\tvalidation_0-auc:0.86997\tvalidation_1-auc:0.82590\n",
            "[7]\tvalidation_0-auc:0.87547\tvalidation_1-auc:0.82710\n",
            "[8]\tvalidation_0-auc:0.87991\tvalidation_1-auc:0.82942\n",
            "[9]\tvalidation_0-auc:0.88528\tvalidation_1-auc:0.82964\n",
            " 96%|█████████▌| 48/50 [23:45<00:53, 26.89s/trial, best loss: -0.832438781440486]"
          ]
        },
        {
          "output_type": "stream",
          "name": "stderr",
          "text": [
            "/usr/local/lib/python3.10/dist-packages/xgboost/sklearn.py:835: UserWarning: `eval_metric` in `fit` method is deprecated for better compatibility with scikit-learn, use `eval_metric` in constructor or`set_params` instead.\n",
            "  warnings.warn(\n",
            "\n",
            "/usr/local/lib/python3.10/dist-packages/xgboost/sklearn.py:835: UserWarning: `early_stopping_rounds` in `fit` method is deprecated for better compatibility with scikit-learn, use `early_stopping_rounds` in constructor or`set_params` instead.\n",
            "  warnings.warn(\n",
            "\n"
          ]
        },
        {
          "output_type": "stream",
          "name": "stdout",
          "text": [
            "[0]\tvalidation_0-auc:0.82869\tvalidation_1-auc:0.81315\n",
            "[1]\tvalidation_0-auc:0.82137\tvalidation_1-auc:0.80232\n",
            "[2]\tvalidation_0-auc:0.83764\tvalidation_1-auc:0.81971\n",
            "[3]\tvalidation_0-auc:0.84747\tvalidation_1-auc:0.82612\n",
            "[4]\tvalidation_0-auc:0.85201\tvalidation_1-auc:0.82946\n",
            "[5]\tvalidation_0-auc:0.85862\tvalidation_1-auc:0.83327\n",
            "[6]\tvalidation_0-auc:0.85986\tvalidation_1-auc:0.83281\n",
            "[7]\tvalidation_0-auc:0.86413\tvalidation_1-auc:0.83239\n",
            "[8]\tvalidation_0-auc:0.87290\tvalidation_1-auc:0.83359\n",
            "[9]\tvalidation_0-auc:0.87614\tvalidation_1-auc:0.83283\n",
            " 96%|█████████▌| 48/50 [23:57<00:53, 26.89s/trial, best loss: -0.832438781440486]"
          ]
        },
        {
          "output_type": "stream",
          "name": "stderr",
          "text": [
            "/usr/local/lib/python3.10/dist-packages/xgboost/sklearn.py:835: UserWarning: `eval_metric` in `fit` method is deprecated for better compatibility with scikit-learn, use `eval_metric` in constructor or`set_params` instead.\n",
            "  warnings.warn(\n",
            "\n",
            "/usr/local/lib/python3.10/dist-packages/xgboost/sklearn.py:835: UserWarning: `early_stopping_rounds` in `fit` method is deprecated for better compatibility with scikit-learn, use `early_stopping_rounds` in constructor or`set_params` instead.\n",
            "  warnings.warn(\n",
            "\n"
          ]
        },
        {
          "output_type": "stream",
          "name": "stdout",
          "text": [
            "[0]\tvalidation_0-auc:0.82479\tvalidation_1-auc:0.80157\n",
            "[1]\tvalidation_0-auc:0.83188\tvalidation_1-auc:0.80412\n",
            "[2]\tvalidation_0-auc:0.84731\tvalidation_1-auc:0.81820\n",
            "[3]\tvalidation_0-auc:0.85740\tvalidation_1-auc:0.82353\n",
            "[4]\tvalidation_0-auc:0.86341\tvalidation_1-auc:0.82685\n",
            "[5]\tvalidation_0-auc:0.86774\tvalidation_1-auc:0.82722\n",
            "[6]\tvalidation_0-auc:0.87103\tvalidation_1-auc:0.82864\n",
            "[7]\tvalidation_0-auc:0.87641\tvalidation_1-auc:0.82997\n",
            "[8]\tvalidation_0-auc:0.87887\tvalidation_1-auc:0.83238\n",
            "[9]\tvalidation_0-auc:0.88401\tvalidation_1-auc:0.83047\n",
            " 98%|█████████▊| 49/50 [24:08<00:29, 29.29s/trial, best loss: -0.832438781440486]"
          ]
        },
        {
          "output_type": "stream",
          "name": "stderr",
          "text": [
            "/usr/local/lib/python3.10/dist-packages/xgboost/sklearn.py:835: UserWarning: `eval_metric` in `fit` method is deprecated for better compatibility with scikit-learn, use `eval_metric` in constructor or`set_params` instead.\n",
            "  warnings.warn(\n",
            "\n",
            "/usr/local/lib/python3.10/dist-packages/xgboost/sklearn.py:835: UserWarning: `early_stopping_rounds` in `fit` method is deprecated for better compatibility with scikit-learn, use `early_stopping_rounds` in constructor or`set_params` instead.\n",
            "  warnings.warn(\n",
            "\n"
          ]
        },
        {
          "output_type": "stream",
          "name": "stdout",
          "text": [
            "[0]\tvalidation_0-auc:0.82980\tvalidation_1-auc:0.81014\n",
            "[1]\tvalidation_0-auc:0.82976\tvalidation_1-auc:0.80183\n",
            "[2]\tvalidation_0-auc:0.84185\tvalidation_1-auc:0.81527\n",
            "[3]\tvalidation_0-auc:0.85084\tvalidation_1-auc:0.82018\n",
            "[4]\tvalidation_0-auc:0.85722\tvalidation_1-auc:0.82426\n",
            "[5]\tvalidation_0-auc:0.85835\tvalidation_1-auc:0.82145\n",
            "[6]\tvalidation_0-auc:0.86369\tvalidation_1-auc:0.82407\n",
            "[7]\tvalidation_0-auc:0.86743\tvalidation_1-auc:0.82764\n",
            "[8]\tvalidation_0-auc:0.87202\tvalidation_1-auc:0.82956\n",
            "[9]\tvalidation_0-auc:0.87609\tvalidation_1-auc:0.82812\n",
            " 98%|█████████▊| 49/50 [24:16<00:29, 29.29s/trial, best loss: -0.832438781440486]"
          ]
        },
        {
          "output_type": "stream",
          "name": "stderr",
          "text": [
            "/usr/local/lib/python3.10/dist-packages/xgboost/sklearn.py:835: UserWarning: `eval_metric` in `fit` method is deprecated for better compatibility with scikit-learn, use `eval_metric` in constructor or`set_params` instead.\n",
            "  warnings.warn(\n",
            "\n",
            "/usr/local/lib/python3.10/dist-packages/xgboost/sklearn.py:835: UserWarning: `early_stopping_rounds` in `fit` method is deprecated for better compatibility with scikit-learn, use `early_stopping_rounds` in constructor or`set_params` instead.\n",
            "  warnings.warn(\n",
            "\n"
          ]
        },
        {
          "output_type": "stream",
          "name": "stdout",
          "text": [
            "[0]\tvalidation_0-auc:0.82659\tvalidation_1-auc:0.81267\n",
            "[1]\tvalidation_0-auc:0.81930\tvalidation_1-auc:0.80382\n",
            "[2]\tvalidation_0-auc:0.83527\tvalidation_1-auc:0.81925\n",
            "[3]\tvalidation_0-auc:0.84369\tvalidation_1-auc:0.82323\n",
            "[4]\tvalidation_0-auc:0.84996\tvalidation_1-auc:0.82655\n",
            "[5]\tvalidation_0-auc:0.85425\tvalidation_1-auc:0.82703\n",
            "[6]\tvalidation_0-auc:0.85832\tvalidation_1-auc:0.82691\n",
            "[7]\tvalidation_0-auc:0.86110\tvalidation_1-auc:0.83047\n",
            "[8]\tvalidation_0-auc:0.86693\tvalidation_1-auc:0.83323\n",
            "[9]\tvalidation_0-auc:0.86976\tvalidation_1-auc:0.83122\n",
            " 98%|█████████▊| 49/50 [24:25<00:29, 29.29s/trial, best loss: -0.832438781440486]"
          ]
        },
        {
          "output_type": "stream",
          "name": "stderr",
          "text": [
            "/usr/local/lib/python3.10/dist-packages/xgboost/sklearn.py:835: UserWarning: `eval_metric` in `fit` method is deprecated for better compatibility with scikit-learn, use `eval_metric` in constructor or`set_params` instead.\n",
            "  warnings.warn(\n",
            "\n",
            "/usr/local/lib/python3.10/dist-packages/xgboost/sklearn.py:835: UserWarning: `early_stopping_rounds` in `fit` method is deprecated for better compatibility with scikit-learn, use `early_stopping_rounds` in constructor or`set_params` instead.\n",
            "  warnings.warn(\n",
            "\n"
          ]
        },
        {
          "output_type": "stream",
          "name": "stdout",
          "text": [
            "[0]\tvalidation_0-auc:0.82524\tvalidation_1-auc:0.80980\n",
            "[1]\tvalidation_0-auc:0.82239\tvalidation_1-auc:0.80325\n",
            "[2]\tvalidation_0-auc:0.84159\tvalidation_1-auc:0.81847\n",
            "[3]\tvalidation_0-auc:0.84949\tvalidation_1-auc:0.82213\n",
            "[4]\tvalidation_0-auc:0.85510\tvalidation_1-auc:0.82557\n",
            "[5]\tvalidation_0-auc:0.85699\tvalidation_1-auc:0.82308\n",
            "[6]\tvalidation_0-auc:0.86171\tvalidation_1-auc:0.82617\n",
            "[7]\tvalidation_0-auc:0.86564\tvalidation_1-auc:0.82716\n",
            "[8]\tvalidation_0-auc:0.86906\tvalidation_1-auc:0.82797\n",
            "[9]\tvalidation_0-auc:0.87312\tvalidation_1-auc:0.82533\n",
            "100%|██████████| 50/50 [24:32<00:00, 29.46s/trial, best loss: -0.832438781440486]\n",
            "{'colsample_bytree': 0.6713308586108439, 'learning_rate': 0.18351590014084648, 'max_depth': 8.0, 'min_child_weight': 6.0}\n"
          ]
        }
      ]
    },
    {
      "cell_type": "code",
      "source": [],
      "metadata": {
        "id": "LKXiHQhpsMS2"
      },
      "execution_count": null,
      "outputs": []
    }
  ]
}