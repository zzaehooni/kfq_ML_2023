{
  "nbformat": 4,
  "nbformat_minor": 0,
  "metadata": {
    "colab": {
      "provenance": [],
      "mount_file_id": "11B2FdF_RJraQYAgkq8_71Zcy8J1UCReL",
      "authorship_tag": "ABX9TyNULrp8hJX39RrQ/xfTnrZy",
      "include_colab_link": true
    },
    "kernelspec": {
      "name": "python3",
      "display_name": "Python 3"
    },
    "language_info": {
      "name": "python"
    }
  },
  "cells": [
    {
      "cell_type": "markdown",
      "metadata": {
        "id": "view-in-github",
        "colab_type": "text"
      },
      "source": [
        "<a href=\"https://colab.research.google.com/github/ehpub/kfq_ML_2023/blob/main/kfq2023_%EB%A8%B8%EC%8B%A0%EB%9F%AC%EB%8B%9D_%EB%B6%84%EB%A5%982_%EC%95%99%EC%83%81%EB%B8%94.ipynb\" target=\"_parent\"><img src=\"https://colab.research.google.com/assets/colab-badge.svg\" alt=\"Open In Colab\"/></a>"
      ]
    },
    {
      "cell_type": "markdown",
      "source": [
        "강의 교재 : https://wikibook.co.kr/pymlrev2/"
      ],
      "metadata": {
        "id": "dUtyzOhPGOsj"
      }
    },
    {
      "cell_type": "code",
      "source": [
        "from sklearn.ensemble import VotingClassifier\n",
        "from sklearn.linear_model import LogisticRegression\n",
        "from sklearn.neighbors import KNeighborsClassifier\n",
        "from sklearn.datasets import load_breast_cancer\n",
        "from sklearn.model_selection import train_test_split\n",
        "from sklearn.metrics import accuracy_score\n",
        "import pandas as pd"
      ],
      "metadata": {
        "id": "AuD08irwrQkL"
      },
      "execution_count": null,
      "outputs": []
    },
    {
      "cell_type": "code",
      "source": [
        "cancer = load_breast_cancer()\n",
        "df = pd.DataFrame(cancer.data,columns = cancer.feature_names)\n",
        "df.head()"
      ],
      "metadata": {
        "colab": {
          "base_uri": "https://localhost:8080/",
          "height": 334
        },
        "id": "vM0TvzDrEPlT",
        "outputId": "2e8deb8d-0efd-4789-fa03-b9fef767759a"
      },
      "execution_count": null,
      "outputs": [
        {
          "output_type": "execute_result",
          "data": {
            "text/plain": [
              "   mean radius  mean texture  mean perimeter  mean area  mean smoothness  \\\n",
              "0        17.99         10.38          122.80     1001.0          0.11840   \n",
              "1        20.57         17.77          132.90     1326.0          0.08474   \n",
              "2        19.69         21.25          130.00     1203.0          0.10960   \n",
              "3        11.42         20.38           77.58      386.1          0.14250   \n",
              "4        20.29         14.34          135.10     1297.0          0.10030   \n",
              "\n",
              "   mean compactness  mean concavity  mean concave points  mean symmetry  \\\n",
              "0           0.27760          0.3001              0.14710         0.2419   \n",
              "1           0.07864          0.0869              0.07017         0.1812   \n",
              "2           0.15990          0.1974              0.12790         0.2069   \n",
              "3           0.28390          0.2414              0.10520         0.2597   \n",
              "4           0.13280          0.1980              0.10430         0.1809   \n",
              "\n",
              "   mean fractal dimension  ...  worst radius  worst texture  worst perimeter  \\\n",
              "0                 0.07871  ...         25.38          17.33           184.60   \n",
              "1                 0.05667  ...         24.99          23.41           158.80   \n",
              "2                 0.05999  ...         23.57          25.53           152.50   \n",
              "3                 0.09744  ...         14.91          26.50            98.87   \n",
              "4                 0.05883  ...         22.54          16.67           152.20   \n",
              "\n",
              "   worst area  worst smoothness  worst compactness  worst concavity  \\\n",
              "0      2019.0            0.1622             0.6656           0.7119   \n",
              "1      1956.0            0.1238             0.1866           0.2416   \n",
              "2      1709.0            0.1444             0.4245           0.4504   \n",
              "3       567.7            0.2098             0.8663           0.6869   \n",
              "4      1575.0            0.1374             0.2050           0.4000   \n",
              "\n",
              "   worst concave points  worst symmetry  worst fractal dimension  \n",
              "0                0.2654          0.4601                  0.11890  \n",
              "1                0.1860          0.2750                  0.08902  \n",
              "2                0.2430          0.3613                  0.08758  \n",
              "3                0.2575          0.6638                  0.17300  \n",
              "4                0.1625          0.2364                  0.07678  \n",
              "\n",
              "[5 rows x 30 columns]"
            ],
            "text/html": [
              "\n",
              "  <div id=\"df-8ba871db-4158-49df-b832-d416d290e678\">\n",
              "    <div class=\"colab-df-container\">\n",
              "      <div>\n",
              "<style scoped>\n",
              "    .dataframe tbody tr th:only-of-type {\n",
              "        vertical-align: middle;\n",
              "    }\n",
              "\n",
              "    .dataframe tbody tr th {\n",
              "        vertical-align: top;\n",
              "    }\n",
              "\n",
              "    .dataframe thead th {\n",
              "        text-align: right;\n",
              "    }\n",
              "</style>\n",
              "<table border=\"1\" class=\"dataframe\">\n",
              "  <thead>\n",
              "    <tr style=\"text-align: right;\">\n",
              "      <th></th>\n",
              "      <th>mean radius</th>\n",
              "      <th>mean texture</th>\n",
              "      <th>mean perimeter</th>\n",
              "      <th>mean area</th>\n",
              "      <th>mean smoothness</th>\n",
              "      <th>mean compactness</th>\n",
              "      <th>mean concavity</th>\n",
              "      <th>mean concave points</th>\n",
              "      <th>mean symmetry</th>\n",
              "      <th>mean fractal dimension</th>\n",
              "      <th>...</th>\n",
              "      <th>worst radius</th>\n",
              "      <th>worst texture</th>\n",
              "      <th>worst perimeter</th>\n",
              "      <th>worst area</th>\n",
              "      <th>worst smoothness</th>\n",
              "      <th>worst compactness</th>\n",
              "      <th>worst concavity</th>\n",
              "      <th>worst concave points</th>\n",
              "      <th>worst symmetry</th>\n",
              "      <th>worst fractal dimension</th>\n",
              "    </tr>\n",
              "  </thead>\n",
              "  <tbody>\n",
              "    <tr>\n",
              "      <th>0</th>\n",
              "      <td>17.99</td>\n",
              "      <td>10.38</td>\n",
              "      <td>122.80</td>\n",
              "      <td>1001.0</td>\n",
              "      <td>0.11840</td>\n",
              "      <td>0.27760</td>\n",
              "      <td>0.3001</td>\n",
              "      <td>0.14710</td>\n",
              "      <td>0.2419</td>\n",
              "      <td>0.07871</td>\n",
              "      <td>...</td>\n",
              "      <td>25.38</td>\n",
              "      <td>17.33</td>\n",
              "      <td>184.60</td>\n",
              "      <td>2019.0</td>\n",
              "      <td>0.1622</td>\n",
              "      <td>0.6656</td>\n",
              "      <td>0.7119</td>\n",
              "      <td>0.2654</td>\n",
              "      <td>0.4601</td>\n",
              "      <td>0.11890</td>\n",
              "    </tr>\n",
              "    <tr>\n",
              "      <th>1</th>\n",
              "      <td>20.57</td>\n",
              "      <td>17.77</td>\n",
              "      <td>132.90</td>\n",
              "      <td>1326.0</td>\n",
              "      <td>0.08474</td>\n",
              "      <td>0.07864</td>\n",
              "      <td>0.0869</td>\n",
              "      <td>0.07017</td>\n",
              "      <td>0.1812</td>\n",
              "      <td>0.05667</td>\n",
              "      <td>...</td>\n",
              "      <td>24.99</td>\n",
              "      <td>23.41</td>\n",
              "      <td>158.80</td>\n",
              "      <td>1956.0</td>\n",
              "      <td>0.1238</td>\n",
              "      <td>0.1866</td>\n",
              "      <td>0.2416</td>\n",
              "      <td>0.1860</td>\n",
              "      <td>0.2750</td>\n",
              "      <td>0.08902</td>\n",
              "    </tr>\n",
              "    <tr>\n",
              "      <th>2</th>\n",
              "      <td>19.69</td>\n",
              "      <td>21.25</td>\n",
              "      <td>130.00</td>\n",
              "      <td>1203.0</td>\n",
              "      <td>0.10960</td>\n",
              "      <td>0.15990</td>\n",
              "      <td>0.1974</td>\n",
              "      <td>0.12790</td>\n",
              "      <td>0.2069</td>\n",
              "      <td>0.05999</td>\n",
              "      <td>...</td>\n",
              "      <td>23.57</td>\n",
              "      <td>25.53</td>\n",
              "      <td>152.50</td>\n",
              "      <td>1709.0</td>\n",
              "      <td>0.1444</td>\n",
              "      <td>0.4245</td>\n",
              "      <td>0.4504</td>\n",
              "      <td>0.2430</td>\n",
              "      <td>0.3613</td>\n",
              "      <td>0.08758</td>\n",
              "    </tr>\n",
              "    <tr>\n",
              "      <th>3</th>\n",
              "      <td>11.42</td>\n",
              "      <td>20.38</td>\n",
              "      <td>77.58</td>\n",
              "      <td>386.1</td>\n",
              "      <td>0.14250</td>\n",
              "      <td>0.28390</td>\n",
              "      <td>0.2414</td>\n",
              "      <td>0.10520</td>\n",
              "      <td>0.2597</td>\n",
              "      <td>0.09744</td>\n",
              "      <td>...</td>\n",
              "      <td>14.91</td>\n",
              "      <td>26.50</td>\n",
              "      <td>98.87</td>\n",
              "      <td>567.7</td>\n",
              "      <td>0.2098</td>\n",
              "      <td>0.8663</td>\n",
              "      <td>0.6869</td>\n",
              "      <td>0.2575</td>\n",
              "      <td>0.6638</td>\n",
              "      <td>0.17300</td>\n",
              "    </tr>\n",
              "    <tr>\n",
              "      <th>4</th>\n",
              "      <td>20.29</td>\n",
              "      <td>14.34</td>\n",
              "      <td>135.10</td>\n",
              "      <td>1297.0</td>\n",
              "      <td>0.10030</td>\n",
              "      <td>0.13280</td>\n",
              "      <td>0.1980</td>\n",
              "      <td>0.10430</td>\n",
              "      <td>0.1809</td>\n",
              "      <td>0.05883</td>\n",
              "      <td>...</td>\n",
              "      <td>22.54</td>\n",
              "      <td>16.67</td>\n",
              "      <td>152.20</td>\n",
              "      <td>1575.0</td>\n",
              "      <td>0.1374</td>\n",
              "      <td>0.2050</td>\n",
              "      <td>0.4000</td>\n",
              "      <td>0.1625</td>\n",
              "      <td>0.2364</td>\n",
              "      <td>0.07678</td>\n",
              "    </tr>\n",
              "  </tbody>\n",
              "</table>\n",
              "<p>5 rows × 30 columns</p>\n",
              "</div>\n",
              "      <button class=\"colab-df-convert\" onclick=\"convertToInteractive('df-8ba871db-4158-49df-b832-d416d290e678')\"\n",
              "              title=\"Convert this dataframe to an interactive table.\"\n",
              "              style=\"display:none;\">\n",
              "        \n",
              "  <svg xmlns=\"http://www.w3.org/2000/svg\" height=\"24px\"viewBox=\"0 0 24 24\"\n",
              "       width=\"24px\">\n",
              "    <path d=\"M0 0h24v24H0V0z\" fill=\"none\"/>\n",
              "    <path d=\"M18.56 5.44l.94 2.06.94-2.06 2.06-.94-2.06-.94-.94-2.06-.94 2.06-2.06.94zm-11 1L8.5 8.5l.94-2.06 2.06-.94-2.06-.94L8.5 2.5l-.94 2.06-2.06.94zm10 10l.94 2.06.94-2.06 2.06-.94-2.06-.94-.94-2.06-.94 2.06-2.06.94z\"/><path d=\"M17.41 7.96l-1.37-1.37c-.4-.4-.92-.59-1.43-.59-.52 0-1.04.2-1.43.59L10.3 9.45l-7.72 7.72c-.78.78-.78 2.05 0 2.83L4 21.41c.39.39.9.59 1.41.59.51 0 1.02-.2 1.41-.59l7.78-7.78 2.81-2.81c.8-.78.8-2.07 0-2.86zM5.41 20L4 18.59l7.72-7.72 1.47 1.35L5.41 20z\"/>\n",
              "  </svg>\n",
              "      </button>\n",
              "      \n",
              "  <style>\n",
              "    .colab-df-container {\n",
              "      display:flex;\n",
              "      flex-wrap:wrap;\n",
              "      gap: 12px;\n",
              "    }\n",
              "\n",
              "    .colab-df-convert {\n",
              "      background-color: #E8F0FE;\n",
              "      border: none;\n",
              "      border-radius: 50%;\n",
              "      cursor: pointer;\n",
              "      display: none;\n",
              "      fill: #1967D2;\n",
              "      height: 32px;\n",
              "      padding: 0 0 0 0;\n",
              "      width: 32px;\n",
              "    }\n",
              "\n",
              "    .colab-df-convert:hover {\n",
              "      background-color: #E2EBFA;\n",
              "      box-shadow: 0px 1px 2px rgba(60, 64, 67, 0.3), 0px 1px 3px 1px rgba(60, 64, 67, 0.15);\n",
              "      fill: #174EA6;\n",
              "    }\n",
              "\n",
              "    [theme=dark] .colab-df-convert {\n",
              "      background-color: #3B4455;\n",
              "      fill: #D2E3FC;\n",
              "    }\n",
              "\n",
              "    [theme=dark] .colab-df-convert:hover {\n",
              "      background-color: #434B5C;\n",
              "      box-shadow: 0px 1px 3px 1px rgba(0, 0, 0, 0.15);\n",
              "      filter: drop-shadow(0px 1px 2px rgba(0, 0, 0, 0.3));\n",
              "      fill: #FFFFFF;\n",
              "    }\n",
              "  </style>\n",
              "\n",
              "      <script>\n",
              "        const buttonEl =\n",
              "          document.querySelector('#df-8ba871db-4158-49df-b832-d416d290e678 button.colab-df-convert');\n",
              "        buttonEl.style.display =\n",
              "          google.colab.kernel.accessAllowed ? 'block' : 'none';\n",
              "\n",
              "        async function convertToInteractive(key) {\n",
              "          const element = document.querySelector('#df-8ba871db-4158-49df-b832-d416d290e678');\n",
              "          const dataTable =\n",
              "            await google.colab.kernel.invokeFunction('convertToInteractive',\n",
              "                                                     [key], {});\n",
              "          if (!dataTable) return;\n",
              "\n",
              "          const docLinkHtml = 'Like what you see? Visit the ' +\n",
              "            '<a target=\"_blank\" href=https://colab.research.google.com/notebooks/data_table.ipynb>data table notebook</a>'\n",
              "            + ' to learn more about interactive tables.';\n",
              "          element.innerHTML = '';\n",
              "          dataTable['output_type'] = 'display_data';\n",
              "          await google.colab.output.renderOutput(dataTable, element);\n",
              "          const docLink = document.createElement('div');\n",
              "          docLink.innerHTML = docLinkHtml;\n",
              "          element.appendChild(docLink);\n",
              "        }\n",
              "      </script>\n",
              "    </div>\n",
              "  </div>\n",
              "  "
            ]
          },
          "metadata": {},
          "execution_count": 10
        }
      ]
    },
    {
      "cell_type": "code",
      "source": [
        "df.info()"
      ],
      "metadata": {
        "colab": {
          "base_uri": "https://localhost:8080/"
        },
        "id": "RJSvs4iOFGyJ",
        "outputId": "e2878fef-6311-4ea1-9799-91df5756d8f6"
      },
      "execution_count": null,
      "outputs": [
        {
          "output_type": "stream",
          "name": "stdout",
          "text": [
            "<class 'pandas.core.frame.DataFrame'>\n",
            "RangeIndex: 569 entries, 0 to 568\n",
            "Data columns (total 30 columns):\n",
            " #   Column                   Non-Null Count  Dtype  \n",
            "---  ------                   --------------  -----  \n",
            " 0   mean radius              569 non-null    float64\n",
            " 1   mean texture             569 non-null    float64\n",
            " 2   mean perimeter           569 non-null    float64\n",
            " 3   mean area                569 non-null    float64\n",
            " 4   mean smoothness          569 non-null    float64\n",
            " 5   mean compactness         569 non-null    float64\n",
            " 6   mean concavity           569 non-null    float64\n",
            " 7   mean concave points      569 non-null    float64\n",
            " 8   mean symmetry            569 non-null    float64\n",
            " 9   mean fractal dimension   569 non-null    float64\n",
            " 10  radius error             569 non-null    float64\n",
            " 11  texture error            569 non-null    float64\n",
            " 12  perimeter error          569 non-null    float64\n",
            " 13  area error               569 non-null    float64\n",
            " 14  smoothness error         569 non-null    float64\n",
            " 15  compactness error        569 non-null    float64\n",
            " 16  concavity error          569 non-null    float64\n",
            " 17  concave points error     569 non-null    float64\n",
            " 18  symmetry error           569 non-null    float64\n",
            " 19  fractal dimension error  569 non-null    float64\n",
            " 20  worst radius             569 non-null    float64\n",
            " 21  worst texture            569 non-null    float64\n",
            " 22  worst perimeter          569 non-null    float64\n",
            " 23  worst area               569 non-null    float64\n",
            " 24  worst smoothness         569 non-null    float64\n",
            " 25  worst compactness        569 non-null    float64\n",
            " 26  worst concavity          569 non-null    float64\n",
            " 27  worst concave points     569 non-null    float64\n",
            " 28  worst symmetry           569 non-null    float64\n",
            " 29  worst fractal dimension  569 non-null    float64\n",
            "dtypes: float64(30)\n",
            "memory usage: 133.5 KB\n"
          ]
        }
      ]
    },
    {
      "cell_type": "code",
      "source": [
        "x_train,x_test,y_train,y_test = train_test_split(cancer.data,\n",
        "                                                 cancer.target)"
      ],
      "metadata": {
        "id": "bel9ZzVaFnJ4"
      },
      "execution_count": null,
      "outputs": []
    },
    {
      "cell_type": "code",
      "source": [
        "lr = LogisticRegression()\n",
        "knn = KNeighborsClassifier()\n",
        "vo = VotingClassifier(estimators=[('LR',lr),('KNN',knn)],\n",
        "                      voting='soft')"
      ],
      "metadata": {
        "id": "60qUz6EUF3Ia"
      },
      "execution_count": null,
      "outputs": []
    },
    {
      "cell_type": "code",
      "source": [
        "vo.fit(x_train,y_train)\n",
        "pred = vo.predict(x_test)"
      ],
      "metadata": {
        "id": "xD7fdubuGaSL"
      },
      "execution_count": null,
      "outputs": []
    },
    {
      "cell_type": "code",
      "source": [
        "print(\"acc:\",accuracy_score(y_test,pred))"
      ],
      "metadata": {
        "colab": {
          "base_uri": "https://localhost:8080/"
        },
        "id": "5n9PrBNTGiQO",
        "outputId": "78579ddb-56c1-4281-cdfb-973a7d260292"
      },
      "execution_count": null,
      "outputs": [
        {
          "output_type": "stream",
          "name": "stdout",
          "text": [
            "acc: 0.9230769230769231\n"
          ]
        }
      ]
    },
    {
      "cell_type": "code",
      "source": [
        "lr = LogisticRegression()\n",
        "knn = KNeighborsClassifier()\n",
        "models=[lr,knn]\n",
        "for model in models:\n",
        "  model.fit(x_train,y_train)\n",
        "  pred = model.predict(x_test)\n",
        "  print(model.__class__.__name__,\"===\")\n",
        "  print(\"acc:\",accuracy_score(y_test,pred))"
      ],
      "metadata": {
        "colab": {
          "base_uri": "https://localhost:8080/"
        },
        "id": "tUVjmtIPGoPt",
        "outputId": "67d1ce63-736f-4759-eb96-254d6618dac2"
      },
      "execution_count": null,
      "outputs": [
        {
          "output_type": "stream",
          "name": "stdout",
          "text": [
            "LogisticRegression ===\n",
            "acc: 0.916083916083916\n",
            "KNeighborsClassifier ===\n",
            "acc: 0.9230769230769231\n"
          ]
        },
        {
          "output_type": "stream",
          "name": "stderr",
          "text": [
            "/usr/local/lib/python3.10/dist-packages/sklearn/linear_model/_logistic.py:458: ConvergenceWarning: lbfgs failed to converge (status=1):\n",
            "STOP: TOTAL NO. of ITERATIONS REACHED LIMIT.\n",
            "\n",
            "Increase the number of iterations (max_iter) or scale the data as shown in:\n",
            "    https://scikit-learn.org/stable/modules/preprocessing.html\n",
            "Please also refer to the documentation for alternative solver options:\n",
            "    https://scikit-learn.org/stable/modules/linear_model.html#logistic-regression\n",
            "  n_iter_i = _check_optimize_result(\n"
          ]
        }
      ]
    },
    {
      "cell_type": "code",
      "source": [
        "df.describe()"
      ],
      "metadata": {
        "colab": {
          "base_uri": "https://localhost:8080/",
          "height": 428
        },
        "id": "sNJ_czrGHJ0E",
        "outputId": "025ed82a-ee68-4aa6-cec6-03db45d6be9e"
      },
      "execution_count": null,
      "outputs": [
        {
          "output_type": "execute_result",
          "data": {
            "text/plain": [
              "       mean radius  mean texture  mean perimeter    mean area  \\\n",
              "count   569.000000    569.000000      569.000000   569.000000   \n",
              "mean     14.127292     19.289649       91.969033   654.889104   \n",
              "std       3.524049      4.301036       24.298981   351.914129   \n",
              "min       6.981000      9.710000       43.790000   143.500000   \n",
              "25%      11.700000     16.170000       75.170000   420.300000   \n",
              "50%      13.370000     18.840000       86.240000   551.100000   \n",
              "75%      15.780000     21.800000      104.100000   782.700000   \n",
              "max      28.110000     39.280000      188.500000  2501.000000   \n",
              "\n",
              "       mean smoothness  mean compactness  mean concavity  mean concave points  \\\n",
              "count       569.000000        569.000000      569.000000           569.000000   \n",
              "mean          0.096360          0.104341        0.088799             0.048919   \n",
              "std           0.014064          0.052813        0.079720             0.038803   \n",
              "min           0.052630          0.019380        0.000000             0.000000   \n",
              "25%           0.086370          0.064920        0.029560             0.020310   \n",
              "50%           0.095870          0.092630        0.061540             0.033500   \n",
              "75%           0.105300          0.130400        0.130700             0.074000   \n",
              "max           0.163400          0.345400        0.426800             0.201200   \n",
              "\n",
              "       mean symmetry  mean fractal dimension  ...  worst radius  \\\n",
              "count     569.000000              569.000000  ...    569.000000   \n",
              "mean        0.181162                0.062798  ...     16.269190   \n",
              "std         0.027414                0.007060  ...      4.833242   \n",
              "min         0.106000                0.049960  ...      7.930000   \n",
              "25%         0.161900                0.057700  ...     13.010000   \n",
              "50%         0.179200                0.061540  ...     14.970000   \n",
              "75%         0.195700                0.066120  ...     18.790000   \n",
              "max         0.304000                0.097440  ...     36.040000   \n",
              "\n",
              "       worst texture  worst perimeter   worst area  worst smoothness  \\\n",
              "count     569.000000       569.000000   569.000000        569.000000   \n",
              "mean       25.677223       107.261213   880.583128          0.132369   \n",
              "std         6.146258        33.602542   569.356993          0.022832   \n",
              "min        12.020000        50.410000   185.200000          0.071170   \n",
              "25%        21.080000        84.110000   515.300000          0.116600   \n",
              "50%        25.410000        97.660000   686.500000          0.131300   \n",
              "75%        29.720000       125.400000  1084.000000          0.146000   \n",
              "max        49.540000       251.200000  4254.000000          0.222600   \n",
              "\n",
              "       worst compactness  worst concavity  worst concave points  \\\n",
              "count         569.000000       569.000000            569.000000   \n",
              "mean            0.254265         0.272188              0.114606   \n",
              "std             0.157336         0.208624              0.065732   \n",
              "min             0.027290         0.000000              0.000000   \n",
              "25%             0.147200         0.114500              0.064930   \n",
              "50%             0.211900         0.226700              0.099930   \n",
              "75%             0.339100         0.382900              0.161400   \n",
              "max             1.058000         1.252000              0.291000   \n",
              "\n",
              "       worst symmetry  worst fractal dimension  \n",
              "count      569.000000               569.000000  \n",
              "mean         0.290076                 0.083946  \n",
              "std          0.061867                 0.018061  \n",
              "min          0.156500                 0.055040  \n",
              "25%          0.250400                 0.071460  \n",
              "50%          0.282200                 0.080040  \n",
              "75%          0.317900                 0.092080  \n",
              "max          0.663800                 0.207500  \n",
              "\n",
              "[8 rows x 30 columns]"
            ],
            "text/html": [
              "\n",
              "  <div id=\"df-55ab1490-c707-4a98-b169-10e5d37bf567\">\n",
              "    <div class=\"colab-df-container\">\n",
              "      <div>\n",
              "<style scoped>\n",
              "    .dataframe tbody tr th:only-of-type {\n",
              "        vertical-align: middle;\n",
              "    }\n",
              "\n",
              "    .dataframe tbody tr th {\n",
              "        vertical-align: top;\n",
              "    }\n",
              "\n",
              "    .dataframe thead th {\n",
              "        text-align: right;\n",
              "    }\n",
              "</style>\n",
              "<table border=\"1\" class=\"dataframe\">\n",
              "  <thead>\n",
              "    <tr style=\"text-align: right;\">\n",
              "      <th></th>\n",
              "      <th>mean radius</th>\n",
              "      <th>mean texture</th>\n",
              "      <th>mean perimeter</th>\n",
              "      <th>mean area</th>\n",
              "      <th>mean smoothness</th>\n",
              "      <th>mean compactness</th>\n",
              "      <th>mean concavity</th>\n",
              "      <th>mean concave points</th>\n",
              "      <th>mean symmetry</th>\n",
              "      <th>mean fractal dimension</th>\n",
              "      <th>...</th>\n",
              "      <th>worst radius</th>\n",
              "      <th>worst texture</th>\n",
              "      <th>worst perimeter</th>\n",
              "      <th>worst area</th>\n",
              "      <th>worst smoothness</th>\n",
              "      <th>worst compactness</th>\n",
              "      <th>worst concavity</th>\n",
              "      <th>worst concave points</th>\n",
              "      <th>worst symmetry</th>\n",
              "      <th>worst fractal dimension</th>\n",
              "    </tr>\n",
              "  </thead>\n",
              "  <tbody>\n",
              "    <tr>\n",
              "      <th>count</th>\n",
              "      <td>569.000000</td>\n",
              "      <td>569.000000</td>\n",
              "      <td>569.000000</td>\n",
              "      <td>569.000000</td>\n",
              "      <td>569.000000</td>\n",
              "      <td>569.000000</td>\n",
              "      <td>569.000000</td>\n",
              "      <td>569.000000</td>\n",
              "      <td>569.000000</td>\n",
              "      <td>569.000000</td>\n",
              "      <td>...</td>\n",
              "      <td>569.000000</td>\n",
              "      <td>569.000000</td>\n",
              "      <td>569.000000</td>\n",
              "      <td>569.000000</td>\n",
              "      <td>569.000000</td>\n",
              "      <td>569.000000</td>\n",
              "      <td>569.000000</td>\n",
              "      <td>569.000000</td>\n",
              "      <td>569.000000</td>\n",
              "      <td>569.000000</td>\n",
              "    </tr>\n",
              "    <tr>\n",
              "      <th>mean</th>\n",
              "      <td>14.127292</td>\n",
              "      <td>19.289649</td>\n",
              "      <td>91.969033</td>\n",
              "      <td>654.889104</td>\n",
              "      <td>0.096360</td>\n",
              "      <td>0.104341</td>\n",
              "      <td>0.088799</td>\n",
              "      <td>0.048919</td>\n",
              "      <td>0.181162</td>\n",
              "      <td>0.062798</td>\n",
              "      <td>...</td>\n",
              "      <td>16.269190</td>\n",
              "      <td>25.677223</td>\n",
              "      <td>107.261213</td>\n",
              "      <td>880.583128</td>\n",
              "      <td>0.132369</td>\n",
              "      <td>0.254265</td>\n",
              "      <td>0.272188</td>\n",
              "      <td>0.114606</td>\n",
              "      <td>0.290076</td>\n",
              "      <td>0.083946</td>\n",
              "    </tr>\n",
              "    <tr>\n",
              "      <th>std</th>\n",
              "      <td>3.524049</td>\n",
              "      <td>4.301036</td>\n",
              "      <td>24.298981</td>\n",
              "      <td>351.914129</td>\n",
              "      <td>0.014064</td>\n",
              "      <td>0.052813</td>\n",
              "      <td>0.079720</td>\n",
              "      <td>0.038803</td>\n",
              "      <td>0.027414</td>\n",
              "      <td>0.007060</td>\n",
              "      <td>...</td>\n",
              "      <td>4.833242</td>\n",
              "      <td>6.146258</td>\n",
              "      <td>33.602542</td>\n",
              "      <td>569.356993</td>\n",
              "      <td>0.022832</td>\n",
              "      <td>0.157336</td>\n",
              "      <td>0.208624</td>\n",
              "      <td>0.065732</td>\n",
              "      <td>0.061867</td>\n",
              "      <td>0.018061</td>\n",
              "    </tr>\n",
              "    <tr>\n",
              "      <th>min</th>\n",
              "      <td>6.981000</td>\n",
              "      <td>9.710000</td>\n",
              "      <td>43.790000</td>\n",
              "      <td>143.500000</td>\n",
              "      <td>0.052630</td>\n",
              "      <td>0.019380</td>\n",
              "      <td>0.000000</td>\n",
              "      <td>0.000000</td>\n",
              "      <td>0.106000</td>\n",
              "      <td>0.049960</td>\n",
              "      <td>...</td>\n",
              "      <td>7.930000</td>\n",
              "      <td>12.020000</td>\n",
              "      <td>50.410000</td>\n",
              "      <td>185.200000</td>\n",
              "      <td>0.071170</td>\n",
              "      <td>0.027290</td>\n",
              "      <td>0.000000</td>\n",
              "      <td>0.000000</td>\n",
              "      <td>0.156500</td>\n",
              "      <td>0.055040</td>\n",
              "    </tr>\n",
              "    <tr>\n",
              "      <th>25%</th>\n",
              "      <td>11.700000</td>\n",
              "      <td>16.170000</td>\n",
              "      <td>75.170000</td>\n",
              "      <td>420.300000</td>\n",
              "      <td>0.086370</td>\n",
              "      <td>0.064920</td>\n",
              "      <td>0.029560</td>\n",
              "      <td>0.020310</td>\n",
              "      <td>0.161900</td>\n",
              "      <td>0.057700</td>\n",
              "      <td>...</td>\n",
              "      <td>13.010000</td>\n",
              "      <td>21.080000</td>\n",
              "      <td>84.110000</td>\n",
              "      <td>515.300000</td>\n",
              "      <td>0.116600</td>\n",
              "      <td>0.147200</td>\n",
              "      <td>0.114500</td>\n",
              "      <td>0.064930</td>\n",
              "      <td>0.250400</td>\n",
              "      <td>0.071460</td>\n",
              "    </tr>\n",
              "    <tr>\n",
              "      <th>50%</th>\n",
              "      <td>13.370000</td>\n",
              "      <td>18.840000</td>\n",
              "      <td>86.240000</td>\n",
              "      <td>551.100000</td>\n",
              "      <td>0.095870</td>\n",
              "      <td>0.092630</td>\n",
              "      <td>0.061540</td>\n",
              "      <td>0.033500</td>\n",
              "      <td>0.179200</td>\n",
              "      <td>0.061540</td>\n",
              "      <td>...</td>\n",
              "      <td>14.970000</td>\n",
              "      <td>25.410000</td>\n",
              "      <td>97.660000</td>\n",
              "      <td>686.500000</td>\n",
              "      <td>0.131300</td>\n",
              "      <td>0.211900</td>\n",
              "      <td>0.226700</td>\n",
              "      <td>0.099930</td>\n",
              "      <td>0.282200</td>\n",
              "      <td>0.080040</td>\n",
              "    </tr>\n",
              "    <tr>\n",
              "      <th>75%</th>\n",
              "      <td>15.780000</td>\n",
              "      <td>21.800000</td>\n",
              "      <td>104.100000</td>\n",
              "      <td>782.700000</td>\n",
              "      <td>0.105300</td>\n",
              "      <td>0.130400</td>\n",
              "      <td>0.130700</td>\n",
              "      <td>0.074000</td>\n",
              "      <td>0.195700</td>\n",
              "      <td>0.066120</td>\n",
              "      <td>...</td>\n",
              "      <td>18.790000</td>\n",
              "      <td>29.720000</td>\n",
              "      <td>125.400000</td>\n",
              "      <td>1084.000000</td>\n",
              "      <td>0.146000</td>\n",
              "      <td>0.339100</td>\n",
              "      <td>0.382900</td>\n",
              "      <td>0.161400</td>\n",
              "      <td>0.317900</td>\n",
              "      <td>0.092080</td>\n",
              "    </tr>\n",
              "    <tr>\n",
              "      <th>max</th>\n",
              "      <td>28.110000</td>\n",
              "      <td>39.280000</td>\n",
              "      <td>188.500000</td>\n",
              "      <td>2501.000000</td>\n",
              "      <td>0.163400</td>\n",
              "      <td>0.345400</td>\n",
              "      <td>0.426800</td>\n",
              "      <td>0.201200</td>\n",
              "      <td>0.304000</td>\n",
              "      <td>0.097440</td>\n",
              "      <td>...</td>\n",
              "      <td>36.040000</td>\n",
              "      <td>49.540000</td>\n",
              "      <td>251.200000</td>\n",
              "      <td>4254.000000</td>\n",
              "      <td>0.222600</td>\n",
              "      <td>1.058000</td>\n",
              "      <td>1.252000</td>\n",
              "      <td>0.291000</td>\n",
              "      <td>0.663800</td>\n",
              "      <td>0.207500</td>\n",
              "    </tr>\n",
              "  </tbody>\n",
              "</table>\n",
              "<p>8 rows × 30 columns</p>\n",
              "</div>\n",
              "      <button class=\"colab-df-convert\" onclick=\"convertToInteractive('df-55ab1490-c707-4a98-b169-10e5d37bf567')\"\n",
              "              title=\"Convert this dataframe to an interactive table.\"\n",
              "              style=\"display:none;\">\n",
              "        \n",
              "  <svg xmlns=\"http://www.w3.org/2000/svg\" height=\"24px\"viewBox=\"0 0 24 24\"\n",
              "       width=\"24px\">\n",
              "    <path d=\"M0 0h24v24H0V0z\" fill=\"none\"/>\n",
              "    <path d=\"M18.56 5.44l.94 2.06.94-2.06 2.06-.94-2.06-.94-.94-2.06-.94 2.06-2.06.94zm-11 1L8.5 8.5l.94-2.06 2.06-.94-2.06-.94L8.5 2.5l-.94 2.06-2.06.94zm10 10l.94 2.06.94-2.06 2.06-.94-2.06-.94-.94-2.06-.94 2.06-2.06.94z\"/><path d=\"M17.41 7.96l-1.37-1.37c-.4-.4-.92-.59-1.43-.59-.52 0-1.04.2-1.43.59L10.3 9.45l-7.72 7.72c-.78.78-.78 2.05 0 2.83L4 21.41c.39.39.9.59 1.41.59.51 0 1.02-.2 1.41-.59l7.78-7.78 2.81-2.81c.8-.78.8-2.07 0-2.86zM5.41 20L4 18.59l7.72-7.72 1.47 1.35L5.41 20z\"/>\n",
              "  </svg>\n",
              "      </button>\n",
              "      \n",
              "  <style>\n",
              "    .colab-df-container {\n",
              "      display:flex;\n",
              "      flex-wrap:wrap;\n",
              "      gap: 12px;\n",
              "    }\n",
              "\n",
              "    .colab-df-convert {\n",
              "      background-color: #E8F0FE;\n",
              "      border: none;\n",
              "      border-radius: 50%;\n",
              "      cursor: pointer;\n",
              "      display: none;\n",
              "      fill: #1967D2;\n",
              "      height: 32px;\n",
              "      padding: 0 0 0 0;\n",
              "      width: 32px;\n",
              "    }\n",
              "\n",
              "    .colab-df-convert:hover {\n",
              "      background-color: #E2EBFA;\n",
              "      box-shadow: 0px 1px 2px rgba(60, 64, 67, 0.3), 0px 1px 3px 1px rgba(60, 64, 67, 0.15);\n",
              "      fill: #174EA6;\n",
              "    }\n",
              "\n",
              "    [theme=dark] .colab-df-convert {\n",
              "      background-color: #3B4455;\n",
              "      fill: #D2E3FC;\n",
              "    }\n",
              "\n",
              "    [theme=dark] .colab-df-convert:hover {\n",
              "      background-color: #434B5C;\n",
              "      box-shadow: 0px 1px 3px 1px rgba(0, 0, 0, 0.15);\n",
              "      filter: drop-shadow(0px 1px 2px rgba(0, 0, 0, 0.3));\n",
              "      fill: #FFFFFF;\n",
              "    }\n",
              "  </style>\n",
              "\n",
              "      <script>\n",
              "        const buttonEl =\n",
              "          document.querySelector('#df-55ab1490-c707-4a98-b169-10e5d37bf567 button.colab-df-convert');\n",
              "        buttonEl.style.display =\n",
              "          google.colab.kernel.accessAllowed ? 'block' : 'none';\n",
              "\n",
              "        async function convertToInteractive(key) {\n",
              "          const element = document.querySelector('#df-55ab1490-c707-4a98-b169-10e5d37bf567');\n",
              "          const dataTable =\n",
              "            await google.colab.kernel.invokeFunction('convertToInteractive',\n",
              "                                                     [key], {});\n",
              "          if (!dataTable) return;\n",
              "\n",
              "          const docLinkHtml = 'Like what you see? Visit the ' +\n",
              "            '<a target=\"_blank\" href=https://colab.research.google.com/notebooks/data_table.ipynb>data table notebook</a>'\n",
              "            + ' to learn more about interactive tables.';\n",
              "          element.innerHTML = '';\n",
              "          dataTable['output_type'] = 'display_data';\n",
              "          await google.colab.output.renderOutput(dataTable, element);\n",
              "          const docLink = document.createElement('div');\n",
              "          docLink.innerHTML = docLinkHtml;\n",
              "          element.appendChild(docLink);\n",
              "        }\n",
              "      </script>\n",
              "    </div>\n",
              "  </div>\n",
              "  "
            ]
          },
          "metadata": {},
          "execution_count": 18
        }
      ]
    },
    {
      "cell_type": "code",
      "source": [
        "df['label'] = cancer.target"
      ],
      "metadata": {
        "id": "AsYbb1H3IWpx"
      },
      "execution_count": null,
      "outputs": []
    },
    {
      "cell_type": "code",
      "source": [
        "df.corr()"
      ],
      "metadata": {
        "colab": {
          "base_uri": "https://localhost:8080/",
          "height": 1000
        },
        "id": "tJhGPVEBIjyh",
        "outputId": "e1f4d336-cb37-4f22-f6c0-a36730c9f528"
      },
      "execution_count": null,
      "outputs": [
        {
          "output_type": "execute_result",
          "data": {
            "text/plain": [
              "                         mean radius  mean texture  mean perimeter  mean area  \\\n",
              "mean radius                 1.000000      0.323782        0.997855   0.987357   \n",
              "mean texture                0.323782      1.000000        0.329533   0.321086   \n",
              "mean perimeter              0.997855      0.329533        1.000000   0.986507   \n",
              "mean area                   0.987357      0.321086        0.986507   1.000000   \n",
              "mean smoothness             0.170581     -0.023389        0.207278   0.177028   \n",
              "mean compactness            0.506124      0.236702        0.556936   0.498502   \n",
              "mean concavity              0.676764      0.302418        0.716136   0.685983   \n",
              "mean concave points         0.822529      0.293464        0.850977   0.823269   \n",
              "mean symmetry               0.147741      0.071401        0.183027   0.151293   \n",
              "mean fractal dimension     -0.311631     -0.076437       -0.261477  -0.283110   \n",
              "radius error                0.679090      0.275869        0.691765   0.732562   \n",
              "texture error              -0.097317      0.386358       -0.086761  -0.066280   \n",
              "perimeter error             0.674172      0.281673        0.693135   0.726628   \n",
              "area error                  0.735864      0.259845        0.744983   0.800086   \n",
              "smoothness error           -0.222600      0.006614       -0.202694  -0.166777   \n",
              "compactness error           0.206000      0.191975        0.250744   0.212583   \n",
              "concavity error             0.194204      0.143293        0.228082   0.207660   \n",
              "concave points error        0.376169      0.163851        0.407217   0.372320   \n",
              "symmetry error             -0.104321      0.009127       -0.081629  -0.072497   \n",
              "fractal dimension error    -0.042641      0.054458       -0.005523  -0.019887   \n",
              "worst radius                0.969539      0.352573        0.969476   0.962746   \n",
              "worst texture               0.297008      0.912045        0.303038   0.287489   \n",
              "worst perimeter             0.965137      0.358040        0.970387   0.959120   \n",
              "worst area                  0.941082      0.343546        0.941550   0.959213   \n",
              "worst smoothness            0.119616      0.077503        0.150549   0.123523   \n",
              "worst compactness           0.413463      0.277830        0.455774   0.390410   \n",
              "worst concavity             0.526911      0.301025        0.563879   0.512606   \n",
              "worst concave points        0.744214      0.295316        0.771241   0.722017   \n",
              "worst symmetry              0.163953      0.105008        0.189115   0.143570   \n",
              "worst fractal dimension     0.007066      0.119205        0.051019   0.003738   \n",
              "label                      -0.730029     -0.415185       -0.742636  -0.708984   \n",
              "\n",
              "                         mean smoothness  mean compactness  mean concavity  \\\n",
              "mean radius                     0.170581          0.506124        0.676764   \n",
              "mean texture                   -0.023389          0.236702        0.302418   \n",
              "mean perimeter                  0.207278          0.556936        0.716136   \n",
              "mean area                       0.177028          0.498502        0.685983   \n",
              "mean smoothness                 1.000000          0.659123        0.521984   \n",
              "mean compactness                0.659123          1.000000        0.883121   \n",
              "mean concavity                  0.521984          0.883121        1.000000   \n",
              "mean concave points             0.553695          0.831135        0.921391   \n",
              "mean symmetry                   0.557775          0.602641        0.500667   \n",
              "mean fractal dimension          0.584792          0.565369        0.336783   \n",
              "radius error                    0.301467          0.497473        0.631925   \n",
              "texture error                   0.068406          0.046205        0.076218   \n",
              "perimeter error                 0.296092          0.548905        0.660391   \n",
              "area error                      0.246552          0.455653        0.617427   \n",
              "smoothness error                0.332375          0.135299        0.098564   \n",
              "compactness error               0.318943          0.738722        0.670279   \n",
              "concavity error                 0.248396          0.570517        0.691270   \n",
              "concave points error            0.380676          0.642262        0.683260   \n",
              "symmetry error                  0.200774          0.229977        0.178009   \n",
              "fractal dimension error         0.283607          0.507318        0.449301   \n",
              "worst radius                    0.213120          0.535315        0.688236   \n",
              "worst texture                   0.036072          0.248133        0.299879   \n",
              "worst perimeter                 0.238853          0.590210        0.729565   \n",
              "worst area                      0.206718          0.509604        0.675987   \n",
              "worst smoothness                0.805324          0.565541        0.448822   \n",
              "worst compactness               0.472468          0.865809        0.754968   \n",
              "worst concavity                 0.434926          0.816275        0.884103   \n",
              "worst concave points            0.503053          0.815573        0.861323   \n",
              "worst symmetry                  0.394309          0.510223        0.409464   \n",
              "worst fractal dimension         0.499316          0.687382        0.514930   \n",
              "label                          -0.358560         -0.596534       -0.696360   \n",
              "\n",
              "                         mean concave points  mean symmetry  \\\n",
              "mean radius                         0.822529       0.147741   \n",
              "mean texture                        0.293464       0.071401   \n",
              "mean perimeter                      0.850977       0.183027   \n",
              "mean area                           0.823269       0.151293   \n",
              "mean smoothness                     0.553695       0.557775   \n",
              "mean compactness                    0.831135       0.602641   \n",
              "mean concavity                      0.921391       0.500667   \n",
              "mean concave points                 1.000000       0.462497   \n",
              "mean symmetry                       0.462497       1.000000   \n",
              "mean fractal dimension              0.166917       0.479921   \n",
              "radius error                        0.698050       0.303379   \n",
              "texture error                       0.021480       0.128053   \n",
              "perimeter error                     0.710650       0.313893   \n",
              "area error                          0.690299       0.223970   \n",
              "smoothness error                    0.027653       0.187321   \n",
              "compactness error                   0.490424       0.421659   \n",
              "concavity error                     0.439167       0.342627   \n",
              "concave points error                0.615634       0.393298   \n",
              "symmetry error                      0.095351       0.449137   \n",
              "fractal dimension error             0.257584       0.331786   \n",
              "worst radius                        0.830318       0.185728   \n",
              "worst texture                       0.292752       0.090651   \n",
              "worst perimeter                     0.855923       0.219169   \n",
              "worst area                          0.809630       0.177193   \n",
              "worst smoothness                    0.452753       0.426675   \n",
              "worst compactness                   0.667454       0.473200   \n",
              "worst concavity                     0.752399       0.433721   \n",
              "worst concave points                0.910155       0.430297   \n",
              "worst symmetry                      0.375744       0.699826   \n",
              "worst fractal dimension             0.368661       0.438413   \n",
              "label                              -0.776614      -0.330499   \n",
              "\n",
              "                         mean fractal dimension  ...  worst texture  \\\n",
              "mean radius                           -0.311631  ...       0.297008   \n",
              "mean texture                          -0.076437  ...       0.912045   \n",
              "mean perimeter                        -0.261477  ...       0.303038   \n",
              "mean area                             -0.283110  ...       0.287489   \n",
              "mean smoothness                        0.584792  ...       0.036072   \n",
              "mean compactness                       0.565369  ...       0.248133   \n",
              "mean concavity                         0.336783  ...       0.299879   \n",
              "mean concave points                    0.166917  ...       0.292752   \n",
              "mean symmetry                          0.479921  ...       0.090651   \n",
              "mean fractal dimension                 1.000000  ...      -0.051269   \n",
              "radius error                           0.000111  ...       0.194799   \n",
              "texture error                          0.164174  ...       0.409003   \n",
              "perimeter error                        0.039830  ...       0.200371   \n",
              "area error                            -0.090170  ...       0.196497   \n",
              "smoothness error                       0.401964  ...      -0.074743   \n",
              "compactness error                      0.559837  ...       0.143003   \n",
              "concavity error                        0.446630  ...       0.100241   \n",
              "concave points error                   0.341198  ...       0.086741   \n",
              "symmetry error                         0.345007  ...      -0.077473   \n",
              "fractal dimension error                0.688132  ...      -0.003195   \n",
              "worst radius                          -0.253691  ...       0.359921   \n",
              "worst texture                         -0.051269  ...       1.000000   \n",
              "worst perimeter                       -0.205151  ...       0.365098   \n",
              "worst area                            -0.231854  ...       0.345842   \n",
              "worst smoothness                       0.504942  ...       0.225429   \n",
              "worst compactness                      0.458798  ...       0.360832   \n",
              "worst concavity                        0.346234  ...       0.368366   \n",
              "worst concave points                   0.175325  ...       0.359755   \n",
              "worst symmetry                         0.334019  ...       0.233027   \n",
              "worst fractal dimension                0.767297  ...       0.219122   \n",
              "label                                  0.012838  ...      -0.456903   \n",
              "\n",
              "                         worst perimeter  worst area  worst smoothness  \\\n",
              "mean radius                     0.965137    0.941082          0.119616   \n",
              "mean texture                    0.358040    0.343546          0.077503   \n",
              "mean perimeter                  0.970387    0.941550          0.150549   \n",
              "mean area                       0.959120    0.959213          0.123523   \n",
              "mean smoothness                 0.238853    0.206718          0.805324   \n",
              "mean compactness                0.590210    0.509604          0.565541   \n",
              "mean concavity                  0.729565    0.675987          0.448822   \n",
              "mean concave points             0.855923    0.809630          0.452753   \n",
              "mean symmetry                   0.219169    0.177193          0.426675   \n",
              "mean fractal dimension         -0.205151   -0.231854          0.504942   \n",
              "radius error                    0.719684    0.751548          0.141919   \n",
              "texture error                  -0.102242   -0.083195         -0.073658   \n",
              "perimeter error                 0.721031    0.730713          0.130054   \n",
              "area error                      0.761213    0.811408          0.125389   \n",
              "smoothness error               -0.217304   -0.182195          0.314457   \n",
              "compactness error               0.260516    0.199371          0.227394   \n",
              "concavity error                 0.226680    0.188353          0.168481   \n",
              "concave points error            0.394999    0.342271          0.215351   \n",
              "symmetry error                 -0.103753   -0.110343         -0.012662   \n",
              "fractal dimension error        -0.001000   -0.022736          0.170568   \n",
              "worst radius                    0.993708    0.984015          0.216574   \n",
              "worst texture                   0.365098    0.345842          0.225429   \n",
              "worst perimeter                 1.000000    0.977578          0.236775   \n",
              "worst area                      0.977578    1.000000          0.209145   \n",
              "worst smoothness                0.236775    0.209145          1.000000   \n",
              "worst compactness               0.529408    0.438296          0.568187   \n",
              "worst concavity                 0.618344    0.543331          0.518523   \n",
              "worst concave points            0.816322    0.747419          0.547691   \n",
              "worst symmetry                  0.269493    0.209146          0.493838   \n",
              "worst fractal dimension         0.138957    0.079647          0.617624   \n",
              "label                          -0.782914   -0.733825         -0.421465   \n",
              "\n",
              "                         worst compactness  worst concavity  \\\n",
              "mean radius                       0.413463         0.526911   \n",
              "mean texture                      0.277830         0.301025   \n",
              "mean perimeter                    0.455774         0.563879   \n",
              "mean area                         0.390410         0.512606   \n",
              "mean smoothness                   0.472468         0.434926   \n",
              "mean compactness                  0.865809         0.816275   \n",
              "mean concavity                    0.754968         0.884103   \n",
              "mean concave points               0.667454         0.752399   \n",
              "mean symmetry                     0.473200         0.433721   \n",
              "mean fractal dimension            0.458798         0.346234   \n",
              "radius error                      0.287103         0.380585   \n",
              "texture error                    -0.092439        -0.068956   \n",
              "perimeter error                   0.341919         0.418899   \n",
              "area error                        0.283257         0.385100   \n",
              "smoothness error                 -0.055558        -0.058298   \n",
              "compactness error                 0.678780         0.639147   \n",
              "concavity error                   0.484858         0.662564   \n",
              "concave points error              0.452888         0.549592   \n",
              "symmetry error                    0.060255         0.037119   \n",
              "fractal dimension error           0.390159         0.379975   \n",
              "worst radius                      0.475820         0.573975   \n",
              "worst texture                     0.360832         0.368366   \n",
              "worst perimeter                   0.529408         0.618344   \n",
              "worst area                        0.438296         0.543331   \n",
              "worst smoothness                  0.568187         0.518523   \n",
              "worst compactness                 1.000000         0.892261   \n",
              "worst concavity                   0.892261         1.000000   \n",
              "worst concave points              0.801080         0.855434   \n",
              "worst symmetry                    0.614441         0.532520   \n",
              "worst fractal dimension           0.810455         0.686511   \n",
              "label                            -0.590998        -0.659610   \n",
              "\n",
              "                         worst concave points  worst symmetry  \\\n",
              "mean radius                          0.744214        0.163953   \n",
              "mean texture                         0.295316        0.105008   \n",
              "mean perimeter                       0.771241        0.189115   \n",
              "mean area                            0.722017        0.143570   \n",
              "mean smoothness                      0.503053        0.394309   \n",
              "mean compactness                     0.815573        0.510223   \n",
              "mean concavity                       0.861323        0.409464   \n",
              "mean concave points                  0.910155        0.375744   \n",
              "mean symmetry                        0.430297        0.699826   \n",
              "mean fractal dimension               0.175325        0.334019   \n",
              "radius error                         0.531062        0.094543   \n",
              "texture error                       -0.119638       -0.128215   \n",
              "perimeter error                      0.554897        0.109930   \n",
              "area error                           0.538166        0.074126   \n",
              "smoothness error                    -0.102007       -0.107342   \n",
              "compactness error                    0.483208        0.277878   \n",
              "concavity error                      0.440472        0.197788   \n",
              "concave points error                 0.602450        0.143116   \n",
              "symmetry error                      -0.030413        0.389402   \n",
              "fractal dimension error              0.215204        0.111094   \n",
              "worst radius                         0.787424        0.243529   \n",
              "worst texture                        0.359755        0.233027   \n",
              "worst perimeter                      0.816322        0.269493   \n",
              "worst area                           0.747419        0.209146   \n",
              "worst smoothness                     0.547691        0.493838   \n",
              "worst compactness                    0.801080        0.614441   \n",
              "worst concavity                      0.855434        0.532520   \n",
              "worst concave points                 1.000000        0.502528   \n",
              "worst symmetry                       0.502528        1.000000   \n",
              "worst fractal dimension              0.511114        0.537848   \n",
              "label                               -0.793566       -0.416294   \n",
              "\n",
              "                         worst fractal dimension     label  \n",
              "mean radius                             0.007066 -0.730029  \n",
              "mean texture                            0.119205 -0.415185  \n",
              "mean perimeter                          0.051019 -0.742636  \n",
              "mean area                               0.003738 -0.708984  \n",
              "mean smoothness                         0.499316 -0.358560  \n",
              "mean compactness                        0.687382 -0.596534  \n",
              "mean concavity                          0.514930 -0.696360  \n",
              "mean concave points                     0.368661 -0.776614  \n",
              "mean symmetry                           0.438413 -0.330499  \n",
              "mean fractal dimension                  0.767297  0.012838  \n",
              "radius error                            0.049559 -0.567134  \n",
              "texture error                          -0.045655  0.008303  \n",
              "perimeter error                         0.085433 -0.556141  \n",
              "area error                              0.017539 -0.548236  \n",
              "smoothness error                        0.101480  0.067016  \n",
              "compactness error                       0.590973 -0.292999  \n",
              "concavity error                         0.439329 -0.253730  \n",
              "concave points error                    0.310655 -0.408042  \n",
              "symmetry error                          0.078079  0.006522  \n",
              "fractal dimension error                 0.591328 -0.077972  \n",
              "worst radius                            0.093492 -0.776454  \n",
              "worst texture                           0.219122 -0.456903  \n",
              "worst perimeter                         0.138957 -0.782914  \n",
              "worst area                              0.079647 -0.733825  \n",
              "worst smoothness                        0.617624 -0.421465  \n",
              "worst compactness                       0.810455 -0.590998  \n",
              "worst concavity                         0.686511 -0.659610  \n",
              "worst concave points                    0.511114 -0.793566  \n",
              "worst symmetry                          0.537848 -0.416294  \n",
              "worst fractal dimension                 1.000000 -0.323872  \n",
              "label                                  -0.323872  1.000000  \n",
              "\n",
              "[31 rows x 31 columns]"
            ],
            "text/html": [
              "\n",
              "  <div id=\"df-b157ace0-88f0-4507-b25b-8dda4ac61a54\">\n",
              "    <div class=\"colab-df-container\">\n",
              "      <div>\n",
              "<style scoped>\n",
              "    .dataframe tbody tr th:only-of-type {\n",
              "        vertical-align: middle;\n",
              "    }\n",
              "\n",
              "    .dataframe tbody tr th {\n",
              "        vertical-align: top;\n",
              "    }\n",
              "\n",
              "    .dataframe thead th {\n",
              "        text-align: right;\n",
              "    }\n",
              "</style>\n",
              "<table border=\"1\" class=\"dataframe\">\n",
              "  <thead>\n",
              "    <tr style=\"text-align: right;\">\n",
              "      <th></th>\n",
              "      <th>mean radius</th>\n",
              "      <th>mean texture</th>\n",
              "      <th>mean perimeter</th>\n",
              "      <th>mean area</th>\n",
              "      <th>mean smoothness</th>\n",
              "      <th>mean compactness</th>\n",
              "      <th>mean concavity</th>\n",
              "      <th>mean concave points</th>\n",
              "      <th>mean symmetry</th>\n",
              "      <th>mean fractal dimension</th>\n",
              "      <th>...</th>\n",
              "      <th>worst texture</th>\n",
              "      <th>worst perimeter</th>\n",
              "      <th>worst area</th>\n",
              "      <th>worst smoothness</th>\n",
              "      <th>worst compactness</th>\n",
              "      <th>worst concavity</th>\n",
              "      <th>worst concave points</th>\n",
              "      <th>worst symmetry</th>\n",
              "      <th>worst fractal dimension</th>\n",
              "      <th>label</th>\n",
              "    </tr>\n",
              "  </thead>\n",
              "  <tbody>\n",
              "    <tr>\n",
              "      <th>mean radius</th>\n",
              "      <td>1.000000</td>\n",
              "      <td>0.323782</td>\n",
              "      <td>0.997855</td>\n",
              "      <td>0.987357</td>\n",
              "      <td>0.170581</td>\n",
              "      <td>0.506124</td>\n",
              "      <td>0.676764</td>\n",
              "      <td>0.822529</td>\n",
              "      <td>0.147741</td>\n",
              "      <td>-0.311631</td>\n",
              "      <td>...</td>\n",
              "      <td>0.297008</td>\n",
              "      <td>0.965137</td>\n",
              "      <td>0.941082</td>\n",
              "      <td>0.119616</td>\n",
              "      <td>0.413463</td>\n",
              "      <td>0.526911</td>\n",
              "      <td>0.744214</td>\n",
              "      <td>0.163953</td>\n",
              "      <td>0.007066</td>\n",
              "      <td>-0.730029</td>\n",
              "    </tr>\n",
              "    <tr>\n",
              "      <th>mean texture</th>\n",
              "      <td>0.323782</td>\n",
              "      <td>1.000000</td>\n",
              "      <td>0.329533</td>\n",
              "      <td>0.321086</td>\n",
              "      <td>-0.023389</td>\n",
              "      <td>0.236702</td>\n",
              "      <td>0.302418</td>\n",
              "      <td>0.293464</td>\n",
              "      <td>0.071401</td>\n",
              "      <td>-0.076437</td>\n",
              "      <td>...</td>\n",
              "      <td>0.912045</td>\n",
              "      <td>0.358040</td>\n",
              "      <td>0.343546</td>\n",
              "      <td>0.077503</td>\n",
              "      <td>0.277830</td>\n",
              "      <td>0.301025</td>\n",
              "      <td>0.295316</td>\n",
              "      <td>0.105008</td>\n",
              "      <td>0.119205</td>\n",
              "      <td>-0.415185</td>\n",
              "    </tr>\n",
              "    <tr>\n",
              "      <th>mean perimeter</th>\n",
              "      <td>0.997855</td>\n",
              "      <td>0.329533</td>\n",
              "      <td>1.000000</td>\n",
              "      <td>0.986507</td>\n",
              "      <td>0.207278</td>\n",
              "      <td>0.556936</td>\n",
              "      <td>0.716136</td>\n",
              "      <td>0.850977</td>\n",
              "      <td>0.183027</td>\n",
              "      <td>-0.261477</td>\n",
              "      <td>...</td>\n",
              "      <td>0.303038</td>\n",
              "      <td>0.970387</td>\n",
              "      <td>0.941550</td>\n",
              "      <td>0.150549</td>\n",
              "      <td>0.455774</td>\n",
              "      <td>0.563879</td>\n",
              "      <td>0.771241</td>\n",
              "      <td>0.189115</td>\n",
              "      <td>0.051019</td>\n",
              "      <td>-0.742636</td>\n",
              "    </tr>\n",
              "    <tr>\n",
              "      <th>mean area</th>\n",
              "      <td>0.987357</td>\n",
              "      <td>0.321086</td>\n",
              "      <td>0.986507</td>\n",
              "      <td>1.000000</td>\n",
              "      <td>0.177028</td>\n",
              "      <td>0.498502</td>\n",
              "      <td>0.685983</td>\n",
              "      <td>0.823269</td>\n",
              "      <td>0.151293</td>\n",
              "      <td>-0.283110</td>\n",
              "      <td>...</td>\n",
              "      <td>0.287489</td>\n",
              "      <td>0.959120</td>\n",
              "      <td>0.959213</td>\n",
              "      <td>0.123523</td>\n",
              "      <td>0.390410</td>\n",
              "      <td>0.512606</td>\n",
              "      <td>0.722017</td>\n",
              "      <td>0.143570</td>\n",
              "      <td>0.003738</td>\n",
              "      <td>-0.708984</td>\n",
              "    </tr>\n",
              "    <tr>\n",
              "      <th>mean smoothness</th>\n",
              "      <td>0.170581</td>\n",
              "      <td>-0.023389</td>\n",
              "      <td>0.207278</td>\n",
              "      <td>0.177028</td>\n",
              "      <td>1.000000</td>\n",
              "      <td>0.659123</td>\n",
              "      <td>0.521984</td>\n",
              "      <td>0.553695</td>\n",
              "      <td>0.557775</td>\n",
              "      <td>0.584792</td>\n",
              "      <td>...</td>\n",
              "      <td>0.036072</td>\n",
              "      <td>0.238853</td>\n",
              "      <td>0.206718</td>\n",
              "      <td>0.805324</td>\n",
              "      <td>0.472468</td>\n",
              "      <td>0.434926</td>\n",
              "      <td>0.503053</td>\n",
              "      <td>0.394309</td>\n",
              "      <td>0.499316</td>\n",
              "      <td>-0.358560</td>\n",
              "    </tr>\n",
              "    <tr>\n",
              "      <th>mean compactness</th>\n",
              "      <td>0.506124</td>\n",
              "      <td>0.236702</td>\n",
              "      <td>0.556936</td>\n",
              "      <td>0.498502</td>\n",
              "      <td>0.659123</td>\n",
              "      <td>1.000000</td>\n",
              "      <td>0.883121</td>\n",
              "      <td>0.831135</td>\n",
              "      <td>0.602641</td>\n",
              "      <td>0.565369</td>\n",
              "      <td>...</td>\n",
              "      <td>0.248133</td>\n",
              "      <td>0.590210</td>\n",
              "      <td>0.509604</td>\n",
              "      <td>0.565541</td>\n",
              "      <td>0.865809</td>\n",
              "      <td>0.816275</td>\n",
              "      <td>0.815573</td>\n",
              "      <td>0.510223</td>\n",
              "      <td>0.687382</td>\n",
              "      <td>-0.596534</td>\n",
              "    </tr>\n",
              "    <tr>\n",
              "      <th>mean concavity</th>\n",
              "      <td>0.676764</td>\n",
              "      <td>0.302418</td>\n",
              "      <td>0.716136</td>\n",
              "      <td>0.685983</td>\n",
              "      <td>0.521984</td>\n",
              "      <td>0.883121</td>\n",
              "      <td>1.000000</td>\n",
              "      <td>0.921391</td>\n",
              "      <td>0.500667</td>\n",
              "      <td>0.336783</td>\n",
              "      <td>...</td>\n",
              "      <td>0.299879</td>\n",
              "      <td>0.729565</td>\n",
              "      <td>0.675987</td>\n",
              "      <td>0.448822</td>\n",
              "      <td>0.754968</td>\n",
              "      <td>0.884103</td>\n",
              "      <td>0.861323</td>\n",
              "      <td>0.409464</td>\n",
              "      <td>0.514930</td>\n",
              "      <td>-0.696360</td>\n",
              "    </tr>\n",
              "    <tr>\n",
              "      <th>mean concave points</th>\n",
              "      <td>0.822529</td>\n",
              "      <td>0.293464</td>\n",
              "      <td>0.850977</td>\n",
              "      <td>0.823269</td>\n",
              "      <td>0.553695</td>\n",
              "      <td>0.831135</td>\n",
              "      <td>0.921391</td>\n",
              "      <td>1.000000</td>\n",
              "      <td>0.462497</td>\n",
              "      <td>0.166917</td>\n",
              "      <td>...</td>\n",
              "      <td>0.292752</td>\n",
              "      <td>0.855923</td>\n",
              "      <td>0.809630</td>\n",
              "      <td>0.452753</td>\n",
              "      <td>0.667454</td>\n",
              "      <td>0.752399</td>\n",
              "      <td>0.910155</td>\n",
              "      <td>0.375744</td>\n",
              "      <td>0.368661</td>\n",
              "      <td>-0.776614</td>\n",
              "    </tr>\n",
              "    <tr>\n",
              "      <th>mean symmetry</th>\n",
              "      <td>0.147741</td>\n",
              "      <td>0.071401</td>\n",
              "      <td>0.183027</td>\n",
              "      <td>0.151293</td>\n",
              "      <td>0.557775</td>\n",
              "      <td>0.602641</td>\n",
              "      <td>0.500667</td>\n",
              "      <td>0.462497</td>\n",
              "      <td>1.000000</td>\n",
              "      <td>0.479921</td>\n",
              "      <td>...</td>\n",
              "      <td>0.090651</td>\n",
              "      <td>0.219169</td>\n",
              "      <td>0.177193</td>\n",
              "      <td>0.426675</td>\n",
              "      <td>0.473200</td>\n",
              "      <td>0.433721</td>\n",
              "      <td>0.430297</td>\n",
              "      <td>0.699826</td>\n",
              "      <td>0.438413</td>\n",
              "      <td>-0.330499</td>\n",
              "    </tr>\n",
              "    <tr>\n",
              "      <th>mean fractal dimension</th>\n",
              "      <td>-0.311631</td>\n",
              "      <td>-0.076437</td>\n",
              "      <td>-0.261477</td>\n",
              "      <td>-0.283110</td>\n",
              "      <td>0.584792</td>\n",
              "      <td>0.565369</td>\n",
              "      <td>0.336783</td>\n",
              "      <td>0.166917</td>\n",
              "      <td>0.479921</td>\n",
              "      <td>1.000000</td>\n",
              "      <td>...</td>\n",
              "      <td>-0.051269</td>\n",
              "      <td>-0.205151</td>\n",
              "      <td>-0.231854</td>\n",
              "      <td>0.504942</td>\n",
              "      <td>0.458798</td>\n",
              "      <td>0.346234</td>\n",
              "      <td>0.175325</td>\n",
              "      <td>0.334019</td>\n",
              "      <td>0.767297</td>\n",
              "      <td>0.012838</td>\n",
              "    </tr>\n",
              "    <tr>\n",
              "      <th>radius error</th>\n",
              "      <td>0.679090</td>\n",
              "      <td>0.275869</td>\n",
              "      <td>0.691765</td>\n",
              "      <td>0.732562</td>\n",
              "      <td>0.301467</td>\n",
              "      <td>0.497473</td>\n",
              "      <td>0.631925</td>\n",
              "      <td>0.698050</td>\n",
              "      <td>0.303379</td>\n",
              "      <td>0.000111</td>\n",
              "      <td>...</td>\n",
              "      <td>0.194799</td>\n",
              "      <td>0.719684</td>\n",
              "      <td>0.751548</td>\n",
              "      <td>0.141919</td>\n",
              "      <td>0.287103</td>\n",
              "      <td>0.380585</td>\n",
              "      <td>0.531062</td>\n",
              "      <td>0.094543</td>\n",
              "      <td>0.049559</td>\n",
              "      <td>-0.567134</td>\n",
              "    </tr>\n",
              "    <tr>\n",
              "      <th>texture error</th>\n",
              "      <td>-0.097317</td>\n",
              "      <td>0.386358</td>\n",
              "      <td>-0.086761</td>\n",
              "      <td>-0.066280</td>\n",
              "      <td>0.068406</td>\n",
              "      <td>0.046205</td>\n",
              "      <td>0.076218</td>\n",
              "      <td>0.021480</td>\n",
              "      <td>0.128053</td>\n",
              "      <td>0.164174</td>\n",
              "      <td>...</td>\n",
              "      <td>0.409003</td>\n",
              "      <td>-0.102242</td>\n",
              "      <td>-0.083195</td>\n",
              "      <td>-0.073658</td>\n",
              "      <td>-0.092439</td>\n",
              "      <td>-0.068956</td>\n",
              "      <td>-0.119638</td>\n",
              "      <td>-0.128215</td>\n",
              "      <td>-0.045655</td>\n",
              "      <td>0.008303</td>\n",
              "    </tr>\n",
              "    <tr>\n",
              "      <th>perimeter error</th>\n",
              "      <td>0.674172</td>\n",
              "      <td>0.281673</td>\n",
              "      <td>0.693135</td>\n",
              "      <td>0.726628</td>\n",
              "      <td>0.296092</td>\n",
              "      <td>0.548905</td>\n",
              "      <td>0.660391</td>\n",
              "      <td>0.710650</td>\n",
              "      <td>0.313893</td>\n",
              "      <td>0.039830</td>\n",
              "      <td>...</td>\n",
              "      <td>0.200371</td>\n",
              "      <td>0.721031</td>\n",
              "      <td>0.730713</td>\n",
              "      <td>0.130054</td>\n",
              "      <td>0.341919</td>\n",
              "      <td>0.418899</td>\n",
              "      <td>0.554897</td>\n",
              "      <td>0.109930</td>\n",
              "      <td>0.085433</td>\n",
              "      <td>-0.556141</td>\n",
              "    </tr>\n",
              "    <tr>\n",
              "      <th>area error</th>\n",
              "      <td>0.735864</td>\n",
              "      <td>0.259845</td>\n",
              "      <td>0.744983</td>\n",
              "      <td>0.800086</td>\n",
              "      <td>0.246552</td>\n",
              "      <td>0.455653</td>\n",
              "      <td>0.617427</td>\n",
              "      <td>0.690299</td>\n",
              "      <td>0.223970</td>\n",
              "      <td>-0.090170</td>\n",
              "      <td>...</td>\n",
              "      <td>0.196497</td>\n",
              "      <td>0.761213</td>\n",
              "      <td>0.811408</td>\n",
              "      <td>0.125389</td>\n",
              "      <td>0.283257</td>\n",
              "      <td>0.385100</td>\n",
              "      <td>0.538166</td>\n",
              "      <td>0.074126</td>\n",
              "      <td>0.017539</td>\n",
              "      <td>-0.548236</td>\n",
              "    </tr>\n",
              "    <tr>\n",
              "      <th>smoothness error</th>\n",
              "      <td>-0.222600</td>\n",
              "      <td>0.006614</td>\n",
              "      <td>-0.202694</td>\n",
              "      <td>-0.166777</td>\n",
              "      <td>0.332375</td>\n",
              "      <td>0.135299</td>\n",
              "      <td>0.098564</td>\n",
              "      <td>0.027653</td>\n",
              "      <td>0.187321</td>\n",
              "      <td>0.401964</td>\n",
              "      <td>...</td>\n",
              "      <td>-0.074743</td>\n",
              "      <td>-0.217304</td>\n",
              "      <td>-0.182195</td>\n",
              "      <td>0.314457</td>\n",
              "      <td>-0.055558</td>\n",
              "      <td>-0.058298</td>\n",
              "      <td>-0.102007</td>\n",
              "      <td>-0.107342</td>\n",
              "      <td>0.101480</td>\n",
              "      <td>0.067016</td>\n",
              "    </tr>\n",
              "    <tr>\n",
              "      <th>compactness error</th>\n",
              "      <td>0.206000</td>\n",
              "      <td>0.191975</td>\n",
              "      <td>0.250744</td>\n",
              "      <td>0.212583</td>\n",
              "      <td>0.318943</td>\n",
              "      <td>0.738722</td>\n",
              "      <td>0.670279</td>\n",
              "      <td>0.490424</td>\n",
              "      <td>0.421659</td>\n",
              "      <td>0.559837</td>\n",
              "      <td>...</td>\n",
              "      <td>0.143003</td>\n",
              "      <td>0.260516</td>\n",
              "      <td>0.199371</td>\n",
              "      <td>0.227394</td>\n",
              "      <td>0.678780</td>\n",
              "      <td>0.639147</td>\n",
              "      <td>0.483208</td>\n",
              "      <td>0.277878</td>\n",
              "      <td>0.590973</td>\n",
              "      <td>-0.292999</td>\n",
              "    </tr>\n",
              "    <tr>\n",
              "      <th>concavity error</th>\n",
              "      <td>0.194204</td>\n",
              "      <td>0.143293</td>\n",
              "      <td>0.228082</td>\n",
              "      <td>0.207660</td>\n",
              "      <td>0.248396</td>\n",
              "      <td>0.570517</td>\n",
              "      <td>0.691270</td>\n",
              "      <td>0.439167</td>\n",
              "      <td>0.342627</td>\n",
              "      <td>0.446630</td>\n",
              "      <td>...</td>\n",
              "      <td>0.100241</td>\n",
              "      <td>0.226680</td>\n",
              "      <td>0.188353</td>\n",
              "      <td>0.168481</td>\n",
              "      <td>0.484858</td>\n",
              "      <td>0.662564</td>\n",
              "      <td>0.440472</td>\n",
              "      <td>0.197788</td>\n",
              "      <td>0.439329</td>\n",
              "      <td>-0.253730</td>\n",
              "    </tr>\n",
              "    <tr>\n",
              "      <th>concave points error</th>\n",
              "      <td>0.376169</td>\n",
              "      <td>0.163851</td>\n",
              "      <td>0.407217</td>\n",
              "      <td>0.372320</td>\n",
              "      <td>0.380676</td>\n",
              "      <td>0.642262</td>\n",
              "      <td>0.683260</td>\n",
              "      <td>0.615634</td>\n",
              "      <td>0.393298</td>\n",
              "      <td>0.341198</td>\n",
              "      <td>...</td>\n",
              "      <td>0.086741</td>\n",
              "      <td>0.394999</td>\n",
              "      <td>0.342271</td>\n",
              "      <td>0.215351</td>\n",
              "      <td>0.452888</td>\n",
              "      <td>0.549592</td>\n",
              "      <td>0.602450</td>\n",
              "      <td>0.143116</td>\n",
              "      <td>0.310655</td>\n",
              "      <td>-0.408042</td>\n",
              "    </tr>\n",
              "    <tr>\n",
              "      <th>symmetry error</th>\n",
              "      <td>-0.104321</td>\n",
              "      <td>0.009127</td>\n",
              "      <td>-0.081629</td>\n",
              "      <td>-0.072497</td>\n",
              "      <td>0.200774</td>\n",
              "      <td>0.229977</td>\n",
              "      <td>0.178009</td>\n",
              "      <td>0.095351</td>\n",
              "      <td>0.449137</td>\n",
              "      <td>0.345007</td>\n",
              "      <td>...</td>\n",
              "      <td>-0.077473</td>\n",
              "      <td>-0.103753</td>\n",
              "      <td>-0.110343</td>\n",
              "      <td>-0.012662</td>\n",
              "      <td>0.060255</td>\n",
              "      <td>0.037119</td>\n",
              "      <td>-0.030413</td>\n",
              "      <td>0.389402</td>\n",
              "      <td>0.078079</td>\n",
              "      <td>0.006522</td>\n",
              "    </tr>\n",
              "    <tr>\n",
              "      <th>fractal dimension error</th>\n",
              "      <td>-0.042641</td>\n",
              "      <td>0.054458</td>\n",
              "      <td>-0.005523</td>\n",
              "      <td>-0.019887</td>\n",
              "      <td>0.283607</td>\n",
              "      <td>0.507318</td>\n",
              "      <td>0.449301</td>\n",
              "      <td>0.257584</td>\n",
              "      <td>0.331786</td>\n",
              "      <td>0.688132</td>\n",
              "      <td>...</td>\n",
              "      <td>-0.003195</td>\n",
              "      <td>-0.001000</td>\n",
              "      <td>-0.022736</td>\n",
              "      <td>0.170568</td>\n",
              "      <td>0.390159</td>\n",
              "      <td>0.379975</td>\n",
              "      <td>0.215204</td>\n",
              "      <td>0.111094</td>\n",
              "      <td>0.591328</td>\n",
              "      <td>-0.077972</td>\n",
              "    </tr>\n",
              "    <tr>\n",
              "      <th>worst radius</th>\n",
              "      <td>0.969539</td>\n",
              "      <td>0.352573</td>\n",
              "      <td>0.969476</td>\n",
              "      <td>0.962746</td>\n",
              "      <td>0.213120</td>\n",
              "      <td>0.535315</td>\n",
              "      <td>0.688236</td>\n",
              "      <td>0.830318</td>\n",
              "      <td>0.185728</td>\n",
              "      <td>-0.253691</td>\n",
              "      <td>...</td>\n",
              "      <td>0.359921</td>\n",
              "      <td>0.993708</td>\n",
              "      <td>0.984015</td>\n",
              "      <td>0.216574</td>\n",
              "      <td>0.475820</td>\n",
              "      <td>0.573975</td>\n",
              "      <td>0.787424</td>\n",
              "      <td>0.243529</td>\n",
              "      <td>0.093492</td>\n",
              "      <td>-0.776454</td>\n",
              "    </tr>\n",
              "    <tr>\n",
              "      <th>worst texture</th>\n",
              "      <td>0.297008</td>\n",
              "      <td>0.912045</td>\n",
              "      <td>0.303038</td>\n",
              "      <td>0.287489</td>\n",
              "      <td>0.036072</td>\n",
              "      <td>0.248133</td>\n",
              "      <td>0.299879</td>\n",
              "      <td>0.292752</td>\n",
              "      <td>0.090651</td>\n",
              "      <td>-0.051269</td>\n",
              "      <td>...</td>\n",
              "      <td>1.000000</td>\n",
              "      <td>0.365098</td>\n",
              "      <td>0.345842</td>\n",
              "      <td>0.225429</td>\n",
              "      <td>0.360832</td>\n",
              "      <td>0.368366</td>\n",
              "      <td>0.359755</td>\n",
              "      <td>0.233027</td>\n",
              "      <td>0.219122</td>\n",
              "      <td>-0.456903</td>\n",
              "    </tr>\n",
              "    <tr>\n",
              "      <th>worst perimeter</th>\n",
              "      <td>0.965137</td>\n",
              "      <td>0.358040</td>\n",
              "      <td>0.970387</td>\n",
              "      <td>0.959120</td>\n",
              "      <td>0.238853</td>\n",
              "      <td>0.590210</td>\n",
              "      <td>0.729565</td>\n",
              "      <td>0.855923</td>\n",
              "      <td>0.219169</td>\n",
              "      <td>-0.205151</td>\n",
              "      <td>...</td>\n",
              "      <td>0.365098</td>\n",
              "      <td>1.000000</td>\n",
              "      <td>0.977578</td>\n",
              "      <td>0.236775</td>\n",
              "      <td>0.529408</td>\n",
              "      <td>0.618344</td>\n",
              "      <td>0.816322</td>\n",
              "      <td>0.269493</td>\n",
              "      <td>0.138957</td>\n",
              "      <td>-0.782914</td>\n",
              "    </tr>\n",
              "    <tr>\n",
              "      <th>worst area</th>\n",
              "      <td>0.941082</td>\n",
              "      <td>0.343546</td>\n",
              "      <td>0.941550</td>\n",
              "      <td>0.959213</td>\n",
              "      <td>0.206718</td>\n",
              "      <td>0.509604</td>\n",
              "      <td>0.675987</td>\n",
              "      <td>0.809630</td>\n",
              "      <td>0.177193</td>\n",
              "      <td>-0.231854</td>\n",
              "      <td>...</td>\n",
              "      <td>0.345842</td>\n",
              "      <td>0.977578</td>\n",
              "      <td>1.000000</td>\n",
              "      <td>0.209145</td>\n",
              "      <td>0.438296</td>\n",
              "      <td>0.543331</td>\n",
              "      <td>0.747419</td>\n",
              "      <td>0.209146</td>\n",
              "      <td>0.079647</td>\n",
              "      <td>-0.733825</td>\n",
              "    </tr>\n",
              "    <tr>\n",
              "      <th>worst smoothness</th>\n",
              "      <td>0.119616</td>\n",
              "      <td>0.077503</td>\n",
              "      <td>0.150549</td>\n",
              "      <td>0.123523</td>\n",
              "      <td>0.805324</td>\n",
              "      <td>0.565541</td>\n",
              "      <td>0.448822</td>\n",
              "      <td>0.452753</td>\n",
              "      <td>0.426675</td>\n",
              "      <td>0.504942</td>\n",
              "      <td>...</td>\n",
              "      <td>0.225429</td>\n",
              "      <td>0.236775</td>\n",
              "      <td>0.209145</td>\n",
              "      <td>1.000000</td>\n",
              "      <td>0.568187</td>\n",
              "      <td>0.518523</td>\n",
              "      <td>0.547691</td>\n",
              "      <td>0.493838</td>\n",
              "      <td>0.617624</td>\n",
              "      <td>-0.421465</td>\n",
              "    </tr>\n",
              "    <tr>\n",
              "      <th>worst compactness</th>\n",
              "      <td>0.413463</td>\n",
              "      <td>0.277830</td>\n",
              "      <td>0.455774</td>\n",
              "      <td>0.390410</td>\n",
              "      <td>0.472468</td>\n",
              "      <td>0.865809</td>\n",
              "      <td>0.754968</td>\n",
              "      <td>0.667454</td>\n",
              "      <td>0.473200</td>\n",
              "      <td>0.458798</td>\n",
              "      <td>...</td>\n",
              "      <td>0.360832</td>\n",
              "      <td>0.529408</td>\n",
              "      <td>0.438296</td>\n",
              "      <td>0.568187</td>\n",
              "      <td>1.000000</td>\n",
              "      <td>0.892261</td>\n",
              "      <td>0.801080</td>\n",
              "      <td>0.614441</td>\n",
              "      <td>0.810455</td>\n",
              "      <td>-0.590998</td>\n",
              "    </tr>\n",
              "    <tr>\n",
              "      <th>worst concavity</th>\n",
              "      <td>0.526911</td>\n",
              "      <td>0.301025</td>\n",
              "      <td>0.563879</td>\n",
              "      <td>0.512606</td>\n",
              "      <td>0.434926</td>\n",
              "      <td>0.816275</td>\n",
              "      <td>0.884103</td>\n",
              "      <td>0.752399</td>\n",
              "      <td>0.433721</td>\n",
              "      <td>0.346234</td>\n",
              "      <td>...</td>\n",
              "      <td>0.368366</td>\n",
              "      <td>0.618344</td>\n",
              "      <td>0.543331</td>\n",
              "      <td>0.518523</td>\n",
              "      <td>0.892261</td>\n",
              "      <td>1.000000</td>\n",
              "      <td>0.855434</td>\n",
              "      <td>0.532520</td>\n",
              "      <td>0.686511</td>\n",
              "      <td>-0.659610</td>\n",
              "    </tr>\n",
              "    <tr>\n",
              "      <th>worst concave points</th>\n",
              "      <td>0.744214</td>\n",
              "      <td>0.295316</td>\n",
              "      <td>0.771241</td>\n",
              "      <td>0.722017</td>\n",
              "      <td>0.503053</td>\n",
              "      <td>0.815573</td>\n",
              "      <td>0.861323</td>\n",
              "      <td>0.910155</td>\n",
              "      <td>0.430297</td>\n",
              "      <td>0.175325</td>\n",
              "      <td>...</td>\n",
              "      <td>0.359755</td>\n",
              "      <td>0.816322</td>\n",
              "      <td>0.747419</td>\n",
              "      <td>0.547691</td>\n",
              "      <td>0.801080</td>\n",
              "      <td>0.855434</td>\n",
              "      <td>1.000000</td>\n",
              "      <td>0.502528</td>\n",
              "      <td>0.511114</td>\n",
              "      <td>-0.793566</td>\n",
              "    </tr>\n",
              "    <tr>\n",
              "      <th>worst symmetry</th>\n",
              "      <td>0.163953</td>\n",
              "      <td>0.105008</td>\n",
              "      <td>0.189115</td>\n",
              "      <td>0.143570</td>\n",
              "      <td>0.394309</td>\n",
              "      <td>0.510223</td>\n",
              "      <td>0.409464</td>\n",
              "      <td>0.375744</td>\n",
              "      <td>0.699826</td>\n",
              "      <td>0.334019</td>\n",
              "      <td>...</td>\n",
              "      <td>0.233027</td>\n",
              "      <td>0.269493</td>\n",
              "      <td>0.209146</td>\n",
              "      <td>0.493838</td>\n",
              "      <td>0.614441</td>\n",
              "      <td>0.532520</td>\n",
              "      <td>0.502528</td>\n",
              "      <td>1.000000</td>\n",
              "      <td>0.537848</td>\n",
              "      <td>-0.416294</td>\n",
              "    </tr>\n",
              "    <tr>\n",
              "      <th>worst fractal dimension</th>\n",
              "      <td>0.007066</td>\n",
              "      <td>0.119205</td>\n",
              "      <td>0.051019</td>\n",
              "      <td>0.003738</td>\n",
              "      <td>0.499316</td>\n",
              "      <td>0.687382</td>\n",
              "      <td>0.514930</td>\n",
              "      <td>0.368661</td>\n",
              "      <td>0.438413</td>\n",
              "      <td>0.767297</td>\n",
              "      <td>...</td>\n",
              "      <td>0.219122</td>\n",
              "      <td>0.138957</td>\n",
              "      <td>0.079647</td>\n",
              "      <td>0.617624</td>\n",
              "      <td>0.810455</td>\n",
              "      <td>0.686511</td>\n",
              "      <td>0.511114</td>\n",
              "      <td>0.537848</td>\n",
              "      <td>1.000000</td>\n",
              "      <td>-0.323872</td>\n",
              "    </tr>\n",
              "    <tr>\n",
              "      <th>label</th>\n",
              "      <td>-0.730029</td>\n",
              "      <td>-0.415185</td>\n",
              "      <td>-0.742636</td>\n",
              "      <td>-0.708984</td>\n",
              "      <td>-0.358560</td>\n",
              "      <td>-0.596534</td>\n",
              "      <td>-0.696360</td>\n",
              "      <td>-0.776614</td>\n",
              "      <td>-0.330499</td>\n",
              "      <td>0.012838</td>\n",
              "      <td>...</td>\n",
              "      <td>-0.456903</td>\n",
              "      <td>-0.782914</td>\n",
              "      <td>-0.733825</td>\n",
              "      <td>-0.421465</td>\n",
              "      <td>-0.590998</td>\n",
              "      <td>-0.659610</td>\n",
              "      <td>-0.793566</td>\n",
              "      <td>-0.416294</td>\n",
              "      <td>-0.323872</td>\n",
              "      <td>1.000000</td>\n",
              "    </tr>\n",
              "  </tbody>\n",
              "</table>\n",
              "<p>31 rows × 31 columns</p>\n",
              "</div>\n",
              "      <button class=\"colab-df-convert\" onclick=\"convertToInteractive('df-b157ace0-88f0-4507-b25b-8dda4ac61a54')\"\n",
              "              title=\"Convert this dataframe to an interactive table.\"\n",
              "              style=\"display:none;\">\n",
              "        \n",
              "  <svg xmlns=\"http://www.w3.org/2000/svg\" height=\"24px\"viewBox=\"0 0 24 24\"\n",
              "       width=\"24px\">\n",
              "    <path d=\"M0 0h24v24H0V0z\" fill=\"none\"/>\n",
              "    <path d=\"M18.56 5.44l.94 2.06.94-2.06 2.06-.94-2.06-.94-.94-2.06-.94 2.06-2.06.94zm-11 1L8.5 8.5l.94-2.06 2.06-.94-2.06-.94L8.5 2.5l-.94 2.06-2.06.94zm10 10l.94 2.06.94-2.06 2.06-.94-2.06-.94-.94-2.06-.94 2.06-2.06.94z\"/><path d=\"M17.41 7.96l-1.37-1.37c-.4-.4-.92-.59-1.43-.59-.52 0-1.04.2-1.43.59L10.3 9.45l-7.72 7.72c-.78.78-.78 2.05 0 2.83L4 21.41c.39.39.9.59 1.41.59.51 0 1.02-.2 1.41-.59l7.78-7.78 2.81-2.81c.8-.78.8-2.07 0-2.86zM5.41 20L4 18.59l7.72-7.72 1.47 1.35L5.41 20z\"/>\n",
              "  </svg>\n",
              "      </button>\n",
              "      \n",
              "  <style>\n",
              "    .colab-df-container {\n",
              "      display:flex;\n",
              "      flex-wrap:wrap;\n",
              "      gap: 12px;\n",
              "    }\n",
              "\n",
              "    .colab-df-convert {\n",
              "      background-color: #E8F0FE;\n",
              "      border: none;\n",
              "      border-radius: 50%;\n",
              "      cursor: pointer;\n",
              "      display: none;\n",
              "      fill: #1967D2;\n",
              "      height: 32px;\n",
              "      padding: 0 0 0 0;\n",
              "      width: 32px;\n",
              "    }\n",
              "\n",
              "    .colab-df-convert:hover {\n",
              "      background-color: #E2EBFA;\n",
              "      box-shadow: 0px 1px 2px rgba(60, 64, 67, 0.3), 0px 1px 3px 1px rgba(60, 64, 67, 0.15);\n",
              "      fill: #174EA6;\n",
              "    }\n",
              "\n",
              "    [theme=dark] .colab-df-convert {\n",
              "      background-color: #3B4455;\n",
              "      fill: #D2E3FC;\n",
              "    }\n",
              "\n",
              "    [theme=dark] .colab-df-convert:hover {\n",
              "      background-color: #434B5C;\n",
              "      box-shadow: 0px 1px 3px 1px rgba(0, 0, 0, 0.15);\n",
              "      filter: drop-shadow(0px 1px 2px rgba(0, 0, 0, 0.3));\n",
              "      fill: #FFFFFF;\n",
              "    }\n",
              "  </style>\n",
              "\n",
              "      <script>\n",
              "        const buttonEl =\n",
              "          document.querySelector('#df-b157ace0-88f0-4507-b25b-8dda4ac61a54 button.colab-df-convert');\n",
              "        buttonEl.style.display =\n",
              "          google.colab.kernel.accessAllowed ? 'block' : 'none';\n",
              "\n",
              "        async function convertToInteractive(key) {\n",
              "          const element = document.querySelector('#df-b157ace0-88f0-4507-b25b-8dda4ac61a54');\n",
              "          const dataTable =\n",
              "            await google.colab.kernel.invokeFunction('convertToInteractive',\n",
              "                                                     [key], {});\n",
              "          if (!dataTable) return;\n",
              "\n",
              "          const docLinkHtml = 'Like what you see? Visit the ' +\n",
              "            '<a target=\"_blank\" href=https://colab.research.google.com/notebooks/data_table.ipynb>data table notebook</a>'\n",
              "            + ' to learn more about interactive tables.';\n",
              "          element.innerHTML = '';\n",
              "          dataTable['output_type'] = 'display_data';\n",
              "          await google.colab.output.renderOutput(dataTable, element);\n",
              "          const docLink = document.createElement('div');\n",
              "          docLink.innerHTML = docLinkHtml;\n",
              "          element.appendChild(docLink);\n",
              "        }\n",
              "      </script>\n",
              "    </div>\n",
              "  </div>\n",
              "  "
            ]
          },
          "metadata": {},
          "execution_count": 21
        }
      ]
    },
    {
      "cell_type": "code",
      "source": [
        "from sklearn.preprocessing import StandardScaler"
      ],
      "metadata": {
        "id": "f98sNYQAIqBp"
      },
      "execution_count": null,
      "outputs": []
    },
    {
      "cell_type": "code",
      "source": [
        "ss = StandardScaler()\n",
        "ss.fit(cancer.data)\n",
        "scaled_data = ss.transform(cancer.data)"
      ],
      "metadata": {
        "id": "RsJrYxZTJFwX"
      },
      "execution_count": null,
      "outputs": []
    },
    {
      "cell_type": "code",
      "source": [
        "x_train,x_test,y_train,y_test = train_test_split(scaled_data,\n",
        "                                                 cancer.target)"
      ],
      "metadata": {
        "id": "V1eRUfqjJMc6"
      },
      "execution_count": null,
      "outputs": []
    },
    {
      "cell_type": "code",
      "source": [
        "lr = LogisticRegression()\n",
        "knn = KNeighborsClassifier()\n",
        "vo = VotingClassifier(estimators=[('LR',lr),('KNN',knn)],\n",
        "                      voting='soft')"
      ],
      "metadata": {
        "id": "Q9wQJKL5JUN-"
      },
      "execution_count": null,
      "outputs": []
    },
    {
      "cell_type": "code",
      "source": [
        "vo.fit(x_train,y_train)\n",
        "pred = vo.predict(x_test)\n",
        "print(\"acc:\",accuracy_score(y_test,pred))"
      ],
      "metadata": {
        "colab": {
          "base_uri": "https://localhost:8080/"
        },
        "id": "ZQTvWHM9JZgv",
        "outputId": "d72a6e12-e90f-4385-b10b-7919116db796"
      },
      "execution_count": null,
      "outputs": [
        {
          "output_type": "stream",
          "name": "stdout",
          "text": [
            "acc: 0.965034965034965\n"
          ]
        }
      ]
    },
    {
      "cell_type": "code",
      "source": [
        "lr = LogisticRegression()\n",
        "knn = KNeighborsClassifier()\n",
        "models=[lr,knn]\n",
        "for model in models:\n",
        "  model.fit(x_train,y_train)\n",
        "  pred = model.predict(x_test)\n",
        "  print(model.__class__.__name__,\"===\")\n",
        "  print(\"acc:\",accuracy_score(y_test,pred))"
      ],
      "metadata": {
        "colab": {
          "base_uri": "https://localhost:8080/"
        },
        "id": "pDE9bEm2JqyV",
        "outputId": "8cb59f1e-357a-4c5d-8a94-1585a943a997"
      },
      "execution_count": null,
      "outputs": [
        {
          "output_type": "stream",
          "name": "stdout",
          "text": [
            "LogisticRegression ===\n",
            "acc: 0.958041958041958\n",
            "KNeighborsClassifier ===\n",
            "acc: 0.958041958041958\n"
          ]
        }
      ]
    },
    {
      "cell_type": "markdown",
      "source": [
        "## 랜덤 포리스트"
      ],
      "metadata": {
        "id": "wUOsQZ6APbCG"
      }
    },
    {
      "cell_type": "code",
      "source": [
        "from sklearn.ensemble import RandomForestClassifier"
      ],
      "metadata": {
        "id": "pfQSA87RKloa"
      },
      "execution_count": null,
      "outputs": []
    },
    {
      "cell_type": "code",
      "source": [
        "dir_path = '/content/drive/MyDrive/UHD/'"
      ],
      "metadata": {
        "id": "9hn7seL5PpHK"
      },
      "execution_count": null,
      "outputs": []
    },
    {
      "cell_type": "code",
      "source": [
        "df = pd.read_csv(dir_path+'features.txt',sep='\\s+',\n",
        "                        header=None,names=['column_index','column_name'])\n",
        "feature_dup_df = pd.DataFrame(data=df.groupby('column_name').cumcount(),\n",
        "                                  columns=['dup_cnt'])\n",
        "feature_dup_df = feature_dup_df.reset_index()\n",
        "ndf = pd.merge(df.reset_index(), feature_dup_df, how='outer')\n",
        "ndf['column_name'] = ndf[['column_name', 'dup_cnt']].apply(lambda x : x[0]+'_'+str(x[1])\n",
        "                                                                if x[1] >0 else x[0] ,  axis=1)\n",
        "ndf = ndf.drop(['index'], axis=1)\n",
        "feature_name = ndf.iloc[:, 1].values.tolist()\n",
        "x_train = pd.read_csv(dir_path+'train/X_train.txt',sep='\\s+', names=feature_name )\n",
        "x_test = pd.read_csv(dir_path+'test/X_test.txt',sep='\\s+', names=feature_name)\n",
        "y_train = pd.read_csv(dir_path+'train/y_train.txt',sep='\\s+',header=None,names=['action'])\n",
        "y_test = pd.read_csv(dir_path+'test/y_test.txt',sep='\\s+',header=None,names=['action'])\n"
      ],
      "metadata": {
        "id": "Icuj1zfGP7_k"
      },
      "execution_count": null,
      "outputs": []
    },
    {
      "cell_type": "code",
      "source": [
        "x_train.shape,x_test.shape"
      ],
      "metadata": {
        "colab": {
          "base_uri": "https://localhost:8080/"
        },
        "id": "bhcUJsjBUPkE",
        "outputId": "286862b2-62b2-4a6b-bbb0-191e01e6cf60"
      },
      "execution_count": null,
      "outputs": [
        {
          "output_type": "execute_result",
          "data": {
            "text/plain": [
              "((7352, 561), (2947, 561))"
            ]
          },
          "metadata": {},
          "execution_count": 45
        }
      ]
    },
    {
      "cell_type": "code",
      "source": [
        "ndf.info()"
      ],
      "metadata": {
        "colab": {
          "base_uri": "https://localhost:8080/"
        },
        "id": "sPsJ4rc8Ui-B",
        "outputId": "19d556f5-0e31-4641-d4d1-3ec99d3a3568"
      },
      "execution_count": null,
      "outputs": [
        {
          "output_type": "stream",
          "name": "stdout",
          "text": [
            "<class 'pandas.core.frame.DataFrame'>\n",
            "Int64Index: 561 entries, 0 to 560\n",
            "Data columns (total 3 columns):\n",
            " #   Column        Non-Null Count  Dtype \n",
            "---  ------        --------------  ----- \n",
            " 0   column_index  561 non-null    int64 \n",
            " 1   column_name   561 non-null    object\n",
            " 2   dup_cnt       561 non-null    int64 \n",
            "dtypes: int64(2), object(1)\n",
            "memory usage: 17.5+ KB\n"
          ]
        }
      ]
    },
    {
      "cell_type": "code",
      "source": [
        "y_train.value_counts()"
      ],
      "metadata": {
        "colab": {
          "base_uri": "https://localhost:8080/"
        },
        "id": "37_QfQ23UvLV",
        "outputId": "9ab533f3-6258-473e-c05e-149f30cd5d58"
      },
      "execution_count": null,
      "outputs": [
        {
          "output_type": "execute_result",
          "data": {
            "text/plain": [
              "action\n",
              "6         1407\n",
              "5         1374\n",
              "4         1286\n",
              "1         1226\n",
              "2         1073\n",
              "3          986\n",
              "dtype: int64"
            ]
          },
          "metadata": {},
          "execution_count": 54
        }
      ]
    },
    {
      "cell_type": "code",
      "source": [
        "rf = RandomForestClassifier()\n",
        "rf.fit(x_train,y_train)\n",
        "pred = rf.predict(x_test)\n",
        "print(\"acc:\",accuracy_score(y_test,pred))"
      ],
      "metadata": {
        "colab": {
          "base_uri": "https://localhost:8080/"
        },
        "id": "ufAyumHfVMR3",
        "outputId": "b69c7218-2a0a-4dd3-e303-780199e9201a"
      },
      "execution_count": null,
      "outputs": [
        {
          "output_type": "stream",
          "name": "stderr",
          "text": [
            "<ipython-input-55-0013b0ff8e28>:2: DataConversionWarning: A column-vector y was passed when a 1d array was expected. Please change the shape of y to (n_samples,), for example using ravel().\n",
            "  rf.fit(x_train,y_train)\n"
          ]
        },
        {
          "output_type": "stream",
          "name": "stdout",
          "text": [
            "acc: 0.9314557176789956\n"
          ]
        }
      ]
    },
    {
      "cell_type": "code",
      "source": [
        "lr = LogisticRegression()\n",
        "knn = KNeighborsClassifier()\n",
        "models=[lr,knn]\n",
        "for model in models:\n",
        "  model.fit(x_train,y_train)\n",
        "  pred = model.predict(x_test)\n",
        "  print(model.__class__.__name__,\"===\")\n",
        "  print(\"acc:\",accuracy_score(y_test,pred))"
      ],
      "metadata": {
        "colab": {
          "base_uri": "https://localhost:8080/"
        },
        "id": "s-O_N7YmVx_h",
        "outputId": "c2f14487-24c0-4457-f8fb-3a22ef1dd925"
      },
      "execution_count": null,
      "outputs": [
        {
          "output_type": "stream",
          "name": "stderr",
          "text": [
            "/usr/local/lib/python3.10/dist-packages/sklearn/utils/validation.py:1143: DataConversionWarning: A column-vector y was passed when a 1d array was expected. Please change the shape of y to (n_samples, ), for example using ravel().\n",
            "  y = column_or_1d(y, warn=True)\n",
            "/usr/local/lib/python3.10/dist-packages/sklearn/linear_model/_logistic.py:458: ConvergenceWarning: lbfgs failed to converge (status=1):\n",
            "STOP: TOTAL NO. of ITERATIONS REACHED LIMIT.\n",
            "\n",
            "Increase the number of iterations (max_iter) or scale the data as shown in:\n",
            "    https://scikit-learn.org/stable/modules/preprocessing.html\n",
            "Please also refer to the documentation for alternative solver options:\n",
            "    https://scikit-learn.org/stable/modules/linear_model.html#logistic-regression\n",
            "  n_iter_i = _check_optimize_result(\n",
            "/usr/local/lib/python3.10/dist-packages/sklearn/neighbors/_classification.py:215: DataConversionWarning: A column-vector y was passed when a 1d array was expected. Please change the shape of y to (n_samples,), for example using ravel().\n",
            "  return self._fit(X, y)\n"
          ]
        },
        {
          "output_type": "stream",
          "name": "stdout",
          "text": [
            "LogisticRegression ===\n",
            "acc: 0.9579233118425518\n",
            "KNeighborsClassifier ===\n",
            "acc: 0.9015948422124194\n"
          ]
        }
      ]
    },
    {
      "cell_type": "code",
      "source": [
        "ss = StandardScaler()\n",
        "ss.fit(x_train)\n",
        "scaled_xtr = ss.transform(x_train)\n",
        "scaled_xte = ss.transform(x_test)"
      ],
      "metadata": {
        "id": "unKIJme3WAiy"
      },
      "execution_count": null,
      "outputs": []
    },
    {
      "cell_type": "code",
      "source": [
        "lr = LogisticRegression()\n",
        "knn = KNeighborsClassifier()\n",
        "vo = VotingClassifier(estimators=[('LR',lr),('KNN',knn)],\n",
        "                      voting='soft')\n",
        "rf = RandomForestClassifier()\n",
        "lr = LogisticRegression()\n",
        "knn = KNeighborsClassifier()\n",
        "models=[vo,rf,lr,knn]\n",
        "for model in models:\n",
        "  model.fit(scaled_xtr,y_train)\n",
        "  pred = model.predict(scaled_xte)\n",
        "  print(model.__class__.__name__,\"===\")\n",
        "  print(\"acc:\",accuracy_score(y_test,pred))"
      ],
      "metadata": {
        "colab": {
          "base_uri": "https://localhost:8080/"
        },
        "id": "XBQglG8mWb02",
        "outputId": "e8fc3581-eefd-4d41-c03f-4adf526f5728"
      },
      "execution_count": null,
      "outputs": [
        {
          "output_type": "stream",
          "name": "stderr",
          "text": [
            "/usr/local/lib/python3.10/dist-packages/sklearn/preprocessing/_label.py:99: DataConversionWarning: A column-vector y was passed when a 1d array was expected. Please change the shape of y to (n_samples, ), for example using ravel().\n",
            "  y = column_or_1d(y, warn=True)\n",
            "/usr/local/lib/python3.10/dist-packages/sklearn/preprocessing/_label.py:134: DataConversionWarning: A column-vector y was passed when a 1d array was expected. Please change the shape of y to (n_samples, ), for example using ravel().\n",
            "  y = column_or_1d(y, dtype=self.classes_.dtype, warn=True)\n",
            "/usr/local/lib/python3.10/dist-packages/sklearn/linear_model/_logistic.py:458: ConvergenceWarning: lbfgs failed to converge (status=1):\n",
            "STOP: TOTAL NO. of ITERATIONS REACHED LIMIT.\n",
            "\n",
            "Increase the number of iterations (max_iter) or scale the data as shown in:\n",
            "    https://scikit-learn.org/stable/modules/preprocessing.html\n",
            "Please also refer to the documentation for alternative solver options:\n",
            "    https://scikit-learn.org/stable/modules/linear_model.html#logistic-regression\n",
            "  n_iter_i = _check_optimize_result(\n"
          ]
        },
        {
          "output_type": "stream",
          "name": "stdout",
          "text": [
            "VotingClassifier ===\n",
            "acc: 0.9457074991516796\n"
          ]
        },
        {
          "output_type": "stream",
          "name": "stderr",
          "text": [
            "<ipython-input-62-adb67f1ba0df>:10: DataConversionWarning: A column-vector y was passed when a 1d array was expected. Please change the shape of y to (n_samples,), for example using ravel().\n",
            "  model.fit(scaled_xtr,y_train)\n"
          ]
        },
        {
          "output_type": "stream",
          "name": "stdout",
          "text": [
            "RandomForestClassifier ===\n",
            "acc: 0.9300984051577876\n"
          ]
        },
        {
          "output_type": "stream",
          "name": "stderr",
          "text": [
            "/usr/local/lib/python3.10/dist-packages/sklearn/utils/validation.py:1143: DataConversionWarning: A column-vector y was passed when a 1d array was expected. Please change the shape of y to (n_samples, ), for example using ravel().\n",
            "  y = column_or_1d(y, warn=True)\n",
            "/usr/local/lib/python3.10/dist-packages/sklearn/linear_model/_logistic.py:458: ConvergenceWarning: lbfgs failed to converge (status=1):\n",
            "STOP: TOTAL NO. of ITERATIONS REACHED LIMIT.\n",
            "\n",
            "Increase the number of iterations (max_iter) or scale the data as shown in:\n",
            "    https://scikit-learn.org/stable/modules/preprocessing.html\n",
            "Please also refer to the documentation for alternative solver options:\n",
            "    https://scikit-learn.org/stable/modules/linear_model.html#logistic-regression\n",
            "  n_iter_i = _check_optimize_result(\n",
            "/usr/local/lib/python3.10/dist-packages/sklearn/neighbors/_classification.py:215: DataConversionWarning: A column-vector y was passed when a 1d array was expected. Please change the shape of y to (n_samples,), for example using ravel().\n",
            "  return self._fit(X, y)\n"
          ]
        },
        {
          "output_type": "stream",
          "name": "stdout",
          "text": [
            "LogisticRegression ===\n",
            "acc: 0.9541907024092298\n",
            "KNeighborsClassifier ===\n",
            "acc: 0.8802171700033933\n"
          ]
        }
      ]
    },
    {
      "cell_type": "code",
      "source": [
        "from sklearn.model_selection import GridSearchCV"
      ],
      "metadata": {
        "id": "kcBEjNSrW98X"
      },
      "execution_count": null,
      "outputs": []
    },
    {
      "cell_type": "code",
      "source": [
        "params = {\n",
        "    'max_depth':[4,8,12,16,20],\n",
        "    'min_samples_leaf':[1,4,10,15],\n",
        "    'min_samples_split':[2,4,6,8]\n",
        "}"
      ],
      "metadata": {
        "id": "-x9nVnkKX8v7"
      },
      "execution_count": null,
      "outputs": []
    },
    {
      "cell_type": "code",
      "source": [
        "rf = RandomForestClassifier(n_jobs=-1)\n",
        "gs = GridSearchCV(rf,param_grid=params)\n",
        "gs.fit(x_train,y_train)\n",
        "print(\"best:\",gs.best_params_)\n",
        "print(\"acc:\",gs.best_score_)"
      ],
      "metadata": {
        "id": "JRTySoZHYGNT"
      },
      "execution_count": null,
      "outputs": []
    },
    {
      "cell_type": "code",
      "source": [
        "model = gs.best_estimator_"
      ],
      "metadata": {
        "id": "eLmrMK3iY_oS"
      },
      "execution_count": null,
      "outputs": []
    },
    {
      "cell_type": "code",
      "source": [
        "pred = model.predict(x_test)"
      ],
      "metadata": {
        "id": "Yqv0h16sk6L9"
      },
      "execution_count": null,
      "outputs": []
    },
    {
      "cell_type": "code",
      "source": [
        "print('acc:',accuracy_score(y_test,pred))"
      ],
      "metadata": {
        "colab": {
          "base_uri": "https://localhost:8080/"
        },
        "id": "gtxty7l4lEev",
        "outputId": "dc02935a-100c-4d2f-be63-05b1cfdb7113"
      },
      "execution_count": null,
      "outputs": [
        {
          "output_type": "stream",
          "name": "stdout",
          "text": [
            "acc: 0.9239904988123515\n"
          ]
        }
      ]
    },
    {
      "cell_type": "code",
      "source": [
        "sd = pd.Series(model.feature_importances_)\n",
        "sd.index = x_train.columns"
      ],
      "metadata": {
        "id": "bsVNOzE1lOtB"
      },
      "execution_count": null,
      "outputs": []
    },
    {
      "cell_type": "code",
      "source": [
        "top20 = sd.sort_values(ascending=False)[:20]"
      ],
      "metadata": {
        "id": "XAB-rCX8lmf5"
      },
      "execution_count": null,
      "outputs": []
    },
    {
      "cell_type": "code",
      "source": [
        "import seaborn as sns\n",
        "import matplotlib.pyplot as plt"
      ],
      "metadata": {
        "id": "lVDPayVEmIl2"
      },
      "execution_count": null,
      "outputs": []
    },
    {
      "cell_type": "code",
      "source": [
        "sns.barplot(x=top20,y=top20.index)\n",
        "plt.show()"
      ],
      "metadata": {
        "colab": {
          "base_uri": "https://localhost:8080/",
          "height": 359
        },
        "id": "YiT-f_88lnIr",
        "outputId": "37082a82-bdee-4ebf-aafd-05190c9d345b"
      },
      "execution_count": null,
      "outputs": [
        {
          "output_type": "display_data",
          "data": {
            "text/plain": [
              "<Figure size 640x480 with 1 Axes>"
            ],
            "image/png": "[encoded data removed]"
          },
          "metadata": {}
        }
      ]
    },
    {
      "cell_type": "markdown",
      "source": [
        "## GBM"
      ],
      "metadata": {
        "id": "oLL0-0gVGS9T"
      }
    },
    {
      "cell_type": "code",
      "source": [
        "import pandas as pd"
      ],
      "metadata": {
        "id": "7EAw8hNFHGGc"
      },
      "execution_count": 3,
      "outputs": []
    },
    {
      "cell_type": "code",
      "source": [
        "dir_path = '/content/drive/MyDrive/UHD/'"
      ],
      "metadata": {
        "id": "Hben-q-EmF1Q"
      },
      "execution_count": 4,
      "outputs": []
    },
    {
      "cell_type": "code",
      "source": [
        "df = pd.read_csv(dir_path+'features.txt',sep='\\s+',\n",
        "                        header=None,names=['column_index','column_name'])\n",
        "feature_dup_df = pd.DataFrame(data=df.groupby('column_name').cumcount(),\n",
        "                                  columns=['dup_cnt'])\n",
        "feature_dup_df = feature_dup_df.reset_index()\n",
        "ndf = pd.merge(df.reset_index(), feature_dup_df, how='outer')\n",
        "ndf['column_name'] = ndf[['column_name', 'dup_cnt']].apply(lambda x : x[0]+'_'+str(x[1])\n",
        "                                                                if x[1] >0 else x[0] ,  axis=1)\n",
        "ndf = ndf.drop(['index'], axis=1)\n",
        "feature_name = ndf.iloc[:, 1].values.tolist()\n",
        "x_train = pd.read_csv(dir_path+'train/X_train.txt',sep='\\s+', names=feature_name )\n",
        "x_test = pd.read_csv(dir_path+'test/X_test.txt',sep='\\s+', names=feature_name)\n",
        "y_train = pd.read_csv(dir_path+'train/y_train.txt',sep='\\s+',header=None,names=['action'])\n",
        "y_test = pd.read_csv(dir_path+'test/y_test.txt',sep='\\s+',header=None,names=['action'])\n"
      ],
      "metadata": {
        "id": "kkeTVEIzGVHD"
      },
      "execution_count": 102,
      "outputs": []
    },
    {
      "cell_type": "code",
      "source": [
        "from sklearn.ensemble import GradientBoostingClassifier\n",
        "import time"
      ],
      "metadata": {
        "id": "XQCE77svHDhL"
      },
      "execution_count": 7,
      "outputs": []
    },
    {
      "cell_type": "code",
      "source": [
        "gbs = GradientBoostingClassifier()\n",
        "st = time.time()\n",
        "gbs.fit(x_train,y_train)\n",
        "et = time.time()\n",
        "print(\"소요 시간:\",et-st)"
      ],
      "metadata": {
        "colab": {
          "base_uri": "https://localhost:8080/"
        },
        "id": "POlbuwIhK0DX",
        "outputId": "13dbca42-101c-45be-c51a-5f6612a655b7"
      },
      "execution_count": 8,
      "outputs": [
        {
          "output_type": "stream",
          "name": "stderr",
          "text": [
            "/usr/local/lib/python3.10/dist-packages/sklearn/ensemble/_gb.py:437: DataConversionWarning: A column-vector y was passed when a 1d array was expected. Please change the shape of y to (n_samples, ), for example using ravel().\n",
            "  y = column_or_1d(y, warn=True)\n"
          ]
        },
        {
          "output_type": "stream",
          "name": "stdout",
          "text": [
            "소요 시간: 981.0391969680786\n"
          ]
        }
      ]
    },
    {
      "cell_type": "code",
      "source": [
        "ytrm1 = y_train-1\n",
        "ytem1 = y_test-1"
      ],
      "metadata": {
        "id": "HFSsRBkU5hVH"
      },
      "execution_count": 122,
      "outputs": []
    },
    {
      "cell_type": "code",
      "source": [
        "model = XGBClassifier(n_estimators=400,\n",
        "                      learning_rate = 0.1,\n",
        "                      max_depth=3) #모델 생성\n",
        "model.fit(x_train.values,ytrm1)\n",
        "pred = model.predict(x_test)\n",
        "pred_proba = model.predict_proba(x_test)[:,1]"
      ],
      "metadata": {
        "id": "k1B39ixl5QvJ"
      },
      "execution_count": 123,
      "outputs": []
    },
    {
      "cell_type": "code",
      "source": [
        "print(accuracy_score(ytem1,pred))"
      ],
      "metadata": {
        "colab": {
          "base_uri": "https://localhost:8080/"
        },
        "id": "JivVcJ6kKF_s",
        "outputId": "ec56ce9c-bc58-4d25-b31d-08ef0de00713"
      },
      "execution_count": 124,
      "outputs": [
        {
          "output_type": "stream",
          "name": "stdout",
          "text": [
            "0.9494401085850017\n"
          ]
        }
      ]
    },
    {
      "cell_type": "code",
      "source": [
        "print(\"acc:\",accuracy_score(pred,y_test))"
      ],
      "metadata": {
        "id": "wwzLhbsG6A-7"
      },
      "execution_count": null,
      "outputs": []
    },
    {
      "cell_type": "code",
      "source": [
        "x_tr,x_val,y_tr,y_val = train_test_split(x_train,y_train)"
      ],
      "metadata": {
        "id": "XzfNt5fauIUg"
      },
      "execution_count": 70,
      "outputs": []
    },
    {
      "cell_type": "code",
      "source": [
        "y_train.value_counts()"
      ],
      "metadata": {
        "colab": {
          "base_uri": "https://localhost:8080/"
        },
        "id": "3oJEYxT5ul-B",
        "outputId": "c91e79a7-e9ba-41c7-c045-5b8862333b48"
      },
      "execution_count": 83,
      "outputs": [
        {
          "output_type": "execute_result",
          "data": {
            "text/plain": [
              "action\n",
              "6         1407\n",
              "5         1374\n",
              "4         1286\n",
              "1         1226\n",
              "2         1073\n",
              "3          986\n",
              "dtype: int64"
            ]
          },
          "metadata": {},
          "execution_count": 83
        }
      ]
    },
    {
      "cell_type": "code",
      "source": [
        "lgbm = LGBMClassifier(n_estimators=400,\n",
        "                      learning_rate = 0.05)\n",
        "lgbm.fit(x_train.values,y_train)\n",
        "pred = lgbm.predict(x_test.values)\n",
        "pred_proba = lgbm.predict_proba(x_test.values)[:,1]"
      ],
      "metadata": {
        "colab": {
          "base_uri": "https://localhost:8080/"
        },
        "id": "Oaq2RNeluDgR",
        "outputId": "cfcdd8bc-3e95-4e47-c61c-58d2c65b7f4b"
      },
      "execution_count": 104,
      "outputs": [
        {
          "output_type": "stream",
          "name": "stderr",
          "text": [
            "/usr/local/lib/python3.10/dist-packages/sklearn/preprocessing/_label.py:99: DataConversionWarning: A column-vector y was passed when a 1d array was expected. Please change the shape of y to (n_samples, ), for example using ravel().\n",
            "  y = column_or_1d(y, warn=True)\n",
            "/usr/local/lib/python3.10/dist-packages/sklearn/preprocessing/_label.py:134: DataConversionWarning: A column-vector y was passed when a 1d array was expected. Please change the shape of y to (n_samples, ), for example using ravel().\n",
            "  y = column_or_1d(y, dtype=self.classes_.dtype, warn=True)\n"
          ]
        }
      ]
    },
    {
      "cell_type": "code",
      "source": [
        "print(\"acc:\",accuracy_score(pred,y_test))"
      ],
      "metadata": {
        "colab": {
          "base_uri": "https://localhost:8080/"
        },
        "id": "xuDl3VE9wOM5",
        "outputId": "a7e7104b-6e66-459e-817d-e19b0f35454e"
      },
      "execution_count": 88,
      "outputs": [
        {
          "output_type": "stream",
          "name": "stdout",
          "text": [
            "acc: 0.9389209365456397\n"
          ]
        }
      ]
    },
    {
      "cell_type": "code",
      "source": [
        "from sklearn.metrics import accuracy_score"
      ],
      "metadata": {
        "id": "hqDtwi2IUj6B"
      },
      "execution_count": 10,
      "outputs": []
    },
    {
      "cell_type": "code",
      "source": [
        "pred = gbs.predict(x_test)\n",
        "print(\"acc:\",accuracy_score(pred,y_test))"
      ],
      "metadata": {
        "colab": {
          "base_uri": "https://localhost:8080/"
        },
        "id": "Tn0VNC0tLRhy",
        "outputId": "728cdf1f-3d19-4ec7-fe3f-a1d86c290e5e"
      },
      "execution_count": 11,
      "outputs": [
        {
          "output_type": "stream",
          "name": "stdout",
          "text": [
            "acc: 0.9389209365456397\n"
          ]
        }
      ]
    },
    {
      "cell_type": "code",
      "source": [
        "import xgboost as xgb\n",
        "from xgboost import XGBClassifier\n",
        "from sklearn.datasets import load_breast_cancer\n",
        "from sklearn.model_selection import train_test_split"
      ],
      "metadata": {
        "id": "4LMO5ombUoqo"
      },
      "execution_count": 15,
      "outputs": []
    },
    {
      "cell_type": "code",
      "source": [
        "cancer = load_breast_cancer()\n",
        "data = cancer.data\n",
        "label = cancer.target"
      ],
      "metadata": {
        "id": "X6iSu8Q_XZYx"
      },
      "execution_count": 17,
      "outputs": []
    },
    {
      "cell_type": "code",
      "source": [
        "df = pd.DataFrame(data,\n",
        "                  columns=cancer.feature_names)\n",
        "df['target'] = label\n",
        "df.head(3)"
      ],
      "metadata": {
        "id": "FxOr-0INYmjR"
      },
      "execution_count": null,
      "outputs": []
    },
    {
      "cell_type": "code",
      "source": [
        "df['target'].value_counts()"
      ],
      "metadata": {
        "colab": {
          "base_uri": "https://localhost:8080/"
        },
        "id": "VdGBXYpQY1Bn",
        "outputId": "961fdb0f-4be4-4a52-f89b-48e9ee9b3a01"
      },
      "execution_count": 19,
      "outputs": [
        {
          "output_type": "execute_result",
          "data": {
            "text/plain": [
              "1    357\n",
              "0    212\n",
              "Name: target, dtype: int64"
            ]
          },
          "metadata": {},
          "execution_count": 19
        }
      ]
    },
    {
      "cell_type": "code",
      "source": [
        "x_train,x_test,y_train,y_test = train_test_split(data,label)"
      ],
      "metadata": {
        "id": "TC-nDiq1ZKzw"
      },
      "execution_count": 20,
      "outputs": []
    },
    {
      "cell_type": "code",
      "source": [
        "x_tr,x_val,y_tr,y_val = train_test_split(x_train,y_train)"
      ],
      "metadata": {
        "id": "SaptW3m_Z1iU"
      },
      "execution_count": 21,
      "outputs": []
    },
    {
      "cell_type": "code",
      "source": [
        "y_tr.shape, y_val.shape, y_test.shape"
      ],
      "metadata": {
        "colab": {
          "base_uri": "https://localhost:8080/"
        },
        "id": "1W1uNGaPZ-db",
        "outputId": "1104a93c-1ecf-4446-86ad-0c5559dd4b17"
      },
      "execution_count": 22,
      "outputs": [
        {
          "output_type": "execute_result",
          "data": {
            "text/plain": [
              "((319,), (107,), (143,))"
            ]
          },
          "metadata": {},
          "execution_count": 22
        }
      ]
    },
    {
      "cell_type": "code",
      "source": [
        "dtr = xgb.DMatrix(data=x_tr,label=y_tr)\n",
        "dval = xgb.DMatrix(data=x_val,label=y_val)\n",
        "dtest = xgb.DMatrix(data=x_test,label=y_test)"
      ],
      "metadata": {
        "id": "5jZV-GzBaiJx"
      },
      "execution_count": 24,
      "outputs": []
    },
    {
      "cell_type": "code",
      "source": [
        "params = {\n",
        "    'max_depth':3,\n",
        "    'eta':0.05,\n",
        "    'objective':'binary:logistic',\n",
        "    'eval_metric':'logloss'\n",
        "}\n",
        "num_rounds = 400"
      ],
      "metadata": {
        "id": "QnPuXj5LbJ5n"
      },
      "execution_count": 25,
      "outputs": []
    },
    {
      "cell_type": "code",
      "source": [
        "eval_list =[(dtr,'train'),(dval,'eval')]\n",
        "xgb_model = xgb.train(params=params ,\n",
        "                      dtrain = dtr,\n",
        "                      num_boost_round = num_rounds,\n",
        "                      early_stopping_rounds=50,\n",
        "                      evals = eval_list)"
      ],
      "metadata": {
        "id": "A2TUN0onc0bh"
      },
      "execution_count": null,
      "outputs": []
    },
    {
      "cell_type": "code",
      "source": [
        "pred_proba = xgb_model.predict(dtest)\n",
        "pred = [1 if re>0.5 else 0 for re in pred_proba]\n",
        "print(pred)"
      ],
      "metadata": {
        "colab": {
          "base_uri": "https://localhost:8080/"
        },
        "id": "pqdZRl3QgC0k",
        "outputId": "380f47c0-76f9-4956-f359-13fbb31b3021"
      },
      "execution_count": 42,
      "outputs": [
        {
          "output_type": "stream",
          "name": "stdout",
          "text": [
            "[0, 1, 1, 1, 0, 1, 0, 1, 0, 1, 1, 0, 1, 0, 1, 1, 1, 1, 1, 1, 0, 1, 1, 1, 1, 1, 1, 0, 1, 1, 1, 1, 0, 0, 1, 0, 1, 1, 1, 1, 0, 1, 0, 1, 1, 1, 0, 1, 1, 0, 1, 1, 1, 1, 0, 1, 0, 0, 1, 1, 0, 1, 0, 0, 0, 1, 1, 0, 1, 1, 1, 0, 1, 1, 0, 0, 1, 0, 0, 1, 0, 0, 1, 1, 1, 0, 1, 0, 1, 1, 1, 1, 0, 0, 1, 0, 0, 1, 0, 1, 1, 1, 1, 0, 0, 1, 1, 1, 0, 0, 0, 1, 1, 1, 1, 0, 0, 1, 1, 0, 0, 1, 1, 1, 0, 1, 0, 1, 1, 1, 1, 1, 1, 0, 0, 1, 1, 1, 1, 1, 1, 1, 1]\n"
          ]
        }
      ]
    },
    {
      "cell_type": "code",
      "source": [
        "from sklearn.metrics import confusion_matrix, accuracy_score\n",
        "from sklearn.metrics import precision_score, recall_score\n",
        "from sklearn.metrics import f1_score, roc_auc_score\n",
        "\n",
        "def get_clf_eval(y_test, pred=None, pred_proba=None):\n",
        "    confusion = confusion_matrix( y_test, pred)\n",
        "    accuracy = accuracy_score(y_test , pred)\n",
        "    precision = precision_score(y_test , pred)\n",
        "    recall = recall_score(y_test , pred)\n",
        "    f1 = f1_score(y_test,pred)\n",
        "    roc_auc = roc_auc_score(y_test, pred_proba)\n",
        "    print('오차 행렬')\n",
        "    print(confusion)\n",
        "    print('정확도: {0:.4f}, 정밀도: {1:.4f}, 재현율: {2:.4f},\\\n",
        "    F1: {3:.4f}, AUC:{4:.4f}'.format(accuracy, precision, recall, f1, roc_auc))\n"
      ],
      "metadata": {
        "id": "bxBdix0XiTY5"
      },
      "execution_count": 40,
      "outputs": []
    },
    {
      "cell_type": "code",
      "source": [
        "get_clf_eval(y_test,pred,pred_proba)"
      ],
      "metadata": {
        "colab": {
          "base_uri": "https://localhost:8080/"
        },
        "id": "-A7NQCYwjbFy",
        "outputId": "7644e0be-7620-4b32-fbb6-0fd0cac245d8"
      },
      "execution_count": 44,
      "outputs": [
        {
          "output_type": "stream",
          "name": "stdout",
          "text": [
            "오차 행렬\n",
            "[[47  5]\n",
            " [ 3 88]]\n",
            "정확도: 0.9441, 정밀도: 0.9462, 재현율: 0.9670,    F1: 0.9565, AUC:0.9867\n"
          ]
        }
      ]
    },
    {
      "cell_type": "code",
      "source": [
        "from sklearn.linear_model import LogisticRegression\n",
        "from sklearn.neighbors import KNeighborsClassifier"
      ],
      "metadata": {
        "id": "S4n9Y2p5j4dF"
      },
      "execution_count": 45,
      "outputs": []
    },
    {
      "cell_type": "code",
      "source": [
        "lr = LogisticRegression()\n",
        "knn = KNeighborsClassifier()\n",
        "models = [lr,knn]\n",
        "for model in models:\n",
        "  model.fit(x_train,y_train)\n",
        "  pred = model.predict(x_test)\n",
        "  pred_proba = model.predict_proba(x_test)[:,1]\n",
        "  print(model.__class__.__name__)\n",
        "  get_clf_eval(y_test,pred,pred_proba)"
      ],
      "metadata": {
        "colab": {
          "base_uri": "https://localhost:8080/"
        },
        "id": "NbBXnX5Bk4DO",
        "outputId": "e8b6dd2c-0c60-459f-c404-0d498df99eb7"
      },
      "execution_count": 47,
      "outputs": [
        {
          "output_type": "stream",
          "name": "stderr",
          "text": [
            "/usr/local/lib/python3.10/dist-packages/sklearn/linear_model/_logistic.py:458: ConvergenceWarning: lbfgs failed to converge (status=1):\n",
            "STOP: TOTAL NO. of ITERATIONS REACHED LIMIT.\n",
            "\n",
            "Increase the number of iterations (max_iter) or scale the data as shown in:\n",
            "    https://scikit-learn.org/stable/modules/preprocessing.html\n",
            "Please also refer to the documentation for alternative solver options:\n",
            "    https://scikit-learn.org/stable/modules/linear_model.html#logistic-regression\n",
            "  n_iter_i = _check_optimize_result(\n"
          ]
        },
        {
          "output_type": "stream",
          "name": "stdout",
          "text": [
            "LogisticRegression\n",
            "오차 행렬\n",
            "[[48  4]\n",
            " [ 3 88]]\n",
            "정확도: 0.9510, 정밀도: 0.9565, 재현율: 0.9670,    F1: 0.9617, AUC:0.9945\n",
            "KNeighborsClassifier\n",
            "오차 행렬\n",
            "[[47  5]\n",
            " [ 3 88]]\n",
            "정확도: 0.9441, 정밀도: 0.9462, 재현율: 0.9670,    F1: 0.9565, AUC:0.9672\n"
          ]
        }
      ]
    },
    {
      "cell_type": "code",
      "source": [
        "from sklearn.preprocessing import StandardScaler"
      ],
      "metadata": {
        "id": "XgJU7CwllTF1"
      },
      "execution_count": 48,
      "outputs": []
    },
    {
      "cell_type": "code",
      "source": [
        "ss = StandardScaler()\n",
        "ss.fit(data)\n",
        "scaled_data = ss.transform(data)\n",
        "x_train,x_test,y_train,y_test = train_test_split(scaled_data,label)"
      ],
      "metadata": {
        "id": "hqfErW6Kl0ig"
      },
      "execution_count": 55,
      "outputs": []
    },
    {
      "cell_type": "code",
      "source": [
        "lr = LogisticRegression()\n",
        "knn = KNeighborsClassifier()\n",
        "models = [lr,knn]\n",
        "for model in models:\n",
        "  model.fit(x_train,y_train)\n",
        "  pred = model.predict(x_test)\n",
        "  pred_proba = model.predict_proba(x_test)[:,1]\n",
        "  print(model.__class__.__name__)\n",
        "  get_clf_eval(y_test,pred,pred_proba)"
      ],
      "metadata": {
        "colab": {
          "base_uri": "https://localhost:8080/"
        },
        "id": "igBXHTwtl9X2",
        "outputId": "61c60474-f5db-4ed5-a63d-2b2d76138d61"
      },
      "execution_count": 56,
      "outputs": [
        {
          "output_type": "stream",
          "name": "stdout",
          "text": [
            "LogisticRegression\n",
            "오차 행렬\n",
            "[[51  0]\n",
            " [ 1 91]]\n",
            "정확도: 0.9930, 정밀도: 1.0000, 재현율: 0.9891,    F1: 0.9945, AUC:0.9991\n",
            "KNeighborsClassifier\n",
            "오차 행렬\n",
            "[[47  4]\n",
            " [ 0 92]]\n",
            "정확도: 0.9720, 정밀도: 0.9583, 재현율: 1.0000,    F1: 0.9787, AUC:0.9883\n"
          ]
        }
      ]
    },
    {
      "cell_type": "code",
      "source": [
        "xgb_model.get_fscore()"
      ],
      "metadata": {
        "id": "p1maQ0V-mSyX"
      },
      "execution_count": null,
      "outputs": []
    },
    {
      "cell_type": "code",
      "source": [
        "from xgboost import XGBClassifier"
      ],
      "metadata": {
        "id": "iTQKXyOZnUDX"
      },
      "execution_count": 60,
      "outputs": []
    },
    {
      "cell_type": "code",
      "source": [
        "model = XGBClassifier(n_estimators=400,\n",
        "                      learning_rate = 0.1,\n",
        "                      max_depth=3) #모델 생성\n",
        "model.fit(x_train,y_train)\n",
        "pred = model.predict(x_test)\n",
        "pred_proba = model.predict_proba(x_test)[:,1]\n",
        "get_clf_eval(y_test,pred,pred_proba)"
      ],
      "metadata": {
        "colab": {
          "base_uri": "https://localhost:8080/"
        },
        "id": "S2yW3MIUoBM2",
        "outputId": "1af4f32b-28db-4838-8d5c-c1d0dba335cb"
      },
      "execution_count": 63,
      "outputs": [
        {
          "output_type": "stream",
          "name": "stdout",
          "text": [
            "오차 행렬\n",
            "[[49  2]\n",
            " [ 0 92]]\n",
            "정확도: 0.9860, 정밀도: 0.9787, 재현율: 1.0000,    F1: 0.9892, AUC:0.9972\n"
          ]
        }
      ]
    },
    {
      "cell_type": "code",
      "source": [
        "from lightgbm import LGBMClassifier"
      ],
      "metadata": {
        "id": "9B12aqmIpJxN"
      },
      "execution_count": 64,
      "outputs": []
    },
    {
      "cell_type": "code",
      "source": [
        "x_tr,x_val,y_tr,y_val = train_test_split(x_train,y_train)"
      ],
      "metadata": {
        "id": "Ad-6TkrSryz8"
      },
      "execution_count": 65,
      "outputs": []
    },
    {
      "cell_type": "code",
      "source": [
        "lgbm = LGBMClassifier(n_estimators=400,\n",
        "                      learning_rate = 0.05)\n",
        "evals = [ (x_tr,y_tr),(x_val,y_val)]\n",
        "lgbm.fit(x_tr,y_tr,\n",
        "         early_stopping_rounds=50,\n",
        "         eval_metric='logloss',\n",
        "         eval_set=evals)\n",
        "pred = lgbm.predict(x_test)\n",
        "pred_proba = lgbm.predict_proba(x_test)[:,1]"
      ],
      "metadata": {
        "id": "L-3VkyKlrXOB"
      },
      "execution_count": null,
      "outputs": []
    },
    {
      "cell_type": "code",
      "source": [
        "get_clf_eval(y_test,pred,pred_proba)"
      ],
      "metadata": {
        "colab": {
          "base_uri": "https://localhost:8080/"
        },
        "id": "faavwPBXsYf9",
        "outputId": "f4e3b3a1-b7f7-4f4b-91e4-af9010a763f8"
      },
      "execution_count": 67,
      "outputs": [
        {
          "output_type": "stream",
          "name": "stdout",
          "text": [
            "오차 행렬\n",
            "[[49  2]\n",
            " [ 2 90]]\n",
            "정확도: 0.9720, 정밀도: 0.9783, 재현율: 0.9783,    F1: 0.9783, AUC:0.9942\n"
          ]
        }
      ]
    },
    {
      "cell_type": "markdown",
      "source": [
        "##베이지안 최적화"
      ],
      "metadata": {
        "id": "gVKiNxavz9LD"
      }
    },
    {
      "cell_type": "code",
      "source": [
        "from hyperopt import hp\n",
        "from hyperopt import fmin,tpe,Trials"
      ],
      "metadata": {
        "id": "vyqAy6S0sc4F"
      },
      "execution_count": 90,
      "outputs": []
    },
    {
      "cell_type": "code",
      "source": [
        "search_space = {'x':hp.quniform('x',-10,10,1),\n",
        "                'y':hp.quniform('y',-15,15,1)}\n",
        "def object_func(search_space):\n",
        "  x = search_space['x']\n",
        "  y = search_space['y']\n",
        "  retval = x**2 - 20*y\n",
        "  return retval"
      ],
      "metadata": {
        "id": "sOSnYuRa0BOd"
      },
      "execution_count": 92,
      "outputs": []
    },
    {
      "cell_type": "code",
      "source": [
        "trial_val = Trials()\n",
        "best_01 = fmin(fn=object_func,\n",
        "               space=search_space,\n",
        "               algo = tpe.suggest,\n",
        "               max_evals=500,\n",
        "               trials=trial_val)\n",
        "print('best:',best_01)"
      ],
      "metadata": {
        "colab": {
          "base_uri": "https://localhost:8080/"
        },
        "id": "QH8YQggN0apo",
        "outputId": "2481ba38-df34-4455-9430-bf7e0c6cf12c"
      },
      "execution_count": 95,
      "outputs": [
        {
          "output_type": "stream",
          "name": "stdout",
          "text": [
            "100%|██████████| 500/500 [00:18<00:00, 26.50trial/s, best loss: -300.0]\n",
            "best: {'x': -0.0, 'y': 15.0}\n"
          ]
        }
      ]
    },
    {
      "cell_type": "code",
      "source": [
        "trial_val.results"
      ],
      "metadata": {
        "id": "kTlX217s1GJY"
      },
      "execution_count": null,
      "outputs": []
    },
    {
      "cell_type": "code",
      "source": [
        "print(trial_val.vals)"
      ],
      "metadata": {
        "colab": {
          "base_uri": "https://localhost:8080/"
        },
        "id": "Femjp0RT3o4C",
        "outputId": "98483cae-290d-4f4b-a22e-0575b00e24c4"
      },
      "execution_count": 100,
      "outputs": [
        {
          "output_type": "stream",
          "name": "stdout",
          "text": [
            "{'x': [-8.0, -9.0, -3.0, 5.0, -8.0, 8.0, -6.0, -3.0, 1.0, -7.0, -9.0, -9.0, 6.0, 5.0, 1.0, 9.0, 2.0, -9.0, 2.0, 6.0, 9.0, 4.0, 4.0, -2.0, 7.0, 4.0, 3.0, -1.0, 10.0, -5.0, -0.0, 4.0, 7.0, 3.0, -3.0, -1.0, 5.0, 8.0, -4.0, 1.0, 3.0, 0.0, 6.0, 2.0, -1.0, 10.0, 3.0, 7.0, -7.0, 1.0, 6.0, -2.0, -5.0, -2.0, -7.0, -3.0, -5.0, -8.0, -10.0, -2.0, -4.0, -6.0, 1.0, 2.0, 0.0, 5.0, 8.0, 4.0, 3.0, 3.0, -2.0, -1.0, 2.0, 2.0, 1.0, -4.0, -0.0, 2.0, -1.0, 5.0, -3.0, 9.0, 4.0, 6.0, -6.0, -0.0, 5.0, -2.0, -1.0, 1.0, 4.0, 8.0, 7.0, 3.0, -4.0, 3.0, 2.0, -3.0, -10.0, -5.0, -0.0, -2.0, 1.0, 7.0, 9.0, -8.0, 6.0, 4.0, -1.0, 1.0, 10.0, 2.0, -4.0, -3.0, -6.0, 3.0, 0.0, 5.0, -1.0, -7.0, 2.0, -9.0, 2.0, -5.0, 1.0, 5.0, -3.0, -2.0, 4.0, -2.0, 8.0, -7.0, 0.0, 2.0, -1.0, 3.0, -4.0, 7.0, 1.0, 6.0, -0.0, -3.0, -1.0, 1.0, -5.0, 2.0, 2.0, 3.0, 4.0, 5.0, -0.0, 2.0, 3.0, 1.0, -2.0, 4.0, 2.0, -0.0, 1.0, -1.0, 2.0, 6.0, 5.0, 4.0, -2.0, 3.0, 2.0, -1.0, -6.0, -4.0, 7.0, -0.0, -3.0, 1.0, 6.0, 3.0, 4.0, -1.0, 1.0, 8.0, 2.0, 5.0, -1.0, 4.0, -3.0, -2.0, 3.0, 9.0, 0.0, 5.0, -4.0, 2.0, -0.0, 6.0, 3.0, 4.0, -8.0, 1.0, 3.0, -1.0, 8.0, -5.0, 5.0, -2.0, 2.0, -6.0, 0.0, -3.0, 1.0, -2.0, 2.0, 1.0, -0.0, -4.0, -1.0, -0.0, 7.0, 3.0, 4.0, 5.0, -2.0, 1.0, 6.0, -3.0, -4.0, -5.0, -9.0, 2.0, -0.0, 4.0, 2.0, -1.0, 1.0, 3.0, 7.0, -3.0, 5.0, -2.0, 4.0, 2.0, 3.0, 1.0, 0.0, -8.0, -5.0, 10.0, -1.0, -7.0, 0.0, -0.0, -1.0, 1.0, -2.0, -6.0, 0.0, 9.0, -1.0, -4.0, 3.0, -2.0, -3.0, -0.0, 2.0, 1.0, 1.0, 1.0, 0.0, -1.0, -1.0, -0.0, -3.0, -1.0, -2.0, -1.0, -2.0, -3.0, 1.0, -0.0, -2.0, 0.0, 0.0, -1.0, -3.0, 1.0, -0.0, -4.0, 2.0, 1.0, 3.0, 0.0, -2.0, 1.0, 2.0, -1.0, 0.0, -2.0, 2.0, 1.0, -4.0, -1.0, -3.0, -1.0, -5.0, -2.0, 0.0, 3.0, -4.0, 1.0, 3.0, -1.0, -3.0, 2.0, 4.0, -5.0, -1.0, -3.0, 0.0, -2.0, 1.0, -4.0, 1.0, -3.0, 2.0, -0.0, 0.0, -2.0, -1.0, 0.0, -6.0, -2.0, -0.0, 3.0, -1.0, 2.0, 4.0, -10.0, -2.0, 0.0, 1.0, -1.0, 0.0, -3.0, 2.0, 3.0, -2.0, -3.0, -4.0, 1.0, -1.0, 2.0, -5.0, -2.0, 0.0, -1.0, 1.0, 5.0, -7.0, 3.0, 0.0, -1.0, -3.0, 4.0, 2.0, 1.0, -4.0, -2.0, 0.0, 2.0, 3.0, 1.0, -2.0, 4.0, -1.0, -0.0, -1.0, 2.0, -4.0, 1.0, -3.0, 3.0, -6.0, 5.0, 1.0, -0.0, -2.0, -3.0, -1.0, 4.0, 0.0, 2.0, -5.0, 2.0, -1.0, 6.0, 1.0, -4.0, -2.0, 3.0, -0.0, 1.0, 4.0, 0.0, 0.0, -0.0, -1.0, 1.0, -1.0, -0.0, -2.0, 2.0, 1.0, -1.0, -2.0, 1.0, 0.0, -1.0, 1.0, -3.0, -0.0, 2.0, -2.0, 0.0, 2.0, 3.0, -1.0, -1.0, 0.0, 1.0, -2.0, -3.0, -0.0, -1.0, 3.0, 2.0, 1.0, -2.0, 1.0, -0.0, -1.0, 2.0, 3.0, -3.0, -2.0, 1.0, 0.0, -1.0, -1.0, 0.0, 2.0, 1.0, -2.0, -2.0, 3.0, -4.0, -3.0, 0.0, 2.0, 1.0, -1.0, -3.0, 4.0, 1.0, -1.0, 0.0, 2.0, -2.0, 3.0, 0.0, -1.0, 1.0, -4.0, 2.0, 0.0, -3.0, 3.0, 1.0, -2.0, -1.0, 0.0, 2.0, -5.0, -3.0, -2.0, -0.0, 1.0, -1.0, 2.0, -1.0, 4.0, 5.0, 1.0, -0.0, 3.0, 0.0, -4.0, -1.0, 1.0, -2.0, -2.0, 3.0], 'y': [-10.0, 0.0, -8.0, 15.0, -6.0, 15.0, 6.0, 8.0, 2.0, -12.0, -4.0, -1.0, 9.0, 4.0, -11.0, -3.0, 3.0, -14.0, -10.0, 3.0, 15.0, 15.0, 11.0, 12.0, 13.0, 15.0, 9.0, 6.0, 13.0, 10.0, 7.0, 13.0, -0.0, 14.0, 11.0, -7.0, 6.0, -15.0, -2.0, -5.0, 15.0, 5.0, 1.0, 8.0, 11.0, 14.0, 9.0, -8.0, 2.0, -13.0, 8.0, 15.0, 5.0, -10.0, 12.0, -1.0, 10.0, 4.0, 14.0, -4.0, 7.0, 12.0, 2.0, 10.0, 14.0, 15.0, 13.0, 12.0, 15.0, 11.0, 9.0, 7.0, 15.0, 13.0, 14.0, 8.0, 10.0, 4.0, 12.0, 11.0, 6.0, -9.0, 15.0, 1.0, 13.0, 14.0, -6.0, 9.0, 5.0, -2.0, 10.0, 15.0, 3.0, -12.0, -15.0, 8.0, 7.0, 11.0, 13.0, 12.0, 9.0, 14.0, 0.0, 15.0, 4.0, 11.0, 10.0, 6.0, -4.0, -3.0, 13.0, 8.0, 14.0, 12.0, 1.0, -1.0, 5.0, 7.0, -7.0, 3.0, 15.0, 9.0, -14.0, 11.0, 14.0, 13.0, 6.0, -11.0, 2.0, 12.0, 15.0, 10.0, -5.0, 15.0, 12.0, 7.0, 14.0, 10.0, 13.0, 9.0, 8.0, -9.0, 11.0, -0.0, -2.0, 15.0, 14.0, 13.0, 15.0, 11.0, 12.0, 14.0, 15.0, 13.0, 12.0, 10.0, 15.0, 11.0, 14.0, 9.0, 13.0, 10.0, 8.0, 14.0, 6.0, 15.0, 3.0, 12.0, 9.0, 13.0, 11.0, 5.0, 15.0, 12.0, 8.0, 7.0, 14.0, 13.0, -3.0, 10.0, 15.0, -7.0, 11.0, 14.0, -12.0, -6.0, -1.0, 12.0, 9.0, 4.0, 13.0, 7.0, 14.0, 11.0, 10.0, 6.0, 15.0, 1.0, 5.0, -13.0, 12.0, -5.0, 8.0, 13.0, 15.0, 14.0, 11.0, -9.0, 9.0, 14.0, 12.0, 10.0, 15.0, 13.0, 13.0, 11.0, -10.0, 15.0, 2.0, -4.0, 7.0, 4.0, 15.0, 10.0, 12.0, 9.0, 8.0, -8.0, -11.0, 6.0, 14.0, 11.0, 13.0, 12.0, 15.0, 4.0, 14.0, 8.0, -14.0, 12.0, -1.0, 10.0, 15.0, 3.0, 9.0, -6.0, 13.0, 14.0, 1.0, 10.0, -2.0, 11.0, 15.0, 7.0, 5.0, 14.0, -3.0, 13.0, 15.0, 13.0, 14.0, 12.0, 14.0, 15.0, 15.0, 12.0, 15.0, 15.0, 13.0, 14.0, 11.0, 13.0, 12.0, 11.0, 9.0, 15.0, 10.0, 14.0, 13.0, 15.0, 11.0, 12.0, 15.0, 14.0, 12.0, 13.0, 10.0, 8.0, 14.0, 9.0, 11.0, 15.0, 13.0, 12.0, 14.0, 13.0, 11.0, -5.0, 10.0, 15.0, 14.0, 0.0, 15.0, -15.0, 8.0, 6.0, 7.0, 12.0, 14.0, 2.0, 9.0, 13.0, 10.0, 15.0, 12.0, 11.0, -13.0, 13.0, 14.0, 13.0, 11.0, 12.0, -8.0, 15.0, 10.0, 9.0, 14.0, 8.0, 15.0, 5.0, 11.0, 12.0, 14.0, 13.0, 15.0, 7.0, 10.0, 3.0, 9.0, 1.0, 14.0, 12.0, -11.0, 13.0, 6.0, -10.0, 15.0, 11.0, 15.0, 14.0, 12.0, 13.0, -7.0, 10.0, 11.0, 8.0, 14.0, 13.0, 15.0, -3.0, 9.0, 14.0, 12.0, -2.0, -4.0, 6.0, 10.0, 13.0, 4.0, 15.0, 11.0, 12.0, 9.0, 5.0, 14.0, 7.0, 15.0, 13.0, 15.0, 14.0, 11.0, 10.0, 8.0, 13.0, 12.0, -9.0, -1.0, 15.0, 14.0, 11.0, 12.0, 15.0, 2.0, -12.0, 6.0, 10.0, 9.0, 14.0, 13.0, 12.0, 8.0, 15.0, 15.0, 14.0, 13.0, 15.0, 15.0, 13.0, 14.0, 14.0, 13.0, 12.0, 12.0, 15.0, 11.0, 14.0, 13.0, 14.0, 15.0, 15.0, 13.0, 12.0, 11.0, 15.0, 14.0, 13.0, 11.0, 10.0, 15.0, 12.0, 14.0, 15.0, 13.0, 14.0, 12.0, 11.0, 9.0, 14.0, 13.0, -6.0, 10.0, 15.0, 15.0, -14.0, 14.0, 12.0, 11.0, 13.0, -8.0, 14.0, 12.0, 15.0, 13.0, 11.0, 10.0, 15.0, -0.0, 14.0, 9.0, 13.0, -5.0, 12.0, 7.0, 15.0, 14.0, 11.0, 8.0, 13.0, 12.0, 10.0, 15.0, 13.0, 15.0, 3.0, 14.0, 10.0, 9.0, 12.0, 14.0, 11.0, 15.0, -4.0, 13.0, -15.0, 14.0, -10.0, -7.0, 12.0, 15.0, -11.0, 13.0, 1.0, 11.0, 15.0, 14.0, 14.0, 12.0, 10.0, 13.0, 9.0]}\n"
          ]
        }
      ]
    },
    {
      "cell_type": "code",
      "source": [
        "dic = trial_val.vals\n",
        "for i, r in enumerate(trial_val.results):\n",
        "  print(dic['x'][i], dic['y'][i],r)"
      ],
      "metadata": {
        "id": "Oy4vgivy4DBE"
      },
      "execution_count": null,
      "outputs": []
    },
    {
      "cell_type": "code",
      "source": [
        "len(dic['x'])"
      ],
      "metadata": {
        "colab": {
          "base_uri": "https://localhost:8080/"
        },
        "id": "nAgB55Go4gzQ",
        "outputId": "5c84ba33-b2b3-4142-d8a5-f6e72f141c6d"
      },
      "execution_count": 125,
      "outputs": [
        {
          "output_type": "execute_result",
          "data": {
            "text/plain": [
              "500"
            ]
          },
          "metadata": {},
          "execution_count": 125
        }
      ]
    },
    {
      "cell_type": "code",
      "source": [
        "cancer = load_breast_cancer()\n",
        "data = cancer.data\n",
        "label = cancer.target\n",
        "ss = StandardScaler()\n",
        "ss.fit(data)\n",
        "scaled_data = ss.transform(data)\n",
        "x_train,x_test,y_train,y_test = train_test_split(scaled_data,label)\n",
        "x_tr,x_val,y_tr,y_val = train_test_split(x_train,y_train)"
      ],
      "metadata": {
        "id": "EDxcJBH0NIAP"
      },
      "execution_count": 127,
      "outputs": []
    },
    {
      "cell_type": "code",
      "source": [
        "xgb_space = {\n",
        "    'max_depth':hp.quniform('max_depth',5,20,1),\n",
        "    'min_child_weight':hp.quniform('min_child_weight',1,2,1),\n",
        "    'learning_rate':hp.uniform('learning_rate',0.01,0.2),\n",
        "    'colsample_bytree':hp.uniform('colsample_bytree',0.5,1)\n",
        "}"
      ],
      "metadata": {
        "id": "5-ZUGdSmNyyv"
      },
      "execution_count": 128,
      "outputs": []
    },
    {
      "cell_type": "code",
      "source": [
        "from sklearn.model_selection import cross_val_score\n",
        "import numpy as np\n",
        "from hyperopt import STATUS_OK"
      ],
      "metadata": {
        "id": "3OAhQLJuQj_m"
      },
      "execution_count": 135,
      "outputs": []
    },
    {
      "cell_type": "code",
      "source": [
        "def objective_func(space):\n",
        "  model = XGBClassifier(n_estimators=100,\n",
        "                        max_depth=int(space['max_depth']),\n",
        "                        min_child_weight = int(space['min_child_weight']),\n",
        "                        learning_rate = space['learning_rate'],\n",
        "                        colsample_bytree = space['colsample_bytree'],\n",
        "                        eval_metric='logloss')\n",
        "  acc = cross_val_score(model,\n",
        "                        x_train,\n",
        "                        y_train,\n",
        "                        scoring='accuracy',\n",
        "                        cv=3)\n",
        "  return {'loss':-1*np.mean(acc),'status':STATUS_OK}"
      ],
      "metadata": {
        "id": "qK76fwxfPFsT"
      },
      "execution_count": 150,
      "outputs": []
    },
    {
      "cell_type": "code",
      "source": [
        "trial_val = Trials()\n",
        "best = fmin(fn=objective_func,\n",
        "            space = xgb_space,\n",
        "            algo = tpe.suggest,\n",
        "            max_evals = 500,\n",
        "            trials = trial_val\n",
        "            )\n",
        "print(best)"
      ],
      "metadata": {
        "colab": {
          "base_uri": "https://localhost:8080/"
        },
        "id": "h91y45lHQidG",
        "outputId": "fc13846c-2bd5-4aad-c332-77bafe9ef85c"
      },
      "execution_count": 152,
      "outputs": [
        {
          "output_type": "stream",
          "name": "stdout",
          "text": [
            "100%|██████████| 500/500 [03:31<00:00,  2.36trial/s, best loss: -0.9624413145539906]\n",
            "{'colsample_bytree': 0.9428926224543377, 'learning_rate': 0.06770424780503782, 'max_depth': 8.0, 'min_child_weight': 1.0}\n"
          ]
        }
      ]
    },
    {
      "cell_type": "code",
      "source": [],
      "metadata": {
        "id": "DTrkdu8URuyQ"
      },
      "execution_count": null,
      "outputs": []
    }
  ]
}