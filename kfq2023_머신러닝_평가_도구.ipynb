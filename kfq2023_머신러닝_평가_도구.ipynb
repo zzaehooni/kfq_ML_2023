{
  "nbformat": 4,
  "nbformat_minor": 0,
  "metadata": {
    "colab": {
      "provenance": [],
      "mount_file_id": "1NDubu_WvkNhNIyprJbBe8deRjxtkcIUh",
      "authorship_tag": "ABX9TyOeGUgM+2PGrid3yemuVkFS",
      "include_colab_link": true
    },
    "kernelspec": {
      "name": "python3",
      "display_name": "Python 3"
    },
    "language_info": {
      "name": "python"
    }
  },
  "cells": [
    {
      "cell_type": "markdown",
      "metadata": {
        "id": "view-in-github",
        "colab_type": "text"
      },
      "source": [
        "<a href=\"https://colab.research.google.com/github/ehpub/kfq_ML_2023/blob/main/kfq2023_%EB%A8%B8%EC%8B%A0%EB%9F%AC%EB%8B%9D_%ED%8F%89%EA%B0%80_%EB%8F%84%EA%B5%AC.ipynb\" target=\"_parent\"><img src=\"https://colab.research.google.com/assets/colab-badge.svg\" alt=\"Open In Colab\"/></a>"
      ]
    },
    {
      "cell_type": "code",
      "execution_count": 1,
      "metadata": {
        "id": "ag9UpbNZaE3I"
      },
      "outputs": [],
      "source": [
        "from sklearn.base import BaseEstimator\n",
        "import numpy as np"
      ]
    },
    {
      "cell_type": "code",
      "source": [
        "class MYDummyClassifier(BaseEstimator):\n",
        "  def fit(self,x,y=None):\n",
        "    pass\n",
        "  def predict(self,x):\n",
        "    pred = np.zeros((x.shape[0],1))\n",
        "    for i in range(x.shape[0]):\n",
        "      if x['Sex'].iloc[i] == 0:\n",
        "        pred[i]=0\n",
        "      else:\n",
        "        pred[i]=1\n",
        "    return pred"
      ],
      "metadata": {
        "id": "pryfj1etcC0n"
      },
      "execution_count": 2,
      "outputs": []
    },
    {
      "cell_type": "code",
      "source": [
        "import pandas as pd"
      ],
      "metadata": {
        "id": "e1PwgDMUe06E"
      },
      "execution_count": 3,
      "outputs": []
    },
    {
      "cell_type": "code",
      "source": [
        "path = '/content/drive/MyDrive/mldata/train_titanic.csv'\n",
        "df = pd.read_csv(path)"
      ],
      "metadata": {
        "id": "PLiYcDDZckxu"
      },
      "execution_count": 4,
      "outputs": []
    },
    {
      "cell_type": "code",
      "source": [
        "label = df['Survived']\n",
        "data = df[['Pclass','Sex','SibSp','Parch','Fare']]"
      ],
      "metadata": {
        "id": "s-U5msnNe5fR"
      },
      "execution_count": 5,
      "outputs": []
    },
    {
      "cell_type": "code",
      "source": [
        "data['Sex'] = pd.get_dummies(data['Sex'])['female'].values"
      ],
      "metadata": {
        "id": "n4KuqdGUfFAN",
        "colab": {
          "base_uri": "https://localhost:8080/"
        },
        "outputId": "9a9eb368-50fc-4047-b781-817a335231f7"
      },
      "execution_count": 6,
      "outputs": [
        {
          "output_type": "stream",
          "name": "stderr",
          "text": [
            "<ipython-input-6-bb01d747e6f8>:1: SettingWithCopyWarning: \n",
            "A value is trying to be set on a copy of a slice from a DataFrame.\n",
            "Try using .loc[row_indexer,col_indexer] = value instead\n",
            "\n",
            "See the caveats in the documentation: https://pandas.pydata.org/pandas-docs/stable/user_guide/indexing.html#returning-a-view-versus-a-copy\n",
            "  data['Sex'] = pd.get_dummies(data['Sex'])['female'].values\n"
          ]
        }
      ]
    },
    {
      "cell_type": "code",
      "source": [
        "from sklearn.model_selection import train_test_split"
      ],
      "metadata": {
        "id": "RvxBO4etfSe7"
      },
      "execution_count": 7,
      "outputs": []
    },
    {
      "cell_type": "code",
      "source": [
        "x_train, x_test, y_train, y_test = train_test_split(data,label)"
      ],
      "metadata": {
        "id": "jE_nW2BigfnG"
      },
      "execution_count": 8,
      "outputs": []
    },
    {
      "cell_type": "code",
      "source": [
        "model = MYDummyClassifier()\n",
        "model.fit(x_train,y_train)"
      ],
      "metadata": {
        "id": "ZGkmJQiRhMUm"
      },
      "execution_count": 9,
      "outputs": []
    },
    {
      "cell_type": "code",
      "source": [
        "pred = model.predict(x_test)"
      ],
      "metadata": {
        "id": "uv6PQW0UhXWI"
      },
      "execution_count": 10,
      "outputs": []
    },
    {
      "cell_type": "code",
      "source": [
        "from sklearn.metrics import accuracy_score"
      ],
      "metadata": {
        "id": "NKH1zSfOhcjv"
      },
      "execution_count": 11,
      "outputs": []
    },
    {
      "cell_type": "code",
      "source": [
        "accuracy_score(y_test,pred)"
      ],
      "metadata": {
        "colab": {
          "base_uri": "https://localhost:8080/"
        },
        "id": "722W6D1lhglK",
        "outputId": "1e8a8500-4343-47b6-8d18-b68eb6c930d8"
      },
      "execution_count": 12,
      "outputs": [
        {
          "output_type": "execute_result",
          "data": {
            "text/plain": [
              "0.7937219730941704"
            ]
          },
          "metadata": {},
          "execution_count": 12
        }
      ]
    },
    {
      "cell_type": "code",
      "source": [
        "from sklearn.datasets import load_digits"
      ],
      "metadata": {
        "id": "aYHFZLcNhi-a"
      },
      "execution_count": 13,
      "outputs": []
    },
    {
      "cell_type": "code",
      "source": [
        "digits = load_digits()"
      ],
      "metadata": {
        "id": "JctOykRki7wF"
      },
      "execution_count": 14,
      "outputs": []
    },
    {
      "cell_type": "code",
      "source": [
        "np.unique(digits.target,return_counts=True)"
      ],
      "metadata": {
        "colab": {
          "base_uri": "https://localhost:8080/"
        },
        "id": "l-gLzRa2jF1g",
        "outputId": "7e5bda0c-17f2-4dd8-dc2d-07ed5f703e37"
      },
      "execution_count": 15,
      "outputs": [
        {
          "output_type": "execute_result",
          "data": {
            "text/plain": [
              "(array([0, 1, 2, 3, 4, 5, 6, 7, 8, 9]),\n",
              " array([178, 182, 177, 183, 181, 182, 181, 179, 174, 180]))"
            ]
          },
          "metadata": {},
          "execution_count": 15
        }
      ]
    },
    {
      "cell_type": "code",
      "source": [
        "data = digits.data\n",
        "label = (digits.target==7).astype(int)"
      ],
      "metadata": {
        "id": "vWLMnmKjjZMe"
      },
      "execution_count": 16,
      "outputs": []
    },
    {
      "cell_type": "code",
      "source": [
        "np.unique(label,return_counts=True)"
      ],
      "metadata": {
        "colab": {
          "base_uri": "https://localhost:8080/"
        },
        "id": "9ykRrTjDjyOI",
        "outputId": "ded43be1-6c8b-4f43-bcca-2a525805f9b1"
      },
      "execution_count": 17,
      "outputs": [
        {
          "output_type": "execute_result",
          "data": {
            "text/plain": [
              "(array([0, 1]), array([1618,  179]))"
            ]
          },
          "metadata": {},
          "execution_count": 17
        }
      ]
    },
    {
      "cell_type": "code",
      "source": [
        "class MySecondClassifier(BaseEstimator):\n",
        "  def fit(self,x,y=None):\n",
        "    pass\n",
        "  def predict(self,x):\n",
        "    return np.zeros((len(x),1),dtype=bool)"
      ],
      "metadata": {
        "id": "z-JvdyZ7kAhC"
      },
      "execution_count": 18,
      "outputs": []
    },
    {
      "cell_type": "code",
      "source": [
        "x_train, x_test, y_train, y_test = train_test_split(data,label)"
      ],
      "metadata": {
        "id": "ZkBf1K66kmWC"
      },
      "execution_count": 19,
      "outputs": []
    },
    {
      "cell_type": "code",
      "source": [
        "model = MySecondClassifier()\n",
        "model.fit(x_train,y_train)\n",
        "pred = model.predict(x_test)\n",
        "accuracy_score(y_test,pred)"
      ],
      "metadata": {
        "colab": {
          "base_uri": "https://localhost:8080/"
        },
        "id": "pVC4OtchkroB",
        "outputId": "ae14bded-751c-4258-e28f-daf1b273a9a3"
      },
      "execution_count": 20,
      "outputs": [
        {
          "output_type": "execute_result",
          "data": {
            "text/plain": [
              "0.9111111111111111"
            ]
          },
          "metadata": {},
          "execution_count": 20
        }
      ]
    },
    {
      "cell_type": "code",
      "source": [
        "d = data[0].reshape(8,-1)\n",
        "d"
      ],
      "metadata": {
        "colab": {
          "base_uri": "https://localhost:8080/"
        },
        "id": "ThhLd2JPk2rk",
        "outputId": "279324b1-9964-4b4c-a0ce-0755e48ee02f"
      },
      "execution_count": 21,
      "outputs": [
        {
          "output_type": "execute_result",
          "data": {
            "text/plain": [
              "array([[ 0.,  0.,  5., 13.,  9.,  1.,  0.,  0.],\n",
              "       [ 0.,  0., 13., 15., 10., 15.,  5.,  0.],\n",
              "       [ 0.,  3., 15.,  2.,  0., 11.,  8.,  0.],\n",
              "       [ 0.,  4., 12.,  0.,  0.,  8.,  8.,  0.],\n",
              "       [ 0.,  5.,  8.,  0.,  0.,  9.,  8.,  0.],\n",
              "       [ 0.,  4., 11.,  0.,  1., 12.,  7.,  0.],\n",
              "       [ 0.,  2., 14.,  5., 10., 12.,  0.,  0.],\n",
              "       [ 0.,  0.,  6., 13., 10.,  0.,  0.,  0.]])"
            ]
          },
          "metadata": {},
          "execution_count": 21
        }
      ]
    },
    {
      "cell_type": "code",
      "source": [
        "for y in range(8):\n",
        "  for x in range(8):\n",
        "    if d[y][x] !=0:\n",
        "      print(\"■\",end=\"\")\n",
        "    else:\n",
        "      print(\"  \",end=\"\")\n",
        "  print()"
      ],
      "metadata": {
        "colab": {
          "base_uri": "https://localhost:8080/"
        },
        "id": "bRG-D5TVljd3",
        "outputId": "f8a74ab4-8d9f-45d6-9615-240043407b7c"
      },
      "execution_count": 22,
      "outputs": [
        {
          "output_type": "stream",
          "name": "stdout",
          "text": [
            "    ■■■■    \n",
            "    ■■■■■  \n",
            "  ■■■  ■■  \n",
            "  ■■    ■■  \n",
            "  ■■    ■■  \n",
            "  ■■  ■■■  \n",
            "  ■■■■■    \n",
            "    ■■■      \n"
          ]
        }
      ]
    },
    {
      "cell_type": "code",
      "source": [
        "from sklearn.linear_model import LogisticRegression"
      ],
      "metadata": {
        "id": "RxQB4TVml_Tf"
      },
      "execution_count": 23,
      "outputs": []
    },
    {
      "cell_type": "code",
      "source": [
        "model = LogisticRegression()\n",
        "model.fit(x_train,y_train)\n",
        "pred = model.predict(x_test)\n",
        "accuracy_score(y_test,pred)"
      ],
      "metadata": {
        "colab": {
          "base_uri": "https://localhost:8080/"
        },
        "id": "b5YT1Y7dp8oM",
        "outputId": "89cabaf9-f1cd-47e5-97be-9d8cc77b5be4"
      },
      "execution_count": 24,
      "outputs": [
        {
          "output_type": "stream",
          "name": "stderr",
          "text": [
            "/usr/local/lib/python3.10/dist-packages/sklearn/linear_model/_logistic.py:458: ConvergenceWarning: lbfgs failed to converge (status=1):\n",
            "STOP: TOTAL NO. of ITERATIONS REACHED LIMIT.\n",
            "\n",
            "Increase the number of iterations (max_iter) or scale the data as shown in:\n",
            "    https://scikit-learn.org/stable/modules/preprocessing.html\n",
            "Please also refer to the documentation for alternative solver options:\n",
            "    https://scikit-learn.org/stable/modules/linear_model.html#logistic-regression\n",
            "  n_iter_i = _check_optimize_result(\n"
          ]
        },
        {
          "output_type": "execute_result",
          "data": {
            "text/plain": [
              "0.9911111111111112"
            ]
          },
          "metadata": {},
          "execution_count": 24
        }
      ]
    },
    {
      "cell_type": "markdown",
      "source": [
        "## 오차 행렬"
      ],
      "metadata": {
        "id": "27Ts0ABmsF6T"
      }
    },
    {
      "cell_type": "code",
      "source": [
        "from sklearn.metrics import confusion_matrix"
      ],
      "metadata": {
        "id": "c27fxB8-qAOb"
      },
      "execution_count": 25,
      "outputs": []
    },
    {
      "cell_type": "code",
      "source": [
        "model = LogisticRegression()\n",
        "model.fit(x_train,y_train)\n",
        "pred = model.predict(x_test)\n",
        "confusion_matrix(y_test,pred) #로지스틱 회귀 모델로 실행한 결과"
      ],
      "metadata": {
        "colab": {
          "base_uri": "https://localhost:8080/"
        },
        "id": "qdGbA7EQsHzD",
        "outputId": "eb620ccc-0f38-4afc-dd0c-8ecc4981416b"
      },
      "execution_count": 26,
      "outputs": [
        {
          "output_type": "stream",
          "name": "stderr",
          "text": [
            "/usr/local/lib/python3.10/dist-packages/sklearn/linear_model/_logistic.py:458: ConvergenceWarning: lbfgs failed to converge (status=1):\n",
            "STOP: TOTAL NO. of ITERATIONS REACHED LIMIT.\n",
            "\n",
            "Increase the number of iterations (max_iter) or scale the data as shown in:\n",
            "    https://scikit-learn.org/stable/modules/preprocessing.html\n",
            "Please also refer to the documentation for alternative solver options:\n",
            "    https://scikit-learn.org/stable/modules/linear_model.html#logistic-regression\n",
            "  n_iter_i = _check_optimize_result(\n"
          ]
        },
        {
          "output_type": "execute_result",
          "data": {
            "text/plain": [
              "array([[406,   4],\n",
              "       [  0,  40]])"
            ]
          },
          "metadata": {},
          "execution_count": 26
        }
      ]
    },
    {
      "cell_type": "code",
      "source": [
        "model = MySecondClassifier()\n",
        "model.fit(x_train,y_train)\n",
        "pred = model.predict(x_test)\n",
        "confusion_matrix(y_test,pred)"
      ],
      "metadata": {
        "colab": {
          "base_uri": "https://localhost:8080/"
        },
        "id": "VZnqunw6sQa2",
        "outputId": "84814afe-d8eb-4304-a4c3-2f062acc77be"
      },
      "execution_count": 27,
      "outputs": [
        {
          "output_type": "execute_result",
          "data": {
            "text/plain": [
              "array([[410,   0],\n",
              "       [ 40,   0]])"
            ]
          },
          "metadata": {},
          "execution_count": 27
        }
      ]
    },
    {
      "cell_type": "code",
      "source": [
        "from sklearn.metrics import accuracy_score\n",
        "from sklearn.metrics import precision_score\n",
        "from sklearn.metrics import recall_score"
      ],
      "metadata": {
        "id": "s_7tYgVFsXr0"
      },
      "execution_count": 28,
      "outputs": []
    },
    {
      "cell_type": "code",
      "source": [
        "def model_evaluate(actual , pred, print_flag=True):\n",
        "  confusion = confusion_matrix(actual , pred)\n",
        "  accuracy = accuracy_score(actual , pred)\n",
        "  precision = precision_score(actual , pred)\n",
        "  recall = recall_score(actual , pred)\n",
        "  if print_flag:\n",
        "    print(f\"accuracy:{accuracy:.3f} \")\n",
        "    print(f\"precision:{precision:.3f} \")\n",
        "    print(f\"recall:{recall:.3f} \")\n",
        "  return  confusion,accuracy,precision, recall"
      ],
      "metadata": {
        "id": "1pShS1DEwChx"
      },
      "execution_count": 29,
      "outputs": []
    },
    {
      "cell_type": "code",
      "source": [
        "model = MySecondClassifier()\n",
        "model.fit(x_train,y_train)\n",
        "pred = model.predict(x_test)"
      ],
      "metadata": {
        "id": "IExewfNGwOY2"
      },
      "execution_count": 30,
      "outputs": []
    },
    {
      "cell_type": "code",
      "source": [
        "model_evaluate(y_test,pred)"
      ],
      "metadata": {
        "colab": {
          "base_uri": "https://localhost:8080/"
        },
        "id": "s86wxCRext36",
        "outputId": "e54299e8-382c-4db8-a6e4-dcc7c3cfc937"
      },
      "execution_count": 31,
      "outputs": [
        {
          "output_type": "stream",
          "name": "stdout",
          "text": [
            "accuracy:0.911 \n",
            "precision:0.000 \n",
            "recall:0.000 \n"
          ]
        },
        {
          "output_type": "stream",
          "name": "stderr",
          "text": [
            "/usr/local/lib/python3.10/dist-packages/sklearn/metrics/_classification.py:1344: UndefinedMetricWarning: Precision is ill-defined and being set to 0.0 due to no predicted samples. Use `zero_division` parameter to control this behavior.\n",
            "  _warn_prf(average, modifier, msg_start, len(result))\n"
          ]
        },
        {
          "output_type": "execute_result",
          "data": {
            "text/plain": [
              "(array([[410,   0],\n",
              "        [ 40,   0]]),\n",
              " 0.9111111111111111,\n",
              " 0.0,\n",
              " 0.0)"
            ]
          },
          "metadata": {},
          "execution_count": 31
        }
      ]
    },
    {
      "cell_type": "code",
      "source": [
        "_,acc,_,_ = model_evaluate(y_test,pred,print_flag=False)\n",
        "acc"
      ],
      "metadata": {
        "colab": {
          "base_uri": "https://localhost:8080/"
        },
        "id": "edNtPDHDxYu1",
        "outputId": "1e310e40-fd31-4690-89ae-689765162ce9"
      },
      "execution_count": 32,
      "outputs": [
        {
          "output_type": "stream",
          "name": "stderr",
          "text": [
            "/usr/local/lib/python3.10/dist-packages/sklearn/metrics/_classification.py:1344: UndefinedMetricWarning: Precision is ill-defined and being set to 0.0 due to no predicted samples. Use `zero_division` parameter to control this behavior.\n",
            "  _warn_prf(average, modifier, msg_start, len(result))\n"
          ]
        },
        {
          "output_type": "execute_result",
          "data": {
            "text/plain": [
              "0.9111111111111111"
            ]
          },
          "metadata": {},
          "execution_count": 32
        }
      ]
    },
    {
      "cell_type": "code",
      "source": [
        "label = df['Survived']\n",
        "data = df[['Pclass','Sex','SibSp','Parch','Fare']]\n",
        "data['Sex'] = pd.get_dummies(data['Sex'])['female'].values"
      ],
      "metadata": {
        "id": "NQv7dYa0xyDj",
        "colab": {
          "base_uri": "https://localhost:8080/"
        },
        "outputId": "759a7296-315d-4831-f58d-6d63ec444d0f"
      },
      "execution_count": 33,
      "outputs": [
        {
          "output_type": "stream",
          "name": "stderr",
          "text": [
            "<ipython-input-33-03841b96478e>:3: SettingWithCopyWarning: \n",
            "A value is trying to be set on a copy of a slice from a DataFrame.\n",
            "Try using .loc[row_indexer,col_indexer] = value instead\n",
            "\n",
            "See the caveats in the documentation: https://pandas.pydata.org/pandas-docs/stable/user_guide/indexing.html#returning-a-view-versus-a-copy\n",
            "  data['Sex'] = pd.get_dummies(data['Sex'])['female'].values\n"
          ]
        }
      ]
    },
    {
      "cell_type": "code",
      "source": [
        "x_train, x_test, y_train, y_test = train_test_split(data,label)"
      ],
      "metadata": {
        "id": "8mwZdqvJ35YG"
      },
      "execution_count": 34,
      "outputs": []
    },
    {
      "cell_type": "code",
      "source": [
        "model = LogisticRegression()\n",
        "model.fit(x_train,y_train)\n",
        "pred = model.predict(x_test)\n",
        "re = model_evaluate(y_test,pred)"
      ],
      "metadata": {
        "colab": {
          "base_uri": "https://localhost:8080/"
        },
        "id": "eB9KLUAB3_Ap",
        "outputId": "9a15fc8f-4b81-4e93-adaa-01f759292b36"
      },
      "execution_count": 35,
      "outputs": [
        {
          "output_type": "stream",
          "name": "stdout",
          "text": [
            "accuracy:0.807 \n",
            "precision:0.824 \n",
            "recall:0.644 \n"
          ]
        }
      ]
    },
    {
      "cell_type": "code",
      "source": [
        "model = MYDummyClassifier()\n",
        "model.fit(x_train,y_train)\n",
        "pred = model.predict(x_test)\n",
        "re = model_evaluate(y_test,pred)"
      ],
      "metadata": {
        "colab": {
          "base_uri": "https://localhost:8080/"
        },
        "id": "BsjGbfc64Wmu",
        "outputId": "c28df308-348e-4faf-fae0-bedb0a95c705"
      },
      "execution_count": 36,
      "outputs": [
        {
          "output_type": "stream",
          "name": "stdout",
          "text": [
            "accuracy:0.807 \n",
            "precision:0.806 \n",
            "recall:0.667 \n"
          ]
        }
      ]
    },
    {
      "cell_type": "code",
      "source": [
        "model = LogisticRegression()\n",
        "model.fit(x_train,y_train)\n",
        "pred_proba = model.predict_proba(x_test)\n",
        "pred_proba.shape"
      ],
      "metadata": {
        "colab": {
          "base_uri": "https://localhost:8080/"
        },
        "id": "XQuCl0hU438h",
        "outputId": "306be285-15e5-456f-cf70-5ccc80e08838"
      },
      "execution_count": 37,
      "outputs": [
        {
          "output_type": "execute_result",
          "data": {
            "text/plain": [
              "(223, 2)"
            ]
          },
          "metadata": {},
          "execution_count": 37
        }
      ]
    },
    {
      "cell_type": "code",
      "source": [
        "pred_proba[0], pred[0]"
      ],
      "metadata": {
        "colab": {
          "base_uri": "https://localhost:8080/"
        },
        "id": "gB39B7cE5VbC",
        "outputId": "ee7f95f2-1ed9-400c-df62-5ba5c5f189c3"
      },
      "execution_count": 38,
      "outputs": [
        {
          "output_type": "execute_result",
          "data": {
            "text/plain": [
              "(array([0.83184699, 0.16815301]), array([0.]))"
            ]
          },
          "metadata": {},
          "execution_count": 38
        }
      ]
    },
    {
      "cell_type": "code",
      "source": [
        "from sklearn.preprocessing import Binarizer"
      ],
      "metadata": {
        "id": "scD8JsfO57Vn"
      },
      "execution_count": 39,
      "outputs": []
    },
    {
      "cell_type": "code",
      "source": [
        "x = [[1,2,1],\n",
        "     [4,0,2],\n",
        "     [1,2,3]]\n",
        "binar = Binarizer(threshold=2)\n",
        "bx = binar.fit_transform(x)\n",
        "bx"
      ],
      "metadata": {
        "colab": {
          "base_uri": "https://localhost:8080/"
        },
        "id": "72d2rtHY6N5k",
        "outputId": "92014056-ea33-46a0-a3f4-7a19f8f08825"
      },
      "execution_count": 40,
      "outputs": [
        {
          "output_type": "execute_result",
          "data": {
            "text/plain": [
              "array([[0, 0, 0],\n",
              "       [1, 0, 0],\n",
              "       [0, 0, 1]])"
            ]
          },
          "metadata": {},
          "execution_count": 40
        }
      ]
    },
    {
      "cell_type": "code",
      "source": [
        "binar = Binarizer(threshold=0.3)\n",
        "ppx = binar.fit_transform(pred_proba)\n",
        "ppx"
      ],
      "metadata": {
        "id": "WStyr14D6ihI"
      },
      "execution_count": null,
      "outputs": []
    },
    {
      "cell_type": "code",
      "source": [
        "ct = 0.5\n",
        "pp1 = pred_proba[:,1].reshape(-1,1)\n",
        "bn = Binarizer(threshold=ct)\n",
        "cp = bn.fit_transform(pp1)\n",
        "d = model_evaluate(y_test,cp)"
      ],
      "metadata": {
        "colab": {
          "base_uri": "https://localhost:8080/"
        },
        "id": "kG2uFI-g6xcp",
        "outputId": "6af1e03c-c68a-4ee6-a1f0-37064fcfd787"
      },
      "execution_count": 42,
      "outputs": [
        {
          "output_type": "stream",
          "name": "stdout",
          "text": [
            "accuracy:0.807 \n",
            "precision:0.824 \n",
            "recall:0.644 \n"
          ]
        }
      ]
    },
    {
      "cell_type": "code",
      "source": [
        "ct = 0.4\n",
        "pp1 = pred_proba[:,1].reshape(-1,1)\n",
        "bn = Binarizer(threshold=ct)\n",
        "cp = bn.fit_transform(pp1)\n",
        "d = model_evaluate(y_test,cp)"
      ],
      "metadata": {
        "colab": {
          "base_uri": "https://localhost:8080/"
        },
        "id": "0JJwtP5s8Mgr",
        "outputId": "706bb2ea-4cd2-47c6-d7df-65913321e650"
      },
      "execution_count": 43,
      "outputs": [
        {
          "output_type": "stream",
          "name": "stdout",
          "text": [
            "accuracy:0.794 \n",
            "precision:0.736 \n",
            "recall:0.736 \n"
          ]
        }
      ]
    },
    {
      "cell_type": "code",
      "source": [
        "def get_eval_by_thresholds(y_test,pred,thresholds):\n",
        "  for threshold in thresholds:\n",
        "    print(\"=== threshold:\",threshold)\n",
        "    bn = Binarizer(threshold=threshold)\n",
        "    pv = bn.fit_transform(pred)\n",
        "    model_evaluate(y_test,pv)"
      ],
      "metadata": {
        "id": "3aXatwmx8NOT"
      },
      "execution_count": 44,
      "outputs": []
    },
    {
      "cell_type": "code",
      "source": [
        "tvs = [0.4, 0.45, 0.5 ,0.55, 0.60]\n",
        "get_eval_by_thresholds(y_test,pp1,tvs)"
      ],
      "metadata": {
        "colab": {
          "base_uri": "https://localhost:8080/"
        },
        "id": "w8d_FYJm-NmZ",
        "outputId": "1bf36077-609b-40b6-82db-259697c49a2f"
      },
      "execution_count": 46,
      "outputs": [
        {
          "output_type": "stream",
          "name": "stdout",
          "text": [
            "=== threshold: 0.4\n",
            "accuracy:0.794 \n",
            "precision:0.736 \n",
            "recall:0.736 \n",
            "=== threshold: 0.45\n",
            "accuracy:0.803 \n",
            "precision:0.795 \n",
            "recall:0.667 \n",
            "=== threshold: 0.5\n",
            "accuracy:0.807 \n",
            "precision:0.824 \n",
            "recall:0.644 \n",
            "=== threshold: 0.55\n",
            "accuracy:0.812 \n",
            "precision:0.857 \n",
            "recall:0.621 \n",
            "=== threshold: 0.6\n",
            "accuracy:0.780 \n",
            "precision:0.839 \n",
            "recall:0.540 \n"
          ]
        }
      ]
    },
    {
      "cell_type": "code",
      "source": [
        "path = '/content/drive/MyDrive/mldata/train_titanic.csv'\n",
        "df = pd.read_csv(path)\n",
        "label = df['Survived']\n",
        "data = df[['Pclass','Sex','SibSp','Parch','Fare']]\n",
        "data['Sex'] = pd.get_dummies(data['Sex'])['female']\n",
        "x_train, x_test, y_train, y_test = train_test_split(data,label)"
      ],
      "metadata": {
        "id": "ePbSd1Kh-woI",
        "colab": {
          "base_uri": "https://localhost:8080/"
        },
        "outputId": "b309f5a0-78ef-4156-b814-28f880666001"
      },
      "execution_count": 61,
      "outputs": [
        {
          "output_type": "stream",
          "name": "stderr",
          "text": [
            "<ipython-input-61-a3d41df6e99b>:5: SettingWithCopyWarning: \n",
            "A value is trying to be set on a copy of a slice from a DataFrame.\n",
            "Try using .loc[row_indexer,col_indexer] = value instead\n",
            "\n",
            "See the caveats in the documentation: https://pandas.pydata.org/pandas-docs/stable/user_guide/indexing.html#returning-a-view-versus-a-copy\n",
            "  data['Sex'] = pd.get_dummies(data['Sex'])['female']\n"
          ]
        }
      ]
    },
    {
      "cell_type": "code",
      "source": [
        "from sklearn.metrics import precision_recall_curve"
      ],
      "metadata": {
        "id": "t3BOXF3KgeMS"
      },
      "execution_count": 62,
      "outputs": []
    },
    {
      "cell_type": "code",
      "source": [
        "model = LogisticRegression()\n",
        "model.fit(x_train,y_train)\n",
        "pp1 = model.predict_proba(x_test)\n",
        "ppc1 = pp1[:,1]\n",
        "ppc1"
      ],
      "metadata": {
        "id": "ob6WyhYHnJ-5"
      },
      "execution_count": null,
      "outputs": []
    },
    {
      "cell_type": "code",
      "source": [
        "prec, rec, thres = precision_recall_curve(y_test,ppc1)"
      ],
      "metadata": {
        "id": "y_5zpA6vnUUr"
      },
      "execution_count": 67,
      "outputs": []
    },
    {
      "cell_type": "code",
      "source": [
        "ti = np.arange(0,thres.shape[0],15)\n",
        "ti"
      ],
      "metadata": {
        "colab": {
          "base_uri": "https://localhost:8080/"
        },
        "id": "tYMGmr3zomRg",
        "outputId": "b191aea6-2274-4c6e-9a12-12cfb2a5db00"
      },
      "execution_count": 73,
      "outputs": [
        {
          "output_type": "execute_result",
          "data": {
            "text/plain": [
              "array([  0,  15,  30,  45,  60,  75,  90, 105, 120, 135, 150])"
            ]
          },
          "metadata": {},
          "execution_count": 73
        }
      ]
    },
    {
      "cell_type": "code",
      "source": [
        "for i in ti:\n",
        "  print(f\"th:{thres[i]:.2f} {prec[i]:.2f} {rec[i]:.2f} \")\n",
        "print(\"threshold:\",np.round(thres[ti],2))\n",
        "print(\"precison:\",np.round(prec[ti],2))\n",
        "print(\"recall:\",np.round(rec[ti],2))"
      ],
      "metadata": {
        "colab": {
          "base_uri": "https://localhost:8080/"
        },
        "id": "xcNkEXLtonHI",
        "outputId": "4bb1e77e-f8cc-41d4-f34e-47461cb5e86b"
      },
      "execution_count": 78,
      "outputs": [
        {
          "output_type": "stream",
          "name": "stdout",
          "text": [
            "th:0.02 0.36 1.00 \n",
            "th:0.10 0.38 0.95 \n",
            "th:0.12 0.42 0.93 \n",
            "th:0.12 0.52 0.89 \n",
            "th:0.23 0.57 0.85 \n",
            "th:0.42 0.68 0.78 \n",
            "th:0.57 0.78 0.72 \n",
            "th:0.64 0.83 0.56 \n",
            "th:0.76 0.95 0.44 \n",
            "th:0.91 0.90 0.23 \n",
            "th:0.94 1.00 0.05 \n",
            "threshold: [0.02 0.1  0.12 0.12 0.23 0.42 0.57 0.64 0.76 0.91 0.94]\n",
            "precison: [0.36 0.38 0.42 0.52 0.57 0.68 0.78 0.83 0.95 0.9  1.  ]\n",
            "recall: [1.   0.95 0.93 0.89 0.85 0.78 0.72 0.56 0.44 0.23 0.05]\n"
          ]
        }
      ]
    },
    {
      "cell_type": "code",
      "source": [
        "import matplotlib.pyplot as plt"
      ],
      "metadata": {
        "id": "XdnykCUKpp3E"
      },
      "execution_count": 83,
      "outputs": []
    },
    {
      "cell_type": "code",
      "source": [
        "last = thres.shape[0]\n",
        "last"
      ],
      "metadata": {
        "colab": {
          "base_uri": "https://localhost:8080/"
        },
        "id": "vj-x53pHsEGQ",
        "outputId": "df0d93cc-b49d-4f38-82f7-d9fc7b0c526d"
      },
      "execution_count": 84,
      "outputs": [
        {
          "output_type": "execute_result",
          "data": {
            "text/plain": [
              "154"
            ]
          },
          "metadata": {},
          "execution_count": 84
        }
      ]
    },
    {
      "cell_type": "code",
      "source": [
        "plt.plot(thres,prec[:last],'r-',label='precision')\n",
        "plt.plot(thres,rec[:last],'b:',label='recall')\n",
        "plt.grid()\n",
        "plt.legend()\n",
        "plt.show()"
      ],
      "metadata": {
        "colab": {
          "base_uri": "https://localhost:8080/",
          "height": 430
        },
        "id": "l-lYnqYbuk6P",
        "outputId": "3c1aae5a-9910-4592-8ed3-1bddff21d363"
      },
      "execution_count": 85,
      "outputs": [
        {
          "output_type": "display_data",
          "data": {
            "text/plain": [
              "<Figure size 640x480 with 1 Axes>"
            ],
            "image/png": "[encoded data removed]"
          },
          "metadata": {}
        }
      ]
    },
    {
      "cell_type": "markdown",
      "source": [
        "## F1 스코어"
      ],
      "metadata": {
        "id": "lmuaTCV-wU-I"
      }
    },
    {
      "cell_type": "code",
      "source": [
        "from sklearn.metrics import f1_score"
      ],
      "metadata": {
        "id": "8bo0jSjHu9_G"
      },
      "execution_count": 86,
      "outputs": []
    },
    {
      "cell_type": "code",
      "source": [
        "model = LogisticRegression()\n",
        "model.fit(x_train,y_train)\n",
        "pred = model.predict(x_test)\n",
        "f1 = f1_score(y_test,pred)\n",
        "print(\"f1:\",f1)"
      ],
      "metadata": {
        "colab": {
          "base_uri": "https://localhost:8080/"
        },
        "id": "dpA0GoM2wb9A",
        "outputId": "292a5918-a31c-47c4-de25-86b8e124f5f7"
      },
      "execution_count": 88,
      "outputs": [
        {
          "output_type": "stream",
          "name": "stdout",
          "text": [
            "f1: 0.7250000000000001\n"
          ]
        }
      ]
    },
    {
      "cell_type": "code",
      "source": [
        "def get_model_eval(actual,pred):\n",
        "  con = confusion_matrix(actual,pred)\n",
        "  acc = accuracy_score(actual,pred)\n",
        "  pre = precision_score(actual,pred)\n",
        "  rec = recall_score(actual,pred)\n",
        "  f1 = f1_score(actual,pred)\n",
        "  print(\"오차 행렬\\n\",con)\n",
        "  print(f\"정확도:{acc:6.4f} 정밀도:{pre:6.4f}\")\n",
        "  print(f\"재현율:{rec:6.4f} F1 점수:{f1:6.4f}\")"
      ],
      "metadata": {
        "id": "HT9SKB26wnrP"
      },
      "execution_count": 89,
      "outputs": []
    },
    {
      "cell_type": "code",
      "source": [
        "def get_eval_by_thresholds(y_test,pred,thresholds):\n",
        "  for threshold in thresholds:\n",
        "    print(\"=== threshold:\",threshold)\n",
        "    bn = Binarizer(threshold=threshold)\n",
        "    pv = bn.fit_transform(pred)\n",
        "    get_model_eval(y_test,pv)"
      ],
      "metadata": {
        "id": "i4HIcqwKyErv"
      },
      "execution_count": 90,
      "outputs": []
    },
    {
      "cell_type": "code",
      "source": [
        "thresholds = np.arange(0,1.01,0.05)\n",
        "model = LogisticRegression()\n",
        "model.fit(x_train,y_train)\n",
        "pp1 = model.predict_proba(x_test)[:,1].reshape(-1,1)\n",
        "get_eval_by_thresholds(y_test,pp1,thresholds)"
      ],
      "metadata": {
        "colab": {
          "base_uri": "https://localhost:8080/"
        },
        "id": "W1Jmq1A8yix7",
        "outputId": "f6ad51aa-13a0-4d98-da13-47930db1444a"
      },
      "execution_count": 92,
      "outputs": [
        {
          "output_type": "stream",
          "name": "stdout",
          "text": [
            "=== threshold: 0.0\n",
            "오차 행렬\n",
            " [[  0 142]\n",
            " [  0  81]]\n",
            "정확도:0.3632 정밀도:0.3632\n",
            "재현율:1.0000 F1 점수:0.5329\n",
            "=== threshold: 0.05\n",
            "오차 행렬\n",
            " [[  7 135]\n",
            " [  0  81]]\n",
            "정확도:0.3946 정밀도:0.3750\n",
            "재현율:1.0000 F1 점수:0.5455\n",
            "=== threshold: 0.1\n",
            "오차 행렬\n",
            " [[ 16 126]\n",
            " [  4  77]]\n",
            "정확도:0.4170 정밀도:0.3793\n",
            "재현율:0.9506 F1 점수:0.5423\n",
            "=== threshold: 0.15000000000000002\n",
            "오차 행렬\n",
            " [[86 56]\n",
            " [ 9 72]]\n",
            "정확도:0.7085 정밀도:0.5625\n",
            "재현율:0.8889 F1 점수:0.6890\n",
            "=== threshold: 0.2\n",
            "오차 행렬\n",
            " [[89 53]\n",
            " [11 70]]\n",
            "정확도:0.7130 정밀도:0.5691\n",
            "재현율:0.8642 F1 점수:0.6863\n",
            "=== threshold: 0.25\n",
            "오차 행렬\n",
            " [[103  39]\n",
            " [ 16  65]]\n",
            "정확도:0.7534 정밀도:0.6250\n",
            "재현율:0.8025 F1 점수:0.7027\n",
            "=== threshold: 0.30000000000000004\n",
            "오차 행렬\n",
            " [[103  39]\n",
            " [ 16  65]]\n",
            "정확도:0.7534 정밀도:0.6250\n",
            "재현율:0.8025 F1 점수:0.7027\n",
            "=== threshold: 0.35000000000000003\n",
            "오차 행렬\n",
            " [[103  39]\n",
            " [ 16  65]]\n",
            "정확도:0.7534 정밀도:0.6250\n",
            "재현율:0.8025 F1 점수:0.7027\n",
            "=== threshold: 0.4\n",
            "오차 행렬\n",
            " [[105  37]\n",
            " [ 18  63]]\n",
            "정확도:0.7534 정밀도:0.6300\n",
            "재현율:0.7778 F1 점수:0.6961\n",
            "=== threshold: 0.45\n",
            "오차 행렬\n",
            " [[116  26]\n",
            " [ 23  58]]\n",
            "정확도:0.7803 정밀도:0.6905\n",
            "재현율:0.7160 F1 점수:0.7030\n",
            "=== threshold: 0.5\n",
            "오차 행렬\n",
            " [[121  21]\n",
            " [ 23  58]]\n",
            "정확도:0.8027 정밀도:0.7342\n",
            "재현율:0.7160 F1 점수:0.7250\n",
            "=== threshold: 0.55\n",
            "오차 행렬\n",
            " [[123  19]\n",
            " [ 23  58]]\n",
            "정확도:0.8117 정밀도:0.7532\n",
            "재현율:0.7160 F1 점수:0.7342\n",
            "=== threshold: 0.6000000000000001\n",
            "오차 행렬\n",
            " [[129  13]\n",
            " [ 24  57]]\n",
            "정확도:0.8341 정밀도:0.8143\n",
            "재현율:0.7037 F1 점수:0.7550\n",
            "=== threshold: 0.65\n",
            "오차 행렬\n",
            " [[134   8]\n",
            " [ 38  43]]\n",
            "정확도:0.7937 정밀도:0.8431\n",
            "재현율:0.5309 F1 점수:0.6515\n",
            "=== threshold: 0.7000000000000001\n",
            "오차 행렬\n",
            " [[138   4]\n",
            " [ 41  40]]\n",
            "정확도:0.7982 정밀도:0.9091\n",
            "재현율:0.4938 F1 점수:0.6400\n",
            "=== threshold: 0.75\n",
            "오차 행렬\n",
            " [[139   3]\n",
            " [ 43  38]]\n",
            "정확도:0.7937 정밀도:0.9268\n",
            "재현율:0.4691 F1 점수:0.6230\n",
            "=== threshold: 0.8\n",
            "오차 행렬\n",
            " [[140   2]\n",
            " [ 51  30]]\n",
            "정확도:0.7623 정밀도:0.9375\n",
            "재현율:0.3704 F1 점수:0.5310\n",
            "=== threshold: 0.8500000000000001\n",
            "오차 행렬\n",
            " [[140   2]\n",
            " [ 55  26]]\n",
            "정확도:0.7444 정밀도:0.9286\n",
            "재현율:0.3210 F1 점수:0.4771\n",
            "=== threshold: 0.9\n",
            "오차 행렬\n",
            " [[140   2]\n",
            " [ 61  20]]\n",
            "정확도:0.7175 정밀도:0.9091\n",
            "재현율:0.2469 F1 점수:0.3883\n",
            "=== threshold: 0.9500000000000001\n",
            "오차 행렬\n",
            " [[142   0]\n",
            " [ 78   3]]\n",
            "정확도:0.6502 정밀도:1.0000\n",
            "재현율:0.0370 F1 점수:0.0714\n",
            "=== threshold: 1.0\n",
            "오차 행렬\n",
            " [[142   0]\n",
            " [ 81   0]]\n",
            "정확도:0.6368 정밀도:0.0000\n",
            "재현율:0.0000 F1 점수:0.0000\n"
          ]
        },
        {
          "output_type": "stream",
          "name": "stderr",
          "text": [
            "/usr/local/lib/python3.10/dist-packages/sklearn/metrics/_classification.py:1344: UndefinedMetricWarning: Precision is ill-defined and being set to 0.0 due to no predicted samples. Use `zero_division` parameter to control this behavior.\n",
            "  _warn_prf(average, modifier, msg_start, len(result))\n"
          ]
        }
      ]
    },
    {
      "cell_type": "markdown",
      "source": [
        "## ROC CURVE"
      ],
      "metadata": {
        "id": "cKBCSs8h1oG_"
      }
    },
    {
      "cell_type": "code",
      "source": [
        "from sklearn.metrics import roc_curve"
      ],
      "metadata": {
        "id": "fVqj4G43zPLH"
      },
      "execution_count": 93,
      "outputs": []
    },
    {
      "cell_type": "code",
      "source": [
        "fprs, tprs, thresolds = roc_curve(y_test,pp1)"
      ],
      "metadata": {
        "id": "REqEZpEe1pv4"
      },
      "execution_count": 94,
      "outputs": []
    },
    {
      "cell_type": "code",
      "source": [
        "ti = np.arange(1,thresolds.shape[0],5)\n",
        "ti"
      ],
      "metadata": {
        "colab": {
          "base_uri": "https://localhost:8080/"
        },
        "id": "k9U_jEie1_TM",
        "outputId": "d1e9a75f-6700-4250-85cc-c160a0c67fa6"
      },
      "execution_count": 96,
      "outputs": [
        {
          "output_type": "execute_result",
          "data": {
            "text/plain": [
              "array([ 1,  6, 11, 16, 21, 26, 31, 36, 41, 46, 51, 56, 61, 66, 71, 76, 81])"
            ]
          },
          "metadata": {},
          "execution_count": 96
        }
      ]
    },
    {
      "cell_type": "code",
      "source": [
        "for i in ti:\n",
        "  print(f\"th:{thres[i]:.2f} {fprs[i]:.2f} {tprs[i]:.2f} \")\n",
        "print(\"threshold:\",np.round(thres[ti],2))\n",
        "print(\"fpr:\",np.round(fprs[ti],2))\n",
        "print(\"tpr:\",np.round(tprs[ti],2))"
      ],
      "metadata": {
        "colab": {
          "base_uri": "https://localhost:8080/"
        },
        "id": "McvitMEq2CJo",
        "outputId": "a401cd73-c36c-4bd2-af50-a3de63c742a6"
      },
      "execution_count": 97,
      "outputs": [
        {
          "output_type": "stream",
          "name": "stdout",
          "text": [
            "th:0.04 0.00 0.01 \n",
            "th:0.07 0.01 0.38 \n",
            "th:0.09 0.02 0.48 \n",
            "th:0.10 0.04 0.51 \n",
            "th:0.12 0.06 0.56 \n",
            "th:0.12 0.08 0.64 \n",
            "th:0.12 0.15 0.72 \n",
            "th:0.12 0.21 0.73 \n",
            "th:0.12 0.27 0.78 \n",
            "th:0.12 0.34 0.84 \n",
            "th:0.13 0.38 0.88 \n",
            "th:0.19 0.45 0.89 \n",
            "th:0.23 0.58 0.91 \n",
            "th:0.37 0.73 0.93 \n",
            "th:0.41 0.81 0.94 \n",
            "th:0.43 0.90 0.95 \n",
            "th:0.45 0.94 1.00 \n",
            "threshold: [0.04 0.07 0.09 0.1  0.12 0.12 0.12 0.12 0.12 0.12 0.13 0.19 0.23 0.37\n",
            " 0.41 0.43 0.45]\n",
            "fpr: [0.   0.01 0.02 0.04 0.06 0.08 0.15 0.21 0.27 0.34 0.38 0.45 0.58 0.73\n",
            " 0.81 0.9  0.94]\n",
            "tpr: [0.01 0.38 0.48 0.51 0.56 0.64 0.72 0.73 0.78 0.84 0.88 0.89 0.91 0.93\n",
            " 0.94 0.95 1.  ]\n"
          ]
        }
      ]
    },
    {
      "cell_type": "code",
      "source": [
        "def roc_curve_plot(y_test,pred):\n",
        "  fprs, tprs, thresolds = roc_curve(y_test,pp1)\n",
        "  plt.plot(fprs,tprs,label=\"ROC\")\n",
        "  plt.plot([0,1],[0,1],'k--',label='Random')\n",
        "  plt.xlabel('FPR')\n",
        "  plt.ylabel('TPR')\n",
        "  plt.legend()\n",
        "  plt.show()"
      ],
      "metadata": {
        "id": "PyHzCUdL2c7D"
      },
      "execution_count": 98,
      "outputs": []
    },
    {
      "cell_type": "code",
      "source": [
        "roc_curve_plot(y_test,pred)"
      ],
      "metadata": {
        "colab": {
          "base_uri": "https://localhost:8080/",
          "height": 449
        },
        "id": "RDuqcboB3ZaZ",
        "outputId": "118286c4-faee-43fc-eaa6-8d5a99d05cc3"
      },
      "execution_count": 99,
      "outputs": [
        {
          "output_type": "display_data",
          "data": {
            "text/plain": [
              "<Figure size 640x480 with 1 Axes>"
            ],
            "image/png": "[encoded data removed]"
          },
          "metadata": {}
        }
      ]
    },
    {
      "cell_type": "code",
      "source": [
        "from sklearn.metrics import roc_auc_score"
      ],
      "metadata": {
        "id": "n-sSY16_3c8Y"
      },
      "execution_count": 100,
      "outputs": []
    },
    {
      "cell_type": "code",
      "source": [
        "roc_auc_score(y_test,pp1)"
      ],
      "metadata": {
        "colab": {
          "base_uri": "https://localhost:8080/"
        },
        "id": "TVw-Xpq64G9P",
        "outputId": "647355b7-102e-4bb9-9230-cae6b344ebde"
      },
      "execution_count": 101,
      "outputs": [
        {
          "output_type": "execute_result",
          "data": {
            "text/plain": [
              "0.8424621804903495"
            ]
          },
          "metadata": {},
          "execution_count": 101
        }
      ]
    },
    {
      "cell_type": "code",
      "source": [],
      "metadata": {
        "id": "Z3zduDg44I9j"
      },
      "execution_count": null,
      "outputs": []
    }
  ]
}