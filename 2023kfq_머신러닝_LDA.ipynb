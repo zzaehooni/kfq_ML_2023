{
  "nbformat": 4,
  "nbformat_minor": 0,
  "metadata": {
    "colab": {
      "provenance": [],
      "authorship_tag": "ABX9TyOvaURpVSZRVndbI/8Ro04H",
      "include_colab_link": true
    },
    "kernelspec": {
      "name": "python3",
      "display_name": "Python 3"
    },
    "language_info": {
      "name": "python"
    }
  },
  "cells": [
    {
      "cell_type": "markdown",
      "metadata": {
        "id": "view-in-github",
        "colab_type": "text"
      },
      "source": [
        "<a href=\"https://colab.research.google.com/github/ehpub/kfq_ML_2023/blob/main/2023kfq_%EB%A8%B8%EC%8B%A0%EB%9F%AC%EB%8B%9D_LDA.ipynb\" target=\"_parent\"><img src=\"https://colab.research.google.com/assets/colab-badge.svg\" alt=\"Open In Colab\"/></a>"
      ]
    },
    {
      "cell_type": "markdown",
      "source": [
        "\n",
        "강의 교재 : https://wikibook.co.kr/pymlrev2/"
      ],
      "metadata": {
        "id": "RiVNy5K9jIdO"
      }
    },
    {
      "cell_type": "code",
      "execution_count": 1,
      "metadata": {
        "id": "x-HZUxGKi7Qm"
      },
      "outputs": [],
      "source": [
        "from sklearn.datasets import load_iris\n",
        "from sklearn.preprocessing import StandardScaler\n",
        "from sklearn.discriminant_analysis import LinearDiscriminantAnalysis"
      ]
    },
    {
      "cell_type": "code",
      "source": [
        "import pandas as pd\n",
        "import numpy as np\n",
        "import matplotlib.pyplot as plt\n",
        "import seaborn as sns"
      ],
      "metadata": {
        "id": "Tuj0nuhXjZWa"
      },
      "execution_count": 2,
      "outputs": []
    },
    {
      "cell_type": "code",
      "source": [
        "iris = load_iris()\n",
        "data = iris.data\n",
        "label = iris.target"
      ],
      "metadata": {
        "id": "lnWp6NFZjnmw"
      },
      "execution_count": 3,
      "outputs": []
    },
    {
      "cell_type": "code",
      "source": [
        "ss = StandardScaler()\n",
        "scaled_data = ss.fit_transform(data)"
      ],
      "metadata": {
        "id": "px2iMqr3jvNM"
      },
      "execution_count": 4,
      "outputs": []
    },
    {
      "cell_type": "code",
      "source": [
        "lda = LinearDiscriminantAnalysis(n_components=2)\n",
        "lda_data = lda.fit_transform(scaled_data,label)\n",
        "print(scaled_data.shape,\"->\",lda_data.shape)"
      ],
      "metadata": {
        "colab": {
          "base_uri": "https://localhost:8080/"
        },
        "id": "-L0ZIny2kDMH",
        "outputId": "2420506a-d1d5-4e30-88e9-14b8477aeb94"
      },
      "execution_count": 6,
      "outputs": [
        {
          "output_type": "stream",
          "name": "stdout",
          "text": [
            "(150, 4) -> (150, 2)\n"
          ]
        }
      ]
    },
    {
      "cell_type": "code",
      "source": [
        "df = pd.DataFrame(lda_data,columns=['l1','l2'])\n",
        "df['label']=label\n",
        "markers=['^','s','o']\n",
        "tns = iris.target_names\n",
        "for i, marker in enumerate(markers):\n",
        "  f_i = df['label']==i #품종별로 필터링\n",
        "  df_i = df[f_i] #특정 품종만 추출\n",
        "  x_data = df_i['l1'] #p1컬럼 을 x 데이터로 설정\n",
        "  y_data = df_i['l2'] #p2 컬럼을 y 데이터로 설정\n",
        "  plt.scatter(x_data,y_data,marker=marker,label=tns[i])\n",
        "plt.xlabel('l1')\n",
        "plt.ylabel('l2')\n",
        "plt.legend()\n",
        "plt.show()"
      ],
      "metadata": {
        "colab": {
          "base_uri": "https://localhost:8080/",
          "height": 454
        },
        "id": "5_ppzXB7kTr3",
        "outputId": "a4dbfd3f-06d9-4bff-a6f3-dfb3b2183a19"
      },
      "execution_count": 7,
      "outputs": [
        {
          "output_type": "display_data",
          "data": {
            "text/plain": [
              "<Figure size 640x480 with 1 Axes>"
            ],
            "image/png": "[encoded data removed]"
          },
          "metadata": {}
        }
      ]
    },
    {
      "cell_type": "code",
      "source": [
        "from sklearn.ensemble import RandomForestClassifier\n",
        "from sklearn.model_selection import cross_val_score"
      ],
      "metadata": {
        "id": "VzyRGC1VldR3"
      },
      "execution_count": 8,
      "outputs": []
    },
    {
      "cell_type": "code",
      "source": [
        "rfc = RandomForestClassifier()\n",
        "s = cross_val_score(rfc,lda_data,label,scoring='accuracy',cv=5)\n",
        "print(\"정확도:\",s)\n",
        "print(\"평균:\",s.mean())"
      ],
      "metadata": {
        "colab": {
          "base_uri": "https://localhost:8080/"
        },
        "id": "0ijlw-ZwlD8X",
        "outputId": "351b3f1b-3bcf-47c3-bcec-9d38cfa36438"
      },
      "execution_count": 9,
      "outputs": [
        {
          "output_type": "stream",
          "name": "stdout",
          "text": [
            "정확도: [1.         1.         0.9        0.93333333 1.        ]\n",
            "평균: 0.9666666666666666\n"
          ]
        }
      ]
    },
    {
      "cell_type": "code",
      "source": [],
      "metadata": {
        "id": "NDdHKfg_lfxR"
      },
      "execution_count": null,
      "outputs": []
    }
  ]
}