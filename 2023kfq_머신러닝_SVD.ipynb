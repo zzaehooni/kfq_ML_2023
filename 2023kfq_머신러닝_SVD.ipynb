{
  "nbformat": 4,
  "nbformat_minor": 0,
  "metadata": {
    "colab": {
      "provenance": [],
      "authorship_tag": "ABX9TyPq6RinTdZ1ox3CCwU8Dle6",
      "include_colab_link": true
    },
    "kernelspec": {
      "name": "python3",
      "display_name": "Python 3"
    },
    "language_info": {
      "name": "python"
    }
  },
  "cells": [
    {
      "cell_type": "markdown",
      "metadata": {
        "id": "view-in-github",
        "colab_type": "text"
      },
      "source": [
        "<a href=\"https://colab.research.google.com/github/ehpub/kfq_ML_2023/blob/main/2023kfq_%EB%A8%B8%EC%8B%A0%EB%9F%AC%EB%8B%9D_SVD.ipynb\" target=\"_parent\"><img src=\"https://colab.research.google.com/assets/colab-badge.svg\" alt=\"Open In Colab\"/></a>"
      ]
    },
    {
      "cell_type": "code",
      "execution_count": null,
      "metadata": {
        "id": "Yqp0ikA8sNEs"
      },
      "outputs": [],
      "source": [
        "import numpy as np\n",
        "import pandas as pd\n",
        "from numpy.linalg import svd"
      ]
    },
    {
      "cell_type": "code",
      "source": [
        "for _ in range(4):\n",
        "  np.random.seed(121) #랜덤 발생을 위한 씨앗 값 설정\n",
        "  for _ in range(10):\n",
        "    print(np.random.randint(1,10),end=' ')\n",
        "  print()"
      ],
      "metadata": {
        "colab": {
          "base_uri": "https://localhost:8080/"
        },
        "id": "Hwaed07LskDr",
        "outputId": "d9edfcb9-4c18-450c-c353-f21b0c25e490"
      },
      "execution_count": null,
      "outputs": [
        {
          "output_type": "stream",
          "name": "stdout",
          "text": [
            "3 6 9 5 2 5 4 1 3 5 \n",
            "3 6 9 5 2 5 4 1 3 5 \n",
            "3 6 9 5 2 5 4 1 3 5 \n",
            "3 6 9 5 2 5 4 1 3 5 \n"
          ]
        }
      ]
    },
    {
      "cell_type": "code",
      "source": [
        "np.random.seed(121)\n",
        "a = np.random.randn(4,4)\n",
        "print(np.round(a,3))"
      ],
      "metadata": {
        "colab": {
          "base_uri": "https://localhost:8080/"
        },
        "id": "0z4Z2JhVs3Aq",
        "outputId": "78082be2-7f82-479d-a933-541ebcc854b1"
      },
      "execution_count": null,
      "outputs": [
        {
          "output_type": "stream",
          "name": "stdout",
          "text": [
            "[[-0.212 -0.285 -0.574 -0.44 ]\n",
            " [-0.33   1.184  1.615  0.367]\n",
            " [-0.014  0.63   1.71  -1.327]\n",
            " [ 0.402 -0.191  1.404 -1.969]]\n"
          ]
        }
      ]
    },
    {
      "cell_type": "code",
      "source": [
        "u,sigma,vt = svd(a)\n",
        "print(a.shape,\"->\",u.shape,sigma.shape,vt.shape )"
      ],
      "metadata": {
        "colab": {
          "base_uri": "https://localhost:8080/"
        },
        "id": "Sm2p-dnus9-3",
        "outputId": "0f742704-d4d5-4b2f-b82f-8913eee64d74"
      },
      "execution_count": null,
      "outputs": [
        {
          "output_type": "stream",
          "name": "stdout",
          "text": [
            "(4, 4) -> (4, 4) (4,) (4, 4)\n"
          ]
        }
      ]
    },
    {
      "cell_type": "code",
      "source": [
        "sm = np.diag(sigma)\n",
        "print(np.round(sm,3))"
      ],
      "metadata": {
        "colab": {
          "base_uri": "https://localhost:8080/"
        },
        "id": "0hQGLTytujN4",
        "outputId": "e6e447c4-1b8c-47ed-9542-48abe9959b8b"
      },
      "execution_count": null,
      "outputs": [
        {
          "output_type": "stream",
          "name": "stdout",
          "text": [
            "[[3.423 0.    0.    0.   ]\n",
            " [0.    2.023 0.    0.   ]\n",
            " [0.    0.    0.463 0.   ]\n",
            " [0.    0.    0.    0.079]]\n"
          ]
        }
      ]
    },
    {
      "cell_type": "code",
      "source": [
        "a_ = np.dot(np.dot(u,sm),vt)\n",
        "print(np.round(a_,3))"
      ],
      "metadata": {
        "colab": {
          "base_uri": "https://localhost:8080/"
        },
        "id": "lB93asePu30G",
        "outputId": "6d2a367e-ca94-4984-92c9-568b4c809f2d"
      },
      "execution_count": null,
      "outputs": [
        {
          "output_type": "stream",
          "name": "stdout",
          "text": [
            "[[-0.212 -0.285 -0.574 -0.44 ]\n",
            " [-0.33   1.184  1.615  0.367]\n",
            " [-0.014  0.63   1.71  -1.327]\n",
            " [ 0.402 -0.191  1.404 -1.969]]\n"
          ]
        }
      ]
    },
    {
      "cell_type": "code",
      "source": [
        "from sklearn.datasets import load_iris\n",
        "from sklearn.preprocessing import StandardScaler\n",
        "from sklearn.decomposition import TruncatedSVD"
      ],
      "metadata": {
        "id": "9UdLkTbMvVMA"
      },
      "execution_count": null,
      "outputs": []
    },
    {
      "cell_type": "code",
      "source": [
        "iris = load_iris()\n",
        "data = iris.data\n",
        "label = iris.target\n",
        "tsvd = TruncatedSVD(n_components=2)\n",
        "tsvd_data = tsvd.fit_transform(data)"
      ],
      "metadata": {
        "id": "2q-eapspv3Wn"
      },
      "execution_count": null,
      "outputs": []
    },
    {
      "cell_type": "code",
      "source": [
        "import matplotlib.pyplot as plt"
      ],
      "metadata": {
        "id": "X0cew_25wqC8"
      },
      "execution_count": null,
      "outputs": []
    },
    {
      "cell_type": "code",
      "source": [
        "df = pd.DataFrame(tsvd_data,columns=['l1','l2'])\n",
        "df['label']=label\n",
        "markers=['^','s','o']\n",
        "tns = iris.target_names\n",
        "for i, marker in enumerate(markers):\n",
        "  f_i = df['label']==i #품종별로 필터링\n",
        "  df_i = df[f_i] #특정 품종만 추출\n",
        "  x_data = df_i['l1'] #p1컬럼 을 x 데이터로 설정\n",
        "  y_data = df_i['l2'] #p2 컬럼을 y 데이터로 설정\n",
        "  plt.scatter(x_data,y_data,marker=marker,label=tns[i])\n",
        "plt.xlabel('l1')\n",
        "plt.ylabel('l2')\n",
        "plt.legend()\n",
        "plt.show()"
      ],
      "metadata": {
        "colab": {
          "base_uri": "https://localhost:8080/",
          "height": 449
        },
        "id": "2k5xwdq1wVG4",
        "outputId": "15a3f16a-2387-4167-d3d2-f2d9137a158d"
      },
      "execution_count": null,
      "outputs": [
        {
          "output_type": "display_data",
          "data": {
            "text/plain": [
              "<Figure size 640x480 with 1 Axes>"
            ],
            "image/png": "[encoded data removed]"
          },
          "metadata": {}
        }
      ]
    },
    {
      "cell_type": "code",
      "source": [
        "from sklearn.ensemble import RandomForestClassifier\n",
        "from sklearn.model_selection import cross_val_score"
      ],
      "metadata": {
        "id": "1jGXGSSIwsUU"
      },
      "execution_count": null,
      "outputs": []
    },
    {
      "cell_type": "code",
      "source": [
        "rfc = RandomForestClassifier()\n",
        "s = cross_val_score(rfc,tsvd_data,label,scoring='accuracy',cv=5)\n",
        "print(\"정확도:\",s)\n",
        "print(\"평균:\",s.mean())"
      ],
      "metadata": {
        "colab": {
          "base_uri": "https://localhost:8080/"
        },
        "id": "sqsysQbiw_qi",
        "outputId": "6c5d490c-39f2-46bc-bf5f-dde9ad528cb4"
      },
      "execution_count": null,
      "outputs": [
        {
          "output_type": "stream",
          "name": "stdout",
          "text": [
            "정확도: [1.         0.96666667 0.96666667 0.96666667 1.        ]\n",
            "평균: 0.9800000000000001\n"
          ]
        }
      ]
    },
    {
      "cell_type": "code",
      "source": [
        "from sklearn.decomposition import PCA"
      ],
      "metadata": {
        "id": "JJZKUv9nxGTU"
      },
      "execution_count": null,
      "outputs": []
    },
    {
      "cell_type": "code",
      "source": [
        "ss = StandardScaler()\n",
        "sd = ss.fit_transform(data)\n",
        "tsvd = TruncatedSVD(n_components=2)\n",
        "tsvd_data = tsvd.fit_transform(sd)\n",
        "pca = PCA(n_components=2)\n",
        "pca_data = pca.fit_transform(sd)"
      ],
      "metadata": {
        "id": "KByBkWZ1xqJH"
      },
      "execution_count": null,
      "outputs": []
    },
    {
      "cell_type": "code",
      "source": [
        "_,axes = plt.subplots(ncols=2)\n",
        "df1 = pd.DataFrame(tsvd_data,columns=['l1','l2'])\n",
        "x_data = df1['l1'] #p1컬럼 을 x 데이터로 설정\n",
        "y_data = df1['l2'] #p2 컬럼을 y 데이터로 설정\n",
        "axes[0].scatter(x_data,y_data,marker='o')\n",
        "\n",
        "df2 = pd.DataFrame(pca_data,columns=['l1','l2'])\n",
        "x_data = df2['l1'] #p1컬럼 을 x 데이터로 설정\n",
        "y_data = df2['l2'] #p2 컬럼을 y 데이터로 설정\n",
        "axes[1].scatter(x_data,y_data,marker='o')\n",
        "\n",
        "plt.show()"
      ],
      "metadata": {
        "colab": {
          "base_uri": "https://localhost:8080/",
          "height": 430
        },
        "id": "HIeaS0tJxuru",
        "outputId": "34b1f3fa-e75c-44fa-f5c0-c37733716220"
      },
      "execution_count": null,
      "outputs": [
        {
          "output_type": "display_data",
          "data": {
            "text/plain": [
              "<Figure size 640x480 with 2 Axes>"
            ],
            "image/png": "[encoded data removed]"
          },
          "metadata": {}
        }
      ]
    },
    {
      "cell_type": "code",
      "source": [
        "from sklearn.decomposition import NMF"
      ],
      "metadata": {
        "id": "Z5zvNVlTyfKa"
      },
      "execution_count": null,
      "outputs": []
    },
    {
      "cell_type": "code",
      "source": [
        "nnf = NMF(n_components=2)\n",
        "nnf_data = nnf.fit_transform(data)"
      ],
      "metadata": {
        "colab": {
          "base_uri": "https://localhost:8080/"
        },
        "id": "cu-FxLUUEIOu",
        "outputId": "db9cbcc1-1693-4bcf-cd1d-811666dfa025"
      },
      "execution_count": null,
      "outputs": [
        {
          "output_type": "stream",
          "name": "stderr",
          "text": [
            "/usr/local/lib/python3.10/dist-packages/sklearn/decomposition/_nmf.py:1665: ConvergenceWarning: Maximum number of iterations 200 reached. Increase it to improve convergence.\n",
            "  warnings.warn(\n"
          ]
        }
      ]
    },
    {
      "cell_type": "code",
      "source": [
        "df = pd.DataFrame(nnf_data,columns=['l1','l2'])\n",
        "df['label']=label\n",
        "markers=['^','s','o']\n",
        "tns = iris.target_names\n",
        "for i, marker in enumerate(markers):\n",
        "  f_i = df['label']==i #품종별로 필터링\n",
        "  df_i = df[f_i] #특정 품종만 추출\n",
        "  x_data = df_i['l1'] #p1컬럼 을 x 데이터로 설정\n",
        "  y_data = df_i['l2'] #p2 컬럼을 y 데이터로 설정\n",
        "  plt.scatter(x_data,y_data,marker=marker,label=tns[i])\n",
        "plt.xlabel('l1')\n",
        "plt.ylabel('l2')\n",
        "plt.legend()\n",
        "plt.show()"
      ],
      "metadata": {
        "colab": {
          "base_uri": "https://localhost:8080/",
          "height": 449
        },
        "id": "QaBjC_GrEPVp",
        "outputId": "dcb44c6a-59cc-42ba-d932-1cb66e4f2a45"
      },
      "execution_count": null,
      "outputs": [
        {
          "output_type": "display_data",
          "data": {
            "text/plain": [
              "<Figure size 640x480 with 1 Axes>"
            ],
            "image/png": "[encoded data removed]"
          },
          "metadata": {}
        }
      ]
    },
    {
      "cell_type": "code",
      "source": [],
      "metadata": {
        "id": "DZ8F-4CYEiPp"
      },
      "execution_count": null,
      "outputs": []
    }
  ]
}