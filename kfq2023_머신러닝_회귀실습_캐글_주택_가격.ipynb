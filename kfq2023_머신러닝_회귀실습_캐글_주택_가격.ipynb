{
  "nbformat": 4,
  "nbformat_minor": 0,
  "metadata": {
    "colab": {
      "provenance": [],
      "mount_file_id": "14MLxOR4TfoEvC95iW9KIFFviwG8JdWiE",
      "authorship_tag": "ABX9TyNHo4mcy98pnacCRrdpBTla",
      "include_colab_link": true
    },
    "kernelspec": {
      "name": "python3",
      "display_name": "Python 3"
    },
    "language_info": {
      "name": "python"
    }
  },
  "cells": [
    {
      "cell_type": "markdown",
      "metadata": {
        "id": "view-in-github",
        "colab_type": "text"
      },
      "source": [
        "<a href=\"https://colab.research.google.com/github/ehpub/kfq_ML_2023/blob/main/kfq2023_%EB%A8%B8%EC%8B%A0%EB%9F%AC%EB%8B%9D_%ED%9A%8C%EA%B7%80%EC%8B%A4%EC%8A%B5_%EC%BA%90%EA%B8%80_%EC%A3%BC%ED%83%9D_%EA%B0%80%EA%B2%A9.ipynb\" target=\"_parent\"><img src=\"https://colab.research.google.com/assets/colab-badge.svg\" alt=\"Open In Colab\"/></a>"
      ]
    },
    {
      "cell_type": "markdown",
      "source": [
        "강의 교재 : https://wikibook.co.kr/pymlrev2/"
      ],
      "metadata": {
        "id": "ucGVcO6_pYR9"
      }
    },
    {
      "cell_type": "code",
      "execution_count": 1,
      "metadata": {
        "id": "KcTFbKJWpP39"
      },
      "outputs": [],
      "source": [
        "path = '/content/drive/MyDrive/mldata/house_train.csv'"
      ]
    },
    {
      "cell_type": "code",
      "source": [
        "import pandas as pd\n",
        "import numpy as np\n",
        "import matplotlib.pyplot as plt\n",
        "import seaborn as sns"
      ],
      "metadata": {
        "id": "Idia2fjEp732"
      },
      "execution_count": 2,
      "outputs": []
    },
    {
      "cell_type": "code",
      "source": [
        "df = pd.read_csv(path)\n",
        "df"
      ],
      "metadata": {
        "colab": {
          "base_uri": "https://localhost:8080/",
          "height": 487
        },
        "id": "iQqstZKPqB89",
        "outputId": "a5c8f41d-7f8d-42b4-b333-c7e8c0fabc43"
      },
      "execution_count": 3,
      "outputs": [
        {
          "output_type": "execute_result",
          "data": {
            "text/plain": [
              "        Id  MSSubClass MSZoning  LotFrontage  LotArea Street Alley LotShape  \\\n",
              "0        1          60       RL         65.0     8450   Pave   NaN      Reg   \n",
              "1        2          20       RL         80.0     9600   Pave   NaN      Reg   \n",
              "2        3          60       RL         68.0    11250   Pave   NaN      IR1   \n",
              "3        4          70       RL         60.0     9550   Pave   NaN      IR1   \n",
              "4        5          60       RL         84.0    14260   Pave   NaN      IR1   \n",
              "...    ...         ...      ...          ...      ...    ...   ...      ...   \n",
              "1455  1456          60       RL         62.0     7917   Pave   NaN      Reg   \n",
              "1456  1457          20       RL         85.0    13175   Pave   NaN      Reg   \n",
              "1457  1458          70       RL         66.0     9042   Pave   NaN      Reg   \n",
              "1458  1459          20       RL         68.0     9717   Pave   NaN      Reg   \n",
              "1459  1460          20       RL         75.0     9937   Pave   NaN      Reg   \n",
              "\n",
              "     LandContour Utilities  ... PoolArea PoolQC  Fence MiscFeature MiscVal  \\\n",
              "0            Lvl    AllPub  ...        0    NaN    NaN         NaN       0   \n",
              "1            Lvl    AllPub  ...        0    NaN    NaN         NaN       0   \n",
              "2            Lvl    AllPub  ...        0    NaN    NaN         NaN       0   \n",
              "3            Lvl    AllPub  ...        0    NaN    NaN         NaN       0   \n",
              "4            Lvl    AllPub  ...        0    NaN    NaN         NaN       0   \n",
              "...          ...       ...  ...      ...    ...    ...         ...     ...   \n",
              "1455         Lvl    AllPub  ...        0    NaN    NaN         NaN       0   \n",
              "1456         Lvl    AllPub  ...        0    NaN  MnPrv         NaN       0   \n",
              "1457         Lvl    AllPub  ...        0    NaN  GdPrv        Shed    2500   \n",
              "1458         Lvl    AllPub  ...        0    NaN    NaN         NaN       0   \n",
              "1459         Lvl    AllPub  ...        0    NaN    NaN         NaN       0   \n",
              "\n",
              "     MoSold YrSold  SaleType  SaleCondition  SalePrice  \n",
              "0         2   2008        WD         Normal     208500  \n",
              "1         5   2007        WD         Normal     181500  \n",
              "2         9   2008        WD         Normal     223500  \n",
              "3         2   2006        WD        Abnorml     140000  \n",
              "4        12   2008        WD         Normal     250000  \n",
              "...     ...    ...       ...            ...        ...  \n",
              "1455      8   2007        WD         Normal     175000  \n",
              "1456      2   2010        WD         Normal     210000  \n",
              "1457      5   2010        WD         Normal     266500  \n",
              "1458      4   2010        WD         Normal     142125  \n",
              "1459      6   2008        WD         Normal     147500  \n",
              "\n",
              "[1460 rows x 81 columns]"
            ],
            "text/html": [
              "\n",
              "  <div id=\"df-65f88566-9206-4669-90b8-13e8b343ebf6\">\n",
              "    <div class=\"colab-df-container\">\n",
              "      <div>\n",
              "<style scoped>\n",
              "    .dataframe tbody tr th:only-of-type {\n",
              "        vertical-align: middle;\n",
              "    }\n",
              "\n",
              "    .dataframe tbody tr th {\n",
              "        vertical-align: top;\n",
              "    }\n",
              "\n",
              "    .dataframe thead th {\n",
              "        text-align: right;\n",
              "    }\n",
              "</style>\n",
              "<table border=\"1\" class=\"dataframe\">\n",
              "  <thead>\n",
              "    <tr style=\"text-align: right;\">\n",
              "      <th></th>\n",
              "      <th>Id</th>\n",
              "      <th>MSSubClass</th>\n",
              "      <th>MSZoning</th>\n",
              "      <th>LotFrontage</th>\n",
              "      <th>LotArea</th>\n",
              "      <th>Street</th>\n",
              "      <th>Alley</th>\n",
              "      <th>LotShape</th>\n",
              "      <th>LandContour</th>\n",
              "      <th>Utilities</th>\n",
              "      <th>...</th>\n",
              "      <th>PoolArea</th>\n",
              "      <th>PoolQC</th>\n",
              "      <th>Fence</th>\n",
              "      <th>MiscFeature</th>\n",
              "      <th>MiscVal</th>\n",
              "      <th>MoSold</th>\n",
              "      <th>YrSold</th>\n",
              "      <th>SaleType</th>\n",
              "      <th>SaleCondition</th>\n",
              "      <th>SalePrice</th>\n",
              "    </tr>\n",
              "  </thead>\n",
              "  <tbody>\n",
              "    <tr>\n",
              "      <th>0</th>\n",
              "      <td>1</td>\n",
              "      <td>60</td>\n",
              "      <td>RL</td>\n",
              "      <td>65.0</td>\n",
              "      <td>8450</td>\n",
              "      <td>Pave</td>\n",
              "      <td>NaN</td>\n",
              "      <td>Reg</td>\n",
              "      <td>Lvl</td>\n",
              "      <td>AllPub</td>\n",
              "      <td>...</td>\n",
              "      <td>0</td>\n",
              "      <td>NaN</td>\n",
              "      <td>NaN</td>\n",
              "      <td>NaN</td>\n",
              "      <td>0</td>\n",
              "      <td>2</td>\n",
              "      <td>2008</td>\n",
              "      <td>WD</td>\n",
              "      <td>Normal</td>\n",
              "      <td>208500</td>\n",
              "    </tr>\n",
              "    <tr>\n",
              "      <th>1</th>\n",
              "      <td>2</td>\n",
              "      <td>20</td>\n",
              "      <td>RL</td>\n",
              "      <td>80.0</td>\n",
              "      <td>9600</td>\n",
              "      <td>Pave</td>\n",
              "      <td>NaN</td>\n",
              "      <td>Reg</td>\n",
              "      <td>Lvl</td>\n",
              "      <td>AllPub</td>\n",
              "      <td>...</td>\n",
              "      <td>0</td>\n",
              "      <td>NaN</td>\n",
              "      <td>NaN</td>\n",
              "      <td>NaN</td>\n",
              "      <td>0</td>\n",
              "      <td>5</td>\n",
              "      <td>2007</td>\n",
              "      <td>WD</td>\n",
              "      <td>Normal</td>\n",
              "      <td>181500</td>\n",
              "    </tr>\n",
              "    <tr>\n",
              "      <th>2</th>\n",
              "      <td>3</td>\n",
              "      <td>60</td>\n",
              "      <td>RL</td>\n",
              "      <td>68.0</td>\n",
              "      <td>11250</td>\n",
              "      <td>Pave</td>\n",
              "      <td>NaN</td>\n",
              "      <td>IR1</td>\n",
              "      <td>Lvl</td>\n",
              "      <td>AllPub</td>\n",
              "      <td>...</td>\n",
              "      <td>0</td>\n",
              "      <td>NaN</td>\n",
              "      <td>NaN</td>\n",
              "      <td>NaN</td>\n",
              "      <td>0</td>\n",
              "      <td>9</td>\n",
              "      <td>2008</td>\n",
              "      <td>WD</td>\n",
              "      <td>Normal</td>\n",
              "      <td>223500</td>\n",
              "    </tr>\n",
              "    <tr>\n",
              "      <th>3</th>\n",
              "      <td>4</td>\n",
              "      <td>70</td>\n",
              "      <td>RL</td>\n",
              "      <td>60.0</td>\n",
              "      <td>9550</td>\n",
              "      <td>Pave</td>\n",
              "      <td>NaN</td>\n",
              "      <td>IR1</td>\n",
              "      <td>Lvl</td>\n",
              "      <td>AllPub</td>\n",
              "      <td>...</td>\n",
              "      <td>0</td>\n",
              "      <td>NaN</td>\n",
              "      <td>NaN</td>\n",
              "      <td>NaN</td>\n",
              "      <td>0</td>\n",
              "      <td>2</td>\n",
              "      <td>2006</td>\n",
              "      <td>WD</td>\n",
              "      <td>Abnorml</td>\n",
              "      <td>140000</td>\n",
              "    </tr>\n",
              "    <tr>\n",
              "      <th>4</th>\n",
              "      <td>5</td>\n",
              "      <td>60</td>\n",
              "      <td>RL</td>\n",
              "      <td>84.0</td>\n",
              "      <td>14260</td>\n",
              "      <td>Pave</td>\n",
              "      <td>NaN</td>\n",
              "      <td>IR1</td>\n",
              "      <td>Lvl</td>\n",
              "      <td>AllPub</td>\n",
              "      <td>...</td>\n",
              "      <td>0</td>\n",
              "      <td>NaN</td>\n",
              "      <td>NaN</td>\n",
              "      <td>NaN</td>\n",
              "      <td>0</td>\n",
              "      <td>12</td>\n",
              "      <td>2008</td>\n",
              "      <td>WD</td>\n",
              "      <td>Normal</td>\n",
              "      <td>250000</td>\n",
              "    </tr>\n",
              "    <tr>\n",
              "      <th>...</th>\n",
              "      <td>...</td>\n",
              "      <td>...</td>\n",
              "      <td>...</td>\n",
              "      <td>...</td>\n",
              "      <td>...</td>\n",
              "      <td>...</td>\n",
              "      <td>...</td>\n",
              "      <td>...</td>\n",
              "      <td>...</td>\n",
              "      <td>...</td>\n",
              "      <td>...</td>\n",
              "      <td>...</td>\n",
              "      <td>...</td>\n",
              "      <td>...</td>\n",
              "      <td>...</td>\n",
              "      <td>...</td>\n",
              "      <td>...</td>\n",
              "      <td>...</td>\n",
              "      <td>...</td>\n",
              "      <td>...</td>\n",
              "      <td>...</td>\n",
              "    </tr>\n",
              "    <tr>\n",
              "      <th>1455</th>\n",
              "      <td>1456</td>\n",
              "      <td>60</td>\n",
              "      <td>RL</td>\n",
              "      <td>62.0</td>\n",
              "      <td>7917</td>\n",
              "      <td>Pave</td>\n",
              "      <td>NaN</td>\n",
              "      <td>Reg</td>\n",
              "      <td>Lvl</td>\n",
              "      <td>AllPub</td>\n",
              "      <td>...</td>\n",
              "      <td>0</td>\n",
              "      <td>NaN</td>\n",
              "      <td>NaN</td>\n",
              "      <td>NaN</td>\n",
              "      <td>0</td>\n",
              "      <td>8</td>\n",
              "      <td>2007</td>\n",
              "      <td>WD</td>\n",
              "      <td>Normal</td>\n",
              "      <td>175000</td>\n",
              "    </tr>\n",
              "    <tr>\n",
              "      <th>1456</th>\n",
              "      <td>1457</td>\n",
              "      <td>20</td>\n",
              "      <td>RL</td>\n",
              "      <td>85.0</td>\n",
              "      <td>13175</td>\n",
              "      <td>Pave</td>\n",
              "      <td>NaN</td>\n",
              "      <td>Reg</td>\n",
              "      <td>Lvl</td>\n",
              "      <td>AllPub</td>\n",
              "      <td>...</td>\n",
              "      <td>0</td>\n",
              "      <td>NaN</td>\n",
              "      <td>MnPrv</td>\n",
              "      <td>NaN</td>\n",
              "      <td>0</td>\n",
              "      <td>2</td>\n",
              "      <td>2010</td>\n",
              "      <td>WD</td>\n",
              "      <td>Normal</td>\n",
              "      <td>210000</td>\n",
              "    </tr>\n",
              "    <tr>\n",
              "      <th>1457</th>\n",
              "      <td>1458</td>\n",
              "      <td>70</td>\n",
              "      <td>RL</td>\n",
              "      <td>66.0</td>\n",
              "      <td>9042</td>\n",
              "      <td>Pave</td>\n",
              "      <td>NaN</td>\n",
              "      <td>Reg</td>\n",
              "      <td>Lvl</td>\n",
              "      <td>AllPub</td>\n",
              "      <td>...</td>\n",
              "      <td>0</td>\n",
              "      <td>NaN</td>\n",
              "      <td>GdPrv</td>\n",
              "      <td>Shed</td>\n",
              "      <td>2500</td>\n",
              "      <td>5</td>\n",
              "      <td>2010</td>\n",
              "      <td>WD</td>\n",
              "      <td>Normal</td>\n",
              "      <td>266500</td>\n",
              "    </tr>\n",
              "    <tr>\n",
              "      <th>1458</th>\n",
              "      <td>1459</td>\n",
              "      <td>20</td>\n",
              "      <td>RL</td>\n",
              "      <td>68.0</td>\n",
              "      <td>9717</td>\n",
              "      <td>Pave</td>\n",
              "      <td>NaN</td>\n",
              "      <td>Reg</td>\n",
              "      <td>Lvl</td>\n",
              "      <td>AllPub</td>\n",
              "      <td>...</td>\n",
              "      <td>0</td>\n",
              "      <td>NaN</td>\n",
              "      <td>NaN</td>\n",
              "      <td>NaN</td>\n",
              "      <td>0</td>\n",
              "      <td>4</td>\n",
              "      <td>2010</td>\n",
              "      <td>WD</td>\n",
              "      <td>Normal</td>\n",
              "      <td>142125</td>\n",
              "    </tr>\n",
              "    <tr>\n",
              "      <th>1459</th>\n",
              "      <td>1460</td>\n",
              "      <td>20</td>\n",
              "      <td>RL</td>\n",
              "      <td>75.0</td>\n",
              "      <td>9937</td>\n",
              "      <td>Pave</td>\n",
              "      <td>NaN</td>\n",
              "      <td>Reg</td>\n",
              "      <td>Lvl</td>\n",
              "      <td>AllPub</td>\n",
              "      <td>...</td>\n",
              "      <td>0</td>\n",
              "      <td>NaN</td>\n",
              "      <td>NaN</td>\n",
              "      <td>NaN</td>\n",
              "      <td>0</td>\n",
              "      <td>6</td>\n",
              "      <td>2008</td>\n",
              "      <td>WD</td>\n",
              "      <td>Normal</td>\n",
              "      <td>147500</td>\n",
              "    </tr>\n",
              "  </tbody>\n",
              "</table>\n",
              "<p>1460 rows × 81 columns</p>\n",
              "</div>\n",
              "      <button class=\"colab-df-convert\" onclick=\"convertToInteractive('df-65f88566-9206-4669-90b8-13e8b343ebf6')\"\n",
              "              title=\"Convert this dataframe to an interactive table.\"\n",
              "              style=\"display:none;\">\n",
              "        \n",
              "  <svg xmlns=\"http://www.w3.org/2000/svg\" height=\"24px\"viewBox=\"0 0 24 24\"\n",
              "       width=\"24px\">\n",
              "    <path d=\"M0 0h24v24H0V0z\" fill=\"none\"/>\n",
              "    <path d=\"M18.56 5.44l.94 2.06.94-2.06 2.06-.94-2.06-.94-.94-2.06-.94 2.06-2.06.94zm-11 1L8.5 8.5l.94-2.06 2.06-.94-2.06-.94L8.5 2.5l-.94 2.06-2.06.94zm10 10l.94 2.06.94-2.06 2.06-.94-2.06-.94-.94-2.06-.94 2.06-2.06.94z\"/><path d=\"M17.41 7.96l-1.37-1.37c-.4-.4-.92-.59-1.43-.59-.52 0-1.04.2-1.43.59L10.3 9.45l-7.72 7.72c-.78.78-.78 2.05 0 2.83L4 21.41c.39.39.9.59 1.41.59.51 0 1.02-.2 1.41-.59l7.78-7.78 2.81-2.81c.8-.78.8-2.07 0-2.86zM5.41 20L4 18.59l7.72-7.72 1.47 1.35L5.41 20z\"/>\n",
              "  </svg>\n",
              "      </button>\n",
              "      \n",
              "  <style>\n",
              "    .colab-df-container {\n",
              "      display:flex;\n",
              "      flex-wrap:wrap;\n",
              "      gap: 12px;\n",
              "    }\n",
              "\n",
              "    .colab-df-convert {\n",
              "      background-color: #E8F0FE;\n",
              "      border: none;\n",
              "      border-radius: 50%;\n",
              "      cursor: pointer;\n",
              "      display: none;\n",
              "      fill: #1967D2;\n",
              "      height: 32px;\n",
              "      padding: 0 0 0 0;\n",
              "      width: 32px;\n",
              "    }\n",
              "\n",
              "    .colab-df-convert:hover {\n",
              "      background-color: #E2EBFA;\n",
              "      box-shadow: 0px 1px 2px rgba(60, 64, 67, 0.3), 0px 1px 3px 1px rgba(60, 64, 67, 0.15);\n",
              "      fill: #174EA6;\n",
              "    }\n",
              "\n",
              "    [theme=dark] .colab-df-convert {\n",
              "      background-color: #3B4455;\n",
              "      fill: #D2E3FC;\n",
              "    }\n",
              "\n",
              "    [theme=dark] .colab-df-convert:hover {\n",
              "      background-color: #434B5C;\n",
              "      box-shadow: 0px 1px 3px 1px rgba(0, 0, 0, 0.15);\n",
              "      filter: drop-shadow(0px 1px 2px rgba(0, 0, 0, 0.3));\n",
              "      fill: #FFFFFF;\n",
              "    }\n",
              "  </style>\n",
              "\n",
              "      <script>\n",
              "        const buttonEl =\n",
              "          document.querySelector('#df-65f88566-9206-4669-90b8-13e8b343ebf6 button.colab-df-convert');\n",
              "        buttonEl.style.display =\n",
              "          google.colab.kernel.accessAllowed ? 'block' : 'none';\n",
              "\n",
              "        async function convertToInteractive(key) {\n",
              "          const element = document.querySelector('#df-65f88566-9206-4669-90b8-13e8b343ebf6');\n",
              "          const dataTable =\n",
              "            await google.colab.kernel.invokeFunction('convertToInteractive',\n",
              "                                                     [key], {});\n",
              "          if (!dataTable) return;\n",
              "\n",
              "          const docLinkHtml = 'Like what you see? Visit the ' +\n",
              "            '<a target=\"_blank\" href=https://colab.research.google.com/notebooks/data_table.ipynb>data table notebook</a>'\n",
              "            + ' to learn more about interactive tables.';\n",
              "          element.innerHTML = '';\n",
              "          dataTable['output_type'] = 'display_data';\n",
              "          await google.colab.output.renderOutput(dataTable, element);\n",
              "          const docLink = document.createElement('div');\n",
              "          docLink.innerHTML = docLinkHtml;\n",
              "          element.appendChild(docLink);\n",
              "        }\n",
              "      </script>\n",
              "    </div>\n",
              "  </div>\n",
              "  "
            ]
          },
          "metadata": {},
          "execution_count": 3
        }
      ]
    },
    {
      "cell_type": "code",
      "source": [
        "df.info()"
      ],
      "metadata": {
        "colab": {
          "base_uri": "https://localhost:8080/"
        },
        "id": "o6LQbYg_qFo7",
        "outputId": "217cb5a1-633b-4f0c-b558-3158c2c8b48d"
      },
      "execution_count": 4,
      "outputs": [
        {
          "output_type": "stream",
          "name": "stdout",
          "text": [
            "<class 'pandas.core.frame.DataFrame'>\n",
            "RangeIndex: 1460 entries, 0 to 1459\n",
            "Data columns (total 81 columns):\n",
            " #   Column         Non-Null Count  Dtype  \n",
            "---  ------         --------------  -----  \n",
            " 0   Id             1460 non-null   int64  \n",
            " 1   MSSubClass     1460 non-null   int64  \n",
            " 2   MSZoning       1460 non-null   object \n",
            " 3   LotFrontage    1201 non-null   float64\n",
            " 4   LotArea        1460 non-null   int64  \n",
            " 5   Street         1460 non-null   object \n",
            " 6   Alley          91 non-null     object \n",
            " 7   LotShape       1460 non-null   object \n",
            " 8   LandContour    1460 non-null   object \n",
            " 9   Utilities      1460 non-null   object \n",
            " 10  LotConfig      1460 non-null   object \n",
            " 11  LandSlope      1460 non-null   object \n",
            " 12  Neighborhood   1460 non-null   object \n",
            " 13  Condition1     1460 non-null   object \n",
            " 14  Condition2     1460 non-null   object \n",
            " 15  BldgType       1460 non-null   object \n",
            " 16  HouseStyle     1460 non-null   object \n",
            " 17  OverallQual    1460 non-null   int64  \n",
            " 18  OverallCond    1460 non-null   int64  \n",
            " 19  YearBuilt      1460 non-null   int64  \n",
            " 20  YearRemodAdd   1460 non-null   int64  \n",
            " 21  RoofStyle      1460 non-null   object \n",
            " 22  RoofMatl       1460 non-null   object \n",
            " 23  Exterior1st    1460 non-null   object \n",
            " 24  Exterior2nd    1460 non-null   object \n",
            " 25  MasVnrType     1452 non-null   object \n",
            " 26  MasVnrArea     1452 non-null   float64\n",
            " 27  ExterQual      1460 non-null   object \n",
            " 28  ExterCond      1460 non-null   object \n",
            " 29  Foundation     1460 non-null   object \n",
            " 30  BsmtQual       1423 non-null   object \n",
            " 31  BsmtCond       1423 non-null   object \n",
            " 32  BsmtExposure   1422 non-null   object \n",
            " 33  BsmtFinType1   1423 non-null   object \n",
            " 34  BsmtFinSF1     1460 non-null   int64  \n",
            " 35  BsmtFinType2   1422 non-null   object \n",
            " 36  BsmtFinSF2     1460 non-null   int64  \n",
            " 37  BsmtUnfSF      1460 non-null   int64  \n",
            " 38  TotalBsmtSF    1460 non-null   int64  \n",
            " 39  Heating        1460 non-null   object \n",
            " 40  HeatingQC      1460 non-null   object \n",
            " 41  CentralAir     1460 non-null   object \n",
            " 42  Electrical     1459 non-null   object \n",
            " 43  1stFlrSF       1460 non-null   int64  \n",
            " 44  2ndFlrSF       1460 non-null   int64  \n",
            " 45  LowQualFinSF   1460 non-null   int64  \n",
            " 46  GrLivArea      1460 non-null   int64  \n",
            " 47  BsmtFullBath   1460 non-null   int64  \n",
            " 48  BsmtHalfBath   1460 non-null   int64  \n",
            " 49  FullBath       1460 non-null   int64  \n",
            " 50  HalfBath       1460 non-null   int64  \n",
            " 51  BedroomAbvGr   1460 non-null   int64  \n",
            " 52  KitchenAbvGr   1460 non-null   int64  \n",
            " 53  KitchenQual    1460 non-null   object \n",
            " 54  TotRmsAbvGrd   1460 non-null   int64  \n",
            " 55  Functional     1460 non-null   object \n",
            " 56  Fireplaces     1460 non-null   int64  \n",
            " 57  FireplaceQu    770 non-null    object \n",
            " 58  GarageType     1379 non-null   object \n",
            " 59  GarageYrBlt    1379 non-null   float64\n",
            " 60  GarageFinish   1379 non-null   object \n",
            " 61  GarageCars     1460 non-null   int64  \n",
            " 62  GarageArea     1460 non-null   int64  \n",
            " 63  GarageQual     1379 non-null   object \n",
            " 64  GarageCond     1379 non-null   object \n",
            " 65  PavedDrive     1460 non-null   object \n",
            " 66  WoodDeckSF     1460 non-null   int64  \n",
            " 67  OpenPorchSF    1460 non-null   int64  \n",
            " 68  EnclosedPorch  1460 non-null   int64  \n",
            " 69  3SsnPorch      1460 non-null   int64  \n",
            " 70  ScreenPorch    1460 non-null   int64  \n",
            " 71  PoolArea       1460 non-null   int64  \n",
            " 72  PoolQC         7 non-null      object \n",
            " 73  Fence          281 non-null    object \n",
            " 74  MiscFeature    54 non-null     object \n",
            " 75  MiscVal        1460 non-null   int64  \n",
            " 76  MoSold         1460 non-null   int64  \n",
            " 77  YrSold         1460 non-null   int64  \n",
            " 78  SaleType       1460 non-null   object \n",
            " 79  SaleCondition  1460 non-null   object \n",
            " 80  SalePrice      1460 non-null   int64  \n",
            "dtypes: float64(3), int64(35), object(43)\n",
            "memory usage: 924.0+ KB\n"
          ]
        }
      ]
    },
    {
      "cell_type": "code",
      "source": [
        "ns = df.isnull().sum()\n",
        "ncs = ns[ns>100].index\n",
        "df = df.drop(ncs,axis=1)"
      ],
      "metadata": {
        "id": "I9R8tFJcqVtI"
      },
      "execution_count": 13,
      "outputs": []
    },
    {
      "cell_type": "code",
      "source": [
        "ns = df.isnull().sum()\n",
        "df[ns[ns>0].index].info()"
      ],
      "metadata": {
        "colab": {
          "base_uri": "https://localhost:8080/"
        },
        "id": "ZoPFs9szq7uG",
        "outputId": "357ea781-6efa-4470-f0db-3e7775a3a5eb"
      },
      "execution_count": 17,
      "outputs": [
        {
          "output_type": "stream",
          "name": "stdout",
          "text": [
            "<class 'pandas.core.frame.DataFrame'>\n",
            "RangeIndex: 1460 entries, 0 to 1459\n",
            "Data columns (total 13 columns):\n",
            " #   Column        Non-Null Count  Dtype  \n",
            "---  ------        --------------  -----  \n",
            " 0   MasVnrType    1452 non-null   object \n",
            " 1   MasVnrArea    1452 non-null   float64\n",
            " 2   BsmtQual      1423 non-null   object \n",
            " 3   BsmtCond      1423 non-null   object \n",
            " 4   BsmtExposure  1422 non-null   object \n",
            " 5   BsmtFinType1  1423 non-null   object \n",
            " 6   BsmtFinType2  1422 non-null   object \n",
            " 7   Electrical    1459 non-null   object \n",
            " 8   GarageType    1379 non-null   object \n",
            " 9   GarageYrBlt   1379 non-null   float64\n",
            " 10  GarageFinish  1379 non-null   object \n",
            " 11  GarageQual    1379 non-null   object \n",
            " 12  GarageCond    1379 non-null   object \n",
            "dtypes: float64(2), object(11)\n",
            "memory usage: 148.4+ KB\n"
          ]
        }
      ]
    },
    {
      "cell_type": "code",
      "source": [
        "df[['MasVnrArea','GarageYrBlt']].describe()"
      ],
      "metadata": {
        "colab": {
          "base_uri": "https://localhost:8080/",
          "height": 300
        },
        "id": "iEG3rL02sGIO",
        "outputId": "bf5c9124-77ae-4f30-fbd6-9a0f2cccb661"
      },
      "execution_count": 18,
      "outputs": [
        {
          "output_type": "execute_result",
          "data": {
            "text/plain": [
              "        MasVnrArea  GarageYrBlt\n",
              "count  1452.000000  1379.000000\n",
              "mean    103.685262  1978.506164\n",
              "std     181.066207    24.689725\n",
              "min       0.000000  1900.000000\n",
              "25%       0.000000  1961.000000\n",
              "50%       0.000000  1980.000000\n",
              "75%     166.000000  2002.000000\n",
              "max    1600.000000  2010.000000"
            ],
            "text/html": [
              "\n",
              "  <div id=\"df-f4d4f596-ade7-44b5-99f2-542e79621978\">\n",
              "    <div class=\"colab-df-container\">\n",
              "      <div>\n",
              "<style scoped>\n",
              "    .dataframe tbody tr th:only-of-type {\n",
              "        vertical-align: middle;\n",
              "    }\n",
              "\n",
              "    .dataframe tbody tr th {\n",
              "        vertical-align: top;\n",
              "    }\n",
              "\n",
              "    .dataframe thead th {\n",
              "        text-align: right;\n",
              "    }\n",
              "</style>\n",
              "<table border=\"1\" class=\"dataframe\">\n",
              "  <thead>\n",
              "    <tr style=\"text-align: right;\">\n",
              "      <th></th>\n",
              "      <th>MasVnrArea</th>\n",
              "      <th>GarageYrBlt</th>\n",
              "    </tr>\n",
              "  </thead>\n",
              "  <tbody>\n",
              "    <tr>\n",
              "      <th>count</th>\n",
              "      <td>1452.000000</td>\n",
              "      <td>1379.000000</td>\n",
              "    </tr>\n",
              "    <tr>\n",
              "      <th>mean</th>\n",
              "      <td>103.685262</td>\n",
              "      <td>1978.506164</td>\n",
              "    </tr>\n",
              "    <tr>\n",
              "      <th>std</th>\n",
              "      <td>181.066207</td>\n",
              "      <td>24.689725</td>\n",
              "    </tr>\n",
              "    <tr>\n",
              "      <th>min</th>\n",
              "      <td>0.000000</td>\n",
              "      <td>1900.000000</td>\n",
              "    </tr>\n",
              "    <tr>\n",
              "      <th>25%</th>\n",
              "      <td>0.000000</td>\n",
              "      <td>1961.000000</td>\n",
              "    </tr>\n",
              "    <tr>\n",
              "      <th>50%</th>\n",
              "      <td>0.000000</td>\n",
              "      <td>1980.000000</td>\n",
              "    </tr>\n",
              "    <tr>\n",
              "      <th>75%</th>\n",
              "      <td>166.000000</td>\n",
              "      <td>2002.000000</td>\n",
              "    </tr>\n",
              "    <tr>\n",
              "      <th>max</th>\n",
              "      <td>1600.000000</td>\n",
              "      <td>2010.000000</td>\n",
              "    </tr>\n",
              "  </tbody>\n",
              "</table>\n",
              "</div>\n",
              "      <button class=\"colab-df-convert\" onclick=\"convertToInteractive('df-f4d4f596-ade7-44b5-99f2-542e79621978')\"\n",
              "              title=\"Convert this dataframe to an interactive table.\"\n",
              "              style=\"display:none;\">\n",
              "        \n",
              "  <svg xmlns=\"http://www.w3.org/2000/svg\" height=\"24px\"viewBox=\"0 0 24 24\"\n",
              "       width=\"24px\">\n",
              "    <path d=\"M0 0h24v24H0V0z\" fill=\"none\"/>\n",
              "    <path d=\"M18.56 5.44l.94 2.06.94-2.06 2.06-.94-2.06-.94-.94-2.06-.94 2.06-2.06.94zm-11 1L8.5 8.5l.94-2.06 2.06-.94-2.06-.94L8.5 2.5l-.94 2.06-2.06.94zm10 10l.94 2.06.94-2.06 2.06-.94-2.06-.94-.94-2.06-.94 2.06-2.06.94z\"/><path d=\"M17.41 7.96l-1.37-1.37c-.4-.4-.92-.59-1.43-.59-.52 0-1.04.2-1.43.59L10.3 9.45l-7.72 7.72c-.78.78-.78 2.05 0 2.83L4 21.41c.39.39.9.59 1.41.59.51 0 1.02-.2 1.41-.59l7.78-7.78 2.81-2.81c.8-.78.8-2.07 0-2.86zM5.41 20L4 18.59l7.72-7.72 1.47 1.35L5.41 20z\"/>\n",
              "  </svg>\n",
              "      </button>\n",
              "      \n",
              "  <style>\n",
              "    .colab-df-container {\n",
              "      display:flex;\n",
              "      flex-wrap:wrap;\n",
              "      gap: 12px;\n",
              "    }\n",
              "\n",
              "    .colab-df-convert {\n",
              "      background-color: #E8F0FE;\n",
              "      border: none;\n",
              "      border-radius: 50%;\n",
              "      cursor: pointer;\n",
              "      display: none;\n",
              "      fill: #1967D2;\n",
              "      height: 32px;\n",
              "      padding: 0 0 0 0;\n",
              "      width: 32px;\n",
              "    }\n",
              "\n",
              "    .colab-df-convert:hover {\n",
              "      background-color: #E2EBFA;\n",
              "      box-shadow: 0px 1px 2px rgba(60, 64, 67, 0.3), 0px 1px 3px 1px rgba(60, 64, 67, 0.15);\n",
              "      fill: #174EA6;\n",
              "    }\n",
              "\n",
              "    [theme=dark] .colab-df-convert {\n",
              "      background-color: #3B4455;\n",
              "      fill: #D2E3FC;\n",
              "    }\n",
              "\n",
              "    [theme=dark] .colab-df-convert:hover {\n",
              "      background-color: #434B5C;\n",
              "      box-shadow: 0px 1px 3px 1px rgba(0, 0, 0, 0.15);\n",
              "      filter: drop-shadow(0px 1px 2px rgba(0, 0, 0, 0.3));\n",
              "      fill: #FFFFFF;\n",
              "    }\n",
              "  </style>\n",
              "\n",
              "      <script>\n",
              "        const buttonEl =\n",
              "          document.querySelector('#df-f4d4f596-ade7-44b5-99f2-542e79621978 button.colab-df-convert');\n",
              "        buttonEl.style.display =\n",
              "          google.colab.kernel.accessAllowed ? 'block' : 'none';\n",
              "\n",
              "        async function convertToInteractive(key) {\n",
              "          const element = document.querySelector('#df-f4d4f596-ade7-44b5-99f2-542e79621978');\n",
              "          const dataTable =\n",
              "            await google.colab.kernel.invokeFunction('convertToInteractive',\n",
              "                                                     [key], {});\n",
              "          if (!dataTable) return;\n",
              "\n",
              "          const docLinkHtml = 'Like what you see? Visit the ' +\n",
              "            '<a target=\"_blank\" href=https://colab.research.google.com/notebooks/data_table.ipynb>data table notebook</a>'\n",
              "            + ' to learn more about interactive tables.';\n",
              "          element.innerHTML = '';\n",
              "          dataTable['output_type'] = 'display_data';\n",
              "          await google.colab.output.renderOutput(dataTable, element);\n",
              "          const docLink = document.createElement('div');\n",
              "          docLink.innerHTML = docLinkHtml;\n",
              "          element.appendChild(docLink);\n",
              "        }\n",
              "      </script>\n",
              "    </div>\n",
              "  </div>\n",
              "  "
            ]
          },
          "metadata": {},
          "execution_count": 18
        }
      ]
    },
    {
      "cell_type": "code",
      "source": [
        "df['MasVnrArea'].info()"
      ],
      "metadata": {
        "colab": {
          "base_uri": "https://localhost:8080/"
        },
        "id": "Pg89RIqGs_RB",
        "outputId": "97aa4477-659a-440b-ceff-4ec6d2aa8a2c"
      },
      "execution_count": 21,
      "outputs": [
        {
          "output_type": "stream",
          "name": "stdout",
          "text": [
            "<class 'pandas.core.series.Series'>\n",
            "RangeIndex: 1460 entries, 0 to 1459\n",
            "Series name: MasVnrArea\n",
            "Non-Null Count  Dtype  \n",
            "--------------  -----  \n",
            "1452 non-null   float64\n",
            "dtypes: float64(1)\n",
            "memory usage: 11.5 KB\n"
          ]
        }
      ]
    },
    {
      "cell_type": "code",
      "source": [
        "df = df[df['MasVnrArea'].notnull()]"
      ],
      "metadata": {
        "id": "5JoDeL-ltL1B"
      },
      "execution_count": 23,
      "outputs": []
    },
    {
      "cell_type": "code",
      "source": [
        "df = df[df['GarageYrBlt'].notnull()]"
      ],
      "metadata": {
        "colab": {
          "base_uri": "https://localhost:8080/"
        },
        "id": "6FoQG9Nut-Ow",
        "outputId": "f84b3a74-79fe-4b4d-b39f-264bd51eaa64"
      },
      "execution_count": 30,
      "outputs": [
        {
          "output_type": "stream",
          "name": "stdout",
          "text": [
            "<class 'pandas.core.frame.DataFrame'>\n",
            "Int64Index: 1371 entries, 0 to 1459\n",
            "Data columns (total 75 columns):\n",
            " #   Column         Non-Null Count  Dtype  \n",
            "---  ------         --------------  -----  \n",
            " 0   Id             1371 non-null   int64  \n",
            " 1   MSSubClass     1371 non-null   int64  \n",
            " 2   MSZoning       1371 non-null   object \n",
            " 3   LotArea        1371 non-null   int64  \n",
            " 4   Street         1371 non-null   object \n",
            " 5   LotShape       1371 non-null   object \n",
            " 6   LandContour    1371 non-null   object \n",
            " 7   Utilities      1371 non-null   object \n",
            " 8   LotConfig      1371 non-null   object \n",
            " 9   LandSlope      1371 non-null   object \n",
            " 10  Neighborhood   1371 non-null   object \n",
            " 11  Condition1     1371 non-null   object \n",
            " 12  Condition2     1371 non-null   object \n",
            " 13  BldgType       1371 non-null   object \n",
            " 14  HouseStyle     1371 non-null   object \n",
            " 15  OverallQual    1371 non-null   int64  \n",
            " 16  OverallCond    1371 non-null   int64  \n",
            " 17  YearBuilt      1371 non-null   int64  \n",
            " 18  YearRemodAdd   1371 non-null   int64  \n",
            " 19  RoofStyle      1371 non-null   object \n",
            " 20  RoofMatl       1371 non-null   object \n",
            " 21  Exterior1st    1371 non-null   object \n",
            " 22  Exterior2nd    1371 non-null   object \n",
            " 23  MasVnrType     1371 non-null   object \n",
            " 24  MasVnrArea     1371 non-null   float64\n",
            " 25  ExterQual      1371 non-null   object \n",
            " 26  ExterCond      1371 non-null   object \n",
            " 27  Foundation     1371 non-null   object \n",
            " 28  BsmtQual       1341 non-null   object \n",
            " 29  BsmtCond       1341 non-null   object \n",
            " 30  BsmtExposure   1340 non-null   object \n",
            " 31  BsmtFinType1   1341 non-null   object \n",
            " 32  BsmtFinSF1     1371 non-null   int64  \n",
            " 33  BsmtFinType2   1340 non-null   object \n",
            " 34  BsmtFinSF2     1371 non-null   int64  \n",
            " 35  BsmtUnfSF      1371 non-null   int64  \n",
            " 36  TotalBsmtSF    1371 non-null   int64  \n",
            " 37  Heating        1371 non-null   object \n",
            " 38  HeatingQC      1371 non-null   object \n",
            " 39  CentralAir     1371 non-null   object \n",
            " 40  Electrical     1370 non-null   object \n",
            " 41  1stFlrSF       1371 non-null   int64  \n",
            " 42  2ndFlrSF       1371 non-null   int64  \n",
            " 43  LowQualFinSF   1371 non-null   int64  \n",
            " 44  GrLivArea      1371 non-null   int64  \n",
            " 45  BsmtFullBath   1371 non-null   int64  \n",
            " 46  BsmtHalfBath   1371 non-null   int64  \n",
            " 47  FullBath       1371 non-null   int64  \n",
            " 48  HalfBath       1371 non-null   int64  \n",
            " 49  BedroomAbvGr   1371 non-null   int64  \n",
            " 50  KitchenAbvGr   1371 non-null   int64  \n",
            " 51  KitchenQual    1371 non-null   object \n",
            " 52  TotRmsAbvGrd   1371 non-null   int64  \n",
            " 53  Functional     1371 non-null   object \n",
            " 54  Fireplaces     1371 non-null   int64  \n",
            " 55  GarageType     1371 non-null   object \n",
            " 56  GarageYrBlt    1371 non-null   float64\n",
            " 57  GarageFinish   1371 non-null   object \n",
            " 58  GarageCars     1371 non-null   int64  \n",
            " 59  GarageArea     1371 non-null   int64  \n",
            " 60  GarageQual     1371 non-null   object \n",
            " 61  GarageCond     1371 non-null   object \n",
            " 62  PavedDrive     1371 non-null   object \n",
            " 63  WoodDeckSF     1371 non-null   int64  \n",
            " 64  OpenPorchSF    1371 non-null   int64  \n",
            " 65  EnclosedPorch  1371 non-null   int64  \n",
            " 66  3SsnPorch      1371 non-null   int64  \n",
            " 67  ScreenPorch    1371 non-null   int64  \n",
            " 68  PoolArea       1371 non-null   int64  \n",
            " 69  MiscVal        1371 non-null   int64  \n",
            " 70  MoSold         1371 non-null   int64  \n",
            " 71  YrSold         1371 non-null   int64  \n",
            " 72  SaleType       1371 non-null   object \n",
            " 73  SaleCondition  1371 non-null   object \n",
            " 74  SalePrice      1371 non-null   int64  \n",
            "dtypes: float64(2), int64(35), object(38)\n",
            "memory usage: 814.0+ KB\n"
          ]
        }
      ]
    },
    {
      "cell_type": "code",
      "source": [
        "ns = df.isnull().sum()\n",
        "df[ns[ns>0].index].info()"
      ],
      "metadata": {
        "colab": {
          "base_uri": "https://localhost:8080/"
        },
        "id": "zyj4oPg8uKeD",
        "outputId": "e109851c-77f8-4819-b061-01418a826a2a"
      },
      "execution_count": 31,
      "outputs": [
        {
          "output_type": "stream",
          "name": "stdout",
          "text": [
            "<class 'pandas.core.frame.DataFrame'>\n",
            "Int64Index: 1371 entries, 0 to 1459\n",
            "Data columns (total 6 columns):\n",
            " #   Column        Non-Null Count  Dtype \n",
            "---  ------        --------------  ----- \n",
            " 0   BsmtQual      1341 non-null   object\n",
            " 1   BsmtCond      1341 non-null   object\n",
            " 2   BsmtExposure  1340 non-null   object\n",
            " 3   BsmtFinType1  1341 non-null   object\n",
            " 4   BsmtFinType2  1340 non-null   object\n",
            " 5   Electrical    1370 non-null   object\n",
            "dtypes: object(6)\n",
            "memory usage: 75.0+ KB\n"
          ]
        }
      ]
    },
    {
      "cell_type": "code",
      "source": [
        "from sklearn.preprocessing import LabelEncoder"
      ],
      "metadata": {
        "id": "MmJLvBcxvZey"
      },
      "execution_count": 33,
      "outputs": []
    },
    {
      "cell_type": "code",
      "source": [
        "ncs = ns[ns>0].index\n",
        "for column in ncs:\n",
        "  le = LabelEncoder()\n",
        "  df[column] = le.fit_transform(df[column])"
      ],
      "metadata": {
        "id": "lKp_N31qvJIc"
      },
      "execution_count": null,
      "outputs": []
    },
    {
      "cell_type": "code",
      "source": [
        "df[ncs].info()"
      ],
      "metadata": {
        "colab": {
          "base_uri": "https://localhost:8080/"
        },
        "id": "A33LmtzVvU0m",
        "outputId": "eeb33cd5-b290-4b13-a428-14959d53e435"
      },
      "execution_count": 35,
      "outputs": [
        {
          "output_type": "stream",
          "name": "stdout",
          "text": [
            "<class 'pandas.core.frame.DataFrame'>\n",
            "Int64Index: 1371 entries, 0 to 1459\n",
            "Data columns (total 6 columns):\n",
            " #   Column        Non-Null Count  Dtype\n",
            "---  ------        --------------  -----\n",
            " 0   BsmtQual      1371 non-null   int64\n",
            " 1   BsmtCond      1371 non-null   int64\n",
            " 2   BsmtExposure  1371 non-null   int64\n",
            " 3   BsmtFinType1  1371 non-null   int64\n",
            " 4   BsmtFinType2  1371 non-null   int64\n",
            " 5   Electrical    1371 non-null   int64\n",
            "dtypes: int64(6)\n",
            "memory usage: 75.0 KB\n"
          ]
        }
      ]
    },
    {
      "cell_type": "code",
      "source": [
        "dof = (df[df.columns].dtypes == 'object')\n",
        "ocs = df.columns[dof]"
      ],
      "metadata": {
        "id": "rWQ8DdlbwmVo"
      },
      "execution_count": 51,
      "outputs": []
    },
    {
      "cell_type": "code",
      "source": [
        "for column in ocs:\n",
        "  le = LabelEncoder()\n",
        "  df[column] = le.fit_transform(df[column])"
      ],
      "metadata": {
        "colab": {
          "base_uri": "https://localhost:8080/"
        },
        "id": "uopo7E9CwuPx",
        "outputId": "44bdaf1a-4366-4438-f580-16f0194bc36c"
      },
      "execution_count": 52,
      "outputs": [
        {
          "output_type": "stream",
          "name": "stderr",
          "text": [
            "<ipython-input-52-724acbfd66af>:3: SettingWithCopyWarning: \n",
            "A value is trying to be set on a copy of a slice from a DataFrame.\n",
            "Try using .loc[row_indexer,col_indexer] = value instead\n",
            "\n",
            "See the caveats in the documentation: https://pandas.pydata.org/pandas-docs/stable/user_guide/indexing.html#returning-a-view-versus-a-copy\n",
            "  df[column] = le.fit_transform(df[column])\n",
            "<ipython-input-52-724acbfd66af>:3: SettingWithCopyWarning: \n",
            "A value is trying to be set on a copy of a slice from a DataFrame.\n",
            "Try using .loc[row_indexer,col_indexer] = value instead\n",
            "\n",
            "See the caveats in the documentation: https://pandas.pydata.org/pandas-docs/stable/user_guide/indexing.html#returning-a-view-versus-a-copy\n",
            "  df[column] = le.fit_transform(df[column])\n",
            "<ipython-input-52-724acbfd66af>:3: SettingWithCopyWarning: \n",
            "A value is trying to be set on a copy of a slice from a DataFrame.\n",
            "Try using .loc[row_indexer,col_indexer] = value instead\n",
            "\n",
            "See the caveats in the documentation: https://pandas.pydata.org/pandas-docs/stable/user_guide/indexing.html#returning-a-view-versus-a-copy\n",
            "  df[column] = le.fit_transform(df[column])\n",
            "<ipython-input-52-724acbfd66af>:3: SettingWithCopyWarning: \n",
            "A value is trying to be set on a copy of a slice from a DataFrame.\n",
            "Try using .loc[row_indexer,col_indexer] = value instead\n",
            "\n",
            "See the caveats in the documentation: https://pandas.pydata.org/pandas-docs/stable/user_guide/indexing.html#returning-a-view-versus-a-copy\n",
            "  df[column] = le.fit_transform(df[column])\n",
            "<ipython-input-52-724acbfd66af>:3: SettingWithCopyWarning: \n",
            "A value is trying to be set on a copy of a slice from a DataFrame.\n",
            "Try using .loc[row_indexer,col_indexer] = value instead\n",
            "\n",
            "See the caveats in the documentation: https://pandas.pydata.org/pandas-docs/stable/user_guide/indexing.html#returning-a-view-versus-a-copy\n",
            "  df[column] = le.fit_transform(df[column])\n",
            "<ipython-input-52-724acbfd66af>:3: SettingWithCopyWarning: \n",
            "A value is trying to be set on a copy of a slice from a DataFrame.\n",
            "Try using .loc[row_indexer,col_indexer] = value instead\n",
            "\n",
            "See the caveats in the documentation: https://pandas.pydata.org/pandas-docs/stable/user_guide/indexing.html#returning-a-view-versus-a-copy\n",
            "  df[column] = le.fit_transform(df[column])\n",
            "<ipython-input-52-724acbfd66af>:3: SettingWithCopyWarning: \n",
            "A value is trying to be set on a copy of a slice from a DataFrame.\n",
            "Try using .loc[row_indexer,col_indexer] = value instead\n",
            "\n",
            "See the caveats in the documentation: https://pandas.pydata.org/pandas-docs/stable/user_guide/indexing.html#returning-a-view-versus-a-copy\n",
            "  df[column] = le.fit_transform(df[column])\n",
            "<ipython-input-52-724acbfd66af>:3: SettingWithCopyWarning: \n",
            "A value is trying to be set on a copy of a slice from a DataFrame.\n",
            "Try using .loc[row_indexer,col_indexer] = value instead\n",
            "\n",
            "See the caveats in the documentation: https://pandas.pydata.org/pandas-docs/stable/user_guide/indexing.html#returning-a-view-versus-a-copy\n",
            "  df[column] = le.fit_transform(df[column])\n",
            "<ipython-input-52-724acbfd66af>:3: SettingWithCopyWarning: \n",
            "A value is trying to be set on a copy of a slice from a DataFrame.\n",
            "Try using .loc[row_indexer,col_indexer] = value instead\n",
            "\n",
            "See the caveats in the documentation: https://pandas.pydata.org/pandas-docs/stable/user_guide/indexing.html#returning-a-view-versus-a-copy\n",
            "  df[column] = le.fit_transform(df[column])\n",
            "<ipython-input-52-724acbfd66af>:3: SettingWithCopyWarning: \n",
            "A value is trying to be set on a copy of a slice from a DataFrame.\n",
            "Try using .loc[row_indexer,col_indexer] = value instead\n",
            "\n",
            "See the caveats in the documentation: https://pandas.pydata.org/pandas-docs/stable/user_guide/indexing.html#returning-a-view-versus-a-copy\n",
            "  df[column] = le.fit_transform(df[column])\n",
            "<ipython-input-52-724acbfd66af>:3: SettingWithCopyWarning: \n",
            "A value is trying to be set on a copy of a slice from a DataFrame.\n",
            "Try using .loc[row_indexer,col_indexer] = value instead\n",
            "\n",
            "See the caveats in the documentation: https://pandas.pydata.org/pandas-docs/stable/user_guide/indexing.html#returning-a-view-versus-a-copy\n",
            "  df[column] = le.fit_transform(df[column])\n",
            "<ipython-input-52-724acbfd66af>:3: SettingWithCopyWarning: \n",
            "A value is trying to be set on a copy of a slice from a DataFrame.\n",
            "Try using .loc[row_indexer,col_indexer] = value instead\n",
            "\n",
            "See the caveats in the documentation: https://pandas.pydata.org/pandas-docs/stable/user_guide/indexing.html#returning-a-view-versus-a-copy\n",
            "  df[column] = le.fit_transform(df[column])\n",
            "<ipython-input-52-724acbfd66af>:3: SettingWithCopyWarning: \n",
            "A value is trying to be set on a copy of a slice from a DataFrame.\n",
            "Try using .loc[row_indexer,col_indexer] = value instead\n",
            "\n",
            "See the caveats in the documentation: https://pandas.pydata.org/pandas-docs/stable/user_guide/indexing.html#returning-a-view-versus-a-copy\n",
            "  df[column] = le.fit_transform(df[column])\n",
            "<ipython-input-52-724acbfd66af>:3: SettingWithCopyWarning: \n",
            "A value is trying to be set on a copy of a slice from a DataFrame.\n",
            "Try using .loc[row_indexer,col_indexer] = value instead\n",
            "\n",
            "See the caveats in the documentation: https://pandas.pydata.org/pandas-docs/stable/user_guide/indexing.html#returning-a-view-versus-a-copy\n",
            "  df[column] = le.fit_transform(df[column])\n",
            "<ipython-input-52-724acbfd66af>:3: SettingWithCopyWarning: \n",
            "A value is trying to be set on a copy of a slice from a DataFrame.\n",
            "Try using .loc[row_indexer,col_indexer] = value instead\n",
            "\n",
            "See the caveats in the documentation: https://pandas.pydata.org/pandas-docs/stable/user_guide/indexing.html#returning-a-view-versus-a-copy\n",
            "  df[column] = le.fit_transform(df[column])\n",
            "<ipython-input-52-724acbfd66af>:3: SettingWithCopyWarning: \n",
            "A value is trying to be set on a copy of a slice from a DataFrame.\n",
            "Try using .loc[row_indexer,col_indexer] = value instead\n",
            "\n",
            "See the caveats in the documentation: https://pandas.pydata.org/pandas-docs/stable/user_guide/indexing.html#returning-a-view-versus-a-copy\n",
            "  df[column] = le.fit_transform(df[column])\n",
            "<ipython-input-52-724acbfd66af>:3: SettingWithCopyWarning: \n",
            "A value is trying to be set on a copy of a slice from a DataFrame.\n",
            "Try using .loc[row_indexer,col_indexer] = value instead\n",
            "\n",
            "See the caveats in the documentation: https://pandas.pydata.org/pandas-docs/stable/user_guide/indexing.html#returning-a-view-versus-a-copy\n",
            "  df[column] = le.fit_transform(df[column])\n",
            "<ipython-input-52-724acbfd66af>:3: SettingWithCopyWarning: \n",
            "A value is trying to be set on a copy of a slice from a DataFrame.\n",
            "Try using .loc[row_indexer,col_indexer] = value instead\n",
            "\n",
            "See the caveats in the documentation: https://pandas.pydata.org/pandas-docs/stable/user_guide/indexing.html#returning-a-view-versus-a-copy\n",
            "  df[column] = le.fit_transform(df[column])\n",
            "<ipython-input-52-724acbfd66af>:3: SettingWithCopyWarning: \n",
            "A value is trying to be set on a copy of a slice from a DataFrame.\n",
            "Try using .loc[row_indexer,col_indexer] = value instead\n",
            "\n",
            "See the caveats in the documentation: https://pandas.pydata.org/pandas-docs/stable/user_guide/indexing.html#returning-a-view-versus-a-copy\n",
            "  df[column] = le.fit_transform(df[column])\n",
            "<ipython-input-52-724acbfd66af>:3: SettingWithCopyWarning: \n",
            "A value is trying to be set on a copy of a slice from a DataFrame.\n",
            "Try using .loc[row_indexer,col_indexer] = value instead\n",
            "\n",
            "See the caveats in the documentation: https://pandas.pydata.org/pandas-docs/stable/user_guide/indexing.html#returning-a-view-versus-a-copy\n",
            "  df[column] = le.fit_transform(df[column])\n",
            "<ipython-input-52-724acbfd66af>:3: SettingWithCopyWarning: \n",
            "A value is trying to be set on a copy of a slice from a DataFrame.\n",
            "Try using .loc[row_indexer,col_indexer] = value instead\n",
            "\n",
            "See the caveats in the documentation: https://pandas.pydata.org/pandas-docs/stable/user_guide/indexing.html#returning-a-view-versus-a-copy\n",
            "  df[column] = le.fit_transform(df[column])\n",
            "<ipython-input-52-724acbfd66af>:3: SettingWithCopyWarning: \n",
            "A value is trying to be set on a copy of a slice from a DataFrame.\n",
            "Try using .loc[row_indexer,col_indexer] = value instead\n",
            "\n",
            "See the caveats in the documentation: https://pandas.pydata.org/pandas-docs/stable/user_guide/indexing.html#returning-a-view-versus-a-copy\n",
            "  df[column] = le.fit_transform(df[column])\n",
            "<ipython-input-52-724acbfd66af>:3: SettingWithCopyWarning: \n",
            "A value is trying to be set on a copy of a slice from a DataFrame.\n",
            "Try using .loc[row_indexer,col_indexer] = value instead\n",
            "\n",
            "See the caveats in the documentation: https://pandas.pydata.org/pandas-docs/stable/user_guide/indexing.html#returning-a-view-versus-a-copy\n",
            "  df[column] = le.fit_transform(df[column])\n",
            "<ipython-input-52-724acbfd66af>:3: SettingWithCopyWarning: \n",
            "A value is trying to be set on a copy of a slice from a DataFrame.\n",
            "Try using .loc[row_indexer,col_indexer] = value instead\n",
            "\n",
            "See the caveats in the documentation: https://pandas.pydata.org/pandas-docs/stable/user_guide/indexing.html#returning-a-view-versus-a-copy\n",
            "  df[column] = le.fit_transform(df[column])\n",
            "<ipython-input-52-724acbfd66af>:3: SettingWithCopyWarning: \n",
            "A value is trying to be set on a copy of a slice from a DataFrame.\n",
            "Try using .loc[row_indexer,col_indexer] = value instead\n",
            "\n",
            "See the caveats in the documentation: https://pandas.pydata.org/pandas-docs/stable/user_guide/indexing.html#returning-a-view-versus-a-copy\n",
            "  df[column] = le.fit_transform(df[column])\n",
            "<ipython-input-52-724acbfd66af>:3: SettingWithCopyWarning: \n",
            "A value is trying to be set on a copy of a slice from a DataFrame.\n",
            "Try using .loc[row_indexer,col_indexer] = value instead\n",
            "\n",
            "See the caveats in the documentation: https://pandas.pydata.org/pandas-docs/stable/user_guide/indexing.html#returning-a-view-versus-a-copy\n",
            "  df[column] = le.fit_transform(df[column])\n",
            "<ipython-input-52-724acbfd66af>:3: SettingWithCopyWarning: \n",
            "A value is trying to be set on a copy of a slice from a DataFrame.\n",
            "Try using .loc[row_indexer,col_indexer] = value instead\n",
            "\n",
            "See the caveats in the documentation: https://pandas.pydata.org/pandas-docs/stable/user_guide/indexing.html#returning-a-view-versus-a-copy\n",
            "  df[column] = le.fit_transform(df[column])\n",
            "<ipython-input-52-724acbfd66af>:3: SettingWithCopyWarning: \n",
            "A value is trying to be set on a copy of a slice from a DataFrame.\n",
            "Try using .loc[row_indexer,col_indexer] = value instead\n",
            "\n",
            "See the caveats in the documentation: https://pandas.pydata.org/pandas-docs/stable/user_guide/indexing.html#returning-a-view-versus-a-copy\n",
            "  df[column] = le.fit_transform(df[column])\n",
            "<ipython-input-52-724acbfd66af>:3: SettingWithCopyWarning: \n",
            "A value is trying to be set on a copy of a slice from a DataFrame.\n",
            "Try using .loc[row_indexer,col_indexer] = value instead\n",
            "\n",
            "See the caveats in the documentation: https://pandas.pydata.org/pandas-docs/stable/user_guide/indexing.html#returning-a-view-versus-a-copy\n",
            "  df[column] = le.fit_transform(df[column])\n",
            "<ipython-input-52-724acbfd66af>:3: SettingWithCopyWarning: \n",
            "A value is trying to be set on a copy of a slice from a DataFrame.\n",
            "Try using .loc[row_indexer,col_indexer] = value instead\n",
            "\n",
            "See the caveats in the documentation: https://pandas.pydata.org/pandas-docs/stable/user_guide/indexing.html#returning-a-view-versus-a-copy\n",
            "  df[column] = le.fit_transform(df[column])\n",
            "<ipython-input-52-724acbfd66af>:3: SettingWithCopyWarning: \n",
            "A value is trying to be set on a copy of a slice from a DataFrame.\n",
            "Try using .loc[row_indexer,col_indexer] = value instead\n",
            "\n",
            "See the caveats in the documentation: https://pandas.pydata.org/pandas-docs/stable/user_guide/indexing.html#returning-a-view-versus-a-copy\n",
            "  df[column] = le.fit_transform(df[column])\n",
            "<ipython-input-52-724acbfd66af>:3: SettingWithCopyWarning: \n",
            "A value is trying to be set on a copy of a slice from a DataFrame.\n",
            "Try using .loc[row_indexer,col_indexer] = value instead\n",
            "\n",
            "See the caveats in the documentation: https://pandas.pydata.org/pandas-docs/stable/user_guide/indexing.html#returning-a-view-versus-a-copy\n",
            "  df[column] = le.fit_transform(df[column])\n"
          ]
        }
      ]
    },
    {
      "cell_type": "code",
      "source": [
        "from sklearn.preprocessing import StandardScaler"
      ],
      "metadata": {
        "id": "VwXDODHcvyEe"
      },
      "execution_count": 36,
      "outputs": []
    },
    {
      "cell_type": "code",
      "source": [
        "data = df.drop('SalePrice',axis=1)\n",
        "label = df['SalePrice']"
      ],
      "metadata": {
        "id": "Riidz_z5yPyw"
      },
      "execution_count": 54,
      "outputs": []
    },
    {
      "cell_type": "code",
      "source": [
        "ss = StandardScaler()\n",
        "scaled_data = ss.fit_transform(data)"
      ],
      "metadata": {
        "id": "m8biGkHTyZkm"
      },
      "execution_count": 55,
      "outputs": []
    },
    {
      "cell_type": "code",
      "source": [
        "label_log1p = np.log1p(label)"
      ],
      "metadata": {
        "id": "zd9aXJ6SyfE9"
      },
      "execution_count": 57,
      "outputs": []
    },
    {
      "cell_type": "code",
      "source": [
        "from sklearn.metrics import mean_squared_error\n",
        "from sklearn.metrics import mean_absolute_error\n",
        "from sklearn.metrics import r2_score\n",
        "def rmsle(y,pred):\n",
        "  log_y = np.log1p(y)\n",
        "  log_pred = np.log1p(pred)\n",
        "  se = (log_y - log_pred)**2\n",
        "  return np.sqrt(np.mean(se))\n",
        "def rmse(y,pred):\n",
        "  return np.sqrt(mean_squared_error(y,pred))\n",
        "def evaluate_regr(y,pred):\n",
        "  rv1 = rmsle(y,pred)\n",
        "  rv2 = rmse(y,pred)\n",
        "  rv3 = mean_absolute_error(y,pred)\n",
        "  r2 = r2_score(y,pred)\n",
        "  print(f'r2:{r2:.3f} RMSLE:{rv1:.3f} RMSE:{rv2:.3f} MAE:{rv3:.3f}')"
      ],
      "metadata": {
        "id": "HGxqt4xh2PdU"
      },
      "execution_count": 58,
      "outputs": []
    },
    {
      "cell_type": "code",
      "source": [
        "from sklearn.model_selection import train_test_split"
      ],
      "metadata": {
        "id": "OZzJplj630pq"
      },
      "execution_count": 61,
      "outputs": []
    },
    {
      "cell_type": "code",
      "source": [
        "darr=[]\n",
        "marr = [\"data-label\",\"sd-label\",\"data-labellog\",\"sd-labellog\"]\n",
        "darr.append(train_test_split(data,label))\n",
        "darr.append(train_test_split(scaled_data,label))\n",
        "darr.append(train_test_split(data,label_log1p))\n",
        "darr.append(train_test_split(scaled_data,label_log1p))\n"
      ],
      "metadata": {
        "id": "ei8biebH3prm"
      },
      "execution_count": 64,
      "outputs": []
    },
    {
      "cell_type": "code",
      "source": [
        "def model_test(model,x_train,x_test,y_train,y_test,flag=True):\n",
        "  model.fit(x_train,y_train)\n",
        "  pred = model.predict(x_test)\n",
        "  evaluate_regr(y_test,pred)\n",
        "  if flag:\n",
        "    pred_exp = np.expm1(pred)\n",
        "    pred_yt = np.expm1(y_test)\n",
        "    evaluate_regr(pred_yt,pred_exp)\n"
      ],
      "metadata": {
        "id": "sE5iFqlS3Kjh"
      },
      "execution_count": 76,
      "outputs": []
    },
    {
      "cell_type": "code",
      "source": [
        "def model_tests(model):\n",
        "  print(\"###\",model.__class__.__name__)\n",
        "  for i,(xtr,xte,ytr,yte) in enumerate(darr):\n",
        "    print(\"\\t\",marr[i])\n",
        "    model_test(model,xtr,xte,ytr,yte,i>=2)\n",
        ""
      ],
      "metadata": {
        "id": "Gp125FiS4q4F"
      },
      "execution_count": 77,
      "outputs": []
    },
    {
      "cell_type": "code",
      "source": [
        "from sklearn.linear_model import LinearRegression\n",
        "from sklearn.linear_model import Ridge,Lasso\n",
        "from sklearn.tree import DecisionTreeRegressor\n",
        "from sklearn.ensemble import RandomForestRegressor\n",
        "from sklearn.ensemble import GradientBoostingRegressor\n",
        "from xgboost import XGBRegressor\n",
        "from lightgbm import LGBMRegressor"
      ],
      "metadata": {
        "id": "77SiFN9m5kB5"
      },
      "execution_count": 78,
      "outputs": []
    },
    {
      "cell_type": "code",
      "source": [
        "m1 = LinearRegression()\n",
        "m2 = Ridge()\n",
        "m3 = Lasso()\n",
        "m4 = DecisionTreeRegressor()\n",
        "m5 = RandomForestRegressor()\n",
        "m6 = GradientBoostingRegressor()\n",
        "m7 = XGBRegressor()\n",
        "m8 = LGBMRegressor()\n",
        "models = [m1,m2,m3,m4,m5,m6,m7,m8]\n",
        "for model in models:\n",
        "  model_tests(model)"
      ],
      "metadata": {
        "colab": {
          "base_uri": "https://localhost:8080/"
        },
        "id": "Vz2T0lRs5pkn",
        "outputId": "37d6a70c-d534-4817-cbf6-96c7b8c31d89"
      },
      "execution_count": 79,
      "outputs": [
        {
          "output_type": "stream",
          "name": "stdout",
          "text": [
            "### LinearRegression\n",
            "\t data-label\n",
            "r2:0.803 RMSLE:0.154 RMSE:38246.208 MAE:19900.559\n",
            "\t sd-label\n",
            "r2:-784760356888576524288.000 RMSLE:0.181 RMSE:1928102867969115.000 MAE:104107769221394.328\n",
            "\t data-labellog\n",
            "r2:0.879 RMSLE:0.011 RMSE:0.136 MAE:0.092\n",
            "r2:0.863 RMSLE:0.136 RMSE:31420.893 MAE:18018.780\n",
            "\t sd-labellog\n",
            "r2:0.852 RMSLE:0.012 RMSE:0.153 MAE:0.093\n",
            "r2:0.723 RMSLE:0.153 RMSE:42918.241 MAE:17840.115\n",
            "### Ridge\n",
            "\t data-label\n",
            "r2:0.803 RMSLE:0.154 RMSE:38226.671 MAE:19866.379\n",
            "\t sd-label\n",
            "r2:0.503 RMSLE:0.181 RMSE:48510.650 MAE:21599.943\n",
            "\t data-labellog\n",
            "r2:0.878 RMSLE:0.011 RMSE:0.137 MAE:0.092\n",
            "r2:0.864 RMSLE:0.137 RMSE:31377.995 MAE:18016.490\n",
            "\t sd-labellog\n",
            "r2:0.853 RMSLE:0.012 RMSE:0.153 MAE:0.093\n",
            "r2:0.724 RMSLE:0.153 RMSE:42862.420 MAE:17824.651\n",
            "### Lasso\n",
            "\t data-label\n"
          ]
        },
        {
          "output_type": "stream",
          "name": "stderr",
          "text": [
            "<ipython-input-58-ebd6af9afb04>:6: RuntimeWarning: invalid value encountered in log1p\n",
            "  log_pred = np.log1p(pred)\n",
            "/usr/local/lib/python3.10/dist-packages/sklearn/linear_model/_coordinate_descent.py:631: ConvergenceWarning: Objective did not converge. You might want to increase the number of iterations, check the scale of the features or consider increasing regularisation. Duality gap: 4.967e+10, tolerance: 5.976e+08\n",
            "  model = cd_fast.enet_coordinate_descent(\n"
          ]
        },
        {
          "output_type": "stream",
          "name": "stdout",
          "text": [
            "r2:0.803 RMSLE:0.154 RMSE:38244.829 MAE:19897.129\n",
            "\t sd-label\n",
            "r2:0.503 RMSLE:0.181 RMSE:48535.198 MAE:21597.836\n",
            "\t data-labellog\n",
            "r2:0.781 RMSLE:0.014 RMSE:0.183 MAE:0.124\n",
            "r2:0.805 RMSLE:0.183 RMSE:37529.231 MAE:24192.181\n",
            "\t sd-labellog\n",
            "r2:-0.000 RMSLE:0.031 RMSE:0.399 MAE:0.315\n",
            "r2:-0.026 RMSLE:0.399 RMSE:82582.472 MAE:57779.329\n",
            "### DecisionTreeRegressor\n",
            "\t data-label\n",
            "r2:0.750 RMSLE:0.184 RMSE:43034.628 MAE:26300.437\n",
            "\t sd-label\n",
            "r2:0.731 RMSLE:0.204 RMSE:35692.213 MAE:25741.618\n",
            "\t data-labellog\n",
            "r2:0.728 RMSLE:0.016 RMSE:0.204 MAE:0.145\n",
            "r2:0.790 RMSLE:0.204 RMSE:38964.488 MAE:26779.539\n",
            "\t sd-labellog\n",
            "r2:0.668 RMSLE:0.018 RMSE:0.230 MAE:0.153\n",
            "r2:0.631 RMSLE:0.230 RMSE:49537.853 MAE:27588.420\n",
            "### RandomForestRegressor\n",
            "\t data-label\n",
            "r2:0.863 RMSLE:0.135 RMSE:31890.211 MAE:17479.237\n",
            "\t sd-label\n",
            "r2:0.795 RMSLE:0.149 RMSE:31137.303 MAE:18374.797\n",
            "\t data-labellog\n",
            "r2:0.867 RMSLE:0.011 RMSE:0.142 MAE:0.094\n",
            "r2:0.861 RMSLE:0.142 RMSE:31699.074 MAE:18493.990\n",
            "\t sd-labellog\n",
            "r2:0.837 RMSLE:0.012 RMSE:0.161 MAE:0.103\n",
            "r2:0.825 RMSLE:0.161 RMSE:34089.696 MAE:18990.750\n",
            "### GradientBoostingRegressor\n",
            "\t data-label\n",
            "r2:0.873 RMSLE:0.129 RMSE:30712.680 MAE:16959.247\n",
            "\t sd-label\n",
            "r2:0.856 RMSLE:0.132 RMSE:26074.289 MAE:16974.383\n",
            "\t data-labellog\n",
            "r2:0.898 RMSLE:0.010 RMSE:0.125 MAE:0.083\n",
            "r2:0.897 RMSLE:0.125 RMSE:27310.417 MAE:16114.289\n",
            "\t sd-labellog\n",
            "r2:0.871 RMSLE:0.011 RMSE:0.143 MAE:0.089\n",
            "r2:0.852 RMSLE:0.143 RMSE:31400.154 MAE:16621.259\n",
            "### XGBRegressor\n",
            "\t data-label\n",
            "r2:0.829 RMSLE:0.143 RMSE:35624.966 MAE:18600.525\n",
            "\t sd-label\n",
            "r2:0.875 RMSLE:0.130 RMSE:24376.797 MAE:16730.794\n",
            "\t data-labellog\n",
            "r2:0.880 RMSLE:0.010 RMSE:0.135 MAE:0.089\n",
            "r2:0.865 RMSLE:0.135 RMSE:31264.755 MAE:17278.483\n",
            "\t sd-labellog\n",
            "r2:0.860 RMSLE:0.012 RMSE:0.149 MAE:0.099\n",
            "r2:0.850 RMSLE:0.149 RMSE:31537.879 MAE:18600.693\n",
            "### LGBMRegressor\n",
            "\t data-label\n",
            "r2:0.860 RMSLE:0.130 RMSE:32224.438 MAE:17478.575\n",
            "\t sd-label\n",
            "r2:0.807 RMSLE:0.138 RMSE:30251.432 MAE:17692.630\n",
            "\t data-labellog\n",
            "r2:0.887 RMSLE:0.010 RMSE:0.131 MAE:0.086\n",
            "r2:0.879 RMSLE:0.131 RMSE:29523.417 MAE:16713.941\n",
            "\t sd-labellog\n",
            "r2:0.860 RMSLE:0.012 RMSE:0.149 MAE:0.098\n",
            "r2:0.849 RMSLE:0.149 RMSE:31689.157 MAE:17801.758\n"
          ]
        }
      ]
    },
    {
      "cell_type": "code",
      "source": [
        "aps = [0, 0.001,0.01,0.1,1,2,5,10,100]\n",
        "for a in aps:\n",
        "  model = Ridge(alpha=a)\n",
        "  print(\"!!!!!! alpha:\",a)\n",
        "  model_tests(model)"
      ],
      "metadata": {
        "colab": {
          "base_uri": "https://localhost:8080/"
        },
        "id": "XNg2nZPo5tHi",
        "outputId": "f7487fcb-1396-4b26-bd9b-22f95dfa8e17"
      },
      "execution_count": 80,
      "outputs": [
        {
          "output_type": "stream",
          "name": "stdout",
          "text": [
            "!!!!!! alpha: 0\n",
            "### Ridge\n",
            "\t data-label\n",
            "r2:0.803 RMSLE:0.157 RMSE:38215.862 MAE:20080.169\n",
            "\t sd-label\n",
            "r2:-101003590499204744978890752.000 RMSLE:0.193 RMSE:691719595506546816.000 MAE:37349347483706416.000\n",
            "\t data-labellog\n",
            "r2:0.879 RMSLE:0.011 RMSE:0.136 MAE:0.092\n",
            "r2:0.863 RMSLE:0.136 RMSE:31420.893 MAE:18018.780\n",
            "\t sd-labellog\n"
          ]
        },
        {
          "output_type": "stream",
          "name": "stderr",
          "text": [
            "<ipython-input-58-ebd6af9afb04>:6: RuntimeWarning: invalid value encountered in log1p\n",
            "  log_pred = np.log1p(pred)\n",
            "/usr/local/lib/python3.10/dist-packages/sklearn/linear_model/_ridge.py:216: LinAlgWarning: Ill-conditioned matrix (rcond=3.52725e-19): result may not be accurate.\n",
            "  return linalg.solve(A, Xy, assume_a=\"pos\", overwrite_a=True).T\n"
          ]
        },
        {
          "output_type": "stream",
          "name": "stdout",
          "text": [
            "r2:0.853 RMSLE:0.012 RMSE:0.153 MAE:0.093\n",
            "r2:0.723 RMSLE:0.153 RMSE:42906.588 MAE:17835.757\n",
            "!!!!!! alpha: 0.001\n",
            "### Ridge\n",
            "\t data-label\n",
            "r2:0.803 RMSLE:0.154 RMSE:38246.172 MAE:19900.503\n",
            "\t sd-label\n",
            "r2:0.503 RMSLE:0.181 RMSE:48538.852 MAE:21599.704\n",
            "\t data-labellog\n",
            "r2:0.879 RMSLE:0.011 RMSE:0.136 MAE:0.092\n",
            "r2:0.863 RMSLE:0.136 RMSE:31420.803 MAE:18018.767\n",
            "\t sd-labellog\n",
            "r2:0.852 RMSLE:0.012 RMSE:0.153 MAE:0.093\n",
            "r2:0.723 RMSLE:0.153 RMSE:42915.761 MAE:17840.799\n",
            "!!!!!! alpha: 0.01\n",
            "### Ridge\n",
            "\t data-label\n",
            "r2:0.803 RMSLE:0.154 RMSE:38245.853 MAE:19900.010\n",
            "\t sd-label\n",
            "r2:0.503 RMSLE:0.181 RMSE:48538.597 MAE:21599.707\n",
            "\t data-labellog\n",
            "r2:0.879 RMSLE:0.011 RMSE:0.136 MAE:0.092\n",
            "r2:0.863 RMSLE:0.136 RMSE:31420.007 MAE:18018.649\n",
            "\t sd-labellog\n",
            "r2:0.852 RMSLE:0.012 RMSE:0.153 MAE:0.093\n",
            "r2:0.723 RMSLE:0.153 RMSE:42915.276 MAE:17840.653\n",
            "!!!!!! alpha: 0.1\n",
            "### Ridge\n",
            "\t data-label\n",
            "r2:0.803 RMSLE:0.154 RMSE:38242.939 MAE:19895.337\n",
            "\t sd-label\n",
            "r2:0.503 RMSLE:0.181 RMSE:48536.048 MAE:21599.732\n",
            "\t data-labellog\n",
            "r2:0.879 RMSLE:0.011 RMSE:0.136 MAE:0.092\n",
            "r2:0.863 RMSLE:0.136 RMSE:31412.848 MAE:18017.681\n",
            "\t sd-labellog\n",
            "r2:0.853 RMSLE:0.012 RMSE:0.153 MAE:0.093\n",
            "r2:0.723 RMSLE:0.153 RMSE:42910.425 MAE:17839.188\n",
            "!!!!!! alpha: 1\n",
            "### Ridge\n",
            "\t data-label\n",
            "r2:0.803 RMSLE:0.154 RMSE:38226.671 MAE:19866.379\n",
            "\t sd-label\n",
            "r2:0.503 RMSLE:0.181 RMSE:48510.650 MAE:21599.943\n",
            "\t data-labellog\n",
            "r2:0.878 RMSLE:0.011 RMSE:0.137 MAE:0.092\n",
            "r2:0.864 RMSLE:0.137 RMSE:31377.995 MAE:18016.490\n",
            "\t sd-labellog\n",
            "r2:0.853 RMSLE:0.012 RMSE:0.153 MAE:0.093\n",
            "r2:0.724 RMSLE:0.153 RMSE:42862.420 MAE:17824.651\n",
            "!!!!!! alpha: 2\n",
            "### Ridge\n",
            "\t data-label\n",
            "r2:0.803 RMSLE:0.154 RMSE:38217.157 MAE:19842.855\n",
            "\t sd-label\n",
            "r2:0.504 RMSLE:0.181 RMSE:48482.615 MAE:21600.088\n",
            "\t data-labellog\n",
            "r2:0.877 RMSLE:0.011 RMSE:0.137 MAE:0.092\n",
            "r2:0.864 RMSLE:0.137 RMSE:31362.207 MAE:18017.799\n",
            "\t sd-labellog\n",
            "r2:0.853 RMSLE:0.012 RMSE:0.153 MAE:0.093\n",
            "r2:0.724 RMSLE:0.153 RMSE:42810.132 MAE:17808.736\n",
            "!!!!!! alpha: 5\n",
            "### Ridge\n",
            "\t data-label\n",
            "r2:0.803 RMSLE:0.154 RMSE:38195.956 MAE:19841.877\n",
            "\t sd-label\n",
            "r2:0.506 RMSLE:0.180 RMSE:48399.649 MAE:21599.993\n",
            "\t data-labellog\n",
            "r2:0.877 RMSLE:0.011 RMSE:0.137 MAE:0.092\n",
            "r2:0.864 RMSLE:0.137 RMSE:31336.163 MAE:18011.318\n",
            "\t sd-labellog\n",
            "r2:0.853 RMSLE:0.012 RMSE:0.153 MAE:0.093\n",
            "r2:0.726 RMSLE:0.153 RMSE:42659.573 MAE:17762.719\n",
            "!!!!!! alpha: 10\n",
            "### Ridge\n",
            "\t data-label\n",
            "r2:0.804 RMSLE:0.153 RMSE:38162.364 MAE:19798.000\n",
            "\t sd-label\n",
            "r2:0.508 RMSLE:0.180 RMSE:48264.954 MAE:21598.214\n",
            "\t data-labellog\n",
            "r2:0.877 RMSLE:0.011 RMSE:0.137 MAE:0.092\n",
            "r2:0.864 RMSLE:0.137 RMSE:31305.363 MAE:17997.358\n",
            "\t sd-labellog\n",
            "r2:0.854 RMSLE:0.012 RMSE:0.152 MAE:0.093\n",
            "r2:0.729 RMSLE:0.152 RMSE:42427.815 MAE:17693.007\n",
            "!!!!!! alpha: 100\n",
            "### Ridge\n",
            "\t data-label\n",
            "r2:0.808 RMSLE:0.147 RMSE:37762.207 MAE:19138.370\n",
            "\t sd-label\n",
            "r2:0.547 RMSLE:0.173 RMSE:46344.127 MAE:21487.189\n",
            "\t data-labellog\n",
            "r2:0.877 RMSLE:0.011 RMSE:0.137 MAE:0.091\n",
            "r2:0.866 RMSLE:0.137 RMSE:31149.623 MAE:17773.322\n",
            "\t sd-labellog\n",
            "r2:0.859 RMSLE:0.011 RMSE:0.150 MAE:0.090\n",
            "r2:0.756 RMSLE:0.150 RMSE:40276.569 MAE:17221.389\n"
          ]
        }
      ]
    },
    {
      "cell_type": "code",
      "source": [
        "aps = [0, 0.001,0.01,0.1,1,2,5,10,100]\n",
        "for a in aps:\n",
        "  model = Lasso(alpha=a)\n",
        "  print(\"!!!!!! alpha:\",a)\n",
        "  model_tests(model)"
      ],
      "metadata": {
        "colab": {
          "base_uri": "https://localhost:8080/"
        },
        "id": "VN2k3KIA_H3X",
        "outputId": "d496baf5-0da1-48ac-ba06-6e7505a39c7e"
      },
      "execution_count": 81,
      "outputs": [
        {
          "output_type": "stream",
          "name": "stdout",
          "text": [
            "!!!!!! alpha: 0\n",
            "### Lasso\n",
            "\t data-label\n"
          ]
        },
        {
          "output_type": "stream",
          "name": "stderr",
          "text": [
            "<ipython-input-76-0049222081a5>:2: UserWarning: With alpha=0, this algorithm does not converge well. You are advised to use the LinearRegression estimator\n",
            "  model.fit(x_train,y_train)\n",
            "/usr/local/lib/python3.10/dist-packages/sklearn/linear_model/_coordinate_descent.py:631: UserWarning: Coordinate descent with no regularization may lead to unexpected results and is discouraged.\n",
            "  model = cd_fast.enet_coordinate_descent(\n",
            "/usr/local/lib/python3.10/dist-packages/sklearn/linear_model/_coordinate_descent.py:631: ConvergenceWarning: Objective did not converge. You might want to increase the number of iterations, check the scale of the features or consider increasing regularisation. Duality gap: 4.425e+11, tolerance: 5.976e+08 Linear regression models with null weight for the l1 regularization term are more efficiently fitted using one of the solvers implemented in sklearn.linear_model.Ridge/RidgeCV instead.\n",
            "  model = cd_fast.enet_coordinate_descent(\n",
            "<ipython-input-76-0049222081a5>:2: UserWarning: With alpha=0, this algorithm does not converge well. You are advised to use the LinearRegression estimator\n",
            "  model.fit(x_train,y_train)\n",
            "/usr/local/lib/python3.10/dist-packages/sklearn/linear_model/_coordinate_descent.py:631: UserWarning: Coordinate descent with no regularization may lead to unexpected results and is discouraged.\n",
            "  model = cd_fast.enet_coordinate_descent(\n",
            "/usr/local/lib/python3.10/dist-packages/sklearn/linear_model/_coordinate_descent.py:631: ConvergenceWarning: Objective did not converge. You might want to increase the number of iterations, check the scale of the features or consider increasing regularisation. Duality gap: 4.075e+11, tolerance: 6.896e+08 Linear regression models with null weight for the l1 regularization term are more efficiently fitted using one of the solvers implemented in sklearn.linear_model.Ridge/RidgeCV instead.\n",
            "  model = cd_fast.enet_coordinate_descent(\n"
          ]
        },
        {
          "output_type": "stream",
          "name": "stdout",
          "text": [
            "r2:0.803 RMSLE:0.154 RMSE:38246.208 MAE:19900.559\n",
            "\t sd-label\n",
            "r2:-90199.156 RMSLE:0.181 RMSE:20671182.348 MAE:1137597.590\n",
            "\t data-labellog\n"
          ]
        },
        {
          "output_type": "stream",
          "name": "stderr",
          "text": [
            "<ipython-input-58-ebd6af9afb04>:6: RuntimeWarning: invalid value encountered in log1p\n",
            "  log_pred = np.log1p(pred)\n",
            "<ipython-input-76-0049222081a5>:2: UserWarning: With alpha=0, this algorithm does not converge well. You are advised to use the LinearRegression estimator\n",
            "  model.fit(x_train,y_train)\n",
            "/usr/local/lib/python3.10/dist-packages/sklearn/linear_model/_coordinate_descent.py:631: UserWarning: Coordinate descent with no regularization may lead to unexpected results and is discouraged.\n",
            "  model = cd_fast.enet_coordinate_descent(\n",
            "/usr/local/lib/python3.10/dist-packages/sklearn/linear_model/_coordinate_descent.py:631: ConvergenceWarning: Objective did not converge. You might want to increase the number of iterations, check the scale of the features or consider increasing regularisation. Duality gap: 8.865e+00, tolerance: 1.453e-02 Linear regression models with null weight for the l1 regularization term are more efficiently fitted using one of the solvers implemented in sklearn.linear_model.Ridge/RidgeCV instead.\n",
            "  model = cd_fast.enet_coordinate_descent(\n"
          ]
        },
        {
          "output_type": "stream",
          "name": "stdout",
          "text": [
            "r2:0.879 RMSLE:0.011 RMSE:0.136 MAE:0.092\n",
            "r2:0.863 RMSLE:0.136 RMSE:31420.893 MAE:18018.780\n",
            "\t sd-labellog\n"
          ]
        },
        {
          "output_type": "stream",
          "name": "stderr",
          "text": [
            "<ipython-input-76-0049222081a5>:2: UserWarning: With alpha=0, this algorithm does not converge well. You are advised to use the LinearRegression estimator\n",
            "  model.fit(x_train,y_train)\n",
            "/usr/local/lib/python3.10/dist-packages/sklearn/linear_model/_coordinate_descent.py:631: UserWarning: Coordinate descent with no regularization may lead to unexpected results and is discouraged.\n",
            "  model = cd_fast.enet_coordinate_descent(\n",
            "/usr/local/lib/python3.10/dist-packages/sklearn/linear_model/_coordinate_descent.py:631: ConvergenceWarning: Objective did not converge. You might want to increase the number of iterations, check the scale of the features or consider increasing regularisation. Duality gap: 8.166e+00, tolerance: 1.434e-02 Linear regression models with null weight for the l1 regularization term are more efficiently fitted using one of the solvers implemented in sklearn.linear_model.Ridge/RidgeCV instead.\n",
            "  model = cd_fast.enet_coordinate_descent(\n",
            "/usr/local/lib/python3.10/dist-packages/sklearn/linear_model/_coordinate_descent.py:631: ConvergenceWarning: Objective did not converge. You might want to increase the number of iterations, check the scale of the features or consider increasing regularisation. Duality gap: 4.957e+10, tolerance: 5.976e+08\n",
            "  model = cd_fast.enet_coordinate_descent(\n"
          ]
        },
        {
          "output_type": "stream",
          "name": "stdout",
          "text": [
            "r2:0.852 RMSLE:0.012 RMSE:0.153 MAE:0.093\n",
            "r2:0.723 RMSLE:0.153 RMSE:42915.815 MAE:17840.816\n",
            "!!!!!! alpha: 0.001\n",
            "### Lasso\n",
            "\t data-label\n",
            "r2:0.803 RMSLE:0.154 RMSE:38246.207 MAE:19900.555\n",
            "\t sd-label\n",
            "r2:0.503 RMSLE:0.181 RMSE:48538.877 MAE:21599.702\n",
            "\t data-labellog\n",
            "r2:0.877 RMSLE:0.011 RMSE:0.137 MAE:0.091\n",
            "r2:0.868 RMSLE:0.137 RMSE:30920.059 MAE:17771.659\n",
            "\t sd-labellog\n",
            "r2:0.853 RMSLE:0.012 RMSE:0.153 MAE:0.092\n",
            "r2:0.729 RMSLE:0.153 RMSE:42398.914 MAE:17564.625\n",
            "!!!!!! alpha: 0.01\n",
            "### Lasso\n",
            "\t data-label\n",
            "r2:0.803 RMSLE:0.154 RMSE:38246.194 MAE:19900.524\n",
            "\t sd-label\n",
            "r2:0.503 RMSLE:0.181 RMSE:48538.843 MAE:21599.686\n",
            "\t data-labellog\n"
          ]
        },
        {
          "output_type": "stream",
          "name": "stderr",
          "text": [
            "/usr/local/lib/python3.10/dist-packages/sklearn/linear_model/_coordinate_descent.py:631: ConvergenceWarning: Objective did not converge. You might want to increase the number of iterations, check the scale of the features or consider increasing regularisation. Duality gap: 4.957e+10, tolerance: 5.976e+08\n",
            "  model = cd_fast.enet_coordinate_descent(\n"
          ]
        },
        {
          "output_type": "stream",
          "name": "stdout",
          "text": [
            "r2:0.872 RMSLE:0.011 RMSE:0.140 MAE:0.094\n",
            "r2:0.865 RMSLE:0.140 RMSE:31172.648 MAE:18305.901\n",
            "\t sd-labellog\n",
            "r2:0.841 RMSLE:0.012 RMSE:0.159 MAE:0.097\n",
            "r2:0.746 RMSLE:0.159 RMSE:41050.317 MAE:18506.956\n",
            "!!!!!! alpha: 0.1\n",
            "### Lasso\n",
            "\t data-label\n"
          ]
        },
        {
          "output_type": "stream",
          "name": "stderr",
          "text": [
            "/usr/local/lib/python3.10/dist-packages/sklearn/linear_model/_coordinate_descent.py:631: ConvergenceWarning: Objective did not converge. You might want to increase the number of iterations, check the scale of the features or consider increasing regularisation. Duality gap: 4.958e+10, tolerance: 5.976e+08\n",
            "  model = cd_fast.enet_coordinate_descent(\n"
          ]
        },
        {
          "output_type": "stream",
          "name": "stdout",
          "text": [
            "r2:0.803 RMSLE:0.154 RMSE:38246.069 MAE:19900.216\n",
            "\t sd-label\n",
            "r2:0.503 RMSLE:0.181 RMSE:48538.507 MAE:21599.519\n",
            "\t data-labellog\n",
            "r2:0.801 RMSLE:0.013 RMSE:0.174 MAE:0.119\n",
            "r2:0.800 RMSLE:0.174 RMSE:37951.158 MAE:23389.339\n",
            "\t sd-labellog\n",
            "r2:0.631 RMSLE:0.019 RMSE:0.242 MAE:0.179\n",
            "r2:0.582 RMSLE:0.242 RMSE:52697.259 MAE:33759.284\n",
            "!!!!!! alpha: 1\n",
            "### Lasso\n",
            "\t data-label\n"
          ]
        },
        {
          "output_type": "stream",
          "name": "stderr",
          "text": [
            "/usr/local/lib/python3.10/dist-packages/sklearn/linear_model/_coordinate_descent.py:631: ConvergenceWarning: Objective did not converge. You might want to increase the number of iterations, check the scale of the features or consider increasing regularisation. Duality gap: 4.967e+10, tolerance: 5.976e+08\n",
            "  model = cd_fast.enet_coordinate_descent(\n"
          ]
        },
        {
          "output_type": "stream",
          "name": "stdout",
          "text": [
            "r2:0.803 RMSLE:0.154 RMSE:38244.829 MAE:19897.129\n",
            "\t sd-label\n",
            "r2:0.503 RMSLE:0.181 RMSE:48535.198 MAE:21597.836\n",
            "\t data-labellog\n",
            "r2:0.781 RMSLE:0.014 RMSE:0.183 MAE:0.124\n",
            "r2:0.805 RMSLE:0.183 RMSE:37529.231 MAE:24192.181\n",
            "\t sd-labellog\n",
            "r2:-0.000 RMSLE:0.031 RMSE:0.399 MAE:0.315\n",
            "r2:-0.026 RMSLE:0.399 RMSE:82582.472 MAE:57779.329\n",
            "!!!!!! alpha: 2\n",
            "### Lasso\n",
            "\t data-label\n"
          ]
        },
        {
          "output_type": "stream",
          "name": "stderr",
          "text": [
            "/usr/local/lib/python3.10/dist-packages/sklearn/linear_model/_coordinate_descent.py:631: ConvergenceWarning: Objective did not converge. You might want to increase the number of iterations, check the scale of the features or consider increasing regularisation. Duality gap: 4.976e+10, tolerance: 5.976e+08\n",
            "  model = cd_fast.enet_coordinate_descent(\n"
          ]
        },
        {
          "output_type": "stream",
          "name": "stdout",
          "text": [
            "r2:0.803 RMSLE:0.154 RMSE:38243.480 MAE:19893.700\n",
            "\t sd-label\n",
            "r2:0.503 RMSLE:0.181 RMSE:48531.493 MAE:21596.017\n",
            "\t data-labellog\n",
            "r2:0.744 RMSLE:0.015 RMSE:0.198 MAE:0.138\n",
            "r2:0.778 RMSLE:0.198 RMSE:40033.177 MAE:26636.810\n",
            "\t sd-labellog\n",
            "r2:-0.000 RMSLE:0.031 RMSE:0.399 MAE:0.315\n",
            "r2:-0.026 RMSLE:0.399 RMSE:82582.472 MAE:57779.329\n",
            "!!!!!! alpha: 5\n",
            "### Lasso\n",
            "\t data-label\n"
          ]
        },
        {
          "output_type": "stream",
          "name": "stderr",
          "text": [
            "/usr/local/lib/python3.10/dist-packages/sklearn/linear_model/_coordinate_descent.py:631: ConvergenceWarning: Objective did not converge. You might want to increase the number of iterations, check the scale of the features or consider increasing regularisation. Duality gap: 5.003e+10, tolerance: 5.976e+08\n",
            "  model = cd_fast.enet_coordinate_descent(\n"
          ]
        },
        {
          "output_type": "stream",
          "name": "stdout",
          "text": [
            "r2:0.803 RMSLE:0.153 RMSE:38239.474 MAE:19883.658\n",
            "\t sd-label\n",
            "r2:0.503 RMSLE:0.181 RMSE:48516.139 MAE:21590.239\n",
            "\t data-labellog\n",
            "r2:0.688 RMSLE:0.017 RMSE:0.218 MAE:0.158\n",
            "r2:0.730 RMSLE:0.218 RMSE:44123.134 MAE:30463.160\n",
            "\t sd-labellog\n",
            "r2:-0.000 RMSLE:0.031 RMSE:0.399 MAE:0.315\n",
            "r2:-0.026 RMSLE:0.399 RMSE:82582.472 MAE:57779.329\n",
            "!!!!!! alpha: 10\n",
            "### Lasso\n",
            "\t data-label\n"
          ]
        },
        {
          "output_type": "stream",
          "name": "stderr",
          "text": [
            "/usr/local/lib/python3.10/dist-packages/sklearn/linear_model/_coordinate_descent.py:631: ConvergenceWarning: Objective did not converge. You might want to increase the number of iterations, check the scale of the features or consider increasing regularisation. Duality gap: 5.046e+10, tolerance: 5.976e+08\n",
            "  model = cd_fast.enet_coordinate_descent(\n"
          ]
        },
        {
          "output_type": "stream",
          "name": "stdout",
          "text": [
            "r2:0.803 RMSLE:0.153 RMSE:38232.688 MAE:19869.376\n",
            "\t sd-label\n",
            "r2:0.504 RMSLE:0.181 RMSE:48493.497 MAE:21580.774\n",
            "\t data-labellog\n",
            "r2:0.671 RMSLE:0.017 RMSE:0.224 MAE:0.164\n",
            "r2:0.701 RMSLE:0.224 RMSE:46452.031 MAE:31736.591\n",
            "\t sd-labellog\n",
            "r2:-0.000 RMSLE:0.031 RMSE:0.399 MAE:0.315\n",
            "r2:-0.026 RMSLE:0.399 RMSE:82582.472 MAE:57779.329\n",
            "!!!!!! alpha: 100\n",
            "### Lasso\n",
            "\t data-label\n",
            "r2:0.803 RMSLE:0.151 RMSE:38192.363 MAE:19764.575\n",
            "\t sd-label\n",
            "r2:0.511 RMSLE:0.178 RMSE:48116.126 MAE:21443.058\n",
            "\t data-labellog\n",
            "r2:0.220 RMSLE:0.026 RMSE:0.345 MAE:0.261\n",
            "r2:0.155 RMSLE:0.345 RMSE:78090.581 MAE:50551.176\n",
            "\t sd-labellog\n",
            "r2:-0.000 RMSLE:0.031 RMSE:0.399 MAE:0.315\n",
            "r2:-0.026 RMSLE:0.399 RMSE:82582.472 MAE:57779.329\n"
          ]
        },
        {
          "output_type": "stream",
          "name": "stderr",
          "text": [
            "/usr/local/lib/python3.10/dist-packages/sklearn/linear_model/_coordinate_descent.py:631: ConvergenceWarning: Objective did not converge. You might want to increase the number of iterations, check the scale of the features or consider increasing regularisation. Duality gap: 5.551e+10, tolerance: 5.976e+08\n",
            "  model = cd_fast.enet_coordinate_descent(\n"
          ]
        }
      ]
    },
    {
      "cell_type": "code",
      "source": [
        "from sklearn.model_selection import GridSearchCV\n",
        "params = {\n",
        "    'num_leaves' :[5,10,30,100],\n",
        "    'max_depth' :[3,5,10,15,-1],\n",
        "    'min_child_samples':[10,20,100,1000]\n",
        "}\n",
        "model = LGBMRegressor(n_estimators=500)\n",
        "gs = GridSearchCV(model,param_grid=params,cv=5)\n",
        "for i,(xtr,xte,ytr,yte) in enumerate(darr):\n",
        "  print(\"\\t\",marr[i])\n",
        "  model_test(gs,xtr,xte,ytr,yte,i>=2)\n",
        "  print(\"best:\",gs.best_params_)"
      ],
      "metadata": {
        "colab": {
          "base_uri": "https://localhost:8080/"
        },
        "id": "SpxhICay_eWf",
        "outputId": "82b75802-ed08-4601-fd9f-551e76ee6278"
      },
      "execution_count": 85,
      "outputs": [
        {
          "output_type": "stream",
          "name": "stdout",
          "text": [
            "\t data-label\n",
            "r2:0.868 RMSLE:0.132 RMSE:31319.083 MAE:17132.909\n",
            "best: {'max_depth': 3, 'min_child_samples': 10, 'num_leaves': 10}\n",
            "\t sd-label\n",
            "r2:0.836 RMSLE:0.132 RMSE:27840.446 MAE:16280.256\n",
            "best: {'max_depth': 5, 'min_child_samples': 20, 'num_leaves': 5}\n",
            "\t data-labellog\n",
            "r2:0.895 RMSLE:0.010 RMSE:0.127 MAE:0.082\n",
            "r2:0.885 RMSLE:0.127 RMSE:28756.363 MAE:16013.075\n",
            "best: {'max_depth': 5, 'min_child_samples': 10, 'num_leaves': 5}\n",
            "\t sd-labellog\n",
            "r2:0.878 RMSLE:0.011 RMSE:0.139 MAE:0.087\n",
            "r2:0.866 RMSLE:0.139 RMSE:29799.384 MAE:16116.783\n",
            "best: {'max_depth': 5, 'min_child_samples': 10, 'num_leaves': 5}\n"
          ]
        }
      ]
    },
    {
      "cell_type": "code",
      "source": [
        "m1 = LinearRegression()\n",
        "m2 = Ridge()\n",
        "m3 = Lasso()\n",
        "m4 = DecisionTreeRegressor()\n",
        "m5 = RandomForestRegressor()\n",
        "m6 = GradientBoostingRegressor()\n",
        "m7 = XGBRegressor()\n",
        "m8 = LGBMRegressor()\n",
        "models = [m1,m2,m3,m4,m5,m6,m7,m8]"
      ],
      "metadata": {
        "id": "J_b51l0-_9RJ"
      },
      "execution_count": null,
      "outputs": []
    },
    {
      "cell_type": "code",
      "source": [
        "def make_meta(model,x_train,x_test,y_train):\n",
        "  model.fit(x_train,y_train)\n",
        "  pred_tr = model.predict(x_train)\n",
        "  pred_te = model.predict(x_test)\n",
        "  return pred_tr,pred_te"
      ],
      "metadata": {
        "id": "LeEg6T9zE_A0"
      },
      "execution_count": 94,
      "outputs": []
    },
    {
      "cell_type": "code",
      "source": [
        "def make_metas(models,x_train,x_test,y_train):\n",
        "  df_tr = pd.DataFrame()\n",
        "  df_te = pd.DataFrame()\n",
        "  for i,model in enumerate(models):\n",
        "    pred_tr, pred_te = make_meta(model,x_train,x_test,y_train)\n",
        "\n",
        "    df_tr[\"meta_\"+str(i)] = pred_tr\n",
        "    df_te[\"meta_\"+str(i)] = pred_te\n",
        "  return df_tr,df_te"
      ],
      "metadata": {
        "id": "nr_kRpDlFXkK"
      },
      "execution_count": 96,
      "outputs": []
    },
    {
      "cell_type": "code",
      "source": [
        "xtr, xte, ytr, yte = train_test_split(data,label_log1p)\n",
        "mdf_tr, mdf_te = make_metas(models,xtr, xte, ytr)\n",
        "mdf_tr.shape, mdf_te.shape"
      ],
      "metadata": {
        "colab": {
          "base_uri": "https://localhost:8080/"
        },
        "id": "HEWWgUGjFvt3",
        "outputId": "634ab577-11f1-40c3-df68-82c2914a85db"
      },
      "execution_count": 97,
      "outputs": [
        {
          "output_type": "execute_result",
          "data": {
            "text/plain": [
              "((1028, 8), (343, 8))"
            ]
          },
          "metadata": {},
          "execution_count": 97
        }
      ]
    },
    {
      "cell_type": "code",
      "source": [
        "m1 = LinearRegression()\n",
        "m2 = Ridge()\n",
        "m3 = Lasso()\n",
        "m4 = DecisionTreeRegressor()\n",
        "m5 = RandomForestRegressor()\n",
        "m6 = GradientBoostingRegressor()\n",
        "m7 = XGBRegressor()\n",
        "m8 = LGBMRegressor()\n",
        "models = [m1,m2,m3,m4,m5,m6,m7,m8]"
      ],
      "metadata": {
        "id": "yVDJLGa7GDwN"
      },
      "execution_count": 98,
      "outputs": []
    },
    {
      "cell_type": "code",
      "source": [
        "for model in models:\n",
        "  model_test(model,mdf_tr,mdf_te,ytr,yte )"
      ],
      "metadata": {
        "colab": {
          "base_uri": "https://localhost:8080/"
        },
        "id": "NjNUmE2WGVFn",
        "outputId": "59efc8a6-a327-45ba-9d12-45ae08fb3584"
      },
      "execution_count": 100,
      "outputs": [
        {
          "output_type": "stream",
          "name": "stdout",
          "text": [
            "r2:0.663 RMSLE:0.018 RMSE:0.231 MAE:0.163\n",
            "r2:0.592 RMSLE:0.231 RMSE:52889.326 MAE:31818.531\n",
            "r2:0.802 RMSLE:0.014 RMSE:0.177 MAE:0.111\n",
            "r2:0.745 RMSLE:0.177 RMSE:41805.655 MAE:22029.592\n",
            "r2:-0.002 RMSLE:0.031 RMSE:0.399 MAE:0.309\n",
            "r2:-0.048 RMSLE:0.399 RMSE:84706.737 MAE:57887.966\n",
            "r2:0.704 RMSLE:0.017 RMSE:0.217 MAE:0.151\n",
            "r2:0.676 RMSLE:0.217 RMSE:47108.559 MAE:28517.656\n",
            "r2:0.735 RMSLE:0.016 RMSE:0.205 MAE:0.139\n",
            "r2:0.649 RMSLE:0.205 RMSE:49051.507 MAE:26882.798\n",
            "r2:0.709 RMSLE:0.016 RMSE:0.215 MAE:0.148\n",
            "r2:0.617 RMSLE:0.215 RMSE:51231.732 MAE:28701.539\n",
            "r2:0.655 RMSLE:0.018 RMSE:0.234 MAE:0.161\n",
            "r2:0.540 RMSLE:0.234 RMSE:56141.943 MAE:31512.638\n",
            "r2:0.722 RMSLE:0.016 RMSE:0.210 MAE:0.148\n",
            "r2:0.681 RMSLE:0.210 RMSE:46758.856 MAE:28659.794\n"
          ]
        }
      ]
    },
    {
      "cell_type": "code",
      "source": [],
      "metadata": {
        "id": "9VFKwuPXHnNj"
      },
      "execution_count": null,
      "outputs": []
    }
  ]
}